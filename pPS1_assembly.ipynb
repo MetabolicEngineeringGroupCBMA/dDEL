{
 "cells": [
  {
   "cell_type": "markdown",
   "metadata": {},
   "source": [
    "## Plan for assembly of the Dominant Del Assay plasmid pPS1"
   ]
  },
  {
   "cell_type": "code",
   "execution_count": 1,
   "metadata": {},
   "outputs": [
    {
     "data": {
      "text/html": [
       "<img src=\"http://cancerres.aacrjournals.org/content/66/7/3480/F1.medium.gif\"/>"
      ],
      "text/plain": [
       "<IPython.core.display.Image object>"
      ]
     },
     "execution_count": 1,
     "metadata": {},
     "output_type": "execute_result"
    }
   ],
   "source": [
    "from IPython.display import Image\n",
    "Image(url='http://cancerres.aacrjournals.org/content/66/7/3480/F1.medium.gif')"
   ]
  },
  {
   "cell_type": "markdown",
   "metadata": {},
   "source": [
    "### The del assay\n",
    "\n",
    "The image above depicts the principle of the original del assay [Kirpnick-Sobol et al. 2006](https://www.ncbi.nlm.nih.gov/pubmed/16585171).\n",
    "\n",
    "The RS112 yeast strain contains a plasmid (pRS6) carrying the LEU2 gene and an internal fragment of the yeast HIS3 gene integrated into the HIS3 locus. This results in two partial inactive copies of the his3 gene, one with a terminal deletion at the 3'-end, and the other with a terminal deletion at the 5'-end. There are 410 bp of homology between the two (shown as striped region).\n",
    "\n",
    "### The pPS1 plasmid\n",
    "\n",
    "This cassette consists of two dominant markers HphMX4 and the kanamycin resistance gene from the E. coli transposon TN903 \"kan\". The HphMX4 marker is the Hygromycin B resistance gene from an E. coli [plasmid](http://www.ncbi.nlm.nih.gov/pubmed/6319235) under control of the Ashbya gossypii TEF1 promoter and terminator.\n",
    "\n",
    "The idea is to split the HphMX4 marker in two pieces in a way that produces a shared homology between the fragments. The G418 resistance gene kan is be placed between the HphMX4 fragments. The kan gene will be controlled by the promoter and terminator from the Kluyveromyces lactis TEF1 homolog.\n",
    "\n",
    "The whole construct is made by in-vivo gap repair in one reaction. \n",
    "\n",
    "The circular construct is made by in vivo gap-repair in one reaction as a recombination between seven linear DNA fragments.\n",
    "    \n",
    "    1   URA3_2micron\n",
    "    2               HphMX4(5'part)\n",
    "    3                             KlTEF1p\n",
    "    4                                    kan\n",
    "    5                                       KlTEF1t\n",
    "    6                                              YIplac128_smaI    \n",
    "    7                                                            HphMX4(3'part)\n",
    "    \n",
    "1. The URA3_2micron fragment contain a URA3 marker and the 2 micron sequence for plasmid replication\n",
    "2. The Ashbya gossypii TEF1 promoter with a little more than half the Hygromycin B resistance orf\n",
    "3. TEF1 promoter from Kluyveromyces lactis\n",
    "4. The kan resistance orf\n",
    "5. TEF1 terminator from Kluyveromyces lactis\n",
    "6. The YIplac128_smaI is a linearized vector containing E. coli replicative sequences and a LEU2 marker\n",
    "7. The second half the Hygromycin B resistance orf and The Ashbya gossypii TEF1 terminator \n",
    "\n",
    "### Material\n",
    "\n",
    "|DNA      | Source  -80      |\n",
    "|---------|------------------|\n",
    "|pAG32    | box 3\tpos 45   |\n",
    "|pSU0     |                  |\n",
    "|pUG6     | box 3\tpos 55   |\n",
    "|YIplac128| box 1   pos 81   |"
   ]
  },
  {
   "cell_type": "code",
   "execution_count": 2,
   "metadata": {},
   "outputs": [
    {
     "name": "stdout",
     "output_type": "stream",
     "text": [
      "2.0.2\n"
     ]
    }
   ],
   "source": [
    "# This notebook require pydna version 2.0.2 or later\n",
    "import pydna\n",
    "print( pydna.__version__ )\n",
    "del pydna\n",
    "from pydna.all import *"
   ]
  },
  {
   "cell_type": "markdown",
   "metadata": {},
   "source": [
    "### 1. URA3_2micron\n",
    "\n",
    "This fragment is PCR amplified from the pSU0 vector described by [Iizasa and Nagano 2006](https://www.ncbi.nlm.nih.gov/pubmed/16454044). This plasmid is available from Genbank under the accession number AB215109."
   ]
  },
  {
   "cell_type": "code",
   "execution_count": 3,
   "metadata": {
    "collapsed": true
   },
   "outputs": [],
   "source": [
    "gb = Genbank(\"bjornjobb@gmail.com\")\n",
    "pSU0 = gb.nucleotide(\"AB215109.1\")"
   ]
  },
  {
   "cell_type": "code",
   "execution_count": 4,
   "metadata": {
    "collapsed": true
   },
   "outputs": [],
   "source": [
    "URA3_2micron = pSU0[1041:3620]"
   ]
  },
  {
   "cell_type": "code",
   "execution_count": 5,
   "metadata": {},
   "outputs": [
    {
     "data": {
      "text/plain": [
       "Dseqrecord(-2579)"
      ]
     },
     "execution_count": 5,
     "metadata": {},
     "output_type": "execute_result"
    }
   ],
   "source": [
    "URA3_2micron"
   ]
  },
  {
   "cell_type": "markdown",
   "metadata": {},
   "source": [
    "### 2. HphMX4(5'part) and 7. HphMX4(3'part)\n",
    "\n",
    "The plasmid pAG32 contains the HphMX4 marker gene. It is available from [EUROSCARF](http://www.euroscarf.de/plasmid_details.php?accno=P30106). It was constructed by [Goldstein & McCusker](http://www.ncbi.nlm.nih.gov/pubmed/10514571).\n",
    "\n",
    "The sequence is not available from Genbank, but the EUROSCARF website provides it. Unfortunately, the LOCUS line is malformed in this record (genbank format). \n",
    "\n",
    "For this reason we deposited a corrected copy of the sequence [here](https://gist.github.com/BjornFJohansson/c5424b7ebbf553c52053). The size of the plasmid is 4160 bp."
   ]
  },
  {
   "cell_type": "code",
   "execution_count": 6,
   "metadata": {
    "collapsed": true
   },
   "outputs": [],
   "source": [
    "text  = download_text(\"https://gist.githubusercontent.com/BjornFJohansson/c5424b7ebbf553c52053/raw/64318ead495bc7ade8bb598ab192e76a3569a724/pAG32.gb\")\n",
    "pAG32 = read(text)"
   ]
  },
  {
   "cell_type": "code",
   "execution_count": 7,
   "metadata": {},
   "outputs": [
    {
     "data": {
      "text/plain": [
       "Dseqrecord(o4160)"
      ]
     },
     "execution_count": 7,
     "metadata": {},
     "output_type": "execute_result"
    }
   ],
   "source": [
    "pAG32"
   ]
  },
  {
   "cell_type": "code",
   "execution_count": 8,
   "metadata": {},
   "outputs": [
    {
     "data": {
      "text/plain": [
       "+----------+-----------+-------+------+--------+--------------+--------------+------+\n",
       "| Feature# | Direction | Start | End  | Length | id           | type         | orf? |\n",
       "+----------+-----------+-------+------+--------+--------------+--------------+------+\n",
       "| 0        |    -->    |   90  | 458  |    368 | <unknown id> | misc_feature |  no  |\n",
       "| 1        |    -->    |  458  | 1487 |   1029 | <unknown id> | CDS          | yes  |\n",
       "| 2        |    -->    |  1487 | 1727 |    240 | <unknown id> | misc_feature |  no  |\n",
       "| 3        |    <--    |  2832 | 3693 |    861 | <unknown id> | CDS          | yes  |\n",
       "+----------+-----------+-------+------+--------+--------------+--------------+------+"
      ]
     },
     "execution_count": 8,
     "metadata": {},
     "output_type": "execute_result"
    }
   ],
   "source": [
    "pAG32.list_features()"
   ]
  },
  {
   "cell_type": "markdown",
   "metadata": {},
   "source": [
    "We can inspect the features in the table above to conclude that the HphMX4 cassete starts at 90 in feature 0 and ends at 1727 in feature 2. We pick out this slice ofthe sequence below to the variable \"hyg_cassette\"."
   ]
  },
  {
   "cell_type": "code",
   "execution_count": 9,
   "metadata": {
    "collapsed": true
   },
   "outputs": [],
   "source": [
    "hyg_cassette = pAG32[90:1727]"
   ]
  },
  {
   "cell_type": "code",
   "execution_count": 10,
   "metadata": {},
   "outputs": [
    {
     "data": {
      "text/plain": [
       "Dseqrecord(-1637)"
      ]
     },
     "execution_count": 10,
     "metadata": {},
     "output_type": "execute_result"
    }
   ],
   "source": [
    "hyg_cassette"
   ]
  },
  {
   "cell_type": "code",
   "execution_count": 11,
   "metadata": {},
   "outputs": [
    {
     "data": {
      "text/html": [
       "<font face=monospace><a href='hyg_cassette.gb' target='_blank'>hyg_cassette.gb</a></font><br>"
      ]
     },
     "metadata": {},
     "output_type": "display_data"
    }
   ],
   "source": [
    "hyg_cassette.write(\"hyg_cassette.gb\")"
   ]
  },
  {
   "cell_type": "markdown",
   "metadata": {},
   "source": [
    "The HphMX4 cassette is 1637 bp. We will split the HphMX4 in two parts in such a way that there is an overlap or shared homology in the middle. The overlap was set to 200 bp to reflect the overlap length in the original del cassette."
   ]
  },
  {
   "cell_type": "code",
   "execution_count": 12,
   "metadata": {
    "collapsed": true
   },
   "outputs": [],
   "source": [
    "middle = int(len(hyg_cassette)/2)\n",
    "overlap = 200"
   ]
  },
  {
   "cell_type": "markdown",
   "metadata": {},
   "source": [
    "We split the HphMX4 in two parts:"
   ]
  },
  {
   "cell_type": "code",
   "execution_count": 13,
   "metadata": {
    "collapsed": true
   },
   "outputs": [],
   "source": [
    "hphMX4_5_part = hyg_cassette[:middle+overlap]\n",
    "hphMX4_3_part = hyg_cassette[(middle-overlap):]"
   ]
  },
  {
   "cell_type": "markdown",
   "metadata": {},
   "source": [
    "The last 400 bp of the first part are equal to the first 400 bp of the second part. "
   ]
  },
  {
   "cell_type": "code",
   "execution_count": 14,
   "metadata": {},
   "outputs": [
    {
     "data": {
      "text/plain": [
       "True"
      ]
     },
     "execution_count": 14,
     "metadata": {},
     "output_type": "execute_result"
    }
   ],
   "source": [
    "eq( hphMX4_5_part[-400:], hphMX4_3_part[:400] )"
   ]
  },
  {
   "cell_type": "markdown",
   "metadata": {},
   "source": [
    "The overlap sequence can be seen below."
   ]
  },
  {
   "cell_type": "code",
   "execution_count": 15,
   "metadata": {},
   "outputs": [
    {
     "name": "stdout",
     "output_type": "stream",
     "text": [
      "TCAGCGAGAGCCTGACCTATTGCATCTCCCGCCGTGCACAGGGTGTCACGTTGCAAGACCTGCCTGAAACCGAACTGCCCGCTGTTCTGCAGCCGGTCGCGGAGGCCATGGATGCGATCGCTGCGGCCGATCTTAGCCAGACGAGCGGGTTCGGCCCATTCGGACCGCAAGGAATCGGTCAATACACTACATGGCGTGATTTCATATGCGCGATTGCTGATCCCCATGTGTATCACTGGCAAACTGTGATGGACGACACCGTCAGTGCGTCCGTCGCGCAGGCTCTCGATGAGCTGATGCTTTGGGCCGAGGACTGCCCCGAAGTCCGGCACCTCGTGCACGCGGATTTCGGCTCCAACAATGTCCTGACGGACAATGGCCGCATAACAGCGGTCATTGA\n"
     ]
    }
   ],
   "source": [
    "print( str(hphMX4_5_part[-400:].seq) )"
   ]
  },
  {
   "cell_type": "markdown",
   "metadata": {},
   "source": [
    "### 3. KlTEF1p and 5. KlTEF1t\n",
    "\n",
    "The Kluyveromyces lactis TEF1 promoter and terminator to use for the kan gene. This promoter and terminator has not been proven to function in S. cerevisiae.\n",
    "\n",
    "K. lactis sequences can be found at the [Yeast Gene Order Browser](http://ygob.ucd.ie/)\n",
    "\n",
    "The Kl TEF1 promoter has the following [sequence](http://ygob.ucd.ie/cgi/browser/intergenic.pl?ver=Latest&gene=KLLA0B09020g&org=klac&nbr=KLLA0B08998g&dir=inverted)\n",
    "\n",
    "The Kl TEF1 promoter has the following [sequence](http://ygob.ucd.ie/cgi/browser/intergenic.pl?ver=Latest&gene=KLLA0B08998g&org=klac&nbr=KLLA0B08976g&dir=inverted)"
   ]
  },
  {
   "cell_type": "code",
   "execution_count": 16,
   "metadata": {
    "collapsed": true
   },
   "outputs": [],
   "source": [
    "promoter_link =\"http://ygob.ucd.ie/cgi/browser/intergenic.pl?ver=Latest&gene=KLLA0B09020g&org=klac&nbr=KLLA0B08998g&dir=inverted\" "
   ]
  },
  {
   "cell_type": "code",
   "execution_count": 17,
   "metadata": {
    "collapsed": true
   },
   "outputs": [],
   "source": [
    "html = download_text(promoter_link)"
   ]
  },
  {
   "cell_type": "markdown",
   "metadata": {},
   "source": [
    "The links above goes to html documents that contain the sequences. We use the [BeautifulSoup library](https://www.crummy.com/software/BeautifulSoup/) to extract the sequence."
   ]
  },
  {
   "cell_type": "code",
   "execution_count": 18,
   "metadata": {
    "collapsed": true
   },
   "outputs": [],
   "source": [
    "from bs4 import BeautifulSoup"
   ]
  },
  {
   "cell_type": "code",
   "execution_count": 19,
   "metadata": {
    "collapsed": true
   },
   "outputs": [],
   "source": [
    "KlTEF1p = read( ''.join( BeautifulSoup( html, \"lxml\").findAll( text = True ) ) )"
   ]
  },
  {
   "cell_type": "code",
   "execution_count": 20,
   "metadata": {},
   "outputs": [
    {
     "data": {
      "text/plain": [
       "Dseqrecord(-1421)"
      ]
     },
     "execution_count": 20,
     "metadata": {},
     "output_type": "execute_result"
    }
   ],
   "source": [
    "KlTEF1p"
   ]
  },
  {
   "cell_type": "markdown",
   "metadata": {},
   "source": [
    "The K. lactis TEF1prom contains the intergenic sequence between the KlTEF1 gene and the upstream gene. About 400 bp should be sufficient for the promoter to give efficient expression."
   ]
  },
  {
   "cell_type": "code",
   "execution_count": 21,
   "metadata": {
    "collapsed": true
   },
   "outputs": [],
   "source": [
    "KlTEF1p = KlTEF1p[-400:]"
   ]
  },
  {
   "cell_type": "markdown",
   "metadata": {},
   "source": [
    "We establish the terminator in the same manner."
   ]
  },
  {
   "cell_type": "code",
   "execution_count": 22,
   "metadata": {
    "collapsed": true
   },
   "outputs": [],
   "source": [
    "terminator_link = \"http://ygob.ucd.ie/cgi/browser/intergenic.pl?ver=Latest&gene=KLLA0B08998g&org=klac&nbr=KLLA0B08976g&dir=inverted\""
   ]
  },
  {
   "cell_type": "code",
   "execution_count": 23,
   "metadata": {
    "collapsed": true
   },
   "outputs": [],
   "source": [
    "html = download_text(terminator_link)"
   ]
  },
  {
   "cell_type": "code",
   "execution_count": 24,
   "metadata": {
    "collapsed": true
   },
   "outputs": [],
   "source": [
    "KlTEF1t = read( ''.join( BeautifulSoup( html, \"lxml\").findAll( text = True ) ) )"
   ]
  },
  {
   "cell_type": "code",
   "execution_count": 25,
   "metadata": {},
   "outputs": [
    {
     "data": {
      "text/plain": [
       "Dseqrecord(-457)"
      ]
     },
     "execution_count": 25,
     "metadata": {},
     "output_type": "execute_result"
    }
   ],
   "source": [
    "KlTEF1t"
   ]
  },
  {
   "cell_type": "markdown",
   "metadata": {},
   "source": [
    "Likewise, 400bp should be enough for the terminator"
   ]
  },
  {
   "cell_type": "code",
   "execution_count": 26,
   "metadata": {
    "collapsed": true
   },
   "outputs": [],
   "source": [
    "KlTEF1t = KlTEF1t[:400]"
   ]
  },
  {
   "cell_type": "markdown",
   "metadata": {},
   "source": [
    "### 4.  kan\n",
    "\n",
    "The kan gene was amplififed from the pUG6 plasmid. It was constructed by [Güldener et al. 1996](http://nar.oxfordjournals.org/content/24/13/2519.full).\n",
    "\n",
    "The sequence is available from [Genbank](http://www.ncbi.nlm.nih.gov/nuccore/AF298793.1). The plasmid itself can be obtained from [EUROSCARF](http://www.euroscarf.de/plasmid_details.php?accno=P30114).\n",
    "\n",
    "We will download the sequence from Genbank."
   ]
  },
  {
   "cell_type": "code",
   "execution_count": 27,
   "metadata": {
    "collapsed": true
   },
   "outputs": [],
   "source": [
    "pUG6 = gb.nucleotide(\"AF298793\")"
   ]
  },
  {
   "cell_type": "markdown",
   "metadata": {},
   "source": [
    "The size should be 4009bp."
   ]
  },
  {
   "cell_type": "code",
   "execution_count": 28,
   "metadata": {},
   "outputs": [
    {
     "data": {
      "text/plain": [
       "4009"
      ]
     },
     "execution_count": 28,
     "metadata": {},
     "output_type": "execute_result"
    }
   ],
   "source": [
    "len(pUG6)"
   ]
  },
  {
   "cell_type": "code",
   "execution_count": 29,
   "metadata": {},
   "outputs": [
    {
     "data": {
      "text/html": [
       "<a href='https://www.ncbi.nlm.nih.gov/nuccore/AF298793?from=&to=&strand=1' target='_blank'>AF298793</a>"
      ],
      "text/plain": [
       "Gbank(AF298793)(o4009)"
      ]
     },
     "execution_count": 29,
     "metadata": {},
     "output_type": "execute_result"
    }
   ],
   "source": [
    "pUG6"
   ]
  },
  {
   "cell_type": "markdown",
   "metadata": {},
   "source": [
    "We inspect features to obtain the coding sequence of the kan gene."
   ]
  },
  {
   "cell_type": "code",
   "execution_count": 30,
   "metadata": {},
   "outputs": [
    {
     "data": {
      "text/plain": [
       "+----------+-----------+-------+------+--------+--------------+--------------+------+\n",
       "| Feature# | Direction | Start | End  | Length | id           | type         | orf? |\n",
       "+----------+-----------+-------+------+--------+--------------+--------------+------+\n",
       "| 0        |    -->    |   0   | 4009 |   4009 | <unknown id> | source       |  no  |\n",
       "| 1        |    -->    |   52  |  86  |     34 | <unknown id> | misc_feature |  no  |\n",
       "| 2        |    -->    |   86  | 484  |    398 | <unknown id> | regulatory   |  no  |\n",
       "| 3        |    -->    |  484  | 1294 |    810 | <unknown id> | gene         | yes  |\n",
       "| 4        |    -->    |  484  | 1294 |    810 | <unknown id> | CDS          | yes  |\n",
       "| 5        |    -->    |  1294 | 1559 |    265 | <unknown id> | regulatory   |  no  |\n",
       "| 6        |    -->    |  1559 | 1593 |     34 | <unknown id> | misc_feature |  no  |\n",
       "| 7        |    <--    |  2681 | 3542 |    861 | <unknown id> | gene         | yes  |\n",
       "| 8        |    <--    |  2681 | 3542 |    861 | <unknown id> | CDS          | yes  |\n",
       "+----------+-----------+-------+------+--------+--------------+--------------+------+"
      ]
     },
     "execution_count": 30,
     "metadata": {},
     "output_type": "execute_result"
    }
   ],
   "source": [
    "pUG6.list_features()"
   ]
  },
  {
   "cell_type": "markdown",
   "metadata": {},
   "source": [
    "The feature number 4 is the coding sequence for the kan gene:"
   ]
  },
  {
   "cell_type": "code",
   "execution_count": 31,
   "metadata": {
    "collapsed": true
   },
   "outputs": [],
   "source": [
    "kan = pUG6.extract_feature(4)"
   ]
  },
  {
   "cell_type": "markdown",
   "metadata": {},
   "source": [
    "### 6. YIplac128_smaI\n",
    "\n",
    "The final DNA fragment is the YIplac128 vector. This vector was constructed by [Gietz and Sugino](https://www.ncbi.nlm.nih.gov/pubmed/3073106). The sequence can be found in Genbank [here](https://www.ncbi.nlm.nih.gov/nuccore/X75463.1). The YIplac 128 will be linearized with [SmaI](http://rebase.neb.com/rebase/enz/SmaI.html) which leaves a blunt cut.\n",
    "\n",
    "The reason for including this fragment is twofold. We can in theory rescue the construct to E. coli since this plasmid has sequences that allow selection and replication in E. coli. It also serves to extend the region where a double stranded DNA break can be expected to result in recombinantion."
   ]
  },
  {
   "cell_type": "code",
   "execution_count": 32,
   "metadata": {},
   "outputs": [
    {
     "data": {
      "text/plain": [
       "Dseqrecord(-4302)"
      ]
     },
     "execution_count": 32,
     "metadata": {},
     "output_type": "execute_result"
    }
   ],
   "source": [
    "YIplac128 = gb.nucleotide(\"X75463\").looped() # The sequence in Genbank is wrongly marked as linear \n",
    "from Bio.Restriction import SmaI\n",
    "YIplac128_smaI = YIplac128.linearize(SmaI)\n",
    "YIplac128_smaI"
   ]
  },
  {
   "cell_type": "code",
   "execution_count": 33,
   "metadata": {
    "collapsed": true
   },
   "outputs": [],
   "source": [
    "YIplac128_smaI.name = \"YIplac128\""
   ]
  },
  {
   "cell_type": "markdown",
   "metadata": {},
   "source": [
    "We have now established all seven necessary linear DNA fragments for the assembly."
   ]
  },
  {
   "cell_type": "code",
   "execution_count": 34,
   "metadata": {
    "collapsed": true
   },
   "outputs": [],
   "source": [
    "from Bio.Restriction import XhoI, SpeI"
   ]
  },
  {
   "cell_type": "markdown",
   "metadata": {},
   "source": [
    "Two restricion sites, XhoI and SpeI are added to the assembly to facilitate analysis of the final construct. The assembly_fragment function designs the necessary primers for assembly. The YIplac128_smaI sequence is repeated since we want a circular assembly."
   ]
  },
  {
   "cell_type": "code",
   "execution_count": 35,
   "metadata": {
    "collapsed": true
   },
   "outputs": [],
   "source": [
    "fragments =  assembly_fragments((   YIplac128_smaI,\n",
    "                                                       primer_design( hphMX4_3_part ),\n",
    "                                                       Dseqrecord( XhoI.site ),\n",
    "                                                       primer_design( URA3_2micron ),\n",
    "                                                       primer_design( hphMX4_5_part ),\n",
    "                                                       Dseqrecord( SpeI.site ),\n",
    "                                                       primer_design( KlTEF1p ), \n",
    "                                                       primer_design( kan ), \n",
    "                                                       primer_design( KlTEF1t ),\n",
    "                                    YIplac128_smaI ))"
   ]
  },
  {
   "cell_type": "code",
   "execution_count": 36,
   "metadata": {},
   "outputs": [
    {
     "data": {
      "text/plain": [
       "[Dseqrecord(-4302),\n",
       " Amplicon(1075),\n",
       " Amplicon(2618),\n",
       " Amplicon(1057),\n",
       " Amplicon(439),\n",
       " Amplicon(846),\n",
       " Amplicon(453),\n",
       " Dseqrecord(-4302)]"
      ]
     },
     "execution_count": 36,
     "metadata": {},
     "output_type": "execute_result"
    }
   ],
   "source": [
    "fragments"
   ]
  },
  {
   "cell_type": "markdown",
   "metadata": {},
   "source": [
    "We set the max primer size to 40 bp for the primers guiding the assembly of the internal fragments. This is done to keep cost down. We leave out the first and last fragment as this is vector sequence. "
   ]
  },
  {
   "cell_type": "code",
   "execution_count": 37,
   "metadata": {
    "collapsed": true
   },
   "outputs": [],
   "source": [
    "for i, prd in enumerate(fragments[2:-2]):\n",
    "    prd.forward_primer = prd.forward_primer[-40:]\n",
    "    prd.reverse_primer = prd.reverse_primer[-40:]"
   ]
  },
  {
   "cell_type": "markdown",
   "metadata": {},
   "source": [
    "The primers that guide recombination with the YIp128 vector are allowed to be longer (50 bp) as these carry the entire homology that allow recombination."
   ]
  },
  {
   "cell_type": "code",
   "execution_count": 38,
   "metadata": {
    "collapsed": true
   },
   "outputs": [],
   "source": [
    "for i, prd in enumerate( [fragments[2],fragments[-2]] ):\n",
    "    prd.forward_primer = prd.forward_primer[-50:]\n",
    "    prd.reverse_primer = prd.reverse_primer[-50:]"
   ]
  },
  {
   "cell_type": "markdown",
   "metadata": {},
   "source": [
    "Since we changed the primers, the pcr products should be resimulated. We can simply do this by looping of the pcr products using the pcr function with the old Amplicon object as argument."
   ]
  },
  {
   "cell_type": "markdown",
   "metadata": {},
   "source": [
    "We can now give proper names to the pcr products and primers."
   ]
  },
  {
   "cell_type": "code",
   "execution_count": 39,
   "metadata": {
    "collapsed": true
   },
   "outputs": [],
   "source": [
    "names = ''' Hph-term      dda1_2nd_f         dda2_2nd_r\n",
    "            URA3_2my      dda3_URA3_2my_f    dda4_URA3_2my_r\n",
    "            prom-Hph      dda5_1st_f         dda6_1st_r\n",
    "            KlTEF1prom    dda7_Kl_pr_f       dda8_Kl_pr_r\n",
    "            kan_orf       dda9_kan_f         dda10_kan_r\n",
    "            KlTEF1term    dda11_Kl_tr_f      dda12_Kl_tr_r '''"
   ]
  },
  {
   "cell_type": "code",
   "execution_count": 40,
   "metadata": {
    "collapsed": true
   },
   "outputs": [],
   "source": [
    "for f,n in zip(fragments[1:-1], names.splitlines()):\n",
    "    f.name, f.forward_primer.id, f.reverse_primer.id,  = n.split()"
   ]
  },
  {
   "cell_type": "markdown",
   "metadata": {},
   "source": [
    "We use the pydna Assembly functionality to simulate the in-vivo homologou recombination."
   ]
  },
  {
   "cell_type": "code",
   "execution_count": 41,
   "metadata": {
    "collapsed": true
   },
   "outputs": [],
   "source": [
    "asm = Assembly( fragments[1:], limit = 26)"
   ]
  },
  {
   "cell_type": "code",
   "execution_count": 42,
   "metadata": {},
   "outputs": [
    {
     "data": {
      "text/plain": [
       "Assembly:\n",
       "Sequences........................: [1075] [2618] [1057] [439] [846] [453] [4302]\n",
       "Sequences with shared homologies.: [1075] [2618] [1057] [4302] [439] [846] [453]\n",
       "Homology limit (bp)..............: 26\n",
       "Number of overlaps...............: 8\n",
       "Nodes in graph(incl. 5' & 3')....: 10\n",
       "Only terminal overlaps...........: No\n",
       "Circular products................: [10540] [6318] [4222]\n",
       "Linear products..................: [10792] [10620] [10576] [10576] [10576] [10576] [10576] [10575] [10575] [10173] [10158] [9982] [9766] [9564] [9555] [9536] [9363] [9348] [9152] [8945] [8342] [7994] [7924] [7393] [7375] [7164] [6973] [6954] [6909] [6840] [6771] [6757] [6570] [6492] [6354] [6354] [6354] [6353] [6353] [6308] [5951] [5936] [5933] [5891] [5760] [5682] [5544] [5530] [5342] [5297] [5279] [5269] [5141] [5126] [5081] [4852] [4723] [4720] [4678] [4258] [4258] [4042] [3657] [3639] [2687] [2270] [2086] [1676] [1669] [1666] [1460] [1263] [1249] [859] [456] [36] [36] [36] [36] [36] [35] [35]"
      ]
     },
     "execution_count": 42,
     "metadata": {},
     "output_type": "execute_result"
    }
   ],
   "source": [
    "asm"
   ]
  },
  {
   "cell_type": "code",
   "execution_count": 43,
   "metadata": {},
   "outputs": [
    {
     "data": {
      "text/plain": [
       " -|Hph-term|36\n",
       "|           \\/\n",
       "|           /\\\n",
       "|           36|URA3_2my|36\n",
       "|                       \\/\n",
       "|                       /\\\n",
       "|                       36|prom-Hph|36\n",
       "|                                   \\/\n",
       "|                                   /\\\n",
       "|                                   36|KlTEF1prom|36\n",
       "|                                                 \\/\n",
       "|                                                 /\\\n",
       "|                                                 36|kan_orf|36\n",
       "|                                                            \\/\n",
       "|                                                            /\\\n",
       "|                                                            36|KlTEF1term|35\n",
       "|                                                                          \\/\n",
       "|                                                                          /\\\n",
       "|                                                                          35|YIplac128|35\n",
       "|                                                                                       \\/\n",
       "|                                                                                       /\\\n",
       "|                                                                                       35-\n",
       "|                                                                                          |\n",
       " ------------------------------------------------------------------------------------------"
      ]
     },
     "execution_count": 43,
     "metadata": {},
     "output_type": "execute_result"
    }
   ],
   "source": [
    "candidate = asm.circular_products[0]\n",
    "candidate.figure()"
   ]
  },
  {
   "cell_type": "code",
   "execution_count": 44,
   "metadata": {
    "collapsed": true
   },
   "outputs": [],
   "source": [
    "pPS1 = candidate"
   ]
  },
  {
   "cell_type": "code",
   "execution_count": 45,
   "metadata": {},
   "outputs": [
    {
     "data": {
      "text/plain": [
       "vXelWQ46lP0x8856rBYXpzFaSTk"
      ]
     },
     "execution_count": 45,
     "metadata": {},
     "output_type": "execute_result"
    }
   ],
   "source": [
    "pPS1.cseguid()"
   ]
  },
  {
   "cell_type": "code",
   "execution_count": 46,
   "metadata": {},
   "outputs": [
    {
     "name": "stdout",
     "output_type": "stream",
     "text": [
      "dda1_2nd_f\tCTTGCATGCCTGCAGGTCGACTCTAGAGGATCCCCTCAGCGAGAGCCTG\n",
      "\n",
      "dda2_2nd_r\tAGCGGTATTCGCAATCTCGAGTCGACACTGGATGGC\n",
      "\n",
      "dda3_URA3_2my_f\tGCCATCCAGTGTCGACTCGAGATTGCGAATACCGCT\n",
      "\n",
      "dda4_URA3_2my_r\tACCCGGCGGGGATAATAACTGATATAATTAAATTGAAGCT\n",
      "\n",
      "dda5_1st_f\tTAATTATATCAGTTATTATCCCCGCCGGGTC\n",
      "\n",
      "dda6_1st_r\tATTGACCCAGTGTTACTAGTTCAATGACCGCTGTTATGCG\n",
      "\n",
      "dda7_Kl_pr_f\tAACAGCGGTCATTGAACTAGTAACACTGGGTCAATCATAG\n",
      "\n",
      "dda8_Kl_pr_r\tAGTCTTTTCCTTACCCATTTTTAATGTTACTTCTCTTGCA\n",
      "\n",
      "dda9_kan_f\tAGAGAAGTAACATTAAAAATGGGTAAGGAAAAGACTC\n",
      "\n",
      "dda10_kan_r\tAGTAGTATCAAGTTAAACTTAGAAAAACTCATCGAGC\n",
      "\n",
      "dda11_Kl_tr_f\tCTCGATGAGTTTTTCTAAGTTTAACTTGATACTACTAGATTTTTT\n",
      "\n",
      "dda12_Kl_tr_r\tCCAGTGAATTCGAGCTCGGTACCCTTAGTATTAGTAAATTTGTTGACAAT\n",
      "\n"
     ]
    }
   ],
   "source": [
    "for prd in fragments[1:-1]:\n",
    "    print(prd.forward_primer.format(\"tab\"))\n",
    "    print(prd.reverse_primer.format(\"tab\"))"
   ]
  },
  {
   "cell_type": "code",
   "execution_count": 47,
   "metadata": {
    "collapsed": true
   },
   "outputs": [],
   "source": [
    "pPS1.name = \"pPS1\"\n",
    "pPS1.description=\"\""
   ]
  },
  {
   "cell_type": "code",
   "execution_count": 48,
   "metadata": {},
   "outputs": [
    {
     "data": {
      "text/plain": [
       "cSEGUID_vXelWQ46lP0x8856rBYXpzFaSTk"
      ]
     },
     "execution_count": 48,
     "metadata": {},
     "output_type": "execute_result"
    }
   ],
   "source": [
    "pPS1.stamp()"
   ]
  },
  {
   "cell_type": "code",
   "execution_count": 49,
   "metadata": {},
   "outputs": [
    {
     "data": {
      "text/html": [
       "<font face=monospace><a href='pPS1.gb' target='_blank'>pPS1.gb</a></font><br>"
      ]
     },
     "metadata": {},
     "output_type": "display_data"
    }
   ],
   "source": [
    "pPS1.write(\"pPS1.gb\")"
   ]
  },
  {
   "cell_type": "markdown",
   "metadata": {},
   "source": [
    "## PCR conditions"
   ]
  },
  {
   "cell_type": "code",
   "execution_count": 50,
   "metadata": {},
   "outputs": [
    {
     "name": "stdout",
     "output_type": "stream",
     "text": [
      "product name: Hph-term\n",
      "template: pAG32\n",
      "\n",
      "Taq (rate 30 nt/s) 35 cycles             |1075bp\n",
      "95.0°C    |95.0°C                 |      |Tm formula: Biopython Tm_NN\n",
      "|_________|_____          72.0°C  |72.0°C|SaltC 50mM\n",
      "| 03min00s|30s  \\         ________|______|Primer1C 1.0µM\n",
      "|         |      \\ 58.3°C/ 0min32s| 5min |Primer2C 1.0µM\n",
      "|         |       \\_____/         |      |GC 54%\n",
      "|         |         30s           |      |4-12°C\n",
      "\n",
      "----------------------------------------------------------------------\n",
      "\n",
      "product name: URA3_2my\n",
      "template: AB215109\n",
      "\n",
      "Taq (rate 30 nt/s) 35 cycles             |2618bp\n",
      "95.0°C    |95.0°C                 |      |Tm formula: Biopython Tm_NN\n",
      "|_________|_____          72.0°C  |72.0°C|SaltC 50mM\n",
      "| 03min00s|30s  \\         ________|______|Primer1C 1.0µM\n",
      "|         |      \\ 53.3°C/ 1min19s| 5min |Primer2C 1.0µM\n",
      "|         |       \\_____/         |      |GC 39%\n",
      "|         |         30s           |      |4-12°C\n",
      "\n",
      "----------------------------------------------------------------------\n",
      "\n",
      "product name: prom-Hph\n",
      "template: pAG32\n",
      "\n",
      "Taq (rate 30 nt/s) 35 cycles             |1057bp\n",
      "95.0°C    |95.0°C                 |      |Tm formula: Biopython Tm_NN\n",
      "|_________|_____          72.0°C  |72.0°C|SaltC 50mM\n",
      "| 03min00s|30s  \\         ________|______|Primer1C 1.0µM\n",
      "|         |      \\ 59.8°C/ 0min32s| 5min |Primer2C 1.0µM\n",
      "|         |       \\_____/         |      |GC 53%\n",
      "|         |         30s           |      |4-12°C\n",
      "\n",
      "----------------------------------------------------------------------\n",
      "\n",
      "product name: KlTEF1prom\n",
      "template: Intergenic-KLLA0\n",
      "\n",
      "Taq (rate 30 nt/s) 35 cycles             |439bp\n",
      "95.0°C    |95.0°C                 |      |Tm formula: Biopython Tm_NN\n",
      "|_________|_____          72.0°C  |72.0°C|SaltC 50mM\n",
      "| 03min00s|30s  \\         ________|______|Primer1C 1.0µM\n",
      "|         |      \\ 49.7°C/ 0min13s| 5min |Primer2C 1.0µM\n",
      "|         |       \\_____/         |      |GC 28%\n",
      "|         |         30s           |      |4-12°C\n",
      "\n",
      "----------------------------------------------------------------------\n",
      "\n",
      "product name: kan_orf\n",
      "template: AF298793\n",
      "\n",
      "Taq (rate 30 nt/s) 35 cycles             |846bp\n",
      "95.0°C    |95.0°C                 |      |Tm formula: Biopython Tm_NN\n",
      "|_________|_____          72.0°C  |72.0°C|SaltC 50mM\n",
      "| 03min00s|30s  \\         ________|______|Primer1C 1.0µM\n",
      "|         |      \\ 54.1°C/ 0min25s| 5min |Primer2C 1.0µM\n",
      "|         |       \\_____/         |      |GC 42%\n",
      "|         |         30s           |      |4-12°C\n",
      "\n",
      "----------------------------------------------------------------------\n",
      "\n",
      "product name: KlTEF1term\n",
      "template: Intergenic-KLLA0\n",
      "\n",
      "Taq (rate 30 nt/s) 35 cycles             |453bp\n",
      "95.0°C    |95.0°C                 |      |Tm formula: Biopython Tm_NN\n",
      "|_________|_____          72.0°C  |72.0°C|SaltC 50mM\n",
      "| 03min00s|30s  \\         ________|______|Primer1C 1.0µM\n",
      "|         |      \\ 48.8°C/ 0min14s| 5min |Primer2C 1.0µM\n",
      "|         |       \\_____/         |      |GC 26%\n",
      "|         |         30s           |      |4-12°C\n",
      "\n",
      "----------------------------------------------------------------------\n",
      "\n"
     ]
    }
   ],
   "source": [
    "for prd in fragments[1:-1]:\n",
    "    print(\"product name:\", prd.name)\n",
    "    print(\"template:\", prd.template.name)\n",
    "    print(prd.program())\n",
    "    print()\n",
    "    print(\"----------------------------------------------------------------------\")\n",
    "    print()"
   ]
  }
 ],
 "metadata": {
  "kernelspec": {
   "display_name": "Python 3",
   "language": "python",
   "name": "python3"
  },
  "language_info": {
   "codemirror_mode": {
    "name": "ipython",
    "version": 3
   },
   "file_extension": ".py",
   "mimetype": "text/x-python",
   "name": "python",
   "nbconvert_exporter": "python",
   "pygments_lexer": "ipython3",
   "version": "3.6.3"
  }
 },
 "nbformat": 4,
 "nbformat_minor": 1
}
