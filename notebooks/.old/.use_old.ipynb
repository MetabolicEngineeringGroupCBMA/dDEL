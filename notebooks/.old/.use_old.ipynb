{
 "cells": [
  {
   "cell_type": "markdown",
   "metadata": {},
   "source": [
    "# Use\n",
    "\n",
    "The plan is to integrate the cassette so that the HIS3 marker is removed. We chose HIS3 since this is the location of the del construct in RS112 and derivatives. \n",
    "\n",
    "We should use a leu2 HIS3 background for the integration.\n",
    "\n",
    "The resulting strain should be G418R his3 LEU2 and HygS. After recombination, the cells will be G418S his3 eu2 and HygR. The cassette will be amplified so that the 2µ and URA3 sequences are left out.\n",
    "\n",
    "\n",
    "\n",
    "\n"
   ]
  },
  {
   "cell_type": "code",
   "execution_count": 11,
   "metadata": {
    "collapsed": true
   },
   "outputs": [],
   "source": [
    "from pygenome import sg"
   ]
  },
  {
   "cell_type": "code",
   "execution_count": 12,
   "metadata": {
    "collapsed": true
   },
   "outputs": [],
   "source": [
    "from pydna.all import *"
   ]
  },
  {
   "cell_type": "code",
   "execution_count": 13,
   "metadata": {
    "collapsed": true
   },
   "outputs": [],
   "source": [
    "HIS3_locus = Dseqrecord( sg.stdgene[\"HIS3\"].locus() )"
   ]
  },
  {
   "cell_type": "markdown",
   "metadata": {},
   "source": [
    "The HIS3_locus sequence contain the whole HIS3 locus including promoter and terminator."
   ]
  },
  {
   "cell_type": "code",
   "execution_count": 14,
   "metadata": {},
   "outputs": [
    {
     "data": {
      "text/html": [
       "<font face=monospace><a href='HIS3_locus.gb' target='_blank'>HIS3_locus.gb</a></font><br>"
      ]
     },
     "metadata": {},
     "output_type": "display_data"
    }
   ],
   "source": [
    "HIS3_locus.write(\"HIS3_locus.gb\")"
   ]
  },
  {
   "cell_type": "markdown",
   "metadata": {},
   "source": [
    "Paulo suggested these primers for integration of cassette in the HIS3 locus"
   ]
  },
  {
   "cell_type": "code",
   "execution_count": 15,
   "metadata": {
    "collapsed": true
   },
   "outputs": [],
   "source": [
    "intprim1, intprim2 = parse('''\n",
    ">F\n",
    "CTT TCC CGC AAT TTT CTT TTT CTA TTA CTC TTG GCC TCC T    aaaactgtattataagta\n",
    "\n",
    ">R\n",
    "TAT ATA TAT CGT ATG CTG CAG CTT TAA ATA ATC GGT GTC A gcg TT AGT ATC GAA TCG ACA G\n",
    "''')"
   ]
  },
  {
   "cell_type": "markdown",
   "metadata": {},
   "source": [
    "After discussion we arrived at the final primers below:"
   ]
  },
  {
   "cell_type": "code",
   "execution_count": 16,
   "metadata": {
    "collapsed": true
   },
   "outputs": [],
   "source": [
    "intprim1, intprim2 = parse('''\n",
    ">pPS1_his_f\n",
    "CTT TCC CGC AAT TTT CTT TTT CTA TTA CTC TTG GCC TCC T    agagcttcaatttaattatatcagttattatcc\n",
    "\n",
    ">pPS1_his_r\n",
    "TAT ATA TAT CGT ATG CTG CAG CTT TAA ATA ATC GGT GTC A gcg TT AGT ATC GAA TCG ACA G\n",
    "''')"
   ]
  },
  {
   "cell_type": "code",
   "execution_count": 17,
   "metadata": {},
   "outputs": [
    {
     "name": "stdout",
     "output_type": "stream",
     "text": [
      "pPS1_his_f\tCTTTCCCGCAATTTTCTTTTTCTATTACTCTTGGCCTCCTagagcttcaatttaattatatcagttattatcc\n",
      "pPS1_his_r\tTATATATATCGTATGCTGCAGCTTTAAATAATCGGTGTCAgcgTTAGTATCGAATCGACAG\n"
     ]
    }
   ],
   "source": [
    "print(intprim1.format(\"tab\"))\n",
    "print(intprim2.format(\"tab\"))"
   ]
  },
  {
   "cell_type": "code",
   "execution_count": 18,
   "metadata": {},
   "outputs": [
    {
     "data": {
      "text/plain": [
       "Dseqrecord(-73)"
      ]
     },
     "execution_count": 18,
     "metadata": {},
     "output_type": "execute_result"
    }
   ],
   "source": [
    "intprim1"
   ]
  },
  {
   "cell_type": "code",
   "execution_count": 19,
   "metadata": {},
   "outputs": [
    {
     "data": {
      "text/plain": [
       "Dseqrecord(-61)"
      ]
     },
     "execution_count": 19,
     "metadata": {},
     "output_type": "execute_result"
    }
   ],
   "source": [
    "intprim2"
   ]
  },
  {
   "cell_type": "code",
   "execution_count": 20,
   "metadata": {},
   "outputs": [
    {
     "ename": "NameError",
     "evalue": "name 'pPS1' is not defined",
     "output_type": "error",
     "traceback": [
      "\u001b[0;31m---------------------------------------------------------------------------\u001b[0m",
      "\u001b[0;31mNameError\u001b[0m                                 Traceback (most recent call last)",
      "\u001b[0;32m<ipython-input-20-cdf701e93d2d>\u001b[0m in \u001b[0;36m<module>\u001b[0;34m()\u001b[0m\n\u001b[0;32m----> 1\u001b[0;31m \u001b[0mprd\u001b[0m \u001b[0;34m=\u001b[0m \u001b[0mpcr\u001b[0m\u001b[0;34m(\u001b[0m\u001b[0mintprim1\u001b[0m\u001b[0;34m,\u001b[0m \u001b[0mintprim2\u001b[0m\u001b[0;34m,\u001b[0m \u001b[0mpPS1\u001b[0m\u001b[0;34m)\u001b[0m\u001b[0;34m\u001b[0m\u001b[0m\n\u001b[0m",
      "\u001b[0;31mNameError\u001b[0m: name 'pPS1' is not defined"
     ]
    }
   ],
   "source": [
    "prd = pcr(intprim1, intprim2, pPS1)"
   ]
  },
  {
   "cell_type": "code",
   "execution_count": 21,
   "metadata": {},
   "outputs": [
    {
     "ename": "NameError",
     "evalue": "name 'prd' is not defined",
     "output_type": "error",
     "traceback": [
      "\u001b[0;31m---------------------------------------------------------------------------\u001b[0m",
      "\u001b[0;31mNameError\u001b[0m                                 Traceback (most recent call last)",
      "\u001b[0;32m<ipython-input-21-a1f2dddb8f19>\u001b[0m in \u001b[0;36m<module>\u001b[0;34m()\u001b[0m\n\u001b[0;32m----> 1\u001b[0;31m \u001b[0mprd\u001b[0m\u001b[0;34m.\u001b[0m\u001b[0mfigure\u001b[0m\u001b[0;34m(\u001b[0m\u001b[0;34m)\u001b[0m\u001b[0;34m\u001b[0m\u001b[0m\n\u001b[0m",
      "\u001b[0;31mNameError\u001b[0m: name 'prd' is not defined"
     ]
    }
   ],
   "source": [
    "prd.figure()"
   ]
  },
  {
   "cell_type": "code",
   "execution_count": 22,
   "metadata": {},
   "outputs": [
    {
     "ename": "NameError",
     "evalue": "name 'prd' is not defined",
     "output_type": "error",
     "traceback": [
      "\u001b[0;31m---------------------------------------------------------------------------\u001b[0m",
      "\u001b[0;31mNameError\u001b[0m                                 Traceback (most recent call last)",
      "\u001b[0;32m<ipython-input-22-320fa384e44a>\u001b[0m in \u001b[0;36m<module>\u001b[0;34m()\u001b[0m\n\u001b[0;32m----> 1\u001b[0;31m \u001b[0mprd\u001b[0m\u001b[0;34m.\u001b[0m\u001b[0mprogram\u001b[0m\u001b[0;34m(\u001b[0m\u001b[0;34m)\u001b[0m\u001b[0;34m\u001b[0m\u001b[0m\n\u001b[0m",
      "\u001b[0;31mNameError\u001b[0m: name 'prd' is not defined"
     ]
    }
   ],
   "source": [
    "prd.program()"
   ]
  },
  {
   "cell_type": "code",
   "execution_count": 70,
   "metadata": {},
   "outputs": [
    {
     "data": {
      "text/plain": [
       "\n",
       "Pfu-Sso7d (rate 15s/kb)                 |8049bp\n",
       "Three-step|          30 cycles   |      |Tm formula: Pydna tmbresluc\n",
       "98.0°C    |98.0°C                |      |SaltC 50mM\n",
       "__________|_____          72.0°C |72.0°C|Primer1C 1.0µM\n",
       "00min30s  |10s  \\ 66.0°C ________|______|Primer2C 1.0µM\n",
       "          |      \\______/ 2min 0s|10min |GC 46%\n",
       "          |        10s           |      |4-12°C\n"
      ]
     },
     "execution_count": 70,
     "metadata": {},
     "output_type": "execute_result"
    }
   ],
   "source": [
    "prd.dbd_program()"
   ]
  },
  {
   "cell_type": "markdown",
   "metadata": {},
   "source": [
    "The prd variable below contains the 8049 bp PCR product.\n",
    "\n",
    "limit for [phusion](https://www.neb.com/protocols/1/01/01/pcr-protocol-m0530) polymerase seems to be 10 kb.\n",
    "\n",
    "The PCR product sequence can be downloaded below."
   ]
  },
  {
   "cell_type": "code",
   "execution_count": 71,
   "metadata": {},
   "outputs": [
    {
     "data": {
      "text/html": [
       "<font face=monospace><a href='prd.gb' target='_blank'>prd.gb</a></font><br>"
      ]
     },
     "metadata": {},
     "output_type": "display_data"
    }
   ],
   "source": [
    "prd.write(\"prd.gb\")"
   ]
  },
  {
   "cell_type": "markdown",
   "metadata": {},
   "source": [
    "The integration of the cassette is simulated below:"
   ]
  },
  {
   "cell_type": "code",
   "execution_count": 72,
   "metadata": {
    "collapsed": true
   },
   "outputs": [],
   "source": [
    "asm = Assembly((his3,prd), max_nodes=3)"
   ]
  },
  {
   "cell_type": "code",
   "execution_count": 73,
   "metadata": {
    "scrolled": true
   },
   "outputs": [
    {
     "data": {
      "text/plain": [
       "Assembly:\n",
       "Sequences........................: [2663] [8049]\n",
       "Sequences with shared homologies.: [2663] [8049]\n",
       "Homology limit (bp)..............: 25\n",
       "Number of overlaps...............: 2\n",
       "Nodes in graph(incl. 5' & 3')....: 4\n",
       "Only terminal overlaps...........: No\n",
       "Circular products................: \n",
       "Linear products..................: [9781] [9009] [8821] [1891] [1703] [931]"
      ]
     },
     "execution_count": 73,
     "metadata": {},
     "output_type": "execute_result"
    }
   ],
   "source": [
    "asm"
   ]
  },
  {
   "cell_type": "code",
   "execution_count": 74,
   "metadata": {
    "collapsed": true
   },
   "outputs": [],
   "source": [
    "cassette_integrated_in_HIS3_locus = asm.assemble_linear()[0]"
   ]
  },
  {
   "cell_type": "code",
   "execution_count": 75,
   "metadata": {},
   "outputs": [
    {
     "data": {
      "text/plain": [
       "BK006948|40\n",
       "         \\/\n",
       "         /\\\n",
       "         40|8049bp_PCR_prod|40\n",
       "                            \\/\n",
       "                            /\\\n",
       "                            40|BK006948"
      ]
     },
     "execution_count": 75,
     "metadata": {},
     "output_type": "execute_result"
    }
   ],
   "source": [
    "cassette_integrated_in_HIS3_locus.figure()"
   ]
  },
  {
   "cell_type": "code",
   "execution_count": 76,
   "metadata": {},
   "outputs": [
    {
     "data": {
      "text/html": [
       "<font face=monospace><a href='cassette_integrated_in_HIS3_locus.gb' target='_blank'>cassette_integrated_in_HIS3_locus.gb</a></font><br>"
      ]
     },
     "metadata": {},
     "output_type": "display_data"
    }
   ],
   "source": [
    "cassette_integrated_in_HIS3_locus.write(\"cassette_integrated_in_HIS3_locus.gb\")"
   ]
  },
  {
   "cell_type": "markdown",
   "metadata": {},
   "source": [
    "http://webpcr.appspot.com/"
   ]
  },
  {
   "cell_type": "markdown",
   "metadata": {},
   "source": [
    "Screening primers for colony PCR:\n",
    "\n",
    "    >A-HIS3\n",
    "    TGACGACTTTTTCTTAATTCTCGTT \n",
    "\n",
    "    >D-HIS3\n",
    "    GCTCAGTTCAGCCATAATATGAAAT \n"
   ]
  },
  {
   "cell_type": "code",
   "execution_count": 1,
   "metadata": {},
   "outputs": [],
   "source": [
    "from pydna.myprimers import list_primers"
   ]
  },
  {
   "cell_type": "code",
   "execution_count": 4,
   "metadata": {},
   "outputs": [],
   "source": [
    "p1= list_primers[1044]"
   ]
  },
  {
   "cell_type": "code",
   "execution_count": 5,
   "metadata": {},
   "outputs": [],
   "source": [
    "p2 = list_primers[1043]"
   ]
  },
  {
   "cell_type": "code",
   "execution_count": 7,
   "metadata": {},
   "outputs": [
    {
     "data": {
      "text/plain": [
       "Seq('TGACGACTTTTTCTTAATTCTCGTT', IUPACAmbiguousDNA())"
      ]
     },
     "execution_count": 7,
     "metadata": {},
     "output_type": "execute_result"
    }
   ],
   "source": [
    "p1.seq"
   ]
  },
  {
   "cell_type": "code",
   "execution_count": 9,
   "metadata": {},
   "outputs": [
    {
     "data": {
      "text/plain": [
       "Seq('GCTCAGTTCAGCCATAATATGAAAT', IUPACAmbiguousDNA())"
      ]
     },
     "execution_count": 9,
     "metadata": {},
     "output_type": "execute_result"
    }
   ],
   "source": [
    "p2.seq"
   ]
  },
  {
   "cell_type": "code",
   "execution_count": 10,
   "metadata": {},
   "outputs": [
    {
     "ename": "NameError",
     "evalue": "name 'Dseqrecord' is not defined",
     "output_type": "error",
     "traceback": [
      "\u001b[0;31m---------------------------------------------------------------------------\u001b[0m",
      "\u001b[0;31mNameError\u001b[0m                                 Traceback (most recent call last)",
      "\u001b[0;32m<ipython-input-10-b7e580074574>\u001b[0m in \u001b[0;36m<module>\u001b[0;34m()\u001b[0m\n\u001b[0;32m----> 1\u001b[0;31m \u001b[0mhis3\u001b[0m \u001b[0;34m=\u001b[0m \u001b[0mDseqrecord\u001b[0m\u001b[0;34m(\u001b[0m \u001b[0msg\u001b[0m\u001b[0;34m.\u001b[0m\u001b[0mgene\u001b[0m\u001b[0;34m[\u001b[0m\u001b[0;34m\"HIS3\"\u001b[0m\u001b[0;34m]\u001b[0m\u001b[0;34m.\u001b[0m\u001b[0mlocus\u001b[0m\u001b[0;34m(\u001b[0m\u001b[0;34m)\u001b[0m \u001b[0;34m)\u001b[0m\u001b[0;34m\u001b[0m\u001b[0m\n\u001b[0m",
      "\u001b[0;31mNameError\u001b[0m: name 'Dseqrecord' is not defined"
     ]
    }
   ],
   "source": [
    "his3 = Dseqrecord( sg.gene[\"HIS3\"].locus() )"
   ]
  },
  {
   "cell_type": "code",
   "execution_count": null,
   "metadata": {
    "collapsed": true
   },
   "outputs": [],
   "source": [
    "PROD = pcr( primer_list[1044], primer_list[1043], his3)"
   ]
  },
  {
   "cell_type": "code",
   "execution_count": null,
   "metadata": {
    "collapsed": true
   },
   "outputs": [],
   "source": [
    "PROD.figure()"
   ]
  },
  {
   "cell_type": "markdown",
   "metadata": {},
   "source": [
    "    >19_D-DFR1\n",
    "    GACTCAGACAGGTTGAAAAGAAGAC\n",
    "\n",
    "    >18_A-DFR1\n",
    "    CAAAGGTTTGGTTTTCAGTTAAGAA"
   ]
  },
  {
   "cell_type": "code",
   "execution_count": null,
   "metadata": {
    "collapsed": true
   },
   "outputs": [],
   "source": []
  }
 ],
 "metadata": {
  "kernelspec": {
   "display_name": "Python 3",
   "language": "python",
   "name": "python3"
  },
  "language_info": {
   "codemirror_mode": {
    "name": "ipython",
    "version": 3
   },
   "file_extension": ".py",
   "mimetype": "text/x-python",
   "name": "python",
   "nbconvert_exporter": "python",
   "pygments_lexer": "ipython3",
   "version": "3.6.3"
  }
 },
 "nbformat": 4,
 "nbformat_minor": 1
}
