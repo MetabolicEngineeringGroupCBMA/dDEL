{
 "cells": [
  {
   "cell_type": "code",
   "execution_count": 1,
   "metadata": {
    "execution": {
     "iopub.execute_input": "2021-10-31T13:25:04.405840Z",
     "iopub.status.busy": "2021-10-31T13:25:04.405061Z",
     "iopub.status.idle": "2021-10-31T13:25:05.077515Z",
     "shell.execute_reply": "2021-10-31T13:25:05.078063Z"
    }
   },
   "outputs": [],
   "source": [
    "from pygenome import saccharomyces_cerevisiae as sg"
   ]
  },
  {
   "cell_type": "code",
   "execution_count": 2,
   "metadata": {
    "execution": {
     "iopub.execute_input": "2021-10-31T13:25:05.085544Z",
     "iopub.status.busy": "2021-10-31T13:25:05.084865Z",
     "iopub.status.idle": "2021-10-31T13:25:05.109752Z",
     "shell.execute_reply": "2021-10-31T13:25:05.108426Z"
    }
   },
   "outputs": [],
   "source": [
    "from pydna.all import *"
   ]
  },
  {
   "cell_type": "code",
   "execution_count": 3,
   "metadata": {
    "execution": {
     "iopub.execute_input": "2021-10-31T13:25:05.114756Z",
     "iopub.status.busy": "2021-10-31T13:25:05.113531Z",
     "iopub.status.idle": "2021-10-31T13:25:05.266760Z",
     "shell.execute_reply": "2021-10-31T13:25:05.266271Z"
    }
   },
   "outputs": [],
   "source": [
    "HIS3_locus = Dseqrecord( sg.stdgenes[\"HIS3\"].locus() )"
   ]
  },
  {
   "cell_type": "code",
   "execution_count": 4,
   "metadata": {
    "execution": {
     "iopub.execute_input": "2021-10-31T13:25:05.298748Z",
     "iopub.status.busy": "2021-10-31T13:25:05.294236Z",
     "iopub.status.idle": "2021-10-31T13:25:05.437458Z",
     "shell.execute_reply": "2021-10-31T13:25:05.436875Z"
    }
   },
   "outputs": [],
   "source": [
    "HIS3_promoter = Dseqrecord( sg.stdgenes[\"HIS3\"].promoter() )"
   ]
  },
  {
   "cell_type": "code",
   "execution_count": 5,
   "metadata": {
    "execution": {
     "iopub.execute_input": "2021-10-31T13:25:05.450482Z",
     "iopub.status.busy": "2021-10-31T13:25:05.441255Z",
     "iopub.status.idle": "2021-10-31T13:25:05.669762Z",
     "shell.execute_reply": "2021-10-31T13:25:05.670163Z"
    }
   },
   "outputs": [],
   "source": [
    "HIS3_terminator = Dseqrecord( sg.stdgenes[\"HIS3\"].terminator() )"
   ]
  },
  {
   "cell_type": "markdown",
   "metadata": {},
   "source": [
    "The HIS3_locus sequence contain the whole HIS3 locus including promoter and terminator."
   ]
  },
  {
   "cell_type": "code",
   "execution_count": 6,
   "metadata": {
    "execution": {
     "iopub.execute_input": "2021-10-31T13:25:05.674740Z",
     "iopub.status.busy": "2021-10-31T13:25:05.673594Z",
     "iopub.status.idle": "2021-10-31T13:25:05.679226Z",
     "shell.execute_reply": "2021-10-31T13:25:05.678095Z"
    }
   },
   "outputs": [],
   "source": [
    "A_His3, D_His3 = parse_primers('''\n",
    ">1044_A-HIS3 (25-mer)\n",
    "TGACGACTTTTTCTTAATTCTCGTT\n",
    ">1043_D-HIS3 (25-mer)\n",
    "GCTCAGTTCAGCCATAATATGAAAT''')"
   ]
  },
  {
   "cell_type": "code",
   "execution_count": 7,
   "metadata": {
    "execution": {
     "iopub.execute_input": "2021-10-31T13:25:05.693939Z",
     "iopub.status.busy": "2021-10-31T13:25:05.693360Z",
     "iopub.status.idle": "2021-10-31T13:25:05.695986Z",
     "shell.execute_reply": "2021-10-31T13:25:05.696346Z"
    }
   },
   "outputs": [
    {
     "data": {
      "text/html": [
       "Amplicon(1313)"
      ],
      "text/plain": [
       "Amplicon(1313)"
      ]
     },
     "execution_count": 7,
     "metadata": {},
     "output_type": "execute_result"
    }
   ],
   "source": [
    "prod = pcr(A_His3,D_His3,HIS3_locus)\n",
    "prod"
   ]
  },
  {
   "cell_type": "code",
   "execution_count": 8,
   "metadata": {
    "execution": {
     "iopub.execute_input": "2021-10-31T13:25:05.700067Z",
     "iopub.status.busy": "2021-10-31T13:25:05.699576Z",
     "iopub.status.idle": "2021-10-31T13:25:05.704304Z",
     "shell.execute_reply": "2021-10-31T13:25:05.703723Z"
    }
   },
   "outputs": [
    {
     "data": {
      "text/plain": [
       "PSFOlU_oZzC7GPph7lur9_I7m8Q"
      ]
     },
     "execution_count": 8,
     "metadata": {},
     "output_type": "execute_result"
    }
   ],
   "source": [
    "prod.seguid()"
   ]
  },
  {
   "cell_type": "code",
   "execution_count": 9,
   "metadata": {
    "execution": {
     "iopub.execute_input": "2021-10-31T13:25:05.709684Z",
     "iopub.status.busy": "2021-10-31T13:25:05.708963Z",
     "iopub.status.idle": "2021-10-31T13:25:05.711531Z",
     "shell.execute_reply": "2021-10-31T13:25:05.712020Z"
    }
   },
   "outputs": [],
   "source": [
    "(alpha_His3,\n",
    "  beta_His3 ) = parse_primers('''\n",
    "\n",
    ">1133_alpha-HIS3\n",
    "ttgctgtgggaaaaacttatcgaa\n",
    "\n",
    ">1132_beta-HIS3\n",
    "Cgttgatgcttaaattttgcacttg\n",
    "''')"
   ]
  },
  {
   "cell_type": "code",
   "execution_count": 10,
   "metadata": {
    "execution": {
     "iopub.execute_input": "2021-10-31T13:25:05.719947Z",
     "iopub.status.busy": "2021-10-31T13:25:05.718911Z",
     "iopub.status.idle": "2021-10-31T13:25:05.723687Z",
     "shell.execute_reply": "2021-10-31T13:25:05.722975Z"
    }
   },
   "outputs": [],
   "source": [
    "ampl = pcr(alpha_His3, beta_His3, HIS3_locus)"
   ]
  },
  {
   "cell_type": "code",
   "execution_count": 11,
   "metadata": {
    "execution": {
     "iopub.execute_input": "2021-10-31T13:25:05.729114Z",
     "iopub.status.busy": "2021-10-31T13:25:05.728508Z",
     "iopub.status.idle": "2021-10-31T13:25:05.732809Z",
     "shell.execute_reply": "2021-10-31T13:25:05.732098Z"
    }
   },
   "outputs": [
    {
     "data": {
      "text/html": [
       "Amplicon(1368)"
      ],
      "text/plain": [
       "Amplicon(1368)"
      ]
     },
     "execution_count": 11,
     "metadata": {},
     "output_type": "execute_result"
    }
   ],
   "source": [
    "ampl"
   ]
  },
  {
   "cell_type": "code",
   "execution_count": 12,
   "metadata": {
    "execution": {
     "iopub.execute_input": "2021-10-31T13:25:05.738389Z",
     "iopub.status.busy": "2021-10-31T13:25:05.737369Z",
     "iopub.status.idle": "2021-10-31T13:25:05.740971Z",
     "shell.execute_reply": "2021-10-31T13:25:05.741535Z"
    }
   },
   "outputs": [
    {
     "data": {
      "text/plain": [
       "ltsuNc3ojlE52EMjR2MCmbTrYrE"
      ]
     },
     "execution_count": 12,
     "metadata": {},
     "output_type": "execute_result"
    }
   ],
   "source": [
    "ampl.seguid()"
   ]
  },
  {
   "cell_type": "code",
   "execution_count": 13,
   "metadata": {
    "execution": {
     "iopub.execute_input": "2021-10-31T13:25:05.748915Z",
     "iopub.status.busy": "2021-10-31T13:25:05.747708Z",
     "iopub.status.idle": "2021-10-31T13:25:05.751918Z",
     "shell.execute_reply": "2021-10-31T13:25:05.751294Z"
    }
   },
   "outputs": [
    {
     "data": {
      "text/plain": [
       "|95°C|95°C               |    |tmf:63.0\n",
       "|____|_____          72°C|72°C|tmr:60.8\n",
       "|3min|30s  \\ 57.0°C _____|____|45s/kb\n",
       "|    |      \\______/ 1:01|5min|GC 42%\n",
       "|    |       30s         |    |1368bp"
      ]
     },
     "execution_count": 13,
     "metadata": {},
     "output_type": "execute_result"
    }
   ],
   "source": [
    "ampl.program()"
   ]
  },
  {
   "cell_type": "code",
   "execution_count": 14,
   "metadata": {
    "execution": {
     "iopub.execute_input": "2021-10-31T13:25:05.760095Z",
     "iopub.status.busy": "2021-10-31T13:25:05.759371Z",
     "iopub.status.idle": "2021-10-31T13:25:05.762469Z",
     "shell.execute_reply": "2021-10-31T13:25:05.762942Z"
    }
   },
   "outputs": [
    {
     "data": {
      "text/html": [
       "Amplicon(1313)"
      ],
      "text/plain": [
       "Amplicon(1313)"
      ]
     },
     "execution_count": 14,
     "metadata": {},
     "output_type": "execute_result"
    }
   ],
   "source": [
    "pcr(A_His3, D_His3, ampl)"
   ]
  }
 ],
 "metadata": {
  "kernelspec": {
   "display_name": "Python [conda env:bjorn38]",
   "language": "python",
   "name": "conda-env-bjorn38-py"
  },
  "language_info": {
   "codemirror_mode": {
    "name": "ipython",
    "version": 3
   },
   "file_extension": ".py",
   "mimetype": "text/x-python",
   "name": "python",
   "nbconvert_exporter": "python",
   "pygments_lexer": "ipython3",
   "version": "3.9.7"
  }
 },
 "nbformat": 4,
 "nbformat_minor": 4
}
