{
 "cells": [
  {
   "cell_type": "code",
   "execution_count": 1,
   "metadata": {
    "execution": {
     "iopub.execute_input": "2021-12-19T16:00:03.173889Z",
     "iopub.status.busy": "2021-12-19T16:00:03.172813Z",
     "iopub.status.idle": "2021-12-19T16:00:03.806632Z",
     "shell.execute_reply": "2021-12-19T16:00:03.806114Z"
    }
   },
   "outputs": [],
   "source": [
    "from pygenome import saccharomyces_cerevisiae as sg"
   ]
  },
  {
   "cell_type": "code",
   "execution_count": 2,
   "metadata": {
    "execution": {
     "iopub.execute_input": "2021-12-19T16:00:03.814630Z",
     "iopub.status.busy": "2021-12-19T16:00:03.813550Z",
     "iopub.status.idle": "2021-12-19T16:00:03.836031Z",
     "shell.execute_reply": "2021-12-19T16:00:03.835508Z"
    }
   },
   "outputs": [],
   "source": [
    "from pydna.all import *"
   ]
  },
  {
   "cell_type": "code",
   "execution_count": 3,
   "metadata": {
    "execution": {
     "iopub.execute_input": "2021-12-19T16:00:03.848303Z",
     "iopub.status.busy": "2021-12-19T16:00:03.847598Z",
     "iopub.status.idle": "2021-12-19T16:00:04.030068Z",
     "shell.execute_reply": "2021-12-19T16:00:04.029522Z"
    }
   },
   "outputs": [],
   "source": [
    "HIS3_locus = Dseqrecord( sg.stdgenes[\"HIS3\"].locus() )"
   ]
  },
  {
   "cell_type": "code",
   "execution_count": 4,
   "metadata": {
    "execution": {
     "iopub.execute_input": "2021-12-19T16:00:04.057334Z",
     "iopub.status.busy": "2021-12-19T16:00:04.052729Z",
     "iopub.status.idle": "2021-12-19T16:00:04.218085Z",
     "shell.execute_reply": "2021-12-19T16:00:04.217529Z"
    }
   },
   "outputs": [],
   "source": [
    "HIS3_promoter = Dseqrecord( sg.stdgenes[\"HIS3\"].promoter() )"
   ]
  },
  {
   "cell_type": "code",
   "execution_count": 5,
   "metadata": {
    "execution": {
     "iopub.execute_input": "2021-12-19T16:00:04.222627Z",
     "iopub.status.busy": "2021-12-19T16:00:04.221625Z",
     "iopub.status.idle": "2021-12-19T16:00:04.465324Z",
     "shell.execute_reply": "2021-12-19T16:00:04.464847Z"
    }
   },
   "outputs": [],
   "source": [
    "HIS3_terminator = Dseqrecord( sg.stdgenes[\"HIS3\"].terminator() )"
   ]
  },
  {
   "cell_type": "markdown",
   "metadata": {},
   "source": [
    "The HIS3_locus sequence contain the whole HIS3 locus including promoter and terminator."
   ]
  },
  {
   "cell_type": "code",
   "execution_count": 6,
   "metadata": {
    "execution": {
     "iopub.execute_input": "2021-12-19T16:00:04.469520Z",
     "iopub.status.busy": "2021-12-19T16:00:04.468946Z",
     "iopub.status.idle": "2021-12-19T16:00:04.471042Z",
     "shell.execute_reply": "2021-12-19T16:00:04.470658Z"
    }
   },
   "outputs": [],
   "source": [
    "A_His3, D_His3 = parse_primers('''\n",
    ">1044_A-HIS3 (25-mer)\n",
    "TGACGACTTTTTCTTAATTCTCGTT\n",
    ">1043_D-HIS3 (25-mer)\n",
    "GCTCAGTTCAGCCATAATATGAAAT''')"
   ]
  },
  {
   "cell_type": "code",
   "execution_count": 7,
   "metadata": {
    "execution": {
     "iopub.execute_input": "2021-12-19T16:00:04.485360Z",
     "iopub.status.busy": "2021-12-19T16:00:04.483998Z",
     "iopub.status.idle": "2021-12-19T16:00:04.488095Z",
     "shell.execute_reply": "2021-12-19T16:00:04.487715Z"
    }
   },
   "outputs": [
    {
     "data": {
      "text/html": [
       "Amplicon(1313)"
      ],
      "text/plain": [
       "Amplicon(1313)"
      ]
     },
     "execution_count": 7,
     "metadata": {},
     "output_type": "execute_result"
    }
   ],
   "source": [
    "prod = pcr(A_His3,D_His3,HIS3_locus)\n",
    "prod"
   ]
  },
  {
   "cell_type": "code",
   "execution_count": 8,
   "metadata": {
    "execution": {
     "iopub.execute_input": "2021-12-19T16:00:04.491441Z",
     "iopub.status.busy": "2021-12-19T16:00:04.489996Z",
     "iopub.status.idle": "2021-12-19T16:00:04.494166Z",
     "shell.execute_reply": "2021-12-19T16:00:04.494654Z"
    }
   },
   "outputs": [
    {
     "data": {
      "text/plain": [
       "PSFOlU_oZzC7GPph7lur9_I7m8Q"
      ]
     },
     "execution_count": 8,
     "metadata": {},
     "output_type": "execute_result"
    }
   ],
   "source": [
    "prod.seguid()"
   ]
  },
  {
   "cell_type": "code",
   "execution_count": 9,
   "metadata": {
    "execution": {
     "iopub.execute_input": "2021-12-19T16:00:04.498862Z",
     "iopub.status.busy": "2021-12-19T16:00:04.498131Z",
     "iopub.status.idle": "2021-12-19T16:00:04.500780Z",
     "shell.execute_reply": "2021-12-19T16:00:04.501362Z"
    }
   },
   "outputs": [],
   "source": [
    "(alpha_His3,\n",
    "  beta_His3 ) = parse_primers('''\n",
    "\n",
    ">1133_alpha-HIS3\n",
    "ttgctgtgggaaaaacttatcgaa\n",
    "\n",
    ">1132_beta-HIS3\n",
    "Cgttgatgcttaaattttgcacttg\n",
    "''')"
   ]
  },
  {
   "cell_type": "code",
   "execution_count": 10,
   "metadata": {
    "execution": {
     "iopub.execute_input": "2021-12-19T16:00:04.509610Z",
     "iopub.status.busy": "2021-12-19T16:00:04.508681Z",
     "iopub.status.idle": "2021-12-19T16:00:04.510812Z",
     "shell.execute_reply": "2021-12-19T16:00:04.511317Z"
    }
   },
   "outputs": [],
   "source": [
    "ampl = pcr(alpha_His3, beta_His3, HIS3_locus)"
   ]
  },
  {
   "cell_type": "code",
   "execution_count": 11,
   "metadata": {
    "execution": {
     "iopub.execute_input": "2021-12-19T16:00:04.516085Z",
     "iopub.status.busy": "2021-12-19T16:00:04.515363Z",
     "iopub.status.idle": "2021-12-19T16:00:04.518229Z",
     "shell.execute_reply": "2021-12-19T16:00:04.518705Z"
    }
   },
   "outputs": [
    {
     "data": {
      "text/html": [
       "Amplicon(1368)"
      ],
      "text/plain": [
       "Amplicon(1368)"
      ]
     },
     "execution_count": 11,
     "metadata": {},
     "output_type": "execute_result"
    }
   ],
   "source": [
    "ampl"
   ]
  },
  {
   "cell_type": "code",
   "execution_count": 12,
   "metadata": {
    "execution": {
     "iopub.execute_input": "2021-12-19T16:00:04.523061Z",
     "iopub.status.busy": "2021-12-19T16:00:04.522374Z",
     "iopub.status.idle": "2021-12-19T16:00:04.525120Z",
     "shell.execute_reply": "2021-12-19T16:00:04.525565Z"
    }
   },
   "outputs": [
    {
     "data": {
      "text/plain": [
       "ltsuNc3ojlE52EMjR2MCmbTrYrE"
      ]
     },
     "execution_count": 12,
     "metadata": {},
     "output_type": "execute_result"
    }
   ],
   "source": [
    "ampl.seguid()"
   ]
  },
  {
   "cell_type": "code",
   "execution_count": 13,
   "metadata": {
    "execution": {
     "iopub.execute_input": "2021-12-19T16:00:04.531805Z",
     "iopub.status.busy": "2021-12-19T16:00:04.530783Z",
     "iopub.status.idle": "2021-12-19T16:00:04.534818Z",
     "shell.execute_reply": "2021-12-19T16:00:04.534260Z"
    }
   },
   "outputs": [
    {
     "data": {
      "text/plain": [
       "|95°C|95°C               |    |tmf:63.0\n",
       "|____|_____          72°C|72°C|tmr:60.8\n",
       "|3min|30s  \\ 57.0°C _____|____|45s/kb\n",
       "|    |      \\______/ 1:01|5min|GC 42%\n",
       "|    |       30s         |    |1368bp"
      ]
     },
     "execution_count": 13,
     "metadata": {},
     "output_type": "execute_result"
    }
   ],
   "source": [
    "ampl.program()"
   ]
  },
  {
   "cell_type": "code",
   "execution_count": 14,
   "metadata": {
    "execution": {
     "iopub.execute_input": "2021-12-19T16:00:04.541726Z",
     "iopub.status.busy": "2021-12-19T16:00:04.541177Z",
     "iopub.status.idle": "2021-12-19T16:00:04.543520Z",
     "shell.execute_reply": "2021-12-19T16:00:04.543879Z"
    }
   },
   "outputs": [
    {
     "data": {
      "text/html": [
       "Amplicon(1313)"
      ],
      "text/plain": [
       "Amplicon(1313)"
      ]
     },
     "execution_count": 14,
     "metadata": {},
     "output_type": "execute_result"
    }
   ],
   "source": [
    "pcr(A_His3, D_His3, ampl)"
   ]
  }
 ],
 "metadata": {
  "kernelspec": {
   "display_name": "Python [conda env:bjorn38]",
   "language": "python",
   "name": "conda-env-bjorn38-py"
  },
  "language_info": {
   "codemirror_mode": {
    "name": "ipython",
    "version": 3
   },
   "file_extension": ".py",
   "mimetype": "text/x-python",
   "name": "python",
   "nbconvert_exporter": "python",
   "pygments_lexer": "ipython3",
   "version": "3.9.7"
  }
 },
 "nbformat": 4,
 "nbformat_minor": 4
}
