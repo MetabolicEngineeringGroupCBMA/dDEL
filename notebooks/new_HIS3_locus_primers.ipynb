{
 "cells": [
  {
   "cell_type": "code",
   "execution_count": 1,
   "metadata": {
    "execution": {
     "iopub.execute_input": "2021-09-25T17:37:48.471975Z",
     "iopub.status.busy": "2021-09-25T17:37:48.471229Z",
     "iopub.status.idle": "2021-09-25T17:37:49.137667Z",
     "shell.execute_reply": "2021-09-25T17:37:49.137160Z"
    }
   },
   "outputs": [],
   "source": [
    "from pygenome import saccharomyces_cerevisiae as sg"
   ]
  },
  {
   "cell_type": "code",
   "execution_count": 2,
   "metadata": {
    "execution": {
     "iopub.execute_input": "2021-09-25T17:37:49.143888Z",
     "iopub.status.busy": "2021-09-25T17:37:49.143270Z",
     "iopub.status.idle": "2021-09-25T17:37:49.166508Z",
     "shell.execute_reply": "2021-09-25T17:37:49.166910Z"
    }
   },
   "outputs": [],
   "source": [
    "from pydna.all import *"
   ]
  },
  {
   "cell_type": "code",
   "execution_count": 3,
   "metadata": {
    "execution": {
     "iopub.execute_input": "2021-09-25T17:37:49.170685Z",
     "iopub.status.busy": "2021-09-25T17:37:49.170125Z",
     "iopub.status.idle": "2021-09-25T17:37:49.323464Z",
     "shell.execute_reply": "2021-09-25T17:37:49.322814Z"
    }
   },
   "outputs": [],
   "source": [
    "HIS3_locus = Dseqrecord( sg.stdgenes[\"HIS3\"].locus() )"
   ]
  },
  {
   "cell_type": "code",
   "execution_count": 4,
   "metadata": {
    "execution": {
     "iopub.execute_input": "2021-09-25T17:37:49.338165Z",
     "iopub.status.busy": "2021-09-25T17:37:49.334095Z",
     "iopub.status.idle": "2021-09-25T17:37:49.473767Z",
     "shell.execute_reply": "2021-09-25T17:37:49.474100Z"
    }
   },
   "outputs": [],
   "source": [
    "HIS3_promoter = Dseqrecord( sg.stdgenes[\"HIS3\"].promoter() )"
   ]
  },
  {
   "cell_type": "code",
   "execution_count": 5,
   "metadata": {
    "execution": {
     "iopub.execute_input": "2021-09-25T17:37:49.483449Z",
     "iopub.status.busy": "2021-09-25T17:37:49.479990Z",
     "iopub.status.idle": "2021-09-25T17:37:49.694977Z",
     "shell.execute_reply": "2021-09-25T17:37:49.694354Z"
    }
   },
   "outputs": [],
   "source": [
    "HIS3_terminator = Dseqrecord( sg.stdgenes[\"HIS3\"].terminator() )"
   ]
  },
  {
   "cell_type": "markdown",
   "metadata": {},
   "source": [
    "The HIS3_locus sequence contain the whole HIS3 locus including promoter and terminator."
   ]
  },
  {
   "cell_type": "code",
   "execution_count": 6,
   "metadata": {
    "execution": {
     "iopub.execute_input": "2021-09-25T17:37:49.698802Z",
     "iopub.status.busy": "2021-09-25T17:37:49.698371Z",
     "iopub.status.idle": "2021-09-25T17:37:49.700085Z",
     "shell.execute_reply": "2021-09-25T17:37:49.700422Z"
    }
   },
   "outputs": [],
   "source": [
    "A_His3, D_His3 = parse_primers('''\n",
    ">1044_A-HIS3 (25-mer)\n",
    "TGACGACTTTTTCTTAATTCTCGTT\n",
    ">1043_D-HIS3 (25-mer)\n",
    "GCTCAGTTCAGCCATAATATGAAAT''')"
   ]
  },
  {
   "cell_type": "code",
   "execution_count": 7,
   "metadata": {
    "execution": {
     "iopub.execute_input": "2021-09-25T17:37:49.713023Z",
     "iopub.status.busy": "2021-09-25T17:37:49.712554Z",
     "iopub.status.idle": "2021-09-25T17:37:49.714904Z",
     "shell.execute_reply": "2021-09-25T17:37:49.715312Z"
    }
   },
   "outputs": [
    {
     "data": {
      "text/html": [
       "Amplicon(1313)"
      ],
      "text/plain": [
       "Amplicon(1313)"
      ]
     },
     "execution_count": 7,
     "metadata": {},
     "output_type": "execute_result"
    }
   ],
   "source": [
    "prod = pcr(A_His3,D_His3,HIS3_locus)\n",
    "prod"
   ]
  },
  {
   "cell_type": "code",
   "execution_count": 8,
   "metadata": {
    "execution": {
     "iopub.execute_input": "2021-09-25T17:37:49.719043Z",
     "iopub.status.busy": "2021-09-25T17:37:49.718423Z",
     "iopub.status.idle": "2021-09-25T17:37:49.721429Z",
     "shell.execute_reply": "2021-09-25T17:37:49.721888Z"
    }
   },
   "outputs": [
    {
     "data": {
      "text/plain": [
       "PSFOlU_oZzC7GPph7lur9_I7m8Q"
      ]
     },
     "execution_count": 8,
     "metadata": {},
     "output_type": "execute_result"
    }
   ],
   "source": [
    "prod.seguid()"
   ]
  },
  {
   "cell_type": "code",
   "execution_count": 9,
   "metadata": {
    "execution": {
     "iopub.execute_input": "2021-09-25T17:37:49.726645Z",
     "iopub.status.busy": "2021-09-25T17:37:49.726010Z",
     "iopub.status.idle": "2021-09-25T17:37:49.728263Z",
     "shell.execute_reply": "2021-09-25T17:37:49.728831Z"
    }
   },
   "outputs": [],
   "source": [
    "(alpha_His3,\n",
    "  beta_His3 ) = parse_primers('''\n",
    "\n",
    ">1133_alpha-HIS3\n",
    "ttgctgtgggaaaaacttatcgaa\n",
    "\n",
    ">1132_beta-HIS3\n",
    "Cgttgatgcttaaattttgcacttg\n",
    "''')"
   ]
  },
  {
   "cell_type": "code",
   "execution_count": 10,
   "metadata": {
    "execution": {
     "iopub.execute_input": "2021-09-25T17:37:49.736833Z",
     "iopub.status.busy": "2021-09-25T17:37:49.735808Z",
     "iopub.status.idle": "2021-09-25T17:37:49.738168Z",
     "shell.execute_reply": "2021-09-25T17:37:49.738718Z"
    }
   },
   "outputs": [],
   "source": [
    "ampl = pcr(alpha_His3, beta_His3, HIS3_locus)"
   ]
  },
  {
   "cell_type": "code",
   "execution_count": 11,
   "metadata": {
    "execution": {
     "iopub.execute_input": "2021-09-25T17:37:49.743910Z",
     "iopub.status.busy": "2021-09-25T17:37:49.743173Z",
     "iopub.status.idle": "2021-09-25T17:37:49.746548Z",
     "shell.execute_reply": "2021-09-25T17:37:49.746065Z"
    }
   },
   "outputs": [
    {
     "data": {
      "text/html": [
       "Amplicon(1368)"
      ],
      "text/plain": [
       "Amplicon(1368)"
      ]
     },
     "execution_count": 11,
     "metadata": {},
     "output_type": "execute_result"
    }
   ],
   "source": [
    "ampl"
   ]
  },
  {
   "cell_type": "code",
   "execution_count": 12,
   "metadata": {
    "execution": {
     "iopub.execute_input": "2021-09-25T17:37:49.751201Z",
     "iopub.status.busy": "2021-09-25T17:37:49.750504Z",
     "iopub.status.idle": "2021-09-25T17:37:49.753499Z",
     "shell.execute_reply": "2021-09-25T17:37:49.754042Z"
    }
   },
   "outputs": [
    {
     "data": {
      "text/plain": [
       "ltsuNc3ojlE52EMjR2MCmbTrYrE"
      ]
     },
     "execution_count": 12,
     "metadata": {},
     "output_type": "execute_result"
    }
   ],
   "source": [
    "ampl.seguid()"
   ]
  },
  {
   "cell_type": "code",
   "execution_count": 13,
   "metadata": {
    "execution": {
     "iopub.execute_input": "2021-09-25T17:37:49.760225Z",
     "iopub.status.busy": "2021-09-25T17:37:49.759490Z",
     "iopub.status.idle": "2021-09-25T17:37:49.762510Z",
     "shell.execute_reply": "2021-09-25T17:37:49.763029Z"
    }
   },
   "outputs": [
    {
     "data": {
      "text/plain": [
       "|95°C|95°C               |    |tmf:63.0\n",
       "|____|_____          72°C|72°C|tmr:60.8\n",
       "|3min|30s  \\ 57.0°C _____|____|45s/kb\n",
       "|    |      \\______/ 1:10|5min|GC 42%\n",
       "|    |       30s         |    |1368bp"
      ]
     },
     "execution_count": 13,
     "metadata": {},
     "output_type": "execute_result"
    }
   ],
   "source": [
    "ampl.program()"
   ]
  },
  {
   "cell_type": "code",
   "execution_count": 14,
   "metadata": {
    "execution": {
     "iopub.execute_input": "2021-09-25T17:37:49.770887Z",
     "iopub.status.busy": "2021-09-25T17:37:49.770201Z",
     "iopub.status.idle": "2021-09-25T17:37:49.773031Z",
     "shell.execute_reply": "2021-09-25T17:37:49.772627Z"
    }
   },
   "outputs": [
    {
     "data": {
      "text/html": [
       "Amplicon(1313)"
      ],
      "text/plain": [
       "Amplicon(1313)"
      ]
     },
     "execution_count": 14,
     "metadata": {},
     "output_type": "execute_result"
    }
   ],
   "source": [
    "pcr(A_His3, D_His3, ampl)"
   ]
  }
 ],
 "metadata": {
  "kernelspec": {
   "display_name": "Python [conda env:bjorn38]",
   "language": "python",
   "name": "conda-env-bjorn38-py"
  },
  "language_info": {
   "codemirror_mode": {
    "name": "ipython",
    "version": 3
   },
   "file_extension": ".py",
   "mimetype": "text/x-python",
   "name": "python",
   "nbconvert_exporter": "python",
   "pygments_lexer": "ipython3",
   "version": "3.9.7"
  }
 },
 "nbformat": 4,
 "nbformat_minor": 4
}
