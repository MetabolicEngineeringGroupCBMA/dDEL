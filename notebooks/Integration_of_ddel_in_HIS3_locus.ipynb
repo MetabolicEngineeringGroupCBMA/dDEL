{
 "cells": [
  {
   "cell_type": "markdown",
   "metadata": {},
   "source": [
    "# Integration of ddel cassette in the _Saccharomyces cerevisiae_ HIS3 locus\n",
    "\n",
    "The plasmid pPS1 was used as PCR template to integrate the ddel cassette in the HIS3 locus. The HIS3 locus was chosen since this is also the location of the del construct in RS112 and derivatives.\n",
    "\n",
    "The resulting strain should be G418R his3 LEU2 and HygS. After recombination in the ddel cassete, the cells will be G418S his3 eu2 and HygR. The cassette will be amplified in such a way that the 2µ and URA3 sequences were not included."
   ]
  },
  {
   "cell_type": "code",
   "execution_count": 1,
   "metadata": {
    "execution": {
     "iopub.execute_input": "2021-09-25T17:37:44.042577Z",
     "iopub.status.busy": "2021-09-25T17:37:44.037878Z",
     "iopub.status.idle": "2021-09-25T17:37:44.696069Z",
     "shell.execute_reply": "2021-09-25T17:37:44.695435Z"
    }
   },
   "outputs": [],
   "source": [
    "from pygenome import saccharomyces_cerevisiae as sg"
   ]
  },
  {
   "cell_type": "code",
   "execution_count": 2,
   "metadata": {
    "execution": {
     "iopub.execute_input": "2021-09-25T17:37:44.702427Z",
     "iopub.status.busy": "2021-09-25T17:37:44.701725Z",
     "iopub.status.idle": "2021-09-25T17:37:44.723338Z",
     "shell.execute_reply": "2021-09-25T17:37:44.722834Z"
    }
   },
   "outputs": [],
   "source": [
    "from pydna.all import *"
   ]
  },
  {
   "cell_type": "code",
   "execution_count": 3,
   "metadata": {
    "execution": {
     "iopub.execute_input": "2021-09-25T17:37:44.741877Z",
     "iopub.status.busy": "2021-09-25T17:37:44.739692Z",
     "iopub.status.idle": "2021-09-25T17:37:44.880337Z",
     "shell.execute_reply": "2021-09-25T17:37:44.880748Z"
    }
   },
   "outputs": [],
   "source": [
    "HIS3_locus = Dseqrecord( sg.stdgenes[\"HIS3\"].locus() )"
   ]
  },
  {
   "cell_type": "markdown",
   "metadata": {},
   "source": [
    "The HIS3_locus sequence contain the whole HIS3 locus including promoter and terminator."
   ]
  },
  {
   "cell_type": "code",
   "execution_count": 4,
   "metadata": {
    "execution": {
     "iopub.execute_input": "2021-09-25T17:37:44.885850Z",
     "iopub.status.busy": "2021-09-25T17:37:44.885228Z",
     "iopub.status.idle": "2021-09-25T17:37:44.890674Z",
     "shell.execute_reply": "2021-09-25T17:37:44.890116Z"
    }
   },
   "outputs": [
    {
     "data": {
      "text/html": [
       "<font face=monospace><a href='HIS3_locus.gb' target='_blank'>HIS3_locus.gb</a></font><br>"
      ]
     },
     "metadata": {},
     "output_type": "display_data"
    }
   ],
   "source": [
    "HIS3_locus.write(\"HIS3_locus.gb\")"
   ]
  },
  {
   "cell_type": "markdown",
   "metadata": {},
   "source": [
    "Two primers Fw_TEF_His3 and Rv_TEF_His3 were designed for the integration of the cassette into the HIS3 locus. The other primers below were used to confirm the integrity and location of the plasmid or to produce overlapping segments of the cassette."
   ]
  },
  {
   "cell_type": "code",
   "execution_count": 5,
   "metadata": {
    "execution": {
     "iopub.execute_input": "2021-09-25T17:37:44.898968Z",
     "iopub.status.busy": "2021-09-25T17:37:44.897990Z",
     "iopub.status.idle": "2021-09-25T17:37:44.900516Z",
     "shell.execute_reply": "2021-09-25T17:37:44.900076Z"
    }
   },
   "outputs": [],
   "source": [
    "(Fw_TEF_His3, \n",
    " Rv_TEF_His3,\n",
    " A_His3,\n",
    " D_His3,\n",
    " Fw_FlankingTEFp5,\n",
    " Rv_His3d3,\n",
    " Rv_flankingHis3d3, \n",
    " p196,\n",
    " p195,\n",
    " dda11_Kl_tr_f,\n",
    " dda12_Kl_tr_r ) = parse('''\n",
    "\n",
    ">Fw_TEF-His3\n",
    "AATATACTAAAAAATGAGCAGGCAAGATAAACGAAGGCAAAGATGtcacccggccagcgacatgg\n",
    ">Rv_TEF-His3\n",
    "TGTATATATATCGTATGCTGCAGCTTTAAATAATCGGTGTCACTAggcggcgttagtatcgaatcgacag\n",
    "\n",
    ">A-His3\n",
    "TGACGACTTTTTCTTAATTCTCGTT \n",
    ">D-His3\n",
    "GCTCAGTTCAGCCATAATATGAAAT\n",
    "\n",
    ">Fw_FlankingTEFp5\n",
    "actcttggcctcctctagtacactc\n",
    ">Rv_His3d3\n",
    "gggcctctttaaaagcttgaccg\n",
    ">Rv_flankingHis3d3\n",
    "cttgcatgtcaagatatatgggacg\n",
    "\n",
    ">196_pMEC_MX4_fwd (19-mer)\n",
    "acttttcggggaaatgtgc\n",
    ">195_pMEC_MX4_rev (20-mer)\n",
    "ataataccgcgccacatagc\n",
    "\n",
    ">dda11_Kl_tr_f\n",
    "CGATGAGTTTTTCTAAGTTTAACTTGATACTACTAGATTT\n",
    ">dda12_Kl_tr_r\n",
    "GGCCAGTGAATTCGAGCTCGGTACCCTTAGTATTAGTAAATTTGTTGACA\n",
    "''')\n"
   ]
  },
  {
   "cell_type": "code",
   "execution_count": 6,
   "metadata": {
    "execution": {
     "iopub.execute_input": "2021-09-25T17:37:44.909109Z",
     "iopub.status.busy": "2021-09-25T17:37:44.908648Z",
     "iopub.status.idle": "2021-09-25T17:37:44.910902Z",
     "shell.execute_reply": "2021-09-25T17:37:44.910457Z"
    }
   },
   "outputs": [],
   "source": [
    "pPS1 = read(\"pPS1.gb\")"
   ]
  },
  {
   "cell_type": "markdown",
   "metadata": {},
   "source": [
    "The cassette was amplified as three overlapping PCR products since PCR of the entire cassette gave low yields. "
   ]
  },
  {
   "cell_type": "code",
   "execution_count": 7,
   "metadata": {
    "execution": {
     "iopub.execute_input": "2021-09-25T17:37:44.951496Z",
     "iopub.status.busy": "2021-09-25T17:37:44.931180Z",
     "iopub.status.idle": "2021-09-25T17:37:44.954343Z",
     "shell.execute_reply": "2021-09-25T17:37:44.953943Z"
    }
   },
   "outputs": [
    {
     "data": {
      "text/plain": [
       "(Amplicon(2694), Amplicon(2884), Amplicon(3247))"
      ]
     },
     "execution_count": 7,
     "metadata": {},
     "output_type": "execute_result"
    }
   ],
   "source": [
    "first_fragment  = pcr(Fw_TEF_His3, dda12_Kl_tr_r, pPS1)\n",
    "second_fragment = pcr(dda11_Kl_tr_f, p195, pPS1)\n",
    "third_fragment  = pcr(p196, Rv_TEF_His3 , pPS1)\n",
    "\n",
    "(first_fragment, second_fragment, third_fragment)"
   ]
  },
  {
   "cell_type": "code",
   "execution_count": 8,
   "metadata": {
    "execution": {
     "iopub.execute_input": "2021-09-25T17:37:44.958680Z",
     "iopub.status.busy": "2021-09-25T17:37:44.957732Z",
     "iopub.status.idle": "2021-09-25T17:37:44.960912Z",
     "shell.execute_reply": "2021-09-25T17:37:44.960213Z"
    }
   },
   "outputs": [],
   "source": [
    "first_fragment.name   = \"first_fragment\"\n",
    "second_fragment.name  = \"second_fragment\"\n",
    "third_fragment.name   = \"third_fragment\""
   ]
  },
  {
   "cell_type": "markdown",
   "metadata": {},
   "source": [
    "The integration of the cassette is simulated below. The recipient strains were RS112 and CEN.PK "
   ]
  },
  {
   "cell_type": "code",
   "execution_count": 9,
   "metadata": {
    "execution": {
     "iopub.execute_input": "2021-09-25T17:37:45.024726Z",
     "iopub.status.busy": "2021-09-25T17:37:44.983911Z",
     "iopub.status.idle": "2021-09-25T17:37:45.841083Z",
     "shell.execute_reply": "2021-09-25T17:37:45.840583Z"
    }
   },
   "outputs": [],
   "source": [
    "asm = Assembly((HIS3_locus, first_fragment, second_fragment, third_fragment, HIS3_locus))"
   ]
  },
  {
   "cell_type": "code",
   "execution_count": 10,
   "metadata": {
    "execution": {
     "iopub.execute_input": "2021-09-25T17:37:45.845213Z",
     "iopub.status.busy": "2021-09-25T17:37:45.844588Z",
     "iopub.status.idle": "2021-09-25T17:37:45.847499Z",
     "shell.execute_reply": "2021-09-25T17:37:45.847943Z"
    }
   },
   "outputs": [
    {
     "data": {
      "text/plain": [
       "Assembly\n",
       "fragments..: 2663bp 2694bp 2884bp 3247bp 2663bp\n",
       "limit(bp)..: 25\n",
       "G.nodes....: 10\n",
       "algorithm..: common_sub_strings"
      ]
     },
     "execution_count": 10,
     "metadata": {},
     "output_type": "execute_result"
    }
   ],
   "source": [
    "asm"
   ]
  },
  {
   "cell_type": "code",
   "execution_count": 11,
   "metadata": {
    "execution": {
     "iopub.execute_input": "2021-09-25T17:37:45.861220Z",
     "iopub.status.busy": "2021-09-25T17:37:45.860738Z",
     "iopub.status.idle": "2021-09-25T17:37:45.863156Z",
     "shell.execute_reply": "2021-09-25T17:37:45.863572Z"
    }
   },
   "outputs": [
    {
     "data": {
      "text/plain": [
       "BK006948|45\n",
       "         \\/\n",
       "         /\\\n",
       "         45|first_fragment|442\n",
       "                           \\/\n",
       "                           /\\\n",
       "                           442|second_fragment|361\n",
       "                                               \\/\n",
       "                                               /\\\n",
       "                                               361|third_fragment|45\n",
       "                                                                  \\/\n",
       "                                                                  /\\\n",
       "                                                                  45|BK006948"
      ]
     },
     "execution_count": 11,
     "metadata": {},
     "output_type": "execute_result"
    }
   ],
   "source": [
    "asm.assemble_linear()[0].figure()"
   ]
  },
  {
   "cell_type": "markdown",
   "metadata": {},
   "source": [
    "The figure shows that the overlapping sequences recombine by a 442 bp sequence and a 361 bp sequence to form the cassette which integrates by two 45 bp sequences."
   ]
  },
  {
   "cell_type": "code",
   "execution_count": 12,
   "metadata": {
    "execution": {
     "iopub.execute_input": "2021-09-25T17:37:45.873086Z",
     "iopub.status.busy": "2021-09-25T17:37:45.872530Z",
     "iopub.status.idle": "2021-09-25T17:37:45.874366Z",
     "shell.execute_reply": "2021-09-25T17:37:45.874754Z"
    }
   },
   "outputs": [],
   "source": [
    "cassette_integrated_in_HIS3_locus = asm.assemble_linear()[0]"
   ]
  },
  {
   "cell_type": "code",
   "execution_count": 13,
   "metadata": {
    "execution": {
     "iopub.execute_input": "2021-09-25T17:37:45.878271Z",
     "iopub.status.busy": "2021-09-25T17:37:45.877636Z",
     "iopub.status.idle": "2021-09-25T17:37:45.891715Z",
     "shell.execute_reply": "2021-09-25T17:37:45.891197Z"
    }
   },
   "outputs": [
    {
     "data": {
      "text/html": [
       "<font face=monospace><a href='cassette_integrated_in_HIS3_locus.gb' target='_blank'>cassette_integrated_in_HIS3_locus.gb</a></font><br>"
      ]
     },
     "metadata": {},
     "output_type": "display_data"
    }
   ],
   "source": [
    "cassette_integrated_in_HIS3_locus.write(\"cassette_integrated_in_HIS3_locus.gb\")"
   ]
  },
  {
   "cell_type": "code",
   "execution_count": 14,
   "metadata": {
    "execution": {
     "iopub.execute_input": "2021-09-25T17:37:45.895592Z",
     "iopub.status.busy": "2021-09-25T17:37:45.895006Z",
     "iopub.status.idle": "2021-09-25T17:37:45.897338Z",
     "shell.execute_reply": "2021-09-25T17:37:45.897717Z"
    }
   },
   "outputs": [
    {
     "data": {
      "text/plain": [
       "Dseq(-9938)\n",
       "TATT..CTCC\n",
       "ATAA..GAGG"
      ]
     },
     "execution_count": 14,
     "metadata": {},
     "output_type": "execute_result"
    }
   ],
   "source": [
    "cassette_integrated_in_HIS3_locus.seq"
   ]
  },
  {
   "cell_type": "markdown",
   "metadata": {},
   "source": [
    "The cassette integrated in the HIS3 locus is 9938 bp long. A DNA double stranded break somewhere between the repeated sequences can stimulate recombination so that the hygromycing marker is reacticated. Below we use the XbaI restriction enzyme to simulate this break. The enzyme cuts inside the cassette once in the YIplac128 derived sequence."
   ]
  },
  {
   "cell_type": "code",
   "execution_count": 15,
   "metadata": {
    "execution": {
     "iopub.execute_input": "2021-09-25T17:37:45.901518Z",
     "iopub.status.busy": "2021-09-25T17:37:45.900766Z",
     "iopub.status.idle": "2021-09-25T17:37:45.903960Z",
     "shell.execute_reply": "2021-09-25T17:37:45.903325Z"
    }
   },
   "outputs": [],
   "source": [
    "from Bio.Restriction import XbaI"
   ]
  },
  {
   "cell_type": "code",
   "execution_count": 16,
   "metadata": {
    "execution": {
     "iopub.execute_input": "2021-09-25T17:37:45.911553Z",
     "iopub.status.busy": "2021-09-25T17:37:45.910811Z",
     "iopub.status.idle": "2021-09-25T17:37:45.912722Z",
     "shell.execute_reply": "2021-09-25T17:37:45.913170Z"
    }
   },
   "outputs": [],
   "source": [
    "first_fragment, second_fragment = cassette_integrated_in_HIS3_locus.cut(XbaI)"
   ]
  },
  {
   "cell_type": "code",
   "execution_count": 17,
   "metadata": {
    "execution": {
     "iopub.execute_input": "2021-09-25T17:37:45.917471Z",
     "iopub.status.busy": "2021-09-25T17:37:45.916726Z",
     "iopub.status.idle": "2021-09-25T17:37:45.920276Z",
     "shell.execute_reply": "2021-09-25T17:37:45.919810Z"
    }
   },
   "outputs": [
    {
     "data": {
      "text/plain": [
       "(Dseqrecord(-7919), Dseqrecord(-2023))"
      ]
     },
     "execution_count": 17,
     "metadata": {},
     "output_type": "execute_result"
    }
   ],
   "source": [
    "first_fragment, second_fragment"
   ]
  },
  {
   "cell_type": "code",
   "execution_count": 18,
   "metadata": {
    "execution": {
     "iopub.execute_input": "2021-09-25T17:37:45.925449Z",
     "iopub.status.busy": "2021-09-25T17:37:45.924608Z",
     "iopub.status.idle": "2021-09-25T17:37:45.927725Z",
     "shell.execute_reply": "2021-09-25T17:37:45.927006Z"
    }
   },
   "outputs": [],
   "source": [
    "first_fragment.name  = \"first_fragment\"\n",
    "second_fragment.name = \"second_fragment\""
   ]
  },
  {
   "cell_type": "code",
   "execution_count": 19,
   "metadata": {
    "execution": {
     "iopub.execute_input": "2021-09-25T17:37:45.966778Z",
     "iopub.status.busy": "2021-09-25T17:37:45.966154Z",
     "iopub.status.idle": "2021-09-25T17:37:46.119208Z",
     "shell.execute_reply": "2021-09-25T17:37:46.118676Z"
    }
   },
   "outputs": [],
   "source": [
    "asm = Assembly((first_fragment, second_fragment))"
   ]
  },
  {
   "cell_type": "code",
   "execution_count": 20,
   "metadata": {
    "execution": {
     "iopub.execute_input": "2021-09-25T17:37:46.126419Z",
     "iopub.status.busy": "2021-09-25T17:37:46.124952Z",
     "iopub.status.idle": "2021-09-25T17:37:46.130309Z",
     "shell.execute_reply": "2021-09-25T17:37:46.130937Z"
    }
   },
   "outputs": [
    {
     "data": {
      "text/plain": [
       "first_fragment|400\n",
       "               \\/\n",
       "               /\\\n",
       "               400|second_fragment"
      ]
     },
     "execution_count": 20,
     "metadata": {},
     "output_type": "execute_result"
    }
   ],
   "source": [
    "asm.assemble_linear()[1].figure()"
   ]
  },
  {
   "cell_type": "markdown",
   "metadata": {},
   "source": [
    "The fragments recombine between two repeated sequences that are 400 bp long."
   ]
  },
  {
   "cell_type": "code",
   "execution_count": 21,
   "metadata": {
    "execution": {
     "iopub.execute_input": "2021-09-25T17:37:46.138046Z",
     "iopub.status.busy": "2021-09-25T17:37:46.137482Z",
     "iopub.status.idle": "2021-09-25T17:37:46.139198Z",
     "shell.execute_reply": "2021-09-25T17:37:46.139525Z"
    }
   },
   "outputs": [],
   "source": [
    "recombined_cassette = asm.assemble_linear()[1]"
   ]
  },
  {
   "cell_type": "code",
   "execution_count": 22,
   "metadata": {
    "execution": {
     "iopub.execute_input": "2021-09-25T17:37:46.143245Z",
     "iopub.status.busy": "2021-09-25T17:37:46.142781Z",
     "iopub.status.idle": "2021-09-25T17:37:46.145293Z",
     "shell.execute_reply": "2021-09-25T17:37:46.145888Z"
    }
   },
   "outputs": [
    {
     "data": {
      "text/plain": [
       "Dseq(-3620)\n",
       "TATT..CTCC\n",
       "ATAA..GAGG"
      ]
     },
     "execution_count": 22,
     "metadata": {},
     "output_type": "execute_result"
    }
   ],
   "source": [
    "recombined_cassette.seq"
   ]
  },
  {
   "cell_type": "markdown",
   "metadata": {},
   "source": [
    "The recombined cassette is 3620 bp long. The cassette should contain the hygromycing resistance open reading frame. We read hyg_cassette variable from a local file. "
   ]
  },
  {
   "cell_type": "code",
   "execution_count": 23,
   "metadata": {
    "execution": {
     "iopub.execute_input": "2021-09-25T17:37:46.150799Z",
     "iopub.status.busy": "2021-09-25T17:37:46.150059Z",
     "iopub.status.idle": "2021-09-25T17:37:46.155756Z",
     "shell.execute_reply": "2021-09-25T17:37:46.156520Z"
    }
   },
   "outputs": [],
   "source": [
    "hyg_cassette = read(\"hyg_cassette.gb\")"
   ]
  },
  {
   "cell_type": "code",
   "execution_count": 24,
   "metadata": {
    "execution": {
     "iopub.execute_input": "2021-09-25T17:37:46.165884Z",
     "iopub.status.busy": "2021-09-25T17:37:46.165336Z",
     "iopub.status.idle": "2021-09-25T17:37:46.167783Z",
     "shell.execute_reply": "2021-09-25T17:37:46.168106Z"
    }
   },
   "outputs": [
    {
     "data": {
      "text/markdown": [
       "| Ft# | Label or Note    | Dir | Sta  | End  |  Len | type         | orf? |\n",
       "|-----|------------------|-----|------|------|------|--------------|------|\n",
       "|   0 | L:TEF-PRO        | --> | 0    | 368  |  368 | misc_feature |  no  |\n",
       "|   1 | L:hygromycin B p | --> | 368  | 1397 | 1029 | CDS          | yes  |\n",
       "|   2 | L:TEF-TER        | --> | 1397 | 1637 |  240 | misc_feature |  no  |"
      ],
      "text/plain": [
       "+-----+------------------+-----+------+------+------+--------------+------+\n",
       "| Ft# | Label or Note    | Dir | Sta  | End  |  Len | type         | orf? |\n",
       "+-----+------------------+-----+------+------+------+--------------+------+\n",
       "|   0 | L:TEF-PRO        | --> | 0    | 368  |  368 | misc_feature |  no  |\n",
       "|   1 | L:hygromycin B p | --> | 368  | 1397 | 1029 | CDS          | yes  |\n",
       "|   2 | L:TEF-TER        | --> | 1397 | 1637 |  240 | misc_feature |  no  |\n",
       "+-----+------------------+-----+------+------+------+--------------+------+"
      ]
     },
     "execution_count": 24,
     "metadata": {},
     "output_type": "execute_result"
    }
   ],
   "source": [
    "hyg_cassette.list_features()"
   ]
  },
  {
   "cell_type": "markdown",
   "metadata": {},
   "source": [
    "The feature #1 is the hygromycin orf. "
   ]
  },
  {
   "cell_type": "code",
   "execution_count": 25,
   "metadata": {
    "execution": {
     "iopub.execute_input": "2021-09-25T17:37:46.171571Z",
     "iopub.status.busy": "2021-09-25T17:37:46.171144Z",
     "iopub.status.idle": "2021-09-25T17:37:46.172929Z",
     "shell.execute_reply": "2021-09-25T17:37:46.173278Z"
    }
   },
   "outputs": [],
   "source": [
    "hyg_orf = hyg_cassette.extract_feature(1)"
   ]
  },
  {
   "cell_type": "code",
   "execution_count": 26,
   "metadata": {
    "execution": {
     "iopub.execute_input": "2021-09-25T17:37:46.176964Z",
     "iopub.status.busy": "2021-09-25T17:37:46.176341Z",
     "iopub.status.idle": "2021-09-25T17:37:46.181514Z",
     "shell.execute_reply": "2021-09-25T17:37:46.180858Z"
    }
   },
   "outputs": [
    {
     "data": {
      "text/plain": [
       "Dseqrecord(-1029)"
      ]
     },
     "execution_count": 26,
     "metadata": {},
     "output_type": "execute_result"
    }
   ],
   "source": [
    "hyg_orf"
   ]
  },
  {
   "cell_type": "markdown",
   "metadata": {},
   "source": [
    "The hygromycin orf is present in the recombined cassette."
   ]
  },
  {
   "cell_type": "code",
   "execution_count": 27,
   "metadata": {
    "execution": {
     "iopub.execute_input": "2021-09-25T17:37:46.187190Z",
     "iopub.status.busy": "2021-09-25T17:37:46.186171Z",
     "iopub.status.idle": "2021-09-25T17:37:46.190190Z",
     "shell.execute_reply": "2021-09-25T17:37:46.189600Z"
    }
   },
   "outputs": [
    {
     "data": {
      "text/plain": [
       "True"
      ]
     },
     "execution_count": 27,
     "metadata": {},
     "output_type": "execute_result"
    }
   ],
   "source": [
    "str(hyg_orf.seq) in recombined_cassette"
   ]
  },
  {
   "cell_type": "markdown",
   "metadata": {},
   "source": [
    "From this analysis follows that the region where a double stranded break can expected to induce cassette recombination is the size of the integrated cassette (9938 bp) minus the size of the cassette after recombination (3620 bp) which is 6318 bp. "
   ]
  }
 ],
 "metadata": {
  "kernelspec": {
   "display_name": "Python [conda env:bjorn38]",
   "language": "python",
   "name": "conda-env-bjorn38-py"
  },
  "language_info": {
   "codemirror_mode": {
    "name": "ipython",
    "version": 3
   },
   "file_extension": ".py",
   "mimetype": "text/x-python",
   "name": "python",
   "nbconvert_exporter": "python",
   "pygments_lexer": "ipython3",
   "version": "3.9.7"
  }
 },
 "nbformat": 4,
 "nbformat_minor": 4
}
