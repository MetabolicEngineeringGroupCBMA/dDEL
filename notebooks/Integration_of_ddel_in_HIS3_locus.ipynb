{
 "cells": [
  {
   "cell_type": "markdown",
   "metadata": {},
   "source": [
    "# Integration of ddel cassette in the _Saccharomyces cerevisiae_ HIS3 locus\n",
    "\n",
    "The plasmid pPS1 was used as PCR template to integrate the ddel cassette in the HIS3 locus. The HIS3 locus was chosen since this is also the location of the del construct in RS112 and derivatives.\n",
    "\n",
    "The resulting strain should be G418R his3 LEU2 and HygS. After recombination in the ddel cassete, the cells will be G418S his3 eu2 and HygR. The cassette will be amplified in such a way that the 2µ and URA3 sequences were not included."
   ]
  },
  {
   "cell_type": "code",
   "execution_count": 1,
   "metadata": {
    "collapsed": true,
    "jupyter": {
     "outputs_hidden": true
    }
   },
   "outputs": [],
   "source": [
    "from pygenome import sg"
   ]
  },
  {
   "cell_type": "code",
   "execution_count": 2,
   "metadata": {
    "collapsed": true,
    "jupyter": {
     "outputs_hidden": true
    }
   },
   "outputs": [],
   "source": [
    "from pydna.all import *"
   ]
  },
  {
   "cell_type": "code",
   "execution_count": 3,
   "metadata": {
    "collapsed": true,
    "jupyter": {
     "outputs_hidden": true
    }
   },
   "outputs": [],
   "source": [
    "HIS3_locus = Dseqrecord( sg.stdgene[\"HIS3\"].locus() )"
   ]
  },
  {
   "cell_type": "markdown",
   "metadata": {},
   "source": [
    "The HIS3_locus sequence contain the whole HIS3 locus including promoter and terminator."
   ]
  },
  {
   "cell_type": "code",
   "execution_count": 4,
   "metadata": {},
   "outputs": [
    {
     "data": {
      "text/html": [
       "<font face=monospace><a href='HIS3_locus.gb' target='_blank'>HIS3_locus.gb</a></font><br>"
      ]
     },
     "metadata": {},
     "output_type": "display_data"
    }
   ],
   "source": [
    "HIS3_locus.write(\"HIS3_locus.gb\")"
   ]
  },
  {
   "cell_type": "markdown",
   "metadata": {},
   "source": [
    "Two primers Fw_TEF_His3 and Rv_TEF_His3 were designed for the integration of the cassette into the HIS3 locus. The other primers below were used to confirm the integrity and location of the plasmid or to produce overlapping segments of the cassette."
   ]
  },
  {
   "cell_type": "code",
   "execution_count": 5,
   "metadata": {
    "collapsed": true,
    "jupyter": {
     "outputs_hidden": true
    }
   },
   "outputs": [],
   "source": [
    "(Fw_TEF_His3, \n",
    " Rv_TEF_His3,\n",
    " A_His3,\n",
    " D_His3,\n",
    " Fw_FlankingTEFp5,\n",
    " Rv_His3d3,\n",
    " Rv_flankingHis3d3, \n",
    " p196,\n",
    " p195,\n",
    " dda11_Kl_tr_f,\n",
    " dda12_Kl_tr_r ) = parse('''\n",
    "\n",
    ">Fw_TEF-His3\n",
    "AATATACTAAAAAATGAGCAGGCAAGATAAACGAAGGCAAAGATGtcacccggccagcgacatgg\n",
    ">Rv_TEF-His3\n",
    "TGTATATATATCGTATGCTGCAGCTTTAAATAATCGGTGTCACTAggcggcgttagtatcgaatcgacag\n",
    "\n",
    ">A-His3\n",
    "TGACGACTTTTTCTTAATTCTCGTT \n",
    ">D-His3\n",
    "GCTCAGTTCAGCCATAATATGAAAT\n",
    "\n",
    ">Fw_FlankingTEFp5\n",
    "actcttggcctcctctagtacactc\n",
    ">Rv_His3d3\n",
    "gggcctctttaaaagcttgaccg\n",
    ">Rv_flankingHis3d3\n",
    "cttgcatgtcaagatatatgggacg\n",
    "\n",
    ">196_pMEC_MX4_fwd (19-mer)\n",
    "acttttcggggaaatgtgc\n",
    ">195_pMEC_MX4_rev (20-mer)\n",
    "ataataccgcgccacatagc\n",
    "\n",
    ">dda11_Kl_tr_f\n",
    "CGATGAGTTTTTCTAAGTTTAACTTGATACTACTAGATTT\n",
    ">dda12_Kl_tr_r\n",
    "GGCCAGTGAATTCGAGCTCGGTACCCTTAGTATTAGTAAATTTGTTGACA\n",
    "''')\n"
   ]
  },
  {
   "cell_type": "code",
   "execution_count": 6,
   "metadata": {
    "collapsed": true,
    "jupyter": {
     "outputs_hidden": true
    }
   },
   "outputs": [],
   "source": [
    "pPS1 = read(\"pPS1.gb\")"
   ]
  },
  {
   "cell_type": "markdown",
   "metadata": {},
   "source": [
    "The cassette was amplified as three overlapping PCR products since PCR of the entire cassette gave low yields. "
   ]
  },
  {
   "cell_type": "code",
   "execution_count": 7,
   "metadata": {},
   "outputs": [
    {
     "data": {
      "text/plain": [
       "(Amplicon(2694), Amplicon(2884), Amplicon(3247))"
      ]
     },
     "execution_count": 7,
     "metadata": {},
     "output_type": "execute_result"
    }
   ],
   "source": [
    "first_fragment  = pcr(Fw_TEF_His3, dda12_Kl_tr_r, pPS1)\n",
    "second_fragment = pcr(dda11_Kl_tr_f, p195, pPS1)\n",
    "third_fragment  = pcr(p196, Rv_TEF_His3 , pPS1)\n",
    "\n",
    "(first_fragment, second_fragment, third_fragment)"
   ]
  },
  {
   "cell_type": "code",
   "execution_count": 8,
   "metadata": {
    "collapsed": true,
    "jupyter": {
     "outputs_hidden": true
    }
   },
   "outputs": [],
   "source": [
    "first_fragment.name   = \"first_fragment\"\n",
    "second_fragment.name  = \"second_fragment\"\n",
    "third_fragment.name   = \"third_fragment\""
   ]
  },
  {
   "cell_type": "markdown",
   "metadata": {},
   "source": [
    "The integration of the cassette is simulated below. The recipient strains were RS112 and CEN.PK "
   ]
  },
  {
   "cell_type": "code",
   "execution_count": 9,
   "metadata": {
    "collapsed": true,
    "jupyter": {
     "outputs_hidden": true
    }
   },
   "outputs": [],
   "source": [
    "asm = Assembly((HIS3_locus, first_fragment, second_fragment, third_fragment, HIS3_locus))"
   ]
  },
  {
   "cell_type": "code",
   "execution_count": 10,
   "metadata": {},
   "outputs": [
    {
     "data": {
      "text/plain": [
       "Assembly\n",
       "fragments..: 2663bp 2694bp 2884bp 3247bp 2663bp\n",
       "limit(bp)..: 25\n",
       "G.nodes....: 10\n",
       "algorithm..: common_sub_strings"
      ]
     },
     "execution_count": 10,
     "metadata": {},
     "output_type": "execute_result"
    }
   ],
   "source": [
    "asm"
   ]
  },
  {
   "cell_type": "code",
   "execution_count": 11,
   "metadata": {},
   "outputs": [
    {
     "data": {
      "text/plain": [
       "BK006948|45\n",
       "         \\/\n",
       "         /\\\n",
       "         45|first_fragment|442\n",
       "                           \\/\n",
       "                           /\\\n",
       "                           442|second_fragment|361\n",
       "                                               \\/\n",
       "                                               /\\\n",
       "                                               361|third_fragment|45\n",
       "                                                                  \\/\n",
       "                                                                  /\\\n",
       "                                                                  45|BK006948"
      ]
     },
     "execution_count": 11,
     "metadata": {},
     "output_type": "execute_result"
    }
   ],
   "source": [
    "asm.assemble_linear()[0].figure()"
   ]
  },
  {
   "cell_type": "markdown",
   "metadata": {},
   "source": [
    "The figure shows that the overlapping sequences recombine by a 442 bp sequence and a 361 bp sequence to form the cassette which integrates by two 45 bp sequences."
   ]
  },
  {
   "cell_type": "code",
   "execution_count": 12,
   "metadata": {
    "collapsed": true,
    "jupyter": {
     "outputs_hidden": true
    }
   },
   "outputs": [],
   "source": [
    "cassette_integrated_in_HIS3_locus = asm.assemble_linear()[0]"
   ]
  },
  {
   "cell_type": "code",
   "execution_count": 13,
   "metadata": {},
   "outputs": [
    {
     "data": {
      "text/html": [
       "<font face=monospace><a href='cassette_integrated_in_HIS3_locus.gb' target='_blank'>cassette_integrated_in_HIS3_locus.gb</a></font><br>"
      ]
     },
     "metadata": {},
     "output_type": "display_data"
    }
   ],
   "source": [
    "cassette_integrated_in_HIS3_locus.write(\"cassette_integrated_in_HIS3_locus.gb\")"
   ]
  },
  {
   "cell_type": "code",
   "execution_count": 14,
   "metadata": {},
   "outputs": [
    {
     "data": {
      "text/plain": [
       "Dseq(-9938)\n",
       "TATT..CTCC\n",
       "ATAA..GAGG"
      ]
     },
     "execution_count": 14,
     "metadata": {},
     "output_type": "execute_result"
    }
   ],
   "source": [
    "cassette_integrated_in_HIS3_locus.seq"
   ]
  },
  {
   "cell_type": "markdown",
   "metadata": {},
   "source": [
    "The cassette integrated in the HIS3 locus is 9938 bp long. A DNA double stranded break somewhere between the repeated sequences can stimulate recombination so that the hygromycing marker is reacticated. Below we use the XbaI restriction enzyme to simulate this break. The enzyme cuts inside the cassette once in the YIplac128 derived sequence."
   ]
  },
  {
   "cell_type": "code",
   "execution_count": 15,
   "metadata": {
    "collapsed": true,
    "jupyter": {
     "outputs_hidden": true
    }
   },
   "outputs": [],
   "source": [
    "from Bio.Restriction import XbaI"
   ]
  },
  {
   "cell_type": "code",
   "execution_count": 16,
   "metadata": {
    "collapsed": true,
    "jupyter": {
     "outputs_hidden": true
    }
   },
   "outputs": [],
   "source": [
    "first_fragment, second_fragment = cassette_integrated_in_HIS3_locus.cut(XbaI)"
   ]
  },
  {
   "cell_type": "code",
   "execution_count": 17,
   "metadata": {},
   "outputs": [
    {
     "data": {
      "text/plain": [
       "(Dseqrecord(-7919), Dseqrecord(-2023))"
      ]
     },
     "execution_count": 17,
     "metadata": {},
     "output_type": "execute_result"
    }
   ],
   "source": [
    "first_fragment, second_fragment"
   ]
  },
  {
   "cell_type": "code",
   "execution_count": 18,
   "metadata": {
    "collapsed": true,
    "jupyter": {
     "outputs_hidden": true
    }
   },
   "outputs": [],
   "source": [
    "first_fragment.name  = \"first_fragment\"\n",
    "second_fragment.name = \"second_fragment\""
   ]
  },
  {
   "cell_type": "code",
   "execution_count": 19,
   "metadata": {
    "collapsed": true,
    "jupyter": {
     "outputs_hidden": true
    }
   },
   "outputs": [],
   "source": [
    "asm = Assembly((first_fragment, second_fragment))"
   ]
  },
  {
   "cell_type": "code",
   "execution_count": 20,
   "metadata": {},
   "outputs": [
    {
     "data": {
      "text/plain": [
       "first_fragment|400\n",
       "               \\/\n",
       "               /\\\n",
       "               400|second_fragment"
      ]
     },
     "execution_count": 20,
     "metadata": {},
     "output_type": "execute_result"
    }
   ],
   "source": [
    "asm.assemble_linear()[1].figure()"
   ]
  },
  {
   "cell_type": "markdown",
   "metadata": {},
   "source": [
    "The fragments recombine between two repeated sequences that are 400 bp long."
   ]
  },
  {
   "cell_type": "code",
   "execution_count": 21,
   "metadata": {
    "collapsed": true,
    "jupyter": {
     "outputs_hidden": true
    }
   },
   "outputs": [],
   "source": [
    "recombined_cassette = asm.assemble_linear()[1]"
   ]
  },
  {
   "cell_type": "code",
   "execution_count": 22,
   "metadata": {},
   "outputs": [
    {
     "data": {
      "text/plain": [
       "Dseq(-3620)\n",
       "TATT..CTCC\n",
       "ATAA..GAGG"
      ]
     },
     "execution_count": 22,
     "metadata": {},
     "output_type": "execute_result"
    }
   ],
   "source": [
    "recombined_cassette.seq"
   ]
  },
  {
   "cell_type": "markdown",
   "metadata": {},
   "source": [
    "The recombined cassette is 3620 bp long. The cassette should contain the hygromycing resistance open reading frame. We read hyg_cassette variable from a local file. "
   ]
  },
  {
   "cell_type": "code",
   "execution_count": 23,
   "metadata": {
    "collapsed": true,
    "jupyter": {
     "outputs_hidden": true
    }
   },
   "outputs": [],
   "source": [
    "hyg_cassette = read(\"hyg_cassette.gb\")"
   ]
  },
  {
   "cell_type": "code",
   "execution_count": 24,
   "metadata": {},
   "outputs": [
    {
     "data": {
      "text/plain": [
       "+-----+------------------+-----+------+------+------+--------------+------+\n",
       "| Ft# | Label or Note    | Dir | Sta  | End  |  Len | type         | orf? |\n",
       "+-----+------------------+-----+------+------+------+--------------+------+\n",
       "|   0 | L:TEF-PRO        | --> | 0    | 368  |  368 | misc_feature |  no  |\n",
       "|   1 | L:hygromycin B p | --> | 368  | 1397 | 1029 | CDS          | yes  |\n",
       "|   2 | L:TEF-TER        | --> | 1397 | 1637 |  240 | misc_feature |  no  |\n",
       "+-----+------------------+-----+------+------+------+--------------+------+"
      ]
     },
     "execution_count": 24,
     "metadata": {},
     "output_type": "execute_result"
    }
   ],
   "source": [
    "hyg_cassette.list_features()"
   ]
  },
  {
   "cell_type": "markdown",
   "metadata": {},
   "source": [
    "The feature #1 is the hygromycin orf. "
   ]
  },
  {
   "cell_type": "code",
   "execution_count": 25,
   "metadata": {
    "collapsed": true,
    "jupyter": {
     "outputs_hidden": true
    }
   },
   "outputs": [],
   "source": [
    "hyg_orf = hyg_cassette.extract_feature(1)"
   ]
  },
  {
   "cell_type": "code",
   "execution_count": 26,
   "metadata": {},
   "outputs": [
    {
     "data": {
      "text/plain": [
       "Dseqrecord(-1029)"
      ]
     },
     "execution_count": 26,
     "metadata": {},
     "output_type": "execute_result"
    }
   ],
   "source": [
    "hyg_orf"
   ]
  },
  {
   "cell_type": "markdown",
   "metadata": {},
   "source": [
    "The hygromycin orf is present in the recombined cassette."
   ]
  },
  {
   "cell_type": "code",
   "execution_count": 27,
   "metadata": {},
   "outputs": [
    {
     "data": {
      "text/plain": [
       "True"
      ]
     },
     "execution_count": 27,
     "metadata": {},
     "output_type": "execute_result"
    }
   ],
   "source": [
    "str(hyg_orf.seq) in recombined_cassette"
   ]
  },
  {
   "cell_type": "markdown",
   "metadata": {},
   "source": [
    "From this analysis follows that the region where a double stranded break can expected to induce cassette recombination is the size of the integrated cassette (9938 bp) minus the size of the cassette after recombination (3620 bp) which is 6318 bp. "
   ]
  }
 ],
 "metadata": {
  "kernelspec": {
   "display_name": "Python [conda env:bjorn37]",
   "language": "python",
   "name": "conda-env-bjorn37-py"
  },
  "language_info": {
   "codemirror_mode": {
    "name": "ipython",
    "version": 3
   },
   "file_extension": ".py",
   "mimetype": "text/x-python",
   "name": "python",
   "nbconvert_exporter": "python",
   "pygments_lexer": "ipython3",
<<<<<<< HEAD
   "version": "3.7.8"
=======
   "version": "3.8.5"
>>>>>>> ghaction
  }
 },
 "nbformat": 4,
 "nbformat_minor": 4
}
