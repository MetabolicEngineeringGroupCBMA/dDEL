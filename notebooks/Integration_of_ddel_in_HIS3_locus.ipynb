{
 "cells": [
  {
   "cell_type": "markdown",
   "metadata": {},
   "source": [
    "# Integration of ddel cassette in the _Saccharomyces cerevisiae_ HIS3 locus\n",
    "\n",
    "The plasmid pPS1 was used as PCR template to integrate the ddel cassette in the HIS3 locus. The HIS3 locus was chosen since this is also the location of the del construct in RS112 and derivatives.\n",
    "\n",
    "The resulting strain should be G418R his3 LEU2 and HygS. After recombination in the ddel cassete, the cells will be G418S his3 eu2 and HygR. The cassette will be amplified in such a way that the 2µ and URA3 sequences were not included."
   ]
  },
  {
   "cell_type": "code",
   "execution_count": 1,
   "metadata": {
    "execution": {
     "iopub.execute_input": "2021-12-19T15:59:55.811467Z",
     "iopub.status.busy": "2021-12-19T15:59:55.810766Z",
     "iopub.status.idle": "2021-12-19T16:00:00.042593Z",
     "shell.execute_reply": "2021-12-19T16:00:00.042131Z"
    }
   },
   "outputs": [],
   "source": [
    "from pygenome import saccharomyces_cerevisiae as sg"
   ]
  },
  {
   "cell_type": "code",
   "execution_count": 2,
   "metadata": {
    "execution": {
     "iopub.execute_input": "2021-12-19T16:00:00.048492Z",
     "iopub.status.busy": "2021-12-19T16:00:00.048040Z",
     "iopub.status.idle": "2021-12-19T16:00:00.075833Z",
     "shell.execute_reply": "2021-12-19T16:00:00.075401Z"
    }
   },
   "outputs": [],
   "source": [
    "from pydna.all import *"
   ]
  },
  {
   "cell_type": "code",
   "execution_count": 3,
   "metadata": {
    "execution": {
     "iopub.execute_input": "2021-12-19T16:00:00.080922Z",
     "iopub.status.busy": "2021-12-19T16:00:00.079899Z",
     "iopub.status.idle": "2021-12-19T16:00:00.268589Z",
     "shell.execute_reply": "2021-12-19T16:00:00.268142Z"
    }
   },
   "outputs": [],
   "source": [
    "HIS3_locus = Dseqrecord( sg.stdgenes[\"HIS3\"].locus() )"
   ]
  },
  {
   "cell_type": "markdown",
   "metadata": {},
   "source": [
    "The HIS3_locus sequence contain the whole HIS3 locus including promoter and terminator."
   ]
  },
  {
   "cell_type": "code",
   "execution_count": 4,
   "metadata": {
    "execution": {
     "iopub.execute_input": "2021-12-19T16:00:00.272383Z",
     "iopub.status.busy": "2021-12-19T16:00:00.271785Z",
     "iopub.status.idle": "2021-12-19T16:00:00.280360Z",
     "shell.execute_reply": "2021-12-19T16:00:00.280744Z"
    }
   },
   "outputs": [
    {
     "data": {
      "text/html": [
       "<font face=monospace><a href='HIS3_locus.gb' target='_blank'>HIS3_locus.gb</a></font><br>"
      ]
     },
     "metadata": {},
     "output_type": "display_data"
    }
   ],
   "source": [
    "HIS3_locus.write(\"HIS3_locus.gb\")"
   ]
  },
  {
   "cell_type": "markdown",
   "metadata": {},
   "source": [
    "Two primers Fw_TEF_His3 and Rv_TEF_His3 were designed for the integration of the cassette into the HIS3 locus. The other primers below were used to confirm the integrity and location of the plasmid or to produce overlapping segments of the cassette."
   ]
  },
  {
   "cell_type": "code",
   "execution_count": 5,
   "metadata": {
    "execution": {
     "iopub.execute_input": "2021-12-19T16:00:00.286209Z",
     "iopub.status.busy": "2021-12-19T16:00:00.285591Z",
     "iopub.status.idle": "2021-12-19T16:00:00.287792Z",
     "shell.execute_reply": "2021-12-19T16:00:00.287332Z"
    }
   },
   "outputs": [],
   "source": [
    "(Fw_TEF_His3, \n",
    " Rv_TEF_His3,\n",
    " A_His3,\n",
    " D_His3,\n",
    " Fw_FlankingTEFp5,\n",
    " Rv_His3d3,\n",
    " Rv_flankingHis3d3, \n",
    " p196,\n",
    " p195,\n",
    " dda11_Kl_tr_f,\n",
    " dda12_Kl_tr_r ) = parse('''\n",
    "\n",
    ">Fw_TEF-His3\n",
    "AATATACTAAAAAATGAGCAGGCAAGATAAACGAAGGCAAAGATGtcacccggccagcgacatgg\n",
    ">Rv_TEF-His3\n",
    "TGTATATATATCGTATGCTGCAGCTTTAAATAATCGGTGTCACTAggcggcgttagtatcgaatcgacag\n",
    "\n",
    ">A-His3\n",
    "TGACGACTTTTTCTTAATTCTCGTT \n",
    ">D-His3\n",
    "GCTCAGTTCAGCCATAATATGAAAT\n",
    "\n",
    ">Fw_FlankingTEFp5\n",
    "actcttggcctcctctagtacactc\n",
    ">Rv_His3d3\n",
    "gggcctctttaaaagcttgaccg\n",
    ">Rv_flankingHis3d3\n",
    "cttgcatgtcaagatatatgggacg\n",
    "\n",
    ">196_pMEC_MX4_fwd (19-mer)\n",
    "acttttcggggaaatgtgc\n",
    ">195_pMEC_MX4_rev (20-mer)\n",
    "ataataccgcgccacatagc\n",
    "\n",
    ">dda11_Kl_tr_f\n",
    "CGATGAGTTTTTCTAAGTTTAACTTGATACTACTAGATTT\n",
    ">dda12_Kl_tr_r\n",
    "GGCCAGTGAATTCGAGCTCGGTACCCTTAGTATTAGTAAATTTGTTGACA\n",
    "''')\n"
   ]
  },
  {
   "cell_type": "code",
   "execution_count": 6,
   "metadata": {
    "execution": {
     "iopub.execute_input": "2021-12-19T16:00:00.291976Z",
     "iopub.status.busy": "2021-12-19T16:00:00.291310Z",
     "iopub.status.idle": "2021-12-19T16:00:00.299545Z",
     "shell.execute_reply": "2021-12-19T16:00:00.299915Z"
    }
   },
   "outputs": [],
   "source": [
    "pPS1 = read(\"pPS1.gb\")"
   ]
  },
  {
   "cell_type": "markdown",
   "metadata": {},
   "source": [
    "The cassette was amplified as three overlapping PCR products since PCR of the entire cassette gave low yields. "
   ]
  },
  {
   "cell_type": "code",
   "execution_count": 7,
   "metadata": {
    "execution": {
     "iopub.execute_input": "2021-12-19T16:00:00.337990Z",
     "iopub.status.busy": "2021-12-19T16:00:00.329275Z",
     "iopub.status.idle": "2021-12-19T16:00:00.340691Z",
     "shell.execute_reply": "2021-12-19T16:00:00.340296Z"
    }
   },
   "outputs": [
    {
     "data": {
      "text/plain": [
       "(Amplicon(2694), Amplicon(2884), Amplicon(3247))"
      ]
     },
     "execution_count": 7,
     "metadata": {},
     "output_type": "execute_result"
    }
   ],
   "source": [
    "first_fragment  = pcr(Fw_TEF_His3, dda12_Kl_tr_r, pPS1)\n",
    "second_fragment = pcr(dda11_Kl_tr_f, p195, pPS1)\n",
    "third_fragment  = pcr(p196, Rv_TEF_His3 , pPS1)\n",
    "\n",
    "(first_fragment, second_fragment, third_fragment)"
   ]
  },
  {
   "cell_type": "code",
   "execution_count": 8,
   "metadata": {
    "execution": {
     "iopub.execute_input": "2021-12-19T16:00:00.344553Z",
     "iopub.status.busy": "2021-12-19T16:00:00.343977Z",
     "iopub.status.idle": "2021-12-19T16:00:00.346523Z",
     "shell.execute_reply": "2021-12-19T16:00:00.346029Z"
    }
   },
   "outputs": [],
   "source": [
    "first_fragment.name   = \"first_fragment\"\n",
    "second_fragment.name  = \"second_fragment\"\n",
    "third_fragment.name   = \"third_fragment\""
   ]
  },
  {
   "cell_type": "markdown",
   "metadata": {},
   "source": [
    "The integration of the cassette is simulated below. The recipient strains were RS112 and CEN.PK "
   ]
  },
  {
   "cell_type": "code",
   "execution_count": 9,
   "metadata": {
    "execution": {
     "iopub.execute_input": "2021-12-19T16:00:00.359609Z",
     "iopub.status.busy": "2021-12-19T16:00:00.359167Z",
     "iopub.status.idle": "2021-12-19T16:00:01.228699Z",
     "shell.execute_reply": "2021-12-19T16:00:01.228201Z"
    }
   },
   "outputs": [],
   "source": [
    "asm = Assembly((HIS3_locus, first_fragment, second_fragment, third_fragment, HIS3_locus))"
   ]
  },
  {
   "cell_type": "code",
   "execution_count": 10,
   "metadata": {
    "execution": {
     "iopub.execute_input": "2021-12-19T16:00:01.232507Z",
     "iopub.status.busy": "2021-12-19T16:00:01.231921Z",
     "iopub.status.idle": "2021-12-19T16:00:01.235279Z",
     "shell.execute_reply": "2021-12-19T16:00:01.234802Z"
    }
   },
   "outputs": [
    {
     "data": {
      "text/plain": [
       "Assembly\n",
       "fragments..: 2663bp 2694bp 2884bp 3247bp 2663bp\n",
       "limit(bp)..: 25\n",
       "G.nodes....: 10\n",
       "algorithm..: common_sub_strings"
      ]
     },
     "execution_count": 10,
     "metadata": {},
     "output_type": "execute_result"
    }
   ],
   "source": [
    "asm"
   ]
  },
  {
   "cell_type": "code",
   "execution_count": 11,
   "metadata": {
    "execution": {
     "iopub.execute_input": "2021-12-19T16:00:01.249719Z",
     "iopub.status.busy": "2021-12-19T16:00:01.249189Z",
     "iopub.status.idle": "2021-12-19T16:00:01.251740Z",
     "shell.execute_reply": "2021-12-19T16:00:01.252096Z"
    }
   },
   "outputs": [
    {
     "data": {
      "text/plain": [
       "BK006948|45\n",
       "         \\/\n",
       "         /\\\n",
       "         45|first_fragment|442\n",
       "                           \\/\n",
       "                           /\\\n",
       "                           442|second_fragment|361\n",
       "                                               \\/\n",
       "                                               /\\\n",
       "                                               361|third_fragment|45\n",
       "                                                                  \\/\n",
       "                                                                  /\\\n",
       "                                                                  45|BK006948"
      ]
     },
     "execution_count": 11,
     "metadata": {},
     "output_type": "execute_result"
    }
   ],
   "source": [
    "asm.assemble_linear()[0].figure()"
   ]
  },
  {
   "cell_type": "markdown",
   "metadata": {},
   "source": [
    "The figure shows that the overlapping sequences recombine by a 442 bp sequence and a 361 bp sequence to form the cassette which integrates by two 45 bp sequences."
   ]
  },
  {
   "cell_type": "code",
   "execution_count": 12,
   "metadata": {
    "execution": {
     "iopub.execute_input": "2021-12-19T16:00:01.262907Z",
     "iopub.status.busy": "2021-12-19T16:00:01.262092Z",
     "iopub.status.idle": "2021-12-19T16:00:01.264108Z",
     "shell.execute_reply": "2021-12-19T16:00:01.264572Z"
    }
   },
   "outputs": [],
   "source": [
    "cassette_integrated_in_HIS3_locus = asm.assemble_linear()[0]"
   ]
  },
  {
   "cell_type": "code",
   "execution_count": 13,
   "metadata": {
    "execution": {
     "iopub.execute_input": "2021-12-19T16:00:01.268924Z",
     "iopub.status.busy": "2021-12-19T16:00:01.268051Z",
     "iopub.status.idle": "2021-12-19T16:00:01.280500Z",
     "shell.execute_reply": "2021-12-19T16:00:01.280113Z"
    }
   },
   "outputs": [
    {
     "data": {
      "text/html": [
       "<font face=monospace><a href='cassette_integrated_in_HIS3_locus.gb' target='_blank'>cassette_integrated_in_HIS3_locus.gb</a></font><br>"
      ]
     },
     "metadata": {},
     "output_type": "display_data"
    }
   ],
   "source": [
    "cassette_integrated_in_HIS3_locus.write(\"cassette_integrated_in_HIS3_locus.gb\")"
   ]
  },
  {
   "cell_type": "code",
   "execution_count": 14,
   "metadata": {
    "execution": {
     "iopub.execute_input": "2021-12-19T16:00:01.284213Z",
     "iopub.status.busy": "2021-12-19T16:00:01.283629Z",
     "iopub.status.idle": "2021-12-19T16:00:01.286685Z",
     "shell.execute_reply": "2021-12-19T16:00:01.287186Z"
    }
   },
   "outputs": [
    {
     "data": {
      "text/plain": [
       "Dseq(-9938)\n",
       "TATT..CTCC\n",
       "ATAA..GAGG"
      ]
     },
     "execution_count": 14,
     "metadata": {},
     "output_type": "execute_result"
    }
   ],
   "source": [
    "cassette_integrated_in_HIS3_locus.seq"
   ]
  },
  {
   "cell_type": "markdown",
   "metadata": {},
   "source": [
    "The cassette integrated in the HIS3 locus is 9938 bp long. A DNA double stranded break somewhere between the repeated sequences can stimulate recombination so that the hygromycing marker is reacticated. Below we use the XbaI restriction enzyme to simulate this break. The enzyme cuts inside the cassette once in the YIplac128 derived sequence."
   ]
  },
  {
   "cell_type": "code",
   "execution_count": 15,
   "metadata": {
    "execution": {
     "iopub.execute_input": "2021-12-19T16:00:01.291635Z",
     "iopub.status.busy": "2021-12-19T16:00:01.290808Z",
     "iopub.status.idle": "2021-12-19T16:00:01.293529Z",
     "shell.execute_reply": "2021-12-19T16:00:01.292982Z"
    }
   },
   "outputs": [],
   "source": [
    "from Bio.Restriction import XbaI"
   ]
  },
  {
   "cell_type": "code",
   "execution_count": 16,
   "metadata": {
    "execution": {
     "iopub.execute_input": "2021-12-19T16:00:01.301387Z",
     "iopub.status.busy": "2021-12-19T16:00:01.300406Z",
     "iopub.status.idle": "2021-12-19T16:00:01.303011Z",
     "shell.execute_reply": "2021-12-19T16:00:01.302561Z"
    }
   },
   "outputs": [],
   "source": [
    "first_fragment, second_fragment = cassette_integrated_in_HIS3_locus.cut(XbaI)"
   ]
  },
  {
   "cell_type": "code",
   "execution_count": 17,
   "metadata": {
    "execution": {
     "iopub.execute_input": "2021-12-19T16:00:01.306710Z",
     "iopub.status.busy": "2021-12-19T16:00:01.306211Z",
     "iopub.status.idle": "2021-12-19T16:00:01.308711Z",
     "shell.execute_reply": "2021-12-19T16:00:01.308327Z"
    }
   },
   "outputs": [
    {
     "data": {
      "text/plain": [
       "(Dseqrecord(-7919), Dseqrecord(-2023))"
      ]
     },
     "execution_count": 17,
     "metadata": {},
     "output_type": "execute_result"
    }
   ],
   "source": [
    "first_fragment, second_fragment"
   ]
  },
  {
   "cell_type": "code",
   "execution_count": 18,
   "metadata": {
    "execution": {
     "iopub.execute_input": "2021-12-19T16:00:01.312620Z",
     "iopub.status.busy": "2021-12-19T16:00:01.311786Z",
     "iopub.status.idle": "2021-12-19T16:00:01.315310Z",
     "shell.execute_reply": "2021-12-19T16:00:01.314576Z"
    }
   },
   "outputs": [],
   "source": [
    "first_fragment.name  = \"first_fragment\"\n",
    "second_fragment.name = \"second_fragment\""
   ]
  },
  {
   "cell_type": "code",
   "execution_count": 19,
   "metadata": {
    "execution": {
     "iopub.execute_input": "2021-12-19T16:00:01.348786Z",
     "iopub.status.busy": "2021-12-19T16:00:01.343782Z",
     "iopub.status.idle": "2021-12-19T16:00:01.514726Z",
     "shell.execute_reply": "2021-12-19T16:00:01.514304Z"
    }
   },
   "outputs": [],
   "source": [
    "asm = Assembly((first_fragment, second_fragment))"
   ]
  },
  {
   "cell_type": "code",
   "execution_count": 20,
   "metadata": {
    "execution": {
     "iopub.execute_input": "2021-12-19T16:00:01.521184Z",
     "iopub.status.busy": "2021-12-19T16:00:01.520629Z",
     "iopub.status.idle": "2021-12-19T16:00:01.523949Z",
     "shell.execute_reply": "2021-12-19T16:00:01.523413Z"
    }
   },
   "outputs": [
    {
     "data": {
      "text/plain": [
       "first_fragment|400\n",
       "               \\/\n",
       "               /\\\n",
       "               400|second_fragment"
      ]
     },
     "execution_count": 20,
     "metadata": {},
     "output_type": "execute_result"
    }
   ],
   "source": [
    "asm.assemble_linear()[1].figure()"
   ]
  },
  {
   "cell_type": "markdown",
   "metadata": {},
   "source": [
    "The fragments recombine between two repeated sequences that are 400 bp long."
   ]
  },
  {
   "cell_type": "code",
   "execution_count": 21,
   "metadata": {
    "execution": {
     "iopub.execute_input": "2021-12-19T16:00:01.532206Z",
     "iopub.status.busy": "2021-12-19T16:00:01.531620Z",
     "iopub.status.idle": "2021-12-19T16:00:01.534210Z",
     "shell.execute_reply": "2021-12-19T16:00:01.533691Z"
    }
   },
   "outputs": [],
   "source": [
    "recombined_cassette = asm.assemble_linear()[1]"
   ]
  },
  {
   "cell_type": "code",
   "execution_count": 22,
   "metadata": {
    "execution": {
     "iopub.execute_input": "2021-12-19T16:00:01.538773Z",
     "iopub.status.busy": "2021-12-19T16:00:01.538070Z",
     "iopub.status.idle": "2021-12-19T16:00:01.541649Z",
     "shell.execute_reply": "2021-12-19T16:00:01.541050Z"
    }
   },
   "outputs": [
    {
     "data": {
      "text/plain": [
       "Dseq(-3620)\n",
       "TATT..CTCC\n",
       "ATAA..GAGG"
      ]
     },
     "execution_count": 22,
     "metadata": {},
     "output_type": "execute_result"
    }
   ],
   "source": [
    "recombined_cassette.seq"
   ]
  },
  {
   "cell_type": "markdown",
   "metadata": {},
   "source": [
    "The recombined cassette is 3620 bp long. The cassette should contain the hygromycing resistance open reading frame. We read hyg_cassette variable from a local file. "
   ]
  },
  {
   "cell_type": "code",
   "execution_count": 23,
   "metadata": {
    "execution": {
     "iopub.execute_input": "2021-12-19T16:00:01.547080Z",
     "iopub.status.busy": "2021-12-19T16:00:01.545928Z",
     "iopub.status.idle": "2021-12-19T16:00:01.551195Z",
     "shell.execute_reply": "2021-12-19T16:00:01.550653Z"
    }
   },
   "outputs": [],
   "source": [
    "hyg_cassette = read(\"hyg_cassette.gb\")"
   ]
  },
  {
   "cell_type": "code",
   "execution_count": 24,
   "metadata": {
    "execution": {
     "iopub.execute_input": "2021-12-19T16:00:01.559517Z",
     "iopub.status.busy": "2021-12-19T16:00:01.558718Z",
     "iopub.status.idle": "2021-12-19T16:00:01.561445Z",
     "shell.execute_reply": "2021-12-19T16:00:01.561920Z"
    }
   },
   "outputs": [
    {
     "data": {
      "text/html": [
       "<table>\n",
       "    <thead>\n",
       "        <tr>\n",
       "            <th>Ft#</th>\n",
       "            <th>Label or Note</th>\n",
       "            <th>Dir</th>\n",
       "            <th>Sta</th>\n",
       "            <th>End</th>\n",
       "            <th>Len</th>\n",
       "            <th>type</th>\n",
       "            <th>orf?</th>\n",
       "        </tr>\n",
       "    </thead>\n",
       "    <tbody>\n",
       "        <tr>\n",
       "            <td>0</td>\n",
       "            <td>L:TEF-PRO</td>\n",
       "            <td>--&gt;</td>\n",
       "            <td>0</td>\n",
       "            <td>368</td>\n",
       "            <td>368</td>\n",
       "            <td>misc_feature</td>\n",
       "            <td>no</td>\n",
       "        </tr>\n",
       "        <tr>\n",
       "            <td>1</td>\n",
       "            <td>L:hygromycin B p</td>\n",
       "            <td>--&gt;</td>\n",
       "            <td>368</td>\n",
       "            <td>1397</td>\n",
       "            <td>1029</td>\n",
       "            <td>CDS</td>\n",
       "            <td>yes</td>\n",
       "        </tr>\n",
       "        <tr>\n",
       "            <td>2</td>\n",
       "            <td>L:TEF-TER</td>\n",
       "            <td>--&gt;</td>\n",
       "            <td>1397</td>\n",
       "            <td>1637</td>\n",
       "            <td>240</td>\n",
       "            <td>misc_feature</td>\n",
       "            <td>no</td>\n",
       "        </tr>\n",
       "    </tbody>\n",
       "</table>"
      ],
      "text/markdown": [
       "| Ft# | Label or Note    | Dir | Sta  | End  |  Len | type         | orf? |\n",
       "|----:|:-----------------|:---:|:-----|:-----|-----:|:-------------|:----:|\n",
       "|   0 | L:TEF-PRO        | --> | 0    | 368  |  368 | misc_feature |  no  |\n",
       "|   1 | L:hygromycin B p | --> | 368  | 1397 | 1029 | CDS          | yes  |\n",
       "|   2 | L:TEF-TER        | --> | 1397 | 1637 |  240 | misc_feature |  no  |"
      ],
      "text/plain": [
       "+-----+------------------+-----+------+------+------+--------------+------+\n",
       "| Ft# | Label or Note    | Dir | Sta  | End  |  Len | type         | orf? |\n",
       "+-----+------------------+-----+------+------+------+--------------+------+\n",
       "|   0 | L:TEF-PRO        | --> | 0    | 368  |  368 | misc_feature |  no  |\n",
       "|   1 | L:hygromycin B p | --> | 368  | 1397 | 1029 | CDS          | yes  |\n",
       "|   2 | L:TEF-TER        | --> | 1397 | 1637 |  240 | misc_feature |  no  |\n",
       "+-----+------------------+-----+------+------+------+--------------+------+"
      ]
     },
     "execution_count": 24,
     "metadata": {},
     "output_type": "execute_result"
    }
   ],
   "source": [
    "hyg_cassette.list_features()"
   ]
  },
  {
   "cell_type": "markdown",
   "metadata": {},
   "source": [
    "The feature #1 is the hygromycin orf. "
   ]
  },
  {
   "cell_type": "code",
   "execution_count": 25,
   "metadata": {
    "execution": {
     "iopub.execute_input": "2021-12-19T16:00:01.566609Z",
     "iopub.status.busy": "2021-12-19T16:00:01.565647Z",
     "iopub.status.idle": "2021-12-19T16:00:01.569323Z",
     "shell.execute_reply": "2021-12-19T16:00:01.568475Z"
    }
   },
   "outputs": [],
   "source": [
    "hyg_orf = hyg_cassette.extract_feature(1)"
   ]
  },
  {
   "cell_type": "code",
   "execution_count": 26,
   "metadata": {
    "execution": {
     "iopub.execute_input": "2021-12-19T16:00:01.575284Z",
     "iopub.status.busy": "2021-12-19T16:00:01.574171Z",
     "iopub.status.idle": "2021-12-19T16:00:01.578538Z",
     "shell.execute_reply": "2021-12-19T16:00:01.577853Z"
    }
   },
   "outputs": [
    {
     "data": {
      "text/plain": [
       "Dseqrecord(-1029)"
      ]
     },
     "execution_count": 26,
     "metadata": {},
     "output_type": "execute_result"
    }
   ],
   "source": [
    "hyg_orf"
   ]
  },
  {
   "cell_type": "markdown",
   "metadata": {},
   "source": [
    "The hygromycin orf is present in the recombined cassette."
   ]
  },
  {
   "cell_type": "code",
   "execution_count": 27,
   "metadata": {
    "execution": {
     "iopub.execute_input": "2021-12-19T16:00:01.584605Z",
     "iopub.status.busy": "2021-12-19T16:00:01.583680Z",
     "iopub.status.idle": "2021-12-19T16:00:01.588067Z",
     "shell.execute_reply": "2021-12-19T16:00:01.587412Z"
    }
   },
   "outputs": [
    {
     "data": {
      "text/plain": [
       "True"
      ]
     },
     "execution_count": 27,
     "metadata": {},
     "output_type": "execute_result"
    }
   ],
   "source": [
    "str(hyg_orf.seq) in recombined_cassette"
   ]
  },
  {
   "cell_type": "markdown",
   "metadata": {},
   "source": [
    "From this analysis follows that the region where a double stranded break can expected to induce cassette recombination is the size of the integrated cassette (9938 bp) minus the size of the cassette after recombination (3620 bp) which is 6318 bp. "
   ]
  }
 ],
 "metadata": {
  "kernelspec": {
   "display_name": "Python [conda env:bjorn38]",
   "language": "python",
   "name": "conda-env-bjorn38-py"
  },
  "language_info": {
   "codemirror_mode": {
    "name": "ipython",
    "version": 3
   },
   "file_extension": ".py",
   "mimetype": "text/x-python",
   "name": "python",
   "nbconvert_exporter": "python",
   "pygments_lexer": "ipython3",
   "version": "3.9.7"
  }
 },
 "nbformat": 4,
 "nbformat_minor": 4
}
