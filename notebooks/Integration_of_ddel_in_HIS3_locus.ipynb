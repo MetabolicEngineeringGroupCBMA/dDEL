{
 "cells": [
  {
   "cell_type": "markdown",
   "metadata": {},
   "source": [
    "# Integration of ddel cassette in the _Saccharomyces cerevisiae_ HIS3 locus\n",
    "\n",
    "The plasmid pPS1 was used as PCR template to integrate the ddel cassette in the HIS3 locus. The HIS3 locus was chosen since this is also the location of the del construct in RS112 and derivatives.\n",
    "\n",
    "The resulting strain should be G418R his3 LEU2 and HygS. After recombination in the ddel cassete, the cells will be G418S his3 eu2 and HygR. The cassette will be amplified in such a way that the 2µ and URA3 sequences were not included."
   ]
  },
  {
   "cell_type": "code",
   "execution_count": 1,
   "metadata": {
    "execution": {
     "iopub.execute_input": "2021-10-31T13:24:58.921676Z",
     "iopub.status.busy": "2021-10-31T13:24:58.921090Z",
     "iopub.status.idle": "2021-10-31T13:24:59.639430Z",
     "shell.execute_reply": "2021-10-31T13:24:59.638856Z"
    }
   },
   "outputs": [],
   "source": [
    "from pygenome import saccharomyces_cerevisiae as sg"
   ]
  },
  {
   "cell_type": "code",
   "execution_count": 2,
   "metadata": {
    "execution": {
     "iopub.execute_input": "2021-10-31T13:24:59.645793Z",
     "iopub.status.busy": "2021-10-31T13:24:59.645154Z",
     "iopub.status.idle": "2021-10-31T13:24:59.672950Z",
     "shell.execute_reply": "2021-10-31T13:24:59.672420Z"
    }
   },
   "outputs": [],
   "source": [
    "from pydna.all import *"
   ]
  },
  {
   "cell_type": "code",
   "execution_count": 3,
   "metadata": {
    "execution": {
     "iopub.execute_input": "2021-10-31T13:24:59.678175Z",
     "iopub.status.busy": "2021-10-31T13:24:59.676811Z",
     "iopub.status.idle": "2021-10-31T13:24:59.855700Z",
     "shell.execute_reply": "2021-10-31T13:24:59.855221Z"
    }
   },
   "outputs": [],
   "source": [
    "HIS3_locus = Dseqrecord( sg.stdgenes[\"HIS3\"].locus() )"
   ]
  },
  {
   "cell_type": "markdown",
   "metadata": {},
   "source": [
    "The HIS3_locus sequence contain the whole HIS3 locus including promoter and terminator."
   ]
  },
  {
   "cell_type": "code",
   "execution_count": 4,
   "metadata": {
    "execution": {
     "iopub.execute_input": "2021-10-31T13:24:59.860164Z",
     "iopub.status.busy": "2021-10-31T13:24:59.859181Z",
     "iopub.status.idle": "2021-10-31T13:24:59.865458Z",
     "shell.execute_reply": "2021-10-31T13:24:59.865922Z"
    }
   },
   "outputs": [
    {
     "data": {
      "text/html": [
       "<font face=monospace><a href='HIS3_locus.gb' target='_blank'>HIS3_locus.gb</a></font><br>"
      ]
     },
     "metadata": {},
     "output_type": "display_data"
    }
   ],
   "source": [
    "HIS3_locus.write(\"HIS3_locus.gb\")"
   ]
  },
  {
   "cell_type": "markdown",
   "metadata": {},
   "source": [
    "Two primers Fw_TEF_His3 and Rv_TEF_His3 were designed for the integration of the cassette into the HIS3 locus. The other primers below were used to confirm the integrity and location of the plasmid or to produce overlapping segments of the cassette."
   ]
  },
  {
   "cell_type": "code",
   "execution_count": 5,
   "metadata": {
    "execution": {
     "iopub.execute_input": "2021-10-31T13:24:59.871687Z",
     "iopub.status.busy": "2021-10-31T13:24:59.871116Z",
     "iopub.status.idle": "2021-10-31T13:24:59.873948Z",
     "shell.execute_reply": "2021-10-31T13:24:59.873330Z"
    }
   },
   "outputs": [],
   "source": [
    "(Fw_TEF_His3, \n",
    " Rv_TEF_His3,\n",
    " A_His3,\n",
    " D_His3,\n",
    " Fw_FlankingTEFp5,\n",
    " Rv_His3d3,\n",
    " Rv_flankingHis3d3, \n",
    " p196,\n",
    " p195,\n",
    " dda11_Kl_tr_f,\n",
    " dda12_Kl_tr_r ) = parse('''\n",
    "\n",
    ">Fw_TEF-His3\n",
    "AATATACTAAAAAATGAGCAGGCAAGATAAACGAAGGCAAAGATGtcacccggccagcgacatgg\n",
    ">Rv_TEF-His3\n",
    "TGTATATATATCGTATGCTGCAGCTTTAAATAATCGGTGTCACTAggcggcgttagtatcgaatcgacag\n",
    "\n",
    ">A-His3\n",
    "TGACGACTTTTTCTTAATTCTCGTT \n",
    ">D-His3\n",
    "GCTCAGTTCAGCCATAATATGAAAT\n",
    "\n",
    ">Fw_FlankingTEFp5\n",
    "actcttggcctcctctagtacactc\n",
    ">Rv_His3d3\n",
    "gggcctctttaaaagcttgaccg\n",
    ">Rv_flankingHis3d3\n",
    "cttgcatgtcaagatatatgggacg\n",
    "\n",
    ">196_pMEC_MX4_fwd (19-mer)\n",
    "acttttcggggaaatgtgc\n",
    ">195_pMEC_MX4_rev (20-mer)\n",
    "ataataccgcgccacatagc\n",
    "\n",
    ">dda11_Kl_tr_f\n",
    "CGATGAGTTTTTCTAAGTTTAACTTGATACTACTAGATTT\n",
    ">dda12_Kl_tr_r\n",
    "GGCCAGTGAATTCGAGCTCGGTACCCTTAGTATTAGTAAATTTGTTGACA\n",
    "''')\n"
   ]
  },
  {
   "cell_type": "code",
   "execution_count": 6,
   "metadata": {
    "execution": {
     "iopub.execute_input": "2021-10-31T13:24:59.880247Z",
     "iopub.status.busy": "2021-10-31T13:24:59.879356Z",
     "iopub.status.idle": "2021-10-31T13:24:59.890532Z",
     "shell.execute_reply": "2021-10-31T13:24:59.890062Z"
    }
   },
   "outputs": [],
   "source": [
    "pPS1 = read(\"pPS1.gb\")"
   ]
  },
  {
   "cell_type": "markdown",
   "metadata": {},
   "source": [
    "The cassette was amplified as three overlapping PCR products since PCR of the entire cassette gave low yields. "
   ]
  },
  {
   "cell_type": "code",
   "execution_count": 7,
   "metadata": {
    "execution": {
     "iopub.execute_input": "2021-10-31T13:24:59.926459Z",
     "iopub.status.busy": "2021-10-31T13:24:59.919012Z",
     "iopub.status.idle": "2021-10-31T13:24:59.943859Z",
     "shell.execute_reply": "2021-10-31T13:24:59.943402Z"
    }
   },
   "outputs": [
    {
     "data": {
      "text/plain": [
       "(Amplicon(2694), Amplicon(2884), Amplicon(3247))"
      ]
     },
     "execution_count": 7,
     "metadata": {},
     "output_type": "execute_result"
    }
   ],
   "source": [
    "first_fragment  = pcr(Fw_TEF_His3, dda12_Kl_tr_r, pPS1)\n",
    "second_fragment = pcr(dda11_Kl_tr_f, p195, pPS1)\n",
    "third_fragment  = pcr(p196, Rv_TEF_His3 , pPS1)\n",
    "\n",
    "(first_fragment, second_fragment, third_fragment)"
   ]
  },
  {
   "cell_type": "code",
   "execution_count": 8,
   "metadata": {
    "execution": {
     "iopub.execute_input": "2021-10-31T13:24:59.947330Z",
     "iopub.status.busy": "2021-10-31T13:24:59.946877Z",
     "iopub.status.idle": "2021-10-31T13:24:59.949914Z",
     "shell.execute_reply": "2021-10-31T13:24:59.949128Z"
    }
   },
   "outputs": [],
   "source": [
    "first_fragment.name   = \"first_fragment\"\n",
    "second_fragment.name  = \"second_fragment\"\n",
    "third_fragment.name   = \"third_fragment\""
   ]
  },
  {
   "cell_type": "markdown",
   "metadata": {},
   "source": [
    "The integration of the cassette is simulated below. The recipient strains were RS112 and CEN.PK "
   ]
  },
  {
   "cell_type": "code",
   "execution_count": 9,
   "metadata": {
    "execution": {
     "iopub.execute_input": "2021-10-31T13:24:59.998517Z",
     "iopub.status.busy": "2021-10-31T13:24:59.978205Z",
     "iopub.status.idle": "2021-10-31T13:25:00.891113Z",
     "shell.execute_reply": "2021-10-31T13:25:00.890650Z"
    }
   },
   "outputs": [],
   "source": [
    "asm = Assembly((HIS3_locus, first_fragment, second_fragment, third_fragment, HIS3_locus))"
   ]
  },
  {
   "cell_type": "code",
   "execution_count": 10,
   "metadata": {
    "execution": {
     "iopub.execute_input": "2021-10-31T13:25:00.894760Z",
     "iopub.status.busy": "2021-10-31T13:25:00.894279Z",
     "iopub.status.idle": "2021-10-31T13:25:00.896979Z",
     "shell.execute_reply": "2021-10-31T13:25:00.897611Z"
    }
   },
   "outputs": [
    {
     "data": {
      "text/plain": [
       "Assembly\n",
       "fragments..: 2663bp 2694bp 2884bp 3247bp 2663bp\n",
       "limit(bp)..: 25\n",
       "G.nodes....: 10\n",
       "algorithm..: common_sub_strings"
      ]
     },
     "execution_count": 10,
     "metadata": {},
     "output_type": "execute_result"
    }
   ],
   "source": [
    "asm"
   ]
  },
  {
   "cell_type": "code",
   "execution_count": 11,
   "metadata": {
    "execution": {
     "iopub.execute_input": "2021-10-31T13:25:00.911225Z",
     "iopub.status.busy": "2021-10-31T13:25:00.910635Z",
     "iopub.status.idle": "2021-10-31T13:25:00.913789Z",
     "shell.execute_reply": "2021-10-31T13:25:00.913288Z"
    }
   },
   "outputs": [
    {
     "data": {
      "text/plain": [
       "BK006948|45\n",
       "         \\/\n",
       "         /\\\n",
       "         45|first_fragment|442\n",
       "                           \\/\n",
       "                           /\\\n",
       "                           442|second_fragment|361\n",
       "                                               \\/\n",
       "                                               /\\\n",
       "                                               361|third_fragment|45\n",
       "                                                                  \\/\n",
       "                                                                  /\\\n",
       "                                                                  45|BK006948"
      ]
     },
     "execution_count": 11,
     "metadata": {},
     "output_type": "execute_result"
    }
   ],
   "source": [
    "asm.assemble_linear()[0].figure()"
   ]
  },
  {
   "cell_type": "markdown",
   "metadata": {},
   "source": [
    "The figure shows that the overlapping sequences recombine by a 442 bp sequence and a 361 bp sequence to form the cassette which integrates by two 45 bp sequences."
   ]
  },
  {
   "cell_type": "code",
   "execution_count": 12,
   "metadata": {
    "execution": {
     "iopub.execute_input": "2021-10-31T13:25:00.927532Z",
     "iopub.status.busy": "2021-10-31T13:25:00.916229Z",
     "iopub.status.idle": "2021-10-31T13:25:00.929508Z",
     "shell.execute_reply": "2021-10-31T13:25:00.929914Z"
    }
   },
   "outputs": [],
   "source": [
    "cassette_integrated_in_HIS3_locus = asm.assemble_linear()[0]"
   ]
  },
  {
   "cell_type": "code",
   "execution_count": 13,
   "metadata": {
    "execution": {
     "iopub.execute_input": "2021-10-31T13:25:00.934056Z",
     "iopub.status.busy": "2021-10-31T13:25:00.933132Z",
     "iopub.status.idle": "2021-10-31T13:25:00.949784Z",
     "shell.execute_reply": "2021-10-31T13:25:00.950185Z"
    }
   },
   "outputs": [
    {
     "data": {
      "text/html": [
       "<font face=monospace><a href='cassette_integrated_in_HIS3_locus.gb' target='_blank'>cassette_integrated_in_HIS3_locus.gb</a></font><br>"
      ]
     },
     "metadata": {},
     "output_type": "display_data"
    }
   ],
   "source": [
    "cassette_integrated_in_HIS3_locus.write(\"cassette_integrated_in_HIS3_locus.gb\")"
   ]
  },
  {
   "cell_type": "code",
   "execution_count": 14,
   "metadata": {
    "execution": {
     "iopub.execute_input": "2021-10-31T13:25:00.953889Z",
     "iopub.status.busy": "2021-10-31T13:25:00.953398Z",
     "iopub.status.idle": "2021-10-31T13:25:00.956259Z",
     "shell.execute_reply": "2021-10-31T13:25:00.955878Z"
    }
   },
   "outputs": [
    {
     "data": {
      "text/plain": [
       "Dseq(-9938)\n",
       "TATT..CTCC\n",
       "ATAA..GAGG"
      ]
     },
     "execution_count": 14,
     "metadata": {},
     "output_type": "execute_result"
    }
   ],
   "source": [
    "cassette_integrated_in_HIS3_locus.seq"
   ]
  },
  {
   "cell_type": "markdown",
   "metadata": {},
   "source": [
    "The cassette integrated in the HIS3 locus is 9938 bp long. A DNA double stranded break somewhere between the repeated sequences can stimulate recombination so that the hygromycing marker is reacticated. Below we use the XbaI restriction enzyme to simulate this break. The enzyme cuts inside the cassette once in the YIplac128 derived sequence."
   ]
  },
  {
   "cell_type": "code",
   "execution_count": 15,
   "metadata": {
    "execution": {
     "iopub.execute_input": "2021-10-31T13:25:00.959547Z",
     "iopub.status.busy": "2021-10-31T13:25:00.959016Z",
     "iopub.status.idle": "2021-10-31T13:25:00.962711Z",
     "shell.execute_reply": "2021-10-31T13:25:00.961925Z"
    }
   },
   "outputs": [],
   "source": [
    "from Bio.Restriction import XbaI"
   ]
  },
  {
   "cell_type": "code",
   "execution_count": 16,
   "metadata": {
    "execution": {
     "iopub.execute_input": "2021-10-31T13:25:00.970958Z",
     "iopub.status.busy": "2021-10-31T13:25:00.970119Z",
     "iopub.status.idle": "2021-10-31T13:25:00.973858Z",
     "shell.execute_reply": "2021-10-31T13:25:00.974470Z"
    }
   },
   "outputs": [],
   "source": [
    "first_fragment, second_fragment = cassette_integrated_in_HIS3_locus.cut(XbaI)"
   ]
  },
  {
   "cell_type": "code",
   "execution_count": 17,
   "metadata": {
    "execution": {
     "iopub.execute_input": "2021-10-31T13:25:00.978616Z",
     "iopub.status.busy": "2021-10-31T13:25:00.977805Z",
     "iopub.status.idle": "2021-10-31T13:25:00.984148Z",
     "shell.execute_reply": "2021-10-31T13:25:00.984732Z"
    }
   },
   "outputs": [
    {
     "data": {
      "text/plain": [
       "(Dseqrecord(-7919), Dseqrecord(-2023))"
      ]
     },
     "execution_count": 17,
     "metadata": {},
     "output_type": "execute_result"
    }
   ],
   "source": [
    "first_fragment, second_fragment"
   ]
  },
  {
   "cell_type": "code",
   "execution_count": 18,
   "metadata": {
    "execution": {
     "iopub.execute_input": "2021-10-31T13:25:00.989130Z",
     "iopub.status.busy": "2021-10-31T13:25:00.988539Z",
     "iopub.status.idle": "2021-10-31T13:25:00.991304Z",
     "shell.execute_reply": "2021-10-31T13:25:00.990692Z"
    }
   },
   "outputs": [],
   "source": [
    "first_fragment.name  = \"first_fragment\"\n",
    "second_fragment.name = \"second_fragment\""
   ]
  },
  {
   "cell_type": "code",
   "execution_count": 19,
   "metadata": {
    "execution": {
     "iopub.execute_input": "2021-10-31T13:25:01.024684Z",
     "iopub.status.busy": "2021-10-31T13:25:01.009560Z",
     "iopub.status.idle": "2021-10-31T13:25:01.196459Z",
     "shell.execute_reply": "2021-10-31T13:25:01.196832Z"
    }
   },
   "outputs": [],
   "source": [
    "asm = Assembly((first_fragment, second_fragment))"
   ]
  },
  {
   "cell_type": "code",
   "execution_count": 20,
   "metadata": {
    "execution": {
     "iopub.execute_input": "2021-10-31T13:25:01.205387Z",
     "iopub.status.busy": "2021-10-31T13:25:01.204532Z",
     "iopub.status.idle": "2021-10-31T13:25:01.207767Z",
     "shell.execute_reply": "2021-10-31T13:25:01.207372Z"
    }
   },
   "outputs": [
    {
     "data": {
      "text/plain": [
       "first_fragment|400\n",
       "               \\/\n",
       "               /\\\n",
       "               400|second_fragment"
      ]
     },
     "execution_count": 20,
     "metadata": {},
     "output_type": "execute_result"
    }
   ],
   "source": [
    "asm.assemble_linear()[1].figure()"
   ]
  },
  {
   "cell_type": "markdown",
   "metadata": {},
   "source": [
    "The fragments recombine between two repeated sequences that are 400 bp long."
   ]
  },
  {
   "cell_type": "code",
   "execution_count": 21,
   "metadata": {
    "execution": {
     "iopub.execute_input": "2021-10-31T13:25:01.214673Z",
     "iopub.status.busy": "2021-10-31T13:25:01.213583Z",
     "iopub.status.idle": "2021-10-31T13:25:01.216286Z",
     "shell.execute_reply": "2021-10-31T13:25:01.215729Z"
    }
   },
   "outputs": [],
   "source": [
    "recombined_cassette = asm.assemble_linear()[1]"
   ]
  },
  {
   "cell_type": "code",
   "execution_count": 22,
   "metadata": {
    "execution": {
     "iopub.execute_input": "2021-10-31T13:25:01.221653Z",
     "iopub.status.busy": "2021-10-31T13:25:01.220746Z",
     "iopub.status.idle": "2021-10-31T13:25:01.223821Z",
     "shell.execute_reply": "2021-10-31T13:25:01.224478Z"
    }
   },
   "outputs": [
    {
     "data": {
      "text/plain": [
       "Dseq(-3620)\n",
       "TATT..CTCC\n",
       "ATAA..GAGG"
      ]
     },
     "execution_count": 22,
     "metadata": {},
     "output_type": "execute_result"
    }
   ],
   "source": [
    "recombined_cassette.seq"
   ]
  },
  {
   "cell_type": "markdown",
   "metadata": {},
   "source": [
    "The recombined cassette is 3620 bp long. The cassette should contain the hygromycing resistance open reading frame. We read hyg_cassette variable from a local file. "
   ]
  },
  {
   "cell_type": "code",
   "execution_count": 23,
   "metadata": {
    "execution": {
     "iopub.execute_input": "2021-10-31T13:25:01.229563Z",
     "iopub.status.busy": "2021-10-31T13:25:01.228921Z",
     "iopub.status.idle": "2021-10-31T13:25:01.232881Z",
     "shell.execute_reply": "2021-10-31T13:25:01.233373Z"
    }
   },
   "outputs": [],
   "source": [
    "hyg_cassette = read(\"hyg_cassette.gb\")"
   ]
  },
  {
   "cell_type": "code",
   "execution_count": 24,
   "metadata": {
    "execution": {
     "iopub.execute_input": "2021-10-31T13:25:01.241291Z",
     "iopub.status.busy": "2021-10-31T13:25:01.240439Z",
     "iopub.status.idle": "2021-10-31T13:25:01.243972Z",
     "shell.execute_reply": "2021-10-31T13:25:01.243499Z"
    }
   },
   "outputs": [
    {
     "data": {
      "text/markdown": [
       "| Ft# | Label or Note    | Dir | Sta  | End  |  Len | type         | orf? |\n",
       "|-----|------------------|-----|------|------|------|--------------|------|\n",
       "|   0 | L:TEF-PRO        | --> | 0    | 368  |  368 | misc_feature |  no  |\n",
       "|   1 | L:hygromycin B p | --> | 368  | 1397 | 1029 | CDS          | yes  |\n",
       "|   2 | L:TEF-TER        | --> | 1397 | 1637 |  240 | misc_feature |  no  |"
      ],
      "text/plain": [
       "+-----+------------------+-----+------+------+------+--------------+------+\n",
       "| Ft# | Label or Note    | Dir | Sta  | End  |  Len | type         | orf? |\n",
       "+-----+------------------+-----+------+------+------+--------------+------+\n",
       "|   0 | L:TEF-PRO        | --> | 0    | 368  |  368 | misc_feature |  no  |\n",
       "|   1 | L:hygromycin B p | --> | 368  | 1397 | 1029 | CDS          | yes  |\n",
       "|   2 | L:TEF-TER        | --> | 1397 | 1637 |  240 | misc_feature |  no  |\n",
       "+-----+------------------+-----+------+------+------+--------------+------+"
      ]
     },
     "execution_count": 24,
     "metadata": {},
     "output_type": "execute_result"
    }
   ],
   "source": [
    "hyg_cassette.list_features()"
   ]
  },
  {
   "cell_type": "markdown",
   "metadata": {},
   "source": [
    "The feature #1 is the hygromycin orf. "
   ]
  },
  {
   "cell_type": "code",
   "execution_count": 25,
   "metadata": {
    "execution": {
     "iopub.execute_input": "2021-10-31T13:25:01.248409Z",
     "iopub.status.busy": "2021-10-31T13:25:01.247697Z",
     "iopub.status.idle": "2021-10-31T13:25:01.250215Z",
     "shell.execute_reply": "2021-10-31T13:25:01.250806Z"
    }
   },
   "outputs": [],
   "source": [
    "hyg_orf = hyg_cassette.extract_feature(1)"
   ]
  },
  {
   "cell_type": "code",
   "execution_count": 26,
   "metadata": {
    "execution": {
     "iopub.execute_input": "2021-10-31T13:25:01.256356Z",
     "iopub.status.busy": "2021-10-31T13:25:01.255583Z",
     "iopub.status.idle": "2021-10-31T13:25:01.258613Z",
     "shell.execute_reply": "2021-10-31T13:25:01.259131Z"
    }
   },
   "outputs": [
    {
     "data": {
      "text/plain": [
       "Dseqrecord(-1029)"
      ]
     },
     "execution_count": 26,
     "metadata": {},
     "output_type": "execute_result"
    }
   ],
   "source": [
    "hyg_orf"
   ]
  },
  {
   "cell_type": "markdown",
   "metadata": {},
   "source": [
    "The hygromycin orf is present in the recombined cassette."
   ]
  },
  {
   "cell_type": "code",
   "execution_count": 27,
   "metadata": {
    "execution": {
     "iopub.execute_input": "2021-10-31T13:25:01.263855Z",
     "iopub.status.busy": "2021-10-31T13:25:01.263170Z",
     "iopub.status.idle": "2021-10-31T13:25:01.266895Z",
     "shell.execute_reply": "2021-10-31T13:25:01.267462Z"
    }
   },
   "outputs": [
    {
     "data": {
      "text/plain": [
       "True"
      ]
     },
     "execution_count": 27,
     "metadata": {},
     "output_type": "execute_result"
    }
   ],
   "source": [
    "str(hyg_orf.seq) in recombined_cassette"
   ]
  },
  {
   "cell_type": "markdown",
   "metadata": {},
   "source": [
    "From this analysis follows that the region where a double stranded break can expected to induce cassette recombination is the size of the integrated cassette (9938 bp) minus the size of the cassette after recombination (3620 bp) which is 6318 bp. "
   ]
  }
 ],
 "metadata": {
  "kernelspec": {
   "display_name": "Python [conda env:bjorn38]",
   "language": "python",
   "name": "conda-env-bjorn38-py"
  },
  "language_info": {
   "codemirror_mode": {
    "name": "ipython",
    "version": 3
   },
   "file_extension": ".py",
   "mimetype": "text/x-python",
   "name": "python",
   "nbconvert_exporter": "python",
   "pygments_lexer": "ipython3",
   "version": "3.9.7"
  }
 },
 "nbformat": 4,
 "nbformat_minor": 4
}
