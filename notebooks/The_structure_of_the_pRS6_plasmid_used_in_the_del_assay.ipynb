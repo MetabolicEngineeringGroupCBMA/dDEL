{
 "cells": [
  {
   "cell_type": "markdown",
   "metadata": {},
   "source": [
    "# The structure of the pRS6 plasmid\n",
    "\n",
    "The RS112 strain is a diploid yeast strain containing a complete deletion of the HIS3 ORF on one chromosome and an inactivating integration of the pRS6 plasmid in the HIS3 locus of the other. The integrated pRS6 plasmid can recombine so that and active HIS3 locus is gained and a LEU2 marker is lost. \n",
    "\n",
    "This notebook provide a detailed analysis of the construction of the pRS6 plasmid, integration and recombination based on cloning strategies found in the literature. This notebook is also a piece of executable documentation document that simulates the cloning and recombination steps using [pydna](http://bmcbioinformatics.biomedcentral.com/articles/10.1186/s12859-015-0544-x).\n",
    "\n",
    "    Complete genotype of the pRS112 strain\n",
    "    \n",
    "    MATa            MATalfa\n",
    "    ura3-52         ura3-52                \n",
    "    leu2-3,112      leu2-D98                \n",
    "    trp5-27         TRP \n",
    "    arg4-3          ARG\n",
    "    ade2-40         ade2-101\n",
    "    ilv-92          ILV\n",
    "    HIS3::pRS6      his3-D200 \n",
    "    LYS             lys2-801\n",
    "\n",
    "The sequence for pRS6 does not seem to have been deposited in any database. The physical plasmid has been deposited in an E. coli strain at ATCC according to this [patent](http://www.google.com/patents/US4997757). The patent also contain figures describing the cloning strategy used for creating the pRS6.\n",
    "\n",
    "The images below (Fig 7, 8 and 9) were extracted from the patent.\n",
    "\n",
    "Fig 7 shows the construction of the pRS5 vector from pBR322 and pSZ515.\n",
    "Fig 8 shows the construction of the pRS6 vector from pRS5 and YEp13.\n",
    "Fig 9 shows the integration of the pRS6 plasmid into the HIS3 locus of Saccharomyces cerevisiae."
   ]
  },
  {
   "cell_type": "markdown",
   "metadata": {},
   "source": [
    "![fig7](fig7.png)"
   ]
  },
  {
   "cell_type": "code",
   "execution_count": 1,
   "metadata": {
    "execution": {
     "iopub.execute_input": "2021-10-31T13:25:15.409079Z",
     "iopub.status.busy": "2021-10-31T13:25:15.408485Z",
     "iopub.status.idle": "2021-10-31T13:25:15.872335Z",
     "shell.execute_reply": "2021-10-31T13:25:15.872695Z"
    }
   },
   "outputs": [],
   "source": [
    "from pydna.all import *"
   ]
  },
  {
   "cell_type": "code",
   "execution_count": 2,
   "metadata": {
    "execution": {
     "iopub.execute_input": "2021-10-31T13:25:15.880992Z",
     "iopub.status.busy": "2021-10-31T13:25:15.880363Z",
     "iopub.status.idle": "2021-10-31T13:25:15.882417Z",
     "shell.execute_reply": "2021-10-31T13:25:15.882888Z"
    }
   },
   "outputs": [],
   "source": [
    "gb = Genbank(\"bjorn_johansson@bio.uminho.pt\")"
   ]
  },
  {
   "cell_type": "code",
   "execution_count": 3,
   "metadata": {
    "execution": {
     "iopub.execute_input": "2021-10-31T13:25:15.887458Z",
     "iopub.status.busy": "2021-10-31T13:25:15.886848Z",
     "iopub.status.idle": "2021-10-31T13:25:16.907971Z",
     "shell.execute_reply": "2021-10-31T13:25:16.907271Z"
    }
   },
   "outputs": [],
   "source": [
    "pBR322 = gb.nucleotide(\"J01749\")"
   ]
  },
  {
   "cell_type": "code",
   "execution_count": 4,
   "metadata": {
    "execution": {
     "iopub.execute_input": "2021-10-31T13:25:16.917312Z",
     "iopub.status.busy": "2021-10-31T13:25:16.916589Z",
     "iopub.status.idle": "2021-10-31T13:25:16.919633Z",
     "shell.execute_reply": "2021-10-31T13:25:16.920100Z"
    }
   },
   "outputs": [
    {
     "data": {
      "text/html": [
       "<a href='https://www.ncbi.nlm.nih.gov/nuccore/J01749?from=&to=&strand=1' target='_blank'>J01749</a>"
      ],
      "text/plain": [
       "Gbank(J01749)(o4361)"
      ]
     },
     "execution_count": 4,
     "metadata": {},
     "output_type": "execute_result"
    }
   ],
   "source": [
    "pBR322"
   ]
  },
  {
   "cell_type": "code",
   "execution_count": 5,
   "metadata": {
    "execution": {
     "iopub.execute_input": "2021-10-31T13:25:16.923903Z",
     "iopub.status.busy": "2021-10-31T13:25:16.923388Z",
     "iopub.status.idle": "2021-10-31T13:25:16.925235Z",
     "shell.execute_reply": "2021-10-31T13:25:16.925601Z"
    }
   },
   "outputs": [],
   "source": [
    "from Bio.Restriction import ClaI, BamHI"
   ]
  },
  {
   "cell_type": "code",
   "execution_count": 6,
   "metadata": {
    "execution": {
     "iopub.execute_input": "2021-10-31T13:25:16.934275Z",
     "iopub.status.busy": "2021-10-31T13:25:16.933628Z",
     "iopub.status.idle": "2021-10-31T13:25:16.936011Z",
     "shell.execute_reply": "2021-10-31T13:25:16.935536Z"
    }
   },
   "outputs": [],
   "source": [
    "stuffer, pBR322_cla_bam = pBR322.cut(ClaI, BamHI)"
   ]
  },
  {
   "cell_type": "code",
   "execution_count": 7,
   "metadata": {
    "execution": {
     "iopub.execute_input": "2021-10-31T13:25:16.940476Z",
     "iopub.status.busy": "2021-10-31T13:25:16.939716Z",
     "iopub.status.idle": "2021-10-31T13:25:16.943988Z",
     "shell.execute_reply": "2021-10-31T13:25:16.943222Z"
    }
   },
   "outputs": [
    {
     "data": {
      "text/plain": [
       "(Dseqrecord(-355), Dseqrecord(-4012))"
      ]
     },
     "execution_count": 7,
     "metadata": {},
     "output_type": "execute_result"
    }
   ],
   "source": [
    "stuffer, pBR322_cla_bam"
   ]
  },
  {
   "cell_type": "markdown",
   "metadata": {},
   "source": [
    "The pSZ515 plasmid sequence does not seem to be avilable in any sequence databse. The plasmid is described in [Orr-Weaver et al. 1983](Orr-Weaver and Szostak 1983 - Yeast recombination - the association between double-strand gap repair and crossing-over.pdf). The fragment #106 in Fig 7 seems to be originally a piece of DNA from around the HIS3 locus in the yeast genome. Related plasmids and strategies are also described in [Orr-Weaver et al. 1981](Orr-Weaver et al. 1981 - Yeast transformation - a model system for the study of recombination.pdf). The HIS3 fragment has also been described along with a detailed restriction map in [Jones and Prakash 1990](jones1990.pdf).\n",
    "\n",
    "Figure 7 indicate that the fragment #106 is flanked by BamHI sites with an internal HpaII site. We will use this information to try to identify this fragment in the yeast genome."
   ]
  },
  {
   "cell_type": "code",
   "execution_count": 8,
   "metadata": {
    "execution": {
     "iopub.execute_input": "2021-10-31T13:25:16.948481Z",
     "iopub.status.busy": "2021-10-31T13:25:16.947852Z",
     "iopub.status.idle": "2021-10-31T13:25:17.182235Z",
     "shell.execute_reply": "2021-10-31T13:25:17.181807Z"
    }
   },
   "outputs": [],
   "source": [
    "from pygenome import saccharomyces_cerevisiae as sg"
   ]
  },
  {
   "cell_type": "code",
   "execution_count": 9,
   "metadata": {
    "execution": {
     "iopub.execute_input": "2021-10-31T13:25:17.185674Z",
     "iopub.status.busy": "2021-10-31T13:25:17.185110Z",
     "iopub.status.idle": "2021-10-31T13:25:17.187164Z",
     "shell.execute_reply": "2021-10-31T13:25:17.186775Z"
    }
   },
   "outputs": [],
   "source": [
    "HIS3 = sg.stdgenes[\"HIS3\"]"
   ]
  },
  {
   "cell_type": "code",
   "execution_count": 10,
   "metadata": {
    "execution": {
     "iopub.execute_input": "2021-10-31T13:25:17.191650Z",
     "iopub.status.busy": "2021-10-31T13:25:17.190628Z",
     "iopub.status.idle": "2021-10-31T13:25:17.348337Z",
     "shell.execute_reply": "2021-10-31T13:25:17.347885Z"
    }
   },
   "outputs": [],
   "source": [
    "HIS3_locus = Dseqrecord( HIS3.locus() )"
   ]
  },
  {
   "cell_type": "code",
   "execution_count": 11,
   "metadata": {
    "execution": {
     "iopub.execute_input": "2021-10-31T13:25:17.351746Z",
     "iopub.status.busy": "2021-10-31T13:25:17.351289Z",
     "iopub.status.idle": "2021-10-31T13:25:17.353781Z",
     "shell.execute_reply": "2021-10-31T13:25:17.354146Z"
    }
   },
   "outputs": [
    {
     "data": {
      "text/plain": [
       "Dseqrecord(-2663)"
      ]
     },
     "execution_count": 11,
     "metadata": {},
     "output_type": "execute_result"
    }
   ],
   "source": [
    "HIS3_locus"
   ]
  },
  {
   "cell_type": "markdown",
   "metadata": {},
   "source": [
    "We start with the HIS3 locus sequence from the Saccharomyces cerevisiae genome sequencing project. The HIS3_locus variable contains the HIS3 orf and 1000 bp up and downstream sequence. The total size is 2663 bp."
   ]
  },
  {
   "cell_type": "code",
   "execution_count": 12,
   "metadata": {
    "execution": {
     "iopub.execute_input": "2021-10-31T13:25:17.359329Z",
     "iopub.status.busy": "2021-10-31T13:25:17.358330Z",
     "iopub.status.idle": "2021-10-31T13:25:17.362507Z",
     "shell.execute_reply": "2021-10-31T13:25:17.361939Z"
    }
   },
   "outputs": [
    {
     "data": {
      "text/plain": [
       "(Dseqrecord(-535), Dseqrecord(-1771), Dseqrecord(-365))"
      ]
     },
     "execution_count": 12,
     "metadata": {},
     "output_type": "execute_result"
    }
   ],
   "source": [
    "HIS3_locus.cut(BamHI)"
   ]
  },
  {
   "cell_type": "markdown",
   "metadata": {},
   "source": [
    "This fragment has two BamHI sites which can be assumed to be the ones flanking the #86 fragment in Fig 7. If this is correct, the middle (1771 bp fragment) should have one internal HpaII site. If this assumption is correct, the HIS3 open reading frame should be contained withit this fragment. The cell below shows that this is so and fragment should be the 1771 bp fragment."
   ]
  },
  {
   "cell_type": "code",
   "execution_count": 13,
   "metadata": {
    "execution": {
     "iopub.execute_input": "2021-10-31T13:25:17.367464Z",
     "iopub.status.busy": "2021-10-31T13:25:17.366524Z",
     "iopub.status.idle": "2021-10-31T13:25:17.762759Z",
     "shell.execute_reply": "2021-10-31T13:25:17.763176Z"
    }
   },
   "outputs": [
    {
     "data": {
      "text/plain": [
       "True"
      ]
     },
     "execution_count": 13,
     "metadata": {},
     "output_type": "execute_result"
    }
   ],
   "source": [
    "str(HIS3.cds().seq) in HIS3_locus"
   ]
  },
  {
   "cell_type": "code",
   "execution_count": 14,
   "metadata": {
    "execution": {
     "iopub.execute_input": "2021-10-31T13:25:17.768831Z",
     "iopub.status.busy": "2021-10-31T13:25:17.768156Z",
     "iopub.status.idle": "2021-10-31T13:25:17.770701Z",
     "shell.execute_reply": "2021-10-31T13:25:17.770124Z"
    }
   },
   "outputs": [],
   "source": [
    "stuffer1 ,fragment86, stuffer2 = HIS3_locus.cut(BamHI)"
   ]
  },
  {
   "cell_type": "code",
   "execution_count": 15,
   "metadata": {
    "execution": {
     "iopub.execute_input": "2021-10-31T13:25:17.779394Z",
     "iopub.status.busy": "2021-10-31T13:25:17.778495Z",
     "iopub.status.idle": "2021-10-31T13:25:17.782529Z",
     "shell.execute_reply": "2021-10-31T13:25:17.782137Z"
    }
   },
   "outputs": [
    {
     "data": {
      "text/plain": [
       "(Dseqrecord(-535), Dseqrecord(-1771), Dseqrecord(-365))"
      ]
     },
     "execution_count": 15,
     "metadata": {},
     "output_type": "execute_result"
    }
   ],
   "source": [
    "stuffer1 ,fragment86, stuffer2"
   ]
  },
  {
   "cell_type": "code",
   "execution_count": 16,
   "metadata": {
    "execution": {
     "iopub.execute_input": "2021-10-31T13:25:17.785971Z",
     "iopub.status.busy": "2021-10-31T13:25:17.785529Z",
     "iopub.status.idle": "2021-10-31T13:25:17.787186Z",
     "shell.execute_reply": "2021-10-31T13:25:17.787804Z"
    }
   },
   "outputs": [],
   "source": [
    "from Bio.Restriction import HpaII, BglII"
   ]
  },
  {
   "cell_type": "markdown",
   "metadata": {},
   "source": [
    "Apparently, the fragment 86 has the expected internal HpaII site."
   ]
  },
  {
   "cell_type": "code",
   "execution_count": 17,
   "metadata": {
    "execution": {
     "iopub.execute_input": "2021-10-31T13:25:17.793298Z",
     "iopub.status.busy": "2021-10-31T13:25:17.792292Z",
     "iopub.status.idle": "2021-10-31T13:25:17.796636Z",
     "shell.execute_reply": "2021-10-31T13:25:17.796062Z"
    }
   },
   "outputs": [
    {
     "data": {
      "text/plain": [
       "(Dseqrecord(-689), Dseqrecord(-1084))"
      ]
     },
     "execution_count": 17,
     "metadata": {},
     "output_type": "execute_result"
    }
   ],
   "source": [
    "fragment86.cut(HpaII)"
   ]
  },
  {
   "cell_type": "markdown",
   "metadata": {},
   "source": [
    "The fragment also has four BglII sites as depicted in Fig 2 of [Orr-Weaver et al. 1983](Orr-Weaver and Szostak 1983 - Yeast recombination - the association between double-strand gap repair and crossing-over.pdf)."
   ]
  },
  {
   "cell_type": "code",
   "execution_count": 18,
   "metadata": {
    "execution": {
     "iopub.execute_input": "2021-10-31T13:25:17.802983Z",
     "iopub.status.busy": "2021-10-31T13:25:17.802091Z",
     "iopub.status.idle": "2021-10-31T13:25:17.805585Z",
     "shell.execute_reply": "2021-10-31T13:25:17.806133Z"
    }
   },
   "outputs": [
    {
     "data": {
      "text/plain": [
       "(Dseqrecord(-872), Dseqrecord(-64), Dseqrecord(-745), Dseqrecord(-102))"
      ]
     },
     "execution_count": 18,
     "metadata": {},
     "output_type": "execute_result"
    }
   ],
   "source": [
    "fragment86.cut(BglII)"
   ]
  },
  {
   "cell_type": "markdown",
   "metadata": {},
   "source": [
    "This means that we can assume that we have the correct sequence with some degree of certainty. Fragment #106 is the large digestion product of fragment #86 with HpaII according to Fig 7."
   ]
  },
  {
   "cell_type": "code",
   "execution_count": 19,
   "metadata": {
    "execution": {
     "iopub.execute_input": "2021-10-31T13:25:17.812037Z",
     "iopub.status.busy": "2021-10-31T13:25:17.811337Z",
     "iopub.status.idle": "2021-10-31T13:25:17.814013Z",
     "shell.execute_reply": "2021-10-31T13:25:17.813463Z"
    }
   },
   "outputs": [],
   "source": [
    "stuffer, fragment106 = fragment86.cut(HpaII)"
   ]
  },
  {
   "cell_type": "code",
   "execution_count": 20,
   "metadata": {
    "execution": {
     "iopub.execute_input": "2021-10-31T13:25:17.819794Z",
     "iopub.status.busy": "2021-10-31T13:25:17.818636Z",
     "iopub.status.idle": "2021-10-31T13:25:17.823163Z",
     "shell.execute_reply": "2021-10-31T13:25:17.823865Z"
    }
   },
   "outputs": [
    {
     "data": {
      "text/plain": [
       "(Dseqrecord(-689), Dseqrecord(-1084))"
      ]
     },
     "execution_count": 20,
     "metadata": {},
     "output_type": "execute_result"
    }
   ],
   "source": [
    "stuffer, fragment106"
   ]
  },
  {
   "cell_type": "markdown",
   "metadata": {},
   "source": [
    "The pRS5 vector results from ligation of a pBR322 BamHI-ClaI fragment with fragment #106. "
   ]
  },
  {
   "cell_type": "code",
   "execution_count": 21,
   "metadata": {
    "execution": {
     "iopub.execute_input": "2021-10-31T13:25:17.829879Z",
     "iopub.status.busy": "2021-10-31T13:25:17.829202Z",
     "iopub.status.idle": "2021-10-31T13:25:17.831619Z",
     "shell.execute_reply": "2021-10-31T13:25:17.832173Z"
    }
   },
   "outputs": [],
   "source": [
    "pRS5 = (pBR322_cla_bam + fragment106).looped()"
   ]
  },
  {
   "cell_type": "code",
   "execution_count": 22,
   "metadata": {
    "execution": {
     "iopub.execute_input": "2021-10-31T13:25:17.837176Z",
     "iopub.status.busy": "2021-10-31T13:25:17.836367Z",
     "iopub.status.idle": "2021-10-31T13:25:17.847245Z",
     "shell.execute_reply": "2021-10-31T13:25:17.847967Z"
    }
   },
   "outputs": [
    {
     "data": {
      "text/html": [
       "<font face=monospace><a href='pRS5.gb' target='_blank'>pRS5.gb</a></font><br>"
      ]
     },
     "metadata": {},
     "output_type": "display_data"
    }
   ],
   "source": [
    "pRS5.write(\"pRS5.gb\")"
   ]
  },
  {
   "cell_type": "markdown",
   "metadata": {},
   "source": [
    "The pRS6 is made from combining a KpnI-XhoI fragment from vector YEP13 (fragment #114) with a KpnI-SalI fragment from pRS5 (fragment #110) (Fig 8). The YEP13 sequence can be found in Genbank under the accession number [U03498](https://www.ncbi.nlm.nih.gov/nuccore/U03498).\n",
    "\n",
    "![fig8](fig8.png)"
   ]
  },
  {
   "cell_type": "code",
   "execution_count": 23,
   "metadata": {
    "execution": {
     "iopub.execute_input": "2021-10-31T13:25:17.853161Z",
     "iopub.status.busy": "2021-10-31T13:25:17.852374Z",
     "iopub.status.idle": "2021-10-31T13:25:18.913439Z",
     "shell.execute_reply": "2021-10-31T13:25:18.912940Z"
    }
   },
   "outputs": [],
   "source": [
    "YEP13 = gb.nucleotide(\"U03498\")"
   ]
  },
  {
   "cell_type": "code",
   "execution_count": 24,
   "metadata": {
    "execution": {
     "iopub.execute_input": "2021-10-31T13:25:18.917860Z",
     "iopub.status.busy": "2021-10-31T13:25:18.917105Z",
     "iopub.status.idle": "2021-10-31T13:25:18.920083Z",
     "shell.execute_reply": "2021-10-31T13:25:18.920539Z"
    }
   },
   "outputs": [
    {
     "data": {
      "text/html": [
       "<a href='https://www.ncbi.nlm.nih.gov/nuccore/U03498?from=&to=&strand=1' target='_blank'>U03498</a>"
      ],
      "text/plain": [
       "Gbank(U03498)(o10667)"
      ]
     },
     "execution_count": 24,
     "metadata": {},
     "output_type": "execute_result"
    }
   ],
   "source": [
    "YEP13"
   ]
  },
  {
   "cell_type": "code",
   "execution_count": 25,
   "metadata": {
    "execution": {
     "iopub.execute_input": "2021-10-31T13:25:18.926411Z",
     "iopub.status.busy": "2021-10-31T13:25:18.925516Z",
     "iopub.status.idle": "2021-10-31T13:25:18.928308Z",
     "shell.execute_reply": "2021-10-31T13:25:18.928953Z"
    }
   },
   "outputs": [],
   "source": [
    "from Bio.Restriction import XhoI, KpnI"
   ]
  },
  {
   "cell_type": "markdown",
   "metadata": {},
   "source": [
    "The fragment #114 is a partial digest using XhoI and KpnI. Pydna has no partial digestion functionality, so we have to cut completely and then add back the desired fragment(s). XhoI cuts once in YEp13 whle KpnI cuts twice. "
   ]
  },
  {
   "cell_type": "code",
   "execution_count": 26,
   "metadata": {
    "execution": {
     "iopub.execute_input": "2021-10-31T13:25:18.937848Z",
     "iopub.status.busy": "2021-10-31T13:25:18.937160Z",
     "iopub.status.idle": "2021-10-31T13:25:18.940306Z",
     "shell.execute_reply": "2021-10-31T13:25:18.940826Z"
    }
   },
   "outputs": [
    {
     "data": {
      "text/plain": [
       "(Dseqrecord(-10671),)"
      ]
     },
     "execution_count": 26,
     "metadata": {},
     "output_type": "execute_result"
    }
   ],
   "source": [
    "YEP13.cut(XhoI)"
   ]
  },
  {
   "cell_type": "code",
   "execution_count": 27,
   "metadata": {
    "execution": {
     "iopub.execute_input": "2021-10-31T13:25:18.949415Z",
     "iopub.status.busy": "2021-10-31T13:25:18.948591Z",
     "iopub.status.idle": "2021-10-31T13:25:18.952189Z",
     "shell.execute_reply": "2021-10-31T13:25:18.951658Z"
    }
   },
   "outputs": [
    {
     "data": {
      "text/plain": [
       "(Dseqrecord(-8186), Dseqrecord(-2489))"
      ]
     },
     "execution_count": 27,
     "metadata": {},
     "output_type": "execute_result"
    }
   ],
   "source": [
    "YEP13.cut(KpnI)"
   ]
  },
  {
   "cell_type": "markdown",
   "metadata": {},
   "source": [
    "The complete digestion yields three fragments"
   ]
  },
  {
   "cell_type": "code",
   "execution_count": 28,
   "metadata": {
    "execution": {
     "iopub.execute_input": "2021-10-31T13:25:18.962253Z",
     "iopub.status.busy": "2021-10-31T13:25:18.959863Z",
     "iopub.status.idle": "2021-10-31T13:25:18.965610Z",
     "shell.execute_reply": "2021-10-31T13:25:18.965112Z"
    }
   },
   "outputs": [],
   "source": [
    "frag2,frag3,frag1 = YEP13.cut(XhoI, KpnI)"
   ]
  },
  {
   "cell_type": "code",
   "execution_count": 29,
   "metadata": {
    "execution": {
     "iopub.execute_input": "2021-10-31T13:25:18.970182Z",
     "iopub.status.busy": "2021-10-31T13:25:18.969590Z",
     "iopub.status.idle": "2021-10-31T13:25:18.972413Z",
     "shell.execute_reply": "2021-10-31T13:25:18.972958Z"
    }
   },
   "outputs": [
    {
     "data": {
      "text/plain": [
       "(Dseqrecord(-7291), Dseqrecord(-899), Dseqrecord(-2489))"
      ]
     },
     "execution_count": 29,
     "metadata": {},
     "output_type": "execute_result"
    }
   ],
   "source": [
    "frag1,frag2,frag3"
   ]
  },
  {
   "cell_type": "markdown",
   "metadata": {},
   "source": [
    "Fragment #114 in Fig 8 is the 899 and 2489 fragments above combined."
   ]
  },
  {
   "cell_type": "code",
   "execution_count": 30,
   "metadata": {
    "execution": {
     "iopub.execute_input": "2021-10-31T13:25:18.977812Z",
     "iopub.status.busy": "2021-10-31T13:25:18.977126Z",
     "iopub.status.idle": "2021-10-31T13:25:18.979453Z",
     "shell.execute_reply": "2021-10-31T13:25:18.979968Z"
    }
   },
   "outputs": [],
   "source": [
    "fragment114 = frag2+frag3 "
   ]
  },
  {
   "cell_type": "code",
   "execution_count": 31,
   "metadata": {
    "execution": {
     "iopub.execute_input": "2021-10-31T13:25:18.986416Z",
     "iopub.status.busy": "2021-10-31T13:25:18.985469Z",
     "iopub.status.idle": "2021-10-31T13:25:18.989585Z",
     "shell.execute_reply": "2021-10-31T13:25:18.988828Z"
    }
   },
   "outputs": [
    {
     "data": {
      "text/plain": [
       "(Dseqrecord(-899), Dseqrecord(-2489))"
      ]
     },
     "execution_count": 31,
     "metadata": {},
     "output_type": "execute_result"
    }
   ],
   "source": [
    "fragment114.cut(KpnI)"
   ]
  },
  {
   "cell_type": "code",
   "execution_count": 32,
   "metadata": {
    "execution": {
     "iopub.execute_input": "2021-10-31T13:25:18.994930Z",
     "iopub.status.busy": "2021-10-31T13:25:18.994002Z",
     "iopub.status.idle": "2021-10-31T13:25:18.997700Z",
     "shell.execute_reply": "2021-10-31T13:25:18.998284Z"
    }
   },
   "outputs": [
    {
     "data": {
      "text/plain": [
       "Dseq(-3384)\n",
       "TCGAGGAG..GGTGGTAC\n",
       "    CCTC..CCAC    "
      ]
     },
     "execution_count": 32,
     "metadata": {},
     "output_type": "execute_result"
    }
   ],
   "source": [
    "fragment114.seq"
   ]
  },
  {
   "cell_type": "code",
   "execution_count": 33,
   "metadata": {
    "execution": {
     "iopub.execute_input": "2021-10-31T13:25:19.003607Z",
     "iopub.status.busy": "2021-10-31T13:25:19.002798Z",
     "iopub.status.idle": "2021-10-31T13:25:19.005830Z",
     "shell.execute_reply": "2021-10-31T13:25:19.005178Z"
    }
   },
   "outputs": [],
   "source": [
    "from Bio.Restriction import SalI, HindIII"
   ]
  },
  {
   "cell_type": "code",
   "execution_count": 34,
   "metadata": {
    "execution": {
     "iopub.execute_input": "2021-10-31T13:25:19.015031Z",
     "iopub.status.busy": "2021-10-31T13:25:19.013603Z",
     "iopub.status.idle": "2021-10-31T13:25:19.017623Z",
     "shell.execute_reply": "2021-10-31T13:25:19.018012Z"
    }
   },
   "outputs": [
    {
     "data": {
      "text/plain": [
       "(Dseqrecord(-956), Dseqrecord(-4142))"
      ]
     },
     "execution_count": 34,
     "metadata": {},
     "output_type": "execute_result"
    }
   ],
   "source": [
    "pRS5.cut(KpnI, SalI)"
   ]
  },
  {
   "cell_type": "markdown",
   "metadata": {},
   "source": [
    "The KpnI SalI digestion produces two fragments from pRS5. The larger fragment (fragment #110) is the one we need for the construction of pRS6 (Fig 8)."
   ]
  },
  {
   "cell_type": "code",
   "execution_count": 35,
   "metadata": {
    "execution": {
     "iopub.execute_input": "2021-10-31T13:25:19.026140Z",
     "iopub.status.busy": "2021-10-31T13:25:19.025188Z",
     "iopub.status.idle": "2021-10-31T13:25:19.028923Z",
     "shell.execute_reply": "2021-10-31T13:25:19.028410Z"
    }
   },
   "outputs": [
    {
     "data": {
      "text/plain": [
       "(Dseqrecord(-956), Dseqrecord(-4142))"
      ]
     },
     "execution_count": 35,
     "metadata": {},
     "output_type": "execute_result"
    }
   ],
   "source": [
    "pRS5.cut(KpnI, SalI)"
   ]
  },
  {
   "cell_type": "code",
   "execution_count": 36,
   "metadata": {
    "execution": {
     "iopub.execute_input": "2021-10-31T13:25:19.035538Z",
     "iopub.status.busy": "2021-10-31T13:25:19.035036Z",
     "iopub.status.idle": "2021-10-31T13:25:19.036718Z",
     "shell.execute_reply": "2021-10-31T13:25:19.037115Z"
    }
   },
   "outputs": [],
   "source": [
    "stuffer, fragment110 = pRS5.cut(KpnI, SalI)"
   ]
  },
  {
   "cell_type": "code",
   "execution_count": 37,
   "metadata": {
    "execution": {
     "iopub.execute_input": "2021-10-31T13:25:19.042563Z",
     "iopub.status.busy": "2021-10-31T13:25:19.041872Z",
     "iopub.status.idle": "2021-10-31T13:25:19.044175Z",
     "shell.execute_reply": "2021-10-31T13:25:19.044718Z"
    }
   },
   "outputs": [],
   "source": [
    "pRS6 = (fragment110 + fragment114.rc()).looped()"
   ]
  },
  {
   "cell_type": "code",
   "execution_count": 38,
   "metadata": {
    "execution": {
     "iopub.execute_input": "2021-10-31T13:25:19.048783Z",
     "iopub.status.busy": "2021-10-31T13:25:19.047206Z",
     "iopub.status.idle": "2021-10-31T13:25:19.060879Z",
     "shell.execute_reply": "2021-10-31T13:25:19.061267Z"
    }
   },
   "outputs": [
    {
     "data": {
      "text/html": [
       "<font face=monospace><a href='pRS6.gb' target='_blank'>pRS6.gb</a></font><br>"
      ]
     },
     "metadata": {},
     "output_type": "display_data"
    }
   ],
   "source": [
    "pRS6.write(\"pRS6.gb\")"
   ]
  },
  {
   "cell_type": "markdown",
   "metadata": {},
   "source": [
    "The plasmid pRS6 was digested with HindIII prior to integration in one of the parent strains of pRS112 (Fig 9).\n",
    "\n",
    "![fig9](fig9.png)\n",
    "\n",
    "Quote from the patent: \n",
    "\n",
    "\"Referring to FIG. 10, plasmid 116 was digested with HindIII to produce a small gap within the internal fragment of his3; the HindIII gap is illustrated in FIG. 6 at points 120 and 122. Digestion was conducted in substantial accordance with the procedure described above.\"\n",
    "\n",
    "\"The yeast strain S35/2-10C was transformed with the digested plasmid 116 (pRS6), and colonies able to grow on media lacking leucine were isolated. This isolation procedure was conducted in accordance with the procedure of the F. Sherman article (\"Methods in yeast genetics . . . \", 1986) described above.\"\n"
   ]
  },
  {
   "cell_type": "code",
   "execution_count": 39,
   "metadata": {
    "execution": {
     "iopub.execute_input": "2021-10-31T13:25:19.070197Z",
     "iopub.status.busy": "2021-10-31T13:25:19.069130Z",
     "iopub.status.idle": "2021-10-31T13:25:19.073887Z",
     "shell.execute_reply": "2021-10-31T13:25:19.073413Z"
    }
   },
   "outputs": [
    {
     "data": {
      "text/plain": [
       "(Dseqrecord(-7332), Dseqrecord(-194))"
      ]
     },
     "execution_count": 39,
     "metadata": {},
     "output_type": "execute_result"
    }
   ],
   "source": [
    "pRS6.cut(HindIII)"
   ]
  },
  {
   "cell_type": "markdown",
   "metadata": {},
   "source": [
    "The 194 bp fragment is the \"small gap\" described in the patent quote."
   ]
  },
  {
   "cell_type": "code",
   "execution_count": 40,
   "metadata": {
    "execution": {
     "iopub.execute_input": "2021-10-31T13:25:19.080176Z",
     "iopub.status.busy": "2021-10-31T13:25:19.079526Z",
     "iopub.status.idle": "2021-10-31T13:25:19.081823Z",
     "shell.execute_reply": "2021-10-31T13:25:19.081420Z"
    }
   },
   "outputs": [],
   "source": [
    "pRS6_hind, stuffer = pRS6.cut(HindIII)"
   ]
  },
  {
   "cell_type": "code",
   "execution_count": 41,
   "metadata": {
    "execution": {
     "iopub.execute_input": "2021-10-31T13:25:19.086139Z",
     "iopub.status.busy": "2021-10-31T13:25:19.085428Z",
     "iopub.status.idle": "2021-10-31T13:25:19.088368Z",
     "shell.execute_reply": "2021-10-31T13:25:19.087857Z"
    }
   },
   "outputs": [],
   "source": [
    "pRS6_hind.name = \"prs6\""
   ]
  },
  {
   "cell_type": "code",
   "execution_count": 42,
   "metadata": {
    "execution": {
     "iopub.execute_input": "2021-10-31T13:25:19.094350Z",
     "iopub.status.busy": "2021-10-31T13:25:19.093481Z",
     "iopub.status.idle": "2021-10-31T13:25:19.097674Z",
     "shell.execute_reply": "2021-10-31T13:25:19.096959Z"
    }
   },
   "outputs": [
    {
     "data": {
      "text/plain": [
       "Dseqrecord(-2663)"
      ]
     },
     "execution_count": 42,
     "metadata": {},
     "output_type": "execute_result"
    }
   ],
   "source": [
    "HIS3_locus"
   ]
  },
  {
   "cell_type": "code",
   "execution_count": 43,
   "metadata": {
    "execution": {
     "iopub.execute_input": "2021-10-31T13:25:19.103060Z",
     "iopub.status.busy": "2021-10-31T13:25:19.102284Z",
     "iopub.status.idle": "2021-10-31T13:25:19.105033Z",
     "shell.execute_reply": "2021-10-31T13:25:19.104462Z"
    }
   },
   "outputs": [],
   "source": [
    "HIS3_locus.name = \"HIS3 locus\""
   ]
  },
  {
   "cell_type": "markdown",
   "metadata": {},
   "source": [
    "We use the pydna Assembly functionality to simulate the recombination between the HIS3 locus and the pRS6 plasmid."
   ]
  },
  {
   "cell_type": "code",
   "execution_count": 44,
   "metadata": {
    "execution": {
     "iopub.execute_input": "2021-10-31T13:25:19.122836Z",
     "iopub.status.busy": "2021-10-31T13:25:19.117993Z",
     "iopub.status.idle": "2021-10-31T13:25:19.489845Z",
     "shell.execute_reply": "2021-10-31T13:25:19.489329Z"
    }
   },
   "outputs": [],
   "source": [
    "asm = Assembly((HIS3_locus, pRS6_hind, HIS3_locus))"
   ]
  },
  {
   "cell_type": "code",
   "execution_count": 45,
   "metadata": {
    "execution": {
     "iopub.execute_input": "2021-10-31T13:25:19.493826Z",
     "iopub.status.busy": "2021-10-31T13:25:19.493217Z",
     "iopub.status.idle": "2021-10-31T13:25:19.496610Z",
     "shell.execute_reply": "2021-10-31T13:25:19.495924Z"
    }
   },
   "outputs": [
    {
     "data": {
      "text/plain": [
       "Assembly\n",
       "fragments..: 2663bp 7332bp 2663bp\n",
       "limit(bp)..: 25\n",
       "G.nodes....: 4\n",
       "algorithm..: common_sub_strings"
      ]
     },
     "execution_count": 45,
     "metadata": {},
     "output_type": "execute_result"
    }
   ],
   "source": [
    "asm"
   ]
  },
  {
   "cell_type": "code",
   "execution_count": 46,
   "metadata": {
    "execution": {
     "iopub.execute_input": "2021-10-31T13:25:19.509347Z",
     "iopub.status.busy": "2021-10-31T13:25:19.508522Z",
     "iopub.status.idle": "2021-10-31T13:25:19.512507Z",
     "shell.execute_reply": "2021-10-31T13:25:19.511712Z"
    }
   },
   "outputs": [
    {
     "data": {
      "text/plain": [
       "HIS3 locus|133\n",
       "           \\/\n",
       "           /\\\n",
       "           133|prs6|91\n",
       "                    \\/\n",
       "                    /\\\n",
       "                    91|HIS3 locus"
      ]
     },
     "execution_count": 46,
     "metadata": {},
     "output_type": "execute_result"
    }
   ],
   "source": [
    "candidate = asm.assemble_linear()[0]\n",
    "candidate.figure()"
   ]
  },
  {
   "cell_type": "markdown",
   "metadata": {},
   "source": [
    "The figure above indicate that the plasmid was inserted be recombination between two sequences 133 bp and 91 bp. We call the resulting integrated plasmid \"RS112_his3_locus\"."
   ]
  },
  {
   "cell_type": "code",
   "execution_count": 47,
   "metadata": {
    "execution": {
     "iopub.execute_input": "2021-10-31T13:25:19.517639Z",
     "iopub.status.busy": "2021-10-31T13:25:19.516853Z",
     "iopub.status.idle": "2021-10-31T13:25:19.519372Z",
     "shell.execute_reply": "2021-10-31T13:25:19.518888Z"
    }
   },
   "outputs": [],
   "source": [
    "RS112_his3_locus = candidate"
   ]
  },
  {
   "cell_type": "code",
   "execution_count": 48,
   "metadata": {
    "execution": {
     "iopub.execute_input": "2021-10-31T13:25:19.524070Z",
     "iopub.status.busy": "2021-10-31T13:25:19.523291Z",
     "iopub.status.idle": "2021-10-31T13:25:19.533947Z",
     "shell.execute_reply": "2021-10-31T13:25:19.534338Z"
    }
   },
   "outputs": [
    {
     "data": {
      "text/html": [
       "<font face=monospace><a href='RS112_his3_locus' target='_blank'>RS112_his3_locus</a></font><br>"
      ]
     },
     "metadata": {},
     "output_type": "display_data"
    }
   ],
   "source": [
    "RS112_his3_locus.write(\"RS112_his3_locus\")"
   ]
  },
  {
   "cell_type": "markdown",
   "metadata": {},
   "source": [
    "The cassette can recombine between repeated sequences of the HIS3 orf in such a way that the LEU2 marker and the pBR322 plasmid sequences are lost and a complete and active HIS3 marker is gained.\n",
    "\n",
    "A DNA double stranded break somewhere between the repeated sequences is thought to induce such a recombination. Below we use the SalI restriction enzyme to simulate this break. SalI cuts inside the cassette once in the pBR322 derived sequence."
   ]
  },
  {
   "cell_type": "code",
   "execution_count": 49,
   "metadata": {
    "execution": {
     "iopub.execute_input": "2021-10-31T13:25:19.539794Z",
     "iopub.status.busy": "2021-10-31T13:25:19.539311Z",
     "iopub.status.idle": "2021-10-31T13:25:19.543513Z",
     "shell.execute_reply": "2021-10-31T13:25:19.542985Z"
    }
   },
   "outputs": [
    {
     "data": {
      "text/plain": [
       "(Dseqrecord(-2790), Dseqrecord(-7395))"
      ]
     },
     "execution_count": 49,
     "metadata": {},
     "output_type": "execute_result"
    }
   ],
   "source": [
    "from Bio.Restriction import SalI\n",
    "RS112_his3_locus.cut(SalI)"
   ]
  },
  {
   "cell_type": "code",
   "execution_count": 50,
   "metadata": {
    "execution": {
     "iopub.execute_input": "2021-10-31T13:25:19.549245Z",
     "iopub.status.busy": "2021-10-31T13:25:19.548516Z",
     "iopub.status.idle": "2021-10-31T13:25:19.550519Z",
     "shell.execute_reply": "2021-10-31T13:25:19.551077Z"
    }
   },
   "outputs": [],
   "source": [
    "before, after = RS112_his3_locus.cut(SalI)"
   ]
  },
  {
   "cell_type": "markdown",
   "metadata": {},
   "source": [
    "We cut the cassette in two pieces called \"before\" and \"after\"."
   ]
  },
  {
   "cell_type": "code",
   "execution_count": 51,
   "metadata": {
    "execution": {
     "iopub.execute_input": "2021-10-31T13:25:19.556428Z",
     "iopub.status.busy": "2021-10-31T13:25:19.555708Z",
     "iopub.status.idle": "2021-10-31T13:25:19.558493Z",
     "shell.execute_reply": "2021-10-31T13:25:19.559617Z"
    }
   },
   "outputs": [],
   "source": [
    "before.name  =\"before\"\n",
    "after.name  = \"after\""
   ]
  },
  {
   "cell_type": "markdown",
   "metadata": {},
   "source": [
    "We use the pydna Assembly functionality to simulate this inermolecular recombination as well."
   ]
  },
  {
   "cell_type": "code",
   "execution_count": 52,
   "metadata": {
    "execution": {
     "iopub.execute_input": "2021-10-31T13:25:19.573775Z",
     "iopub.status.busy": "2021-10-31T13:25:19.573261Z",
     "iopub.status.idle": "2021-10-31T13:25:19.768504Z",
     "shell.execute_reply": "2021-10-31T13:25:19.768968Z"
    }
   },
   "outputs": [
    {
     "data": {
      "text/plain": [
       "Assembly\n",
       "fragments..: 2790bp 7395bp\n",
       "limit(bp)..: 400\n",
       "G.nodes....: 2\n",
       "algorithm..: common_sub_strings"
      ]
     },
     "execution_count": 52,
     "metadata": {},
     "output_type": "execute_result"
    }
   ],
   "source": [
    "asm2 = Assembly((before, after), limit=400)\n",
    "asm2"
   ]
  },
  {
   "cell_type": "code",
   "execution_count": 53,
   "metadata": {
    "execution": {
     "iopub.execute_input": "2021-10-31T13:25:19.775356Z",
     "iopub.status.busy": "2021-10-31T13:25:19.774736Z",
     "iopub.status.idle": "2021-10-31T13:25:19.778488Z",
     "shell.execute_reply": "2021-10-31T13:25:19.778010Z"
    }
   },
   "outputs": [
    {
     "data": {
      "text/plain": [
       "before|410\n",
       "       \\/\n",
       "       /\\\n",
       "       410|after"
      ]
     },
     "execution_count": 53,
     "metadata": {},
     "output_type": "execute_result"
    }
   ],
   "source": [
    "candidate = asm2.assemble_linear()[1]\n",
    "candidate.figure()"
   ]
  },
  {
   "cell_type": "markdown",
   "metadata": {},
   "source": [
    "The second linear recombination product is the one we want since the two fragments appear in the order we expected. We can conclude that the recombination happens between two sequences that are 410 bp long.\n",
    "\n",
    "From this analysis follows that the region where a double stranded break can expected to form is the size of the integrated cassette (10181) minus the size of the cassette after recombination (2663) which is 7518 bp.\n",
    "\n",
    "We also confirm below that the original HIS3 sequence is present in the recombined cassette."
   ]
  },
  {
   "cell_type": "code",
   "execution_count": 54,
   "metadata": {
    "execution": {
     "iopub.execute_input": "2021-10-31T13:25:19.803113Z",
     "iopub.status.busy": "2021-10-31T13:25:19.802653Z",
     "iopub.status.idle": "2021-10-31T13:25:20.096434Z",
     "shell.execute_reply": "2021-10-31T13:25:20.096820Z"
    }
   },
   "outputs": [
    {
     "data": {
      "text/plain": [
       "True"
      ]
     },
     "execution_count": 54,
     "metadata": {},
     "output_type": "execute_result"
    }
   ],
   "source": [
    "str(HIS3.cds().seq) in candidate"
   ]
  }
 ],
 "metadata": {
  "kernelspec": {
   "display_name": "Python [conda env:bjorn38]",
   "language": "python",
   "name": "conda-env-bjorn38-py"
  },
  "language_info": {
   "codemirror_mode": {
    "name": "ipython",
    "version": 3
   },
   "file_extension": ".py",
   "mimetype": "text/x-python",
   "name": "python",
   "nbconvert_exporter": "python",
   "pygments_lexer": "ipython3",
   "version": "3.9.7"
  }
 },
 "nbformat": 4,
 "nbformat_minor": 4
}
