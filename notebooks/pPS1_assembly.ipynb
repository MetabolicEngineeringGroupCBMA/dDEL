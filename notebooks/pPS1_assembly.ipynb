{
 "cells": [
  {
   "cell_type": "markdown",
   "metadata": {},
   "source": [
    "## Plan for assembly of the Dominant Del Assay plasmid pPS1"
   ]
  },
  {
   "cell_type": "code",
   "execution_count": 1,
   "metadata": {
    "execution": {
     "iopub.execute_input": "2021-12-19T16:00:06.128110Z",
     "iopub.status.busy": "2021-12-19T16:00:06.127537Z",
     "iopub.status.idle": "2021-12-19T16:00:06.136723Z",
     "shell.execute_reply": "2021-12-19T16:00:06.137119Z"
    }
   },
   "outputs": [
    {
     "data": {
      "text/html": [
       "<img src=\"http://cancerres.aacrjournals.org/content/66/7/3480/F1.medium.gif\"/>"
      ],
      "text/plain": [
       "<IPython.core.display.Image object>"
      ]
     },
     "execution_count": 1,
     "metadata": {},
     "output_type": "execute_result"
    }
   ],
   "source": [
    "from IPython.display import Image\n",
    "Image(url='http://cancerres.aacrjournals.org/content/66/7/3480/F1.medium.gif')"
   ]
  },
  {
   "cell_type": "markdown",
   "metadata": {},
   "source": [
    "### The del assay\n",
    "\n",
    "The image above depicts the principle of the original del assay [Kirpnick-Sobol et al. 2006](https://www.ncbi.nlm.nih.gov/pubmed/16585171).\n",
    "\n",
    "The RS112 yeast strain contains a plasmid (pRS6) carrying the LEU2 gene and an internal fragment of the yeast HIS3 gene integrated into the HIS3 locus. This results in two partial inactive copies of the his3 gene, one with a terminal deletion at the 3'-end, and the other with a terminal deletion at the 5'-end. There are 410 bp of homology between the two (shown as striped region).\n",
    "\n",
    "### The pPS1 plasmid\n",
    "\n",
    "This cassette consists of two dominant markers HphMX4 and the kanamycin resistance gene from the E. coli transposon TN903 \"kan\". The HphMX4 marker is the Hygromycin B resistance gene from an E. coli [plasmid](http://www.ncbi.nlm.nih.gov/pubmed/6319235) under control of the Ashbya gossypii TEF1 promoter and terminator.\n",
    "\n",
    "The idea is to split the HphMX4 marker in two pieces in a way that produces a shared homology between the fragments. The G418 resistance gene kan is be placed between the HphMX4 fragments. The kan gene will be controlled by the promoter and terminator from the Kluyveromyces lactis TEF1 homolog.\n",
    "\n",
    "The whole construct is made by in-vivo gap repair in one reaction. \n",
    "\n",
    "The circular construct is made by in vivo gap-repair in one reaction as a recombination between seven linear DNA fragments.\n",
    "    \n",
    "    1   URA3_2micron\n",
    "    2               HphMX4(5'part)\n",
    "    3                             KlTEF1p\n",
    "    4                                    kan\n",
    "    5                                       KlTEF1t\n",
    "    6                                              YIplac128_smaI    \n",
    "    7                                                            HphMX4(3'part)\n",
    "    \n",
    "1. The URA3_2micron fragment contain a URA3 marker and the 2 micron sequence for plasmid replication\n",
    "2. The Ashbya gossypii TEF1 promoter with a little more than half the Hygromycin B resistance orf\n",
    "3. TEF1 promoter from Kluyveromyces lactis\n",
    "4. The kan resistance orf\n",
    "5. TEF1 terminator from Kluyveromyces lactis\n",
    "6. The YIplac128_smaI is a linearized vector containing E. coli replicative sequences and a LEU2 marker\n",
    "7. The second half the Hygromycin B resistance orf and The Ashbya gossypii TEF1 terminator \n",
    "\n",
    "### Material\n",
    "\n",
    "|DNA      | Source  -80      |\n",
    "|---------|------------------|\n",
    "|pAG32    | box 3\tpos 45   |\n",
    "|pSU0     |                  |\n",
    "|pUG6     | box 3\tpos 55   |\n",
    "|YIplac128| box 1   pos 81   |"
   ]
  },
  {
   "cell_type": "code",
   "execution_count": 2,
   "metadata": {
    "execution": {
     "iopub.execute_input": "2021-12-19T16:00:06.140697Z",
     "iopub.status.busy": "2021-12-19T16:00:06.140207Z",
     "iopub.status.idle": "2021-12-19T16:00:06.568692Z",
     "shell.execute_reply": "2021-12-19T16:00:06.568021Z"
    }
   },
   "outputs": [],
   "source": [
    "from pydna.all import *"
   ]
  },
  {
   "cell_type": "markdown",
   "metadata": {},
   "source": [
    "### 1. URA3_2micron\n",
    "\n",
    "This fragment is PCR amplified from the pSU0 vector described by [Iizasa and Nagano 2006](https://www.ncbi.nlm.nih.gov/pubmed/16454044). This plasmid is available from Genbank under the accession number AB215109."
   ]
  },
  {
   "cell_type": "code",
   "execution_count": 3,
   "metadata": {
    "execution": {
     "iopub.execute_input": "2021-12-19T16:00:06.578267Z",
     "iopub.status.busy": "2021-12-19T16:00:06.577418Z",
     "iopub.status.idle": "2021-12-19T16:00:06.587259Z",
     "shell.execute_reply": "2021-12-19T16:00:06.586640Z"
    }
   },
   "outputs": [],
   "source": [
    "gb = Genbank(\"bjornjobb@gmail.com\")\n",
    "pSU0 = gb.nucleotide(\"AB215109.1\")"
   ]
  },
  {
   "cell_type": "code",
   "execution_count": 4,
   "metadata": {
    "execution": {
     "iopub.execute_input": "2021-12-19T16:00:06.593340Z",
     "iopub.status.busy": "2021-12-19T16:00:06.592287Z",
     "iopub.status.idle": "2021-12-19T16:00:06.596653Z",
     "shell.execute_reply": "2021-12-19T16:00:06.596097Z"
    }
   },
   "outputs": [],
   "source": [
    "URA3_2micron = pSU0[1041:3620]"
   ]
  },
  {
   "cell_type": "code",
   "execution_count": 5,
   "metadata": {
    "execution": {
     "iopub.execute_input": "2021-12-19T16:00:06.601249Z",
     "iopub.status.busy": "2021-12-19T16:00:06.600591Z",
     "iopub.status.idle": "2021-12-19T16:00:06.603912Z",
     "shell.execute_reply": "2021-12-19T16:00:06.603394Z"
    }
   },
   "outputs": [
    {
     "data": {
      "text/plain": [
       "Dseqrecord(-2579)"
      ]
     },
     "execution_count": 5,
     "metadata": {},
     "output_type": "execute_result"
    }
   ],
   "source": [
    "URA3_2micron"
   ]
  },
  {
   "cell_type": "markdown",
   "metadata": {},
   "source": [
    "### 2. HphMX4(5'part) and 7. HphMX4(3'part)\n",
    "\n",
    "The plasmid pAG32 contains the HphMX4 marker gene. It is available from [EUROSCARF](http://www.euroscarf.de/plasmid_details.php?accno=P30106). It was constructed by [Goldstein & McCusker](http://www.ncbi.nlm.nih.gov/pubmed/10514571).\n",
    "\n",
    "The sequence is not available from Genbank, but the EUROSCARF link above provides it. Unfortunately, the LOCUS line is malformed in this record (genbank format).\n",
    "\n",
    "For this reason we deposited a corrected copy of the sequence [here](https://gist.github.com/BjornFJohansson/c5424b7ebbf553c52053). The size of the plasmid is 4160 bp."
   ]
  },
  {
   "cell_type": "code",
   "execution_count": 6,
   "metadata": {
    "execution": {
     "iopub.execute_input": "2021-12-19T16:00:06.608349Z",
     "iopub.status.busy": "2021-12-19T16:00:06.607434Z",
     "iopub.status.idle": "2021-12-19T16:00:06.619651Z",
     "shell.execute_reply": "2021-12-19T16:00:06.619068Z"
    }
   },
   "outputs": [],
   "source": [
    "pAG32 = read(\"pAG32.gb\")"
   ]
  },
  {
   "cell_type": "code",
   "execution_count": 7,
   "metadata": {
    "execution": {
     "iopub.execute_input": "2021-12-19T16:00:06.623993Z",
     "iopub.status.busy": "2021-12-19T16:00:06.623308Z",
     "iopub.status.idle": "2021-12-19T16:00:06.626388Z",
     "shell.execute_reply": "2021-12-19T16:00:06.626913Z"
    }
   },
   "outputs": [
    {
     "data": {
      "text/html": [
       "<a href='pAG32.gb' target='_blank'>pAG32.gb</a><br>"
      ],
      "text/plain": [
       "File(pAG32)(o4160)"
      ]
     },
     "execution_count": 7,
     "metadata": {},
     "output_type": "execute_result"
    }
   ],
   "source": [
    "pAG32 "
   ]
  },
  {
   "cell_type": "code",
   "execution_count": 8,
   "metadata": {
    "execution": {
     "iopub.execute_input": "2021-12-19T16:00:06.636882Z",
     "iopub.status.busy": "2021-12-19T16:00:06.636091Z",
     "iopub.status.idle": "2021-12-19T16:00:06.639072Z",
     "shell.execute_reply": "2021-12-19T16:00:06.639528Z"
    }
   },
   "outputs": [
    {
     "data": {
      "text/plain": [
       "ttCV-qk-4UzU8BkVhaswwqdfGlg"
      ]
     },
     "execution_count": 8,
     "metadata": {},
     "output_type": "execute_result"
    }
   ],
   "source": [
    "pAG32.cseguid()"
   ]
  },
  {
   "cell_type": "code",
   "execution_count": 9,
   "metadata": {
    "execution": {
     "iopub.execute_input": "2021-12-19T16:00:06.648902Z",
     "iopub.status.busy": "2021-12-19T16:00:06.648201Z",
     "iopub.status.idle": "2021-12-19T16:00:06.651209Z",
     "shell.execute_reply": "2021-12-19T16:00:06.650755Z"
    }
   },
   "outputs": [
    {
     "data": {
      "text/html": [
       "<table>\n",
       "    <thead>\n",
       "        <tr>\n",
       "            <th>Ft#</th>\n",
       "            <th>Label or Note</th>\n",
       "            <th>Dir</th>\n",
       "            <th>Sta</th>\n",
       "            <th>End</th>\n",
       "            <th>Len</th>\n",
       "            <th>type</th>\n",
       "            <th>orf?</th>\n",
       "        </tr>\n",
       "    </thead>\n",
       "    <tbody>\n",
       "        <tr>\n",
       "            <td>0</td>\n",
       "            <td>L:TEF-PRO</td>\n",
       "            <td>--&gt;</td>\n",
       "            <td>90</td>\n",
       "            <td>458</td>\n",
       "            <td>368</td>\n",
       "            <td>misc_feature</td>\n",
       "            <td>no</td>\n",
       "        </tr>\n",
       "        <tr>\n",
       "            <td>1</td>\n",
       "            <td>L:hygromycin B p</td>\n",
       "            <td>--&gt;</td>\n",
       "            <td>458</td>\n",
       "            <td>1487</td>\n",
       "            <td>1029</td>\n",
       "            <td>CDS</td>\n",
       "            <td>yes</td>\n",
       "        </tr>\n",
       "        <tr>\n",
       "            <td>2</td>\n",
       "            <td>L:TEF-TER</td>\n",
       "            <td>--&gt;</td>\n",
       "            <td>1487</td>\n",
       "            <td>1727</td>\n",
       "            <td>240</td>\n",
       "            <td>misc_feature</td>\n",
       "            <td>no</td>\n",
       "        </tr>\n",
       "        <tr>\n",
       "            <td>3</td>\n",
       "            <td>L:AmpR</td>\n",
       "            <td>&lt;--</td>\n",
       "            <td>2832</td>\n",
       "            <td>3693</td>\n",
       "            <td>861</td>\n",
       "            <td>CDS</td>\n",
       "            <td>yes</td>\n",
       "        </tr>\n",
       "    </tbody>\n",
       "</table>"
      ],
      "text/markdown": [
       "| Ft# | Label or Note    | Dir | Sta  | End  |  Len | type         | orf? |\n",
       "|----:|:-----------------|:---:|:-----|:-----|-----:|:-------------|:----:|\n",
       "|   0 | L:TEF-PRO        | --> | 90   | 458  |  368 | misc_feature |  no  |\n",
       "|   1 | L:hygromycin B p | --> | 458  | 1487 | 1029 | CDS          | yes  |\n",
       "|   2 | L:TEF-TER        | --> | 1487 | 1727 |  240 | misc_feature |  no  |\n",
       "|   3 | L:AmpR           | <-- | 2832 | 3693 |  861 | CDS          | yes  |"
      ],
      "text/plain": [
       "+-----+------------------+-----+------+------+------+--------------+------+\n",
       "| Ft# | Label or Note    | Dir | Sta  | End  |  Len | type         | orf? |\n",
       "+-----+------------------+-----+------+------+------+--------------+------+\n",
       "|   0 | L:TEF-PRO        | --> | 90   | 458  |  368 | misc_feature |  no  |\n",
       "|   1 | L:hygromycin B p | --> | 458  | 1487 | 1029 | CDS          | yes  |\n",
       "|   2 | L:TEF-TER        | --> | 1487 | 1727 |  240 | misc_feature |  no  |\n",
       "|   3 | L:AmpR           | <-- | 2832 | 3693 |  861 | CDS          | yes  |\n",
       "+-----+------------------+-----+------+------+------+--------------+------+"
      ]
     },
     "execution_count": 9,
     "metadata": {},
     "output_type": "execute_result"
    }
   ],
   "source": [
    "pAG32.list_features()"
   ]
  },
  {
   "cell_type": "markdown",
   "metadata": {},
   "source": [
    "We can inspect the features in the table above to conclude that the HphMX4 cassete starts at 90 in feature 0 and ends at 1727 in feature 2. We pick out this slice ofthe sequence below to the variable \"hyg_cassette\"."
   ]
  },
  {
   "cell_type": "code",
   "execution_count": 10,
   "metadata": {
    "execution": {
     "iopub.execute_input": "2021-12-19T16:00:06.655113Z",
     "iopub.status.busy": "2021-12-19T16:00:06.654337Z",
     "iopub.status.idle": "2021-12-19T16:00:06.657551Z",
     "shell.execute_reply": "2021-12-19T16:00:06.658344Z"
    }
   },
   "outputs": [],
   "source": [
    "hyg_cassette = pAG32[90:1727]"
   ]
  },
  {
   "cell_type": "code",
   "execution_count": 11,
   "metadata": {
    "execution": {
     "iopub.execute_input": "2021-12-19T16:00:06.664285Z",
     "iopub.status.busy": "2021-12-19T16:00:06.663162Z",
     "iopub.status.idle": "2021-12-19T16:00:06.667211Z",
     "shell.execute_reply": "2021-12-19T16:00:06.666706Z"
    }
   },
   "outputs": [
    {
     "data": {
      "text/plain": [
       "Dseqrecord(-1637)"
      ]
     },
     "execution_count": 11,
     "metadata": {},
     "output_type": "execute_result"
    }
   ],
   "source": [
    "hyg_cassette"
   ]
  },
  {
   "cell_type": "code",
   "execution_count": 12,
   "metadata": {
    "execution": {
     "iopub.execute_input": "2021-12-19T16:00:06.671226Z",
     "iopub.status.busy": "2021-12-19T16:00:06.670620Z",
     "iopub.status.idle": "2021-12-19T16:00:06.676521Z",
     "shell.execute_reply": "2021-12-19T16:00:06.677075Z"
    }
   },
   "outputs": [
    {
     "data": {
      "text/html": [
       "<font face=monospace><a href='hyg_cassette.gb' target='_blank'>hyg_cassette.gb</a></font><br>"
      ]
     },
     "metadata": {},
     "output_type": "display_data"
    }
   ],
   "source": [
    "hyg_cassette.write(\"hyg_cassette.gb\")"
   ]
  },
  {
   "cell_type": "markdown",
   "metadata": {},
   "source": [
    "The HphMX4 cassette is 1637 bp. We will split the HphMX4 in two parts in such a way that there is an overlap or shared homology in the middle. The overlap was set to 200 bp to reflect the overlap length in the original del cassette."
   ]
  },
  {
   "cell_type": "code",
   "execution_count": 13,
   "metadata": {
    "execution": {
     "iopub.execute_input": "2021-12-19T16:00:06.682265Z",
     "iopub.status.busy": "2021-12-19T16:00:06.681475Z",
     "iopub.status.idle": "2021-12-19T16:00:06.685091Z",
     "shell.execute_reply": "2021-12-19T16:00:06.684530Z"
    }
   },
   "outputs": [],
   "source": [
    "middle = int(len(hyg_cassette)/2)\n",
    "overlap = 200"
   ]
  },
  {
   "cell_type": "markdown",
   "metadata": {},
   "source": [
    "We split the HphMX4 in two parts:"
   ]
  },
  {
   "cell_type": "code",
   "execution_count": 14,
   "metadata": {
    "execution": {
     "iopub.execute_input": "2021-12-19T16:00:06.690143Z",
     "iopub.status.busy": "2021-12-19T16:00:06.689469Z",
     "iopub.status.idle": "2021-12-19T16:00:06.691918Z",
     "shell.execute_reply": "2021-12-19T16:00:06.692449Z"
    }
   },
   "outputs": [],
   "source": [
    "hphMX4_5_part = hyg_cassette[:middle+overlap]\n",
    "hphMX4_3_part = hyg_cassette[(middle-overlap):]"
   ]
  },
  {
   "cell_type": "markdown",
   "metadata": {},
   "source": [
    "The last 400 bp of the first part are equal to the first 400 bp of the second part. "
   ]
  },
  {
   "cell_type": "code",
   "execution_count": 15,
   "metadata": {
    "execution": {
     "iopub.execute_input": "2021-12-19T16:00:06.698696Z",
     "iopub.status.busy": "2021-12-19T16:00:06.697611Z",
     "iopub.status.idle": "2021-12-19T16:00:06.701216Z",
     "shell.execute_reply": "2021-12-19T16:00:06.701790Z"
    }
   },
   "outputs": [
    {
     "data": {
      "text/plain": [
       "True"
      ]
     },
     "execution_count": 15,
     "metadata": {},
     "output_type": "execute_result"
    }
   ],
   "source": [
    "eq( hphMX4_5_part[-400:], hphMX4_3_part[:400] )"
   ]
  },
  {
   "cell_type": "markdown",
   "metadata": {},
   "source": [
    "The overlap sequence can be seen below."
   ]
  },
  {
   "cell_type": "code",
   "execution_count": 16,
   "metadata": {
    "execution": {
     "iopub.execute_input": "2021-12-19T16:00:06.706738Z",
     "iopub.status.busy": "2021-12-19T16:00:06.706097Z",
     "iopub.status.idle": "2021-12-19T16:00:06.708784Z",
     "shell.execute_reply": "2021-12-19T16:00:06.709287Z"
    }
   },
   "outputs": [
    {
     "name": "stdout",
     "output_type": "stream",
     "text": [
      "TCAGCGAGAGCCTGACCTATTGCATCTCCCGCCGTGCACAGGGTGTCACGTTGCAAGACCTGCCTGAAACCGAACTGCCCGCTGTTCTGCAGCCGGTCGCGGAGGCCATGGATGCGATCGCTGCGGCCGATCTTAGCCAGACGAGCGGGTTCGGCCCATTCGGACCGCAAGGAATCGGTCAATACACTACATGGCGTGATTTCATATGCGCGATTGCTGATCCCCATGTGTATCACTGGCAAACTGTGATGGACGACACCGTCAGTGCGTCCGTCGCGCAGGCTCTCGATGAGCTGATGCTTTGGGCCGAGGACTGCCCCGAAGTCCGGCACCTCGTGCACGCGGATTTCGGCTCCAACAATGTCCTGACGGACAATGGCCGCATAACAGCGGTCATTGA\n"
     ]
    }
   ],
   "source": [
    "print( str(hphMX4_5_part[-400:].seq) )"
   ]
  },
  {
   "cell_type": "markdown",
   "metadata": {},
   "source": [
    "### 3. KlTEF1p and 5. KlTEF1t\n",
    "\n",
    "The Kluyveromyces lactis TEF1 promoter and terminator will be used to express the kan gene. This promoter and terminator has not been proven to work in S. cerevisiae, so this has to be done after construction.\n",
    "\n",
    "K. lactis sequences can be found at the [Yeast Gene Order Browser](http://ygob.ucd.ie/)\n",
    "\n",
    "The Kl TEF1 promoter has the following [sequence](http://ygob.ucd.ie/cgi/browser/intergenic.pl?ver=Latest&gene=KLLA0B09020g&org=klac&nbr=KLLA0B08998g&dir=inverted)\n",
    "\n",
    "The Kl TEF1 promoter has the following [sequence](http://ygob.ucd.ie/cgi/browser/intergenic.pl?ver=Latest&gene=KLLA0B08998g&org=klac&nbr=KLLA0B08976g&dir=inverted)"
   ]
  },
  {
   "cell_type": "code",
   "execution_count": 17,
   "metadata": {
    "execution": {
     "iopub.execute_input": "2021-12-19T16:00:06.714725Z",
     "iopub.status.busy": "2021-12-19T16:00:06.713562Z",
     "iopub.status.idle": "2021-12-19T16:00:06.717471Z",
     "shell.execute_reply": "2021-12-19T16:00:06.716722Z"
    }
   },
   "outputs": [],
   "source": [
    "promoter_link =\"http://ygob.ucd.ie/cgi/browser/intergenic.pl?ver=Latest&gene=KLLA0B09020g&org=klac&nbr=KLLA0B08998g&dir=inverted\" "
   ]
  },
  {
   "cell_type": "code",
   "execution_count": 18,
   "metadata": {
    "execution": {
     "iopub.execute_input": "2021-12-19T16:00:06.723006Z",
     "iopub.status.busy": "2021-12-19T16:00:06.721947Z",
     "iopub.status.idle": "2021-12-19T16:00:08.974767Z",
     "shell.execute_reply": "2021-12-19T16:00:08.974103Z"
    }
   },
   "outputs": [],
   "source": [
    "html = download_text(promoter_link)"
   ]
  },
  {
   "cell_type": "markdown",
   "metadata": {},
   "source": [
    "The links above goes to html documents that contain the sequences. We use the [BeautifulSoup library](https://www.crummy.com/software/BeautifulSoup/) to extract the sequence."
   ]
  },
  {
   "cell_type": "code",
   "execution_count": 19,
   "metadata": {
    "execution": {
     "iopub.execute_input": "2021-12-19T16:00:08.979839Z",
     "iopub.status.busy": "2021-12-19T16:00:08.978891Z",
     "iopub.status.idle": "2021-12-19T16:00:09.092234Z",
     "shell.execute_reply": "2021-12-19T16:00:09.091743Z"
    }
   },
   "outputs": [],
   "source": [
    "from bs4 import BeautifulSoup"
   ]
  },
  {
   "cell_type": "code",
   "execution_count": 20,
   "metadata": {
    "execution": {
     "iopub.execute_input": "2021-12-19T16:00:09.096675Z",
     "iopub.status.busy": "2021-12-19T16:00:09.096173Z",
     "iopub.status.idle": "2021-12-19T16:00:09.099960Z",
     "shell.execute_reply": "2021-12-19T16:00:09.100635Z"
    }
   },
   "outputs": [],
   "source": [
    "KlTEF1p = read( ''.join( BeautifulSoup( html, \"lxml\").findAll( text = True ) ) )"
   ]
  },
  {
   "cell_type": "code",
   "execution_count": 21,
   "metadata": {
    "execution": {
     "iopub.execute_input": "2021-12-19T16:00:09.106038Z",
     "iopub.status.busy": "2021-12-19T16:00:09.104761Z",
     "iopub.status.idle": "2021-12-19T16:00:09.108700Z",
     "shell.execute_reply": "2021-12-19T16:00:09.109157Z"
    }
   },
   "outputs": [
    {
     "data": {
      "text/plain": [
       "Dseqrecord(-1421)"
      ]
     },
     "execution_count": 21,
     "metadata": {},
     "output_type": "execute_result"
    }
   ],
   "source": [
    "KlTEF1p"
   ]
  },
  {
   "cell_type": "code",
   "execution_count": 22,
   "metadata": {
    "execution": {
     "iopub.execute_input": "2021-12-19T16:00:09.113217Z",
     "iopub.status.busy": "2021-12-19T16:00:09.112597Z",
     "iopub.status.idle": "2021-12-19T16:00:09.115008Z",
     "shell.execute_reply": "2021-12-19T16:00:09.114516Z"
    }
   },
   "outputs": [],
   "source": [
    "KlTEF1p.name = \"KlTEF1p\"\n",
    "KlTEF1p.id = \"KlTEF1p\""
   ]
  },
  {
   "cell_type": "markdown",
   "metadata": {},
   "source": [
    "The K. lactis TEF1prom contains the intergenic sequence between the KlTEF1 gene and the upstream gene. About 400 bp should be sufficient for the promoter to give efficient expression."
   ]
  },
  {
   "cell_type": "code",
   "execution_count": 23,
   "metadata": {
    "execution": {
     "iopub.execute_input": "2021-12-19T16:00:09.121140Z",
     "iopub.status.busy": "2021-12-19T16:00:09.120168Z",
     "iopub.status.idle": "2021-12-19T16:00:09.123069Z",
     "shell.execute_reply": "2021-12-19T16:00:09.122393Z"
    }
   },
   "outputs": [],
   "source": [
    "KlTEF1p = KlTEF1p[-400:]"
   ]
  },
  {
   "cell_type": "code",
   "execution_count": 24,
   "metadata": {
    "execution": {
     "iopub.execute_input": "2021-12-19T16:00:09.128230Z",
     "iopub.status.busy": "2021-12-19T16:00:09.127452Z",
     "iopub.status.idle": "2021-12-19T16:00:09.130280Z",
     "shell.execute_reply": "2021-12-19T16:00:09.130762Z"
    }
   },
   "outputs": [
    {
     "name": "stdout",
     "output_type": "stream",
     "text": [
      "AACACTGGGTCAATCATAGCCTACACAGGTGAACAGAGTAGCGTTTATACAGGGTTTATACGGTGATTCCTACGGCAAAAATTTTTCATTTCTAAAAAAAAAAAGAAAAATTTTTCTTTCCAACGCTAGAAGGAAAAGAAAAATCTAATTAAATTGATTTGGTGATTTTCTGAGAGTTCCCTTTTTCATATATCGAATTTTGAATATAAAAGGAGATCGAAAAAATTTTTCTATTCAATCTGTTTTCTGGTTTTATTTGATAGTTTTTTTGTGTATTATTATTATGGATTAGTACTGGTTTATATGGGTTTTTCTGTATAACTTCTTTTTATTTTAGTTTGTTTAATCTTATTTTGAGTTACATTATAGTTCCCTAACTGCAAGAGAAGTAACATTAAAA\n"
     ]
    }
   ],
   "source": [
    "print(KlTEF1p.seq)"
   ]
  },
  {
   "cell_type": "markdown",
   "metadata": {},
   "source": [
    "We establish the terminator in the same manner."
   ]
  },
  {
   "cell_type": "code",
   "execution_count": 25,
   "metadata": {
    "execution": {
     "iopub.execute_input": "2021-12-19T16:00:09.134720Z",
     "iopub.status.busy": "2021-12-19T16:00:09.133276Z",
     "iopub.status.idle": "2021-12-19T16:00:09.136629Z",
     "shell.execute_reply": "2021-12-19T16:00:09.137139Z"
    }
   },
   "outputs": [],
   "source": [
    "terminator_link = \"http://ygob.ucd.ie/cgi/browser/intergenic.pl?ver=Latest&gene=KLLA0B08998g&org=klac&nbr=KLLA0B08976g&dir=inverted\""
   ]
  },
  {
   "cell_type": "code",
   "execution_count": 26,
   "metadata": {
    "execution": {
     "iopub.execute_input": "2021-12-19T16:00:09.143787Z",
     "iopub.status.busy": "2021-12-19T16:00:09.143161Z",
     "iopub.status.idle": "2021-12-19T16:00:09.474271Z",
     "shell.execute_reply": "2021-12-19T16:00:09.475282Z"
    }
   },
   "outputs": [],
   "source": [
    "html = download_text(terminator_link)"
   ]
  },
  {
   "cell_type": "code",
   "execution_count": 27,
   "metadata": {
    "execution": {
     "iopub.execute_input": "2021-12-19T16:00:09.481580Z",
     "iopub.status.busy": "2021-12-19T16:00:09.480908Z",
     "iopub.status.idle": "2021-12-19T16:00:09.484139Z",
     "shell.execute_reply": "2021-12-19T16:00:09.484684Z"
    }
   },
   "outputs": [],
   "source": [
    "KlTEF1t = read( ''.join( BeautifulSoup( html, \"lxml\").findAll( text = True ) ) )"
   ]
  },
  {
   "cell_type": "code",
   "execution_count": 28,
   "metadata": {
    "execution": {
     "iopub.execute_input": "2021-12-19T16:00:09.489106Z",
     "iopub.status.busy": "2021-12-19T16:00:09.488443Z",
     "iopub.status.idle": "2021-12-19T16:00:09.492127Z",
     "shell.execute_reply": "2021-12-19T16:00:09.491590Z"
    }
   },
   "outputs": [
    {
     "data": {
      "text/plain": [
       "Dseqrecord(-457)"
      ]
     },
     "execution_count": 28,
     "metadata": {},
     "output_type": "execute_result"
    }
   ],
   "source": [
    "KlTEF1t"
   ]
  },
  {
   "cell_type": "code",
   "execution_count": 29,
   "metadata": {
    "execution": {
     "iopub.execute_input": "2021-12-19T16:00:09.496673Z",
     "iopub.status.busy": "2021-12-19T16:00:09.495765Z",
     "iopub.status.idle": "2021-12-19T16:00:09.498831Z",
     "shell.execute_reply": "2021-12-19T16:00:09.498240Z"
    }
   },
   "outputs": [],
   "source": [
    "KlTEF1t.name = \"KlTEF1t\"\n",
    "KlTEF1t.id = \"KlTEF1t\""
   ]
  },
  {
   "cell_type": "markdown",
   "metadata": {},
   "source": [
    "Likewise, 400bp should be enough for the terminator"
   ]
  },
  {
   "cell_type": "code",
   "execution_count": 30,
   "metadata": {
    "execution": {
     "iopub.execute_input": "2021-12-19T16:00:09.503943Z",
     "iopub.status.busy": "2021-12-19T16:00:09.503174Z",
     "iopub.status.idle": "2021-12-19T16:00:09.506178Z",
     "shell.execute_reply": "2021-12-19T16:00:09.505539Z"
    }
   },
   "outputs": [],
   "source": [
    "KlTEF1t = KlTEF1t[:400]"
   ]
  },
  {
   "cell_type": "code",
   "execution_count": 31,
   "metadata": {
    "execution": {
     "iopub.execute_input": "2021-12-19T16:00:09.510473Z",
     "iopub.status.busy": "2021-12-19T16:00:09.509809Z",
     "iopub.status.idle": "2021-12-19T16:00:09.512304Z",
     "shell.execute_reply": "2021-12-19T16:00:09.512763Z"
    }
   },
   "outputs": [
    {
     "name": "stdout",
     "output_type": "stream",
     "text": [
      "GTTTAACTTGATACTACTAGATTTTTTCTCTTCATTTATAAAATTTTTGGTTATAATTGAAGCTTTAGAAGTATGAAAAAATCCTTTTTTTTCATTCTTTGCAACCAAAATAAGAAGCTTCTTTTATTCATTGAAATGATGAATATAAACCTAACAAAAGAAAAAGACTCGAATATCAAACATTAAAAAAAAATAAAAGAGGTTATCTGTTTTCCCATTTAGTTGGAGTTTGCATTTTCTAATAGATAGAACTCTCAATTAATGTGGATTTAGTTTCTCTGTTCGTTTTTTTTTGTTTTGTTCTCACTGTATTTACATTTCTATTTAGTATTTAGTTATTCATATAATCTTAACTTAACGTAACAACAACTTTCATTGTCAACAAATTTACTAATACTAA\n"
     ]
    }
   ],
   "source": [
    "print(KlTEF1t.seq)"
   ]
  },
  {
   "cell_type": "markdown",
   "metadata": {},
   "source": [
    "### 4.  kan\n",
    "\n",
    "The kan gene was amplififed from the pUG6 plasmid. It was constructed by [Güldener et al. 1996](http://nar.oxfordjournals.org/content/24/13/2519.full).\n",
    "\n",
    "The sequence is available from [Genbank](http://www.ncbi.nlm.nih.gov/nuccore/AF298793.1). The plasmid itself can be obtained from [EUROSCARF](http://www.euroscarf.de/plasmid_details.php?accno=P30114).\n",
    "\n",
    "We will download the sequence from Genbank."
   ]
  },
  {
   "cell_type": "code",
   "execution_count": 32,
   "metadata": {
    "execution": {
     "iopub.execute_input": "2021-12-19T16:00:09.517602Z",
     "iopub.status.busy": "2021-12-19T16:00:09.516487Z",
     "iopub.status.idle": "2021-12-19T16:00:09.521839Z",
     "shell.execute_reply": "2021-12-19T16:00:09.521254Z"
    }
   },
   "outputs": [],
   "source": [
    "pUG6 = gb.nucleotide(\"AF298793\")"
   ]
  },
  {
   "cell_type": "markdown",
   "metadata": {},
   "source": [
    "The size should be 4009bp."
   ]
  },
  {
   "cell_type": "code",
   "execution_count": 33,
   "metadata": {
    "execution": {
     "iopub.execute_input": "2021-12-19T16:00:09.526800Z",
     "iopub.status.busy": "2021-12-19T16:00:09.526072Z",
     "iopub.status.idle": "2021-12-19T16:00:09.529070Z",
     "shell.execute_reply": "2021-12-19T16:00:09.529565Z"
    }
   },
   "outputs": [
    {
     "data": {
      "text/plain": [
       "4009"
      ]
     },
     "execution_count": 33,
     "metadata": {},
     "output_type": "execute_result"
    }
   ],
   "source": [
    "len(pUG6)"
   ]
  },
  {
   "cell_type": "markdown",
   "metadata": {},
   "source": [
    "We inspect features to obtain the coding sequence of the kan gene."
   ]
  },
  {
   "cell_type": "code",
   "execution_count": 34,
   "metadata": {
    "execution": {
     "iopub.execute_input": "2021-12-19T16:00:09.542900Z",
     "iopub.status.busy": "2021-12-19T16:00:09.542300Z",
     "iopub.status.idle": "2021-12-19T16:00:09.545740Z",
     "shell.execute_reply": "2021-12-19T16:00:09.545283Z"
    }
   },
   "outputs": [
    {
     "data": {
      "text/html": [
       "<table>\n",
       "    <thead>\n",
       "        <tr>\n",
       "            <th>Ft#</th>\n",
       "            <th>Label or Note</th>\n",
       "            <th>Dir</th>\n",
       "            <th>Sta</th>\n",
       "            <th>End</th>\n",
       "            <th>Len</th>\n",
       "            <th>type</th>\n",
       "            <th>orf?</th>\n",
       "        </tr>\n",
       "    </thead>\n",
       "    <tbody>\n",
       "        <tr>\n",
       "            <td>0</td>\n",
       "            <td>N:derived from S</td>\n",
       "            <td>--&gt;</td>\n",
       "            <td>0</td>\n",
       "            <td>4009</td>\n",
       "            <td>4009</td>\n",
       "            <td>source</td>\n",
       "            <td>no</td>\n",
       "        </tr>\n",
       "        <tr>\n",
       "            <td>1</td>\n",
       "            <td>N:loxP site</td>\n",
       "            <td>--&gt;</td>\n",
       "            <td>52</td>\n",
       "            <td>86</td>\n",
       "            <td>34</td>\n",
       "            <td>misc_feature</td>\n",
       "            <td>no</td>\n",
       "        </tr>\n",
       "        <tr>\n",
       "            <td>2</td>\n",
       "            <td>N:from TEF</td>\n",
       "            <td>--&gt;</td>\n",
       "            <td>86</td>\n",
       "            <td>484</td>\n",
       "            <td>398</td>\n",
       "            <td>regulatory</td>\n",
       "            <td>no</td>\n",
       "        </tr>\n",
       "        <tr>\n",
       "            <td>3</td>\n",
       "            <td>nd</td>\n",
       "            <td>--&gt;</td>\n",
       "            <td>484</td>\n",
       "            <td>1294</td>\n",
       "            <td>810</td>\n",
       "            <td>gene</td>\n",
       "            <td>yes</td>\n",
       "        </tr>\n",
       "        <tr>\n",
       "            <td>4</td>\n",
       "            <td>nd</td>\n",
       "            <td>--&gt;</td>\n",
       "            <td>484</td>\n",
       "            <td>1294</td>\n",
       "            <td>810</td>\n",
       "            <td>CDS</td>\n",
       "            <td>yes</td>\n",
       "        </tr>\n",
       "        <tr>\n",
       "            <td>5</td>\n",
       "            <td>N:from TEF</td>\n",
       "            <td>--&gt;</td>\n",
       "            <td>1294</td>\n",
       "            <td>1559</td>\n",
       "            <td>265</td>\n",
       "            <td>regulatory</td>\n",
       "            <td>no</td>\n",
       "        </tr>\n",
       "        <tr>\n",
       "            <td>6</td>\n",
       "            <td>N:loxP site</td>\n",
       "            <td>--&gt;</td>\n",
       "            <td>1559</td>\n",
       "            <td>1593</td>\n",
       "            <td>34</td>\n",
       "            <td>misc_feature</td>\n",
       "            <td>no</td>\n",
       "        </tr>\n",
       "        <tr>\n",
       "            <td>7</td>\n",
       "            <td>nd</td>\n",
       "            <td>&lt;--</td>\n",
       "            <td>2681</td>\n",
       "            <td>3542</td>\n",
       "            <td>861</td>\n",
       "            <td>gene</td>\n",
       "            <td>yes</td>\n",
       "        </tr>\n",
       "        <tr>\n",
       "            <td>8</td>\n",
       "            <td>nd</td>\n",
       "            <td>&lt;--</td>\n",
       "            <td>2681</td>\n",
       "            <td>3542</td>\n",
       "            <td>861</td>\n",
       "            <td>CDS</td>\n",
       "            <td>yes</td>\n",
       "        </tr>\n",
       "    </tbody>\n",
       "</table>"
      ],
      "text/markdown": [
       "| Ft# | Label or Note    | Dir | Sta  | End  |  Len | type         | orf? |\n",
       "|----:|:-----------------|:---:|:-----|:-----|-----:|:-------------|:----:|\n",
       "|   0 | N:derived from S | --> | 0    | 4009 | 4009 | source       |  no  |\n",
       "|   1 | N:loxP site      | --> | 52   | 86   |   34 | misc_feature |  no  |\n",
       "|   2 | N:from TEF       | --> | 86   | 484  |  398 | regulatory   |  no  |\n",
       "|   3 | nd               | --> | 484  | 1294 |  810 | gene         | yes  |\n",
       "|   4 | nd               | --> | 484  | 1294 |  810 | CDS          | yes  |\n",
       "|   5 | N:from TEF       | --> | 1294 | 1559 |  265 | regulatory   |  no  |\n",
       "|   6 | N:loxP site      | --> | 1559 | 1593 |   34 | misc_feature |  no  |\n",
       "|   7 | nd               | <-- | 2681 | 3542 |  861 | gene         | yes  |\n",
       "|   8 | nd               | <-- | 2681 | 3542 |  861 | CDS          | yes  |"
      ],
      "text/plain": [
       "+-----+------------------+-----+------+------+------+--------------+------+\n",
       "| Ft# | Label or Note    | Dir | Sta  | End  |  Len | type         | orf? |\n",
       "+-----+------------------+-----+------+------+------+--------------+------+\n",
       "|   0 | N:derived from S | --> | 0    | 4009 | 4009 | source       |  no  |\n",
       "|   1 | N:loxP site      | --> | 52   | 86   |   34 | misc_feature |  no  |\n",
       "|   2 | N:from TEF       | --> | 86   | 484  |  398 | regulatory   |  no  |\n",
       "|   3 | nd               | --> | 484  | 1294 |  810 | gene         | yes  |\n",
       "|   4 | nd               | --> | 484  | 1294 |  810 | CDS          | yes  |\n",
       "|   5 | N:from TEF       | --> | 1294 | 1559 |  265 | regulatory   |  no  |\n",
       "|   6 | N:loxP site      | --> | 1559 | 1593 |   34 | misc_feature |  no  |\n",
       "|   7 | nd               | <-- | 2681 | 3542 |  861 | gene         | yes  |\n",
       "|   8 | nd               | <-- | 2681 | 3542 |  861 | CDS          | yes  |\n",
       "+-----+------------------+-----+------+------+------+--------------+------+"
      ]
     },
     "execution_count": 34,
     "metadata": {},
     "output_type": "execute_result"
    }
   ],
   "source": [
    "pUG6.list_features()"
   ]
  },
  {
   "cell_type": "markdown",
   "metadata": {},
   "source": [
    "The feature number 4 is the coding sequence for the kan gene:"
   ]
  },
  {
   "cell_type": "code",
   "execution_count": 35,
   "metadata": {
    "execution": {
     "iopub.execute_input": "2021-12-19T16:00:09.549395Z",
     "iopub.status.busy": "2021-12-19T16:00:09.548799Z",
     "iopub.status.idle": "2021-12-19T16:00:09.550748Z",
     "shell.execute_reply": "2021-12-19T16:00:09.551296Z"
    }
   },
   "outputs": [],
   "source": [
    "kan = pUG6.extract_feature(4)"
   ]
  },
  {
   "cell_type": "markdown",
   "metadata": {},
   "source": [
    "### 6. YIplac128_smaI\n",
    "\n",
    "The final DNA fragment is the YIplac128 vector. This vector was constructed by [Gietz and Sugino](https://www.ncbi.nlm.nih.gov/pubmed/3073106). The sequence can be found in Genbank [here](https://www.ncbi.nlm.nih.gov/nuccore/X75463.1). The YIplac 128 will be linearized with [SmaI](http://rebase.neb.com/rebase/enz/SmaI.html) which leaves a blunt cut.\n",
    "\n",
    "The reason for including this fragment is twofold. We can in theory rescue the construct to E. coli since this plasmid has sequences that allow selection and replication in E. coli. It also serves to extend the region where a double stranded DNA break can be expected to result in recombinantion."
   ]
  },
  {
   "cell_type": "code",
   "execution_count": 36,
   "metadata": {
    "execution": {
     "iopub.execute_input": "2021-12-19T16:00:09.556473Z",
     "iopub.status.busy": "2021-12-19T16:00:09.555787Z",
     "iopub.status.idle": "2021-12-19T16:00:09.563593Z",
     "shell.execute_reply": "2021-12-19T16:00:09.563954Z"
    }
   },
   "outputs": [
    {
     "data": {
      "text/plain": [
       "Dseqrecord(-4302)"
      ]
     },
     "execution_count": 36,
     "metadata": {},
     "output_type": "execute_result"
    }
   ],
   "source": [
    "YIplac128 = gb.nucleotide(\"X75463\").looped() # The sequence in Genbank is wrongly marked as linear \n",
    "from Bio.Restriction import SmaI\n",
    "YIplac128_smaI = YIplac128.linearize(SmaI)\n",
    "YIplac128_smaI"
   ]
  },
  {
   "cell_type": "code",
   "execution_count": 37,
   "metadata": {
    "execution": {
     "iopub.execute_input": "2021-12-19T16:00:09.567293Z",
     "iopub.status.busy": "2021-12-19T16:00:09.566843Z",
     "iopub.status.idle": "2021-12-19T16:00:09.568435Z",
     "shell.execute_reply": "2021-12-19T16:00:09.568790Z"
    }
   },
   "outputs": [],
   "source": [
    "YIplac128_smaI.name = \"YIplac128\""
   ]
  },
  {
   "cell_type": "markdown",
   "metadata": {},
   "source": [
    "We have now established all seven necessary linear DNA fragments for the assembly."
   ]
  },
  {
   "cell_type": "code",
   "execution_count": 38,
   "metadata": {
    "execution": {
     "iopub.execute_input": "2021-12-19T16:00:09.573990Z",
     "iopub.status.busy": "2021-12-19T16:00:09.573107Z",
     "iopub.status.idle": "2021-12-19T16:00:09.575348Z",
     "shell.execute_reply": "2021-12-19T16:00:09.575829Z"
    }
   },
   "outputs": [],
   "source": [
    "from Bio.Restriction import XhoI, SpeI"
   ]
  },
  {
   "cell_type": "markdown",
   "metadata": {},
   "source": [
    "Two restricion sites, XhoI and SpeI are added to the assembly to facilitate analysis of the final construct. The assembly_fragment function designs the necessary primers for assembly. The YIplac128_smaI sequence is repeated since we want a circular assembly."
   ]
  },
  {
   "cell_type": "code",
   "execution_count": 39,
   "metadata": {
    "execution": {
     "iopub.execute_input": "2021-12-19T16:00:09.605842Z",
     "iopub.status.busy": "2021-12-19T16:00:09.598773Z",
     "iopub.status.idle": "2021-12-19T16:00:09.608216Z",
     "shell.execute_reply": "2021-12-19T16:00:09.607696Z"
    }
   },
   "outputs": [],
   "source": [
    "fragments =  assembly_fragments((   YIplac128_smaI,\n",
    "                                                       primer_design( hphMX4_3_part ),\n",
    "                                                       Dseqrecord( XhoI.site ),\n",
    "                                                       primer_design( URA3_2micron ),\n",
    "                                                       primer_design( hphMX4_5_part ),\n",
    "                                                       Dseqrecord( SpeI.site ),\n",
    "                                                       primer_design( KlTEF1p ), \n",
    "                                                       primer_design( kan ), \n",
    "                                                       primer_design( KlTEF1t ),\n",
    "                                    YIplac128_smaI ))"
   ]
  },
  {
   "cell_type": "code",
   "execution_count": 40,
   "metadata": {
    "execution": {
     "iopub.execute_input": "2021-12-19T16:00:09.611902Z",
     "iopub.status.busy": "2021-12-19T16:00:09.611336Z",
     "iopub.status.idle": "2021-12-19T16:00:09.614223Z",
     "shell.execute_reply": "2021-12-19T16:00:09.614913Z"
    }
   },
   "outputs": [
    {
     "data": {
      "text/plain": [
       "[Dseqrecord(-4302),\n",
       " Amplicon(1075),\n",
       " Amplicon(2618),\n",
       " Amplicon(1057),\n",
       " Amplicon(439),\n",
       " Amplicon(846),\n",
       " Amplicon(453),\n",
       " Dseqrecord(-4302)]"
      ]
     },
     "execution_count": 40,
     "metadata": {},
     "output_type": "execute_result"
    }
   ],
   "source": [
    "fragments"
   ]
  },
  {
   "cell_type": "markdown",
   "metadata": {},
   "source": [
    "We set the max primer size to 40 bp for the primers guiding the assembly of the internal fragments to keep cost down. We leave out the first and last fragment as this is vector sequence."
   ]
  },
  {
   "cell_type": "code",
   "execution_count": 41,
   "metadata": {
    "execution": {
     "iopub.execute_input": "2021-12-19T16:00:09.622175Z",
     "iopub.status.busy": "2021-12-19T16:00:09.621196Z",
     "iopub.status.idle": "2021-12-19T16:00:09.623533Z",
     "shell.execute_reply": "2021-12-19T16:00:09.624054Z"
    }
   },
   "outputs": [],
   "source": [
    "for i, prd in enumerate(fragments[2:-2]):\n",
    "    prd.forward_primer = prd.forward_primer[-40:]\n",
    "    prd.reverse_primer = prd.reverse_primer[-40:]"
   ]
  },
  {
   "cell_type": "markdown",
   "metadata": {},
   "source": [
    "The primers that guide recombination with the YIp128 vector are allowed to be longer (50 bp) as these carry the entire homology that allow recombination at those junktions."
   ]
  },
  {
   "cell_type": "code",
   "execution_count": 42,
   "metadata": {
    "execution": {
     "iopub.execute_input": "2021-12-19T16:00:09.629712Z",
     "iopub.status.busy": "2021-12-19T16:00:09.628987Z",
     "iopub.status.idle": "2021-12-19T16:00:09.631842Z",
     "shell.execute_reply": "2021-12-19T16:00:09.631254Z"
    }
   },
   "outputs": [],
   "source": [
    "for i, prd in enumerate( [fragments[2],fragments[-2]] ):\n",
    "    prd.forward_primer = prd.forward_primer[-50:]\n",
    "    prd.reverse_primer = prd.reverse_primer[-50:]"
   ]
  },
  {
   "cell_type": "markdown",
   "metadata": {},
   "source": [
    "Since we changed the primers, the pcr products should be resimulated. We can simply do this by looping of the pcr products using the pcr function with the old Amplicon object as argument. See the list comprehension in the next code cell. Amplicons are filtered from the fragments list by having a forward_primer attribute."
   ]
  },
  {
   "cell_type": "code",
   "execution_count": 43,
   "metadata": {
    "execution": {
     "iopub.execute_input": "2021-12-19T16:00:09.649992Z",
     "iopub.status.busy": "2021-12-19T16:00:09.644679Z",
     "iopub.status.idle": "2021-12-19T16:00:09.652367Z",
     "shell.execute_reply": "2021-12-19T16:00:09.651836Z"
    }
   },
   "outputs": [],
   "source": [
    "fragments = [pcr(f) if hasattr(f, \"forward_primer\") else f for f in fragments]"
   ]
  },
  {
   "cell_type": "markdown",
   "metadata": {},
   "source": [
    "We can now give proper names to the pcr products and primers. We do it like this since the primers were actually bought and named after the compilation of this document."
   ]
  },
  {
   "cell_type": "code",
   "execution_count": 44,
   "metadata": {
    "execution": {
     "iopub.execute_input": "2021-12-19T16:00:09.655883Z",
     "iopub.status.busy": "2021-12-19T16:00:09.655413Z",
     "iopub.status.idle": "2021-12-19T16:00:09.657576Z",
     "shell.execute_reply": "2021-12-19T16:00:09.657191Z"
    }
   },
   "outputs": [],
   "source": [
    "names = ''' Hph-term      dda1_2nd_f         dda2_2nd_r\n",
    "            URA3_2my      dda3_URA3_2my_f    dda4_URA3_2my_r\n",
    "            prom-Hph      dda5_1st_f         dda6_1st_r\n",
    "            KlTEF1prom    dda7_Kl_pr_f       dda8_Kl_pr_r\n",
    "            kan_orf       dda9_kan_f         dda10_kan_r\n",
    "            KlTEF1term    dda11_Kl_tr_f      dda12_Kl_tr_r '''"
   ]
  },
  {
   "cell_type": "code",
   "execution_count": 45,
   "metadata": {
    "execution": {
     "iopub.execute_input": "2021-12-19T16:00:09.663999Z",
     "iopub.status.busy": "2021-12-19T16:00:09.662872Z",
     "iopub.status.idle": "2021-12-19T16:00:09.666282Z",
     "shell.execute_reply": "2021-12-19T16:00:09.665669Z"
    }
   },
   "outputs": [],
   "source": [
    "for f,n in zip(fragments[1:-1], names.splitlines()):\n",
    "    f.name, f.forward_primer.id, f.reverse_primer.id,  = n.split()"
   ]
  },
  {
   "cell_type": "markdown",
   "metadata": {},
   "source": [
    "We use the pydna Assembly functionality to simulate the in-vivo homologous recombination."
   ]
  },
  {
   "cell_type": "code",
   "execution_count": 46,
   "metadata": {
    "execution": {
     "iopub.execute_input": "2021-12-19T16:00:09.714563Z",
     "iopub.status.busy": "2021-12-19T16:00:09.678827Z",
     "iopub.status.idle": "2021-12-19T16:00:10.781757Z",
     "shell.execute_reply": "2021-12-19T16:00:10.782223Z"
    }
   },
   "outputs": [],
   "source": [
    "asm = Assembly( fragments[1:], limit = 20)"
   ]
  },
  {
   "cell_type": "code",
   "execution_count": 47,
   "metadata": {
    "execution": {
     "iopub.execute_input": "2021-12-19T16:00:10.786529Z",
     "iopub.status.busy": "2021-12-19T16:00:10.785837Z",
     "iopub.status.idle": "2021-12-19T16:00:10.788577Z",
     "shell.execute_reply": "2021-12-19T16:00:10.789018Z"
    }
   },
   "outputs": [
    {
     "data": {
      "text/plain": [
       "Assembly\n",
       "fragments..: 1075bp 2612bp 1054bp 439bp 846bp 442bp 4302bp\n",
       "limit(bp)..: 20\n",
       "G.nodes....: 16\n",
       "algorithm..: common_sub_strings"
      ]
     },
     "execution_count": 47,
     "metadata": {},
     "output_type": "execute_result"
    }
   ],
   "source": [
    "asm"
   ]
  },
  {
   "cell_type": "code",
   "execution_count": 48,
   "metadata": {
    "execution": {
     "iopub.execute_input": "2021-12-19T16:00:10.792894Z",
     "iopub.status.busy": "2021-12-19T16:00:10.792247Z",
     "iopub.status.idle": "2021-12-19T16:00:11.085821Z",
     "shell.execute_reply": "2021-12-19T16:00:11.085430Z"
    }
   },
   "outputs": [
    {
     "data": {
      "text/plain": [
       " -|Hph-term|36\n",
       "|           \\/\n",
       "|           /\\\n",
       "|           36|URA3_2my|30\n",
       "|                       \\/\n",
       "|                       /\\\n",
       "|                       30|prom-Hph|33\n",
       "|                                   \\/\n",
       "|                                   /\\\n",
       "|                                   33|KlTEF1prom|36\n",
       "|                                                 \\/\n",
       "|                                                 /\\\n",
       "|                                                 36|kan_orf|36\n",
       "|                                                            \\/\n",
       "|                                                            /\\\n",
       "|                                                            36|KlTEF1term|24\n",
       "|                                                                          \\/\n",
       "|                                                                          /\\\n",
       "|                                                                          24|YIplac128|35\n",
       "|                                                                                       \\/\n",
       "|                                                                                       /\\\n",
       "|                                                                                       35-\n",
       "|                                                                                          |\n",
       " ------------------------------------------------------------------------------------------"
      ]
     },
     "execution_count": 48,
     "metadata": {},
     "output_type": "execute_result"
    }
   ],
   "source": [
    "candidate = asm.assemble_circular()[0]\n",
    "candidate.figure()"
   ]
  },
  {
   "cell_type": "code",
   "execution_count": 49,
   "metadata": {
    "execution": {
     "iopub.execute_input": "2021-12-19T16:00:11.090301Z",
     "iopub.status.busy": "2021-12-19T16:00:11.089447Z",
     "iopub.status.idle": "2021-12-19T16:00:11.091850Z",
     "shell.execute_reply": "2021-12-19T16:00:11.092376Z"
    }
   },
   "outputs": [],
   "source": [
    "pPS1 = candidate"
   ]
  },
  {
   "cell_type": "code",
   "execution_count": 50,
   "metadata": {
    "execution": {
     "iopub.execute_input": "2021-12-19T16:00:11.106844Z",
     "iopub.status.busy": "2021-12-19T16:00:11.099853Z",
     "iopub.status.idle": "2021-12-19T16:00:11.109378Z",
     "shell.execute_reply": "2021-12-19T16:00:11.109764Z"
    }
   },
   "outputs": [
    {
     "data": {
      "text/plain": [
       "vXelWQ46lP0x8856rBYXpzFaSTk"
      ]
     },
     "execution_count": 50,
     "metadata": {},
     "output_type": "execute_result"
    }
   ],
   "source": [
    "pPS1.cseguid()"
   ]
  },
  {
   "cell_type": "code",
   "execution_count": 51,
   "metadata": {
    "execution": {
     "iopub.execute_input": "2021-12-19T16:00:11.120559Z",
     "iopub.status.busy": "2021-12-19T16:00:11.120100Z",
     "iopub.status.idle": "2021-12-19T16:00:11.121929Z",
     "shell.execute_reply": "2021-12-19T16:00:11.122342Z"
    }
   },
   "outputs": [],
   "source": [
    "assert pPS1.cseguid() == \"vXelWQ46lP0x8856rBYXpzFaSTk\""
   ]
  },
  {
   "cell_type": "code",
   "execution_count": 52,
   "metadata": {
    "execution": {
     "iopub.execute_input": "2021-12-19T16:00:11.127269Z",
     "iopub.status.busy": "2021-12-19T16:00:11.126326Z",
     "iopub.status.idle": "2021-12-19T16:00:11.130217Z",
     "shell.execute_reply": "2021-12-19T16:00:11.130677Z"
    }
   },
   "outputs": [
    {
     "name": "stdout",
     "output_type": "stream",
     "text": [
      "dda1_2nd_f\tCTTGCATGCCTGCAGGTCGACTCTAGAGGATCCCCTCAGCGAGAGCCTG\n",
      "\n",
      "dda2_2nd_r\tAGCGGTATTCGCAATCTCGAGTCGACACTGGATGGC\n",
      "\n",
      "dda3_URA3_2my_f\tGCCATCCAGTGTCGACTCGAGATTGCGAATACCGCTT\n",
      "\n",
      "dda4_URA3_2my_r\tACCCGGCGGGGATAATAACTGATATAATTAAATTGAAGCT\n",
      "\n",
      "dda5_1st_f\tTAATTATATCAGTTATTATCCCCGCCGGGTC\n",
      "\n",
      "dda6_1st_r\tTGACCCAGTGTTACTAGTTCAATGACCGCTGTTATGCGGC\n",
      "\n",
      "dda7_Kl_pr_f\tAACAGCGGTCATTGAACTAGTAACACTGGGTCAATCATA\n",
      "\n",
      "dda8_Kl_pr_r\tAGTCTTTTCCTTACCCATTTTTAATGTTACTTCTCTTGCA\n",
      "\n",
      "dda9_kan_f\tAGAGAAGTAACATTAAAAATGGGTAAGGAAAAGACT\n",
      "\n",
      "dda10_kan_r\tAGTAGTATCAAGTTAAACTTAGAAAAACTCATCGAGCAT\n",
      "\n",
      "dda11_Kl_tr_f\tCTCGATGAGTTTTTCTAAGTTTAACTTGATACTACTAGATTTTT\n",
      "\n",
      "dda12_Kl_tr_r\tCCAGTGAATTCGAGCTCGGTACCCTTAGTATTAGTAAATTTGTTGACAAT\n",
      "\n"
     ]
    }
   ],
   "source": [
    "for prd in fragments[1:-1]:\n",
    "    print(prd.forward_primer.format(\"tab\"))\n",
    "    print(prd.reverse_primer.format(\"tab\"))"
   ]
  },
  {
   "cell_type": "code",
   "execution_count": 53,
   "metadata": {
    "execution": {
     "iopub.execute_input": "2021-12-19T16:00:11.134928Z",
     "iopub.status.busy": "2021-12-19T16:00:11.134312Z",
     "iopub.status.idle": "2021-12-19T16:00:11.136452Z",
     "shell.execute_reply": "2021-12-19T16:00:11.136968Z"
    }
   },
   "outputs": [],
   "source": [
    "pPS1.name = \"pPS1\"\n",
    "pPS1.description=\"\""
   ]
  },
  {
   "cell_type": "code",
   "execution_count": 54,
   "metadata": {
    "execution": {
     "iopub.execute_input": "2021-12-19T16:00:11.152401Z",
     "iopub.status.busy": "2021-12-19T16:00:11.151761Z",
     "iopub.status.idle": "2021-12-19T16:00:11.154315Z",
     "shell.execute_reply": "2021-12-19T16:00:11.154677Z"
    }
   },
   "outputs": [
    {
     "data": {
      "text/plain": [
       "cSEGUID_vXelWQ46lP0x8856rBYXpzFaSTk"
      ]
     },
     "execution_count": 54,
     "metadata": {},
     "output_type": "execute_result"
    }
   ],
   "source": [
    "pPS1.stamp()"
   ]
  },
  {
   "cell_type": "code",
   "execution_count": 55,
   "metadata": {
    "execution": {
     "iopub.execute_input": "2021-12-19T16:00:11.165106Z",
     "iopub.status.busy": "2021-12-19T16:00:11.164402Z",
     "iopub.status.idle": "2021-12-19T16:00:11.169398Z",
     "shell.execute_reply": "2021-12-19T16:00:11.168969Z"
    }
   },
   "outputs": [
    {
     "data": {
      "text/html": [
       "<font face=monospace><a href='pPS1.gb' target='_blank'>pPS1.gb</a></font><br>"
      ]
     },
     "metadata": {},
     "output_type": "display_data"
    }
   ],
   "source": [
    "pPS1.write(\"pPS1.gb\")"
   ]
  },
  {
   "cell_type": "markdown",
   "metadata": {},
   "source": [
    "## PCR conditions"
   ]
  },
  {
   "cell_type": "markdown",
   "metadata": {},
   "source": [
    "prd = fragments[1]\n",
    "print(prd.name)\n",
    "print(prd.template.name)\n",
    "print(prd.forward_primer.seq)\n",
    "print(prd.reverse_primer.seq)\n",
    "print(prd.program())"
   ]
  },
  {
   "cell_type": "code",
   "execution_count": 56,
   "metadata": {
    "execution": {
     "iopub.execute_input": "2021-12-19T16:00:11.176522Z",
     "iopub.status.busy": "2021-12-19T16:00:11.175580Z",
     "iopub.status.idle": "2021-12-19T16:00:11.182753Z",
     "shell.execute_reply": "2021-12-19T16:00:11.183362Z"
    }
   },
   "outputs": [
    {
     "name": "stdout",
     "output_type": "stream",
     "text": [
      "product name: Hph-term\n",
      "template: part_part_pAG32\n",
      "|95°C|95°C               |    |tmf:56.0\n",
      "|____|_____          72°C|72°C|tmr:57.7\n",
      "|3min|30s  \\ 59.0°C _____|____|45s/kb\n",
      "|    |      \\______/ 0:48|5min|GC 54%\n",
      "|    |       30s         |    |1075bp\n",
      "\n",
      "----------------------------------------------------------------------\n",
      "\n",
      "product name: URA3_2my\n",
      "template: part_AB215109\n",
      "|95°C|95°C               |    |tmf:55.1\n",
      "|____|_____          72°C|72°C|tmr:55.4\n",
      "|3min|30s  \\ 54.6°C _____|____|45s/kb\n",
      "|    |      \\______/ 1:57|5min|GC 39%\n",
      "|    |       30s         |    |2612bp\n",
      "\n",
      "----------------------------------------------------------------------\n",
      "\n",
      "product name: prom-Hph\n",
      "template: part_part_pAG32\n",
      "|95°C|95°C               |    |tmf:68.5\n",
      "|____|_____          72°C|72°C|tmr:68.6\n",
      "|3min|30s  \\ 62.6°C _____|____|45s/kb\n",
      "|    |      \\______/ 0:47|5min|GC 54%\n",
      "|    |       30s         |    |1054bp\n",
      "\n",
      "----------------------------------------------------------------------\n",
      "\n",
      "product name: KlTEF1prom\n",
      "template: part_KlTEF1p\n",
      "|95°C|95°C               |    |tmf:55.1\n",
      "|____|_____          72°C|72°C|tmr:54.7\n",
      "|3min|30s  \\ 50.6°C _____|____|45s/kb\n",
      "|    |      \\______/ 0:30|5min|GC 28%\n",
      "|    |       30s         |    |439bp\n",
      "\n",
      "----------------------------------------------------------------------\n",
      "\n",
      "product name: kan_orf\n",
      "template: feat_AF2987931\n",
      "|95°C|95°C               |    |tmf:55.5\n",
      "|____|_____          72°C|72°C|tmr:55.8\n",
      "|3min|30s  \\ 55.5°C _____|____|45s/kb\n",
      "|    |      \\______/ 0:38|5min|GC 42%\n",
      "|    |       30s         |    |846bp\n",
      "\n",
      "----------------------------------------------------------------------\n",
      "\n",
      "product name: KlTEF1term\n",
      "template: part_KlTEF1t\n",
      "|95°C|95°C               |    |tmf:55.0\n",
      "|____|_____          72°C|72°C|tmr:54.7\n",
      "|3min|30s  \\ 49.9°C _____|____|45s/kb\n",
      "|    |      \\______/ 0:30|5min|GC 26%\n",
      "|    |       30s         |    |442bp\n",
      "\n",
      "----------------------------------------------------------------------\n",
      "\n"
     ]
    }
   ],
   "source": [
    "for prd in fragments[1:-1]:\n",
    "    print(\"product name:\", prd.name)\n",
    "    print(\"template:\", prd.template.name) \n",
    "    print(prd.program())\n",
    "    print()\n",
    "    print(\"----------------------------------------------------------------------\")\n",
    "    print()"
   ]
  },
  {
   "cell_type": "code",
   "execution_count": null,
   "metadata": {},
   "outputs": [],
   "source": []
  }
 ],
 "metadata": {
  "kernelspec": {
   "display_name": "Python [conda env:bjorn38]",
   "language": "python",
   "name": "conda-env-bjorn38-py"
  },
  "language_info": {
   "codemirror_mode": {
    "name": "ipython",
    "version": 3
   },
   "file_extension": ".py",
   "mimetype": "text/x-python",
   "name": "python",
   "nbconvert_exporter": "python",
   "pygments_lexer": "ipython3",
   "version": "3.9.7"
  }
 },
 "nbformat": 4,
 "nbformat_minor": 4
}
