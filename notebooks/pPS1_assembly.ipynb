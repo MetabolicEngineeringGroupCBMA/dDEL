{
 "cells": [
  {
   "cell_type": "markdown",
   "metadata": {},
   "source": [
    "## Plan for assembly of the Dominant Del Assay plasmid pPS1"
   ]
  },
  {
   "cell_type": "code",
   "execution_count": 1,
   "metadata": {
    "execution": {
     "iopub.execute_input": "2021-10-31T13:25:07.235109Z",
     "iopub.status.busy": "2021-10-31T13:25:07.234617Z",
     "iopub.status.idle": "2021-10-31T13:25:07.244193Z",
     "shell.execute_reply": "2021-10-31T13:25:07.243706Z"
    }
   },
   "outputs": [
    {
     "data": {
      "text/html": [
       "<img src=\"http://cancerres.aacrjournals.org/content/66/7/3480/F1.medium.gif\"/>"
      ],
      "text/plain": [
       "<IPython.core.display.Image object>"
      ]
     },
     "execution_count": 1,
     "metadata": {},
     "output_type": "execute_result"
    }
   ],
   "source": [
    "from IPython.display import Image\n",
    "Image(url='http://cancerres.aacrjournals.org/content/66/7/3480/F1.medium.gif')"
   ]
  },
  {
   "cell_type": "markdown",
   "metadata": {},
   "source": [
    "### The del assay\n",
    "\n",
    "The image above depicts the principle of the original del assay [Kirpnick-Sobol et al. 2006](https://www.ncbi.nlm.nih.gov/pubmed/16585171).\n",
    "\n",
    "The RS112 yeast strain contains a plasmid (pRS6) carrying the LEU2 gene and an internal fragment of the yeast HIS3 gene integrated into the HIS3 locus. This results in two partial inactive copies of the his3 gene, one with a terminal deletion at the 3'-end, and the other with a terminal deletion at the 5'-end. There are 410 bp of homology between the two (shown as striped region).\n",
    "\n",
    "### The pPS1 plasmid\n",
    "\n",
    "This cassette consists of two dominant markers HphMX4 and the kanamycin resistance gene from the E. coli transposon TN903 \"kan\". The HphMX4 marker is the Hygromycin B resistance gene from an E. coli [plasmid](http://www.ncbi.nlm.nih.gov/pubmed/6319235) under control of the Ashbya gossypii TEF1 promoter and terminator.\n",
    "\n",
    "The idea is to split the HphMX4 marker in two pieces in a way that produces a shared homology between the fragments. The G418 resistance gene kan is be placed between the HphMX4 fragments. The kan gene will be controlled by the promoter and terminator from the Kluyveromyces lactis TEF1 homolog.\n",
    "\n",
    "The whole construct is made by in-vivo gap repair in one reaction. \n",
    "\n",
    "The circular construct is made by in vivo gap-repair in one reaction as a recombination between seven linear DNA fragments.\n",
    "    \n",
    "    1   URA3_2micron\n",
    "    2               HphMX4(5'part)\n",
    "    3                             KlTEF1p\n",
    "    4                                    kan\n",
    "    5                                       KlTEF1t\n",
    "    6                                              YIplac128_smaI    \n",
    "    7                                                            HphMX4(3'part)\n",
    "    \n",
    "1. The URA3_2micron fragment contain a URA3 marker and the 2 micron sequence for plasmid replication\n",
    "2. The Ashbya gossypii TEF1 promoter with a little more than half the Hygromycin B resistance orf\n",
    "3. TEF1 promoter from Kluyveromyces lactis\n",
    "4. The kan resistance orf\n",
    "5. TEF1 terminator from Kluyveromyces lactis\n",
    "6. The YIplac128_smaI is a linearized vector containing E. coli replicative sequences and a LEU2 marker\n",
    "7. The second half the Hygromycin B resistance orf and The Ashbya gossypii TEF1 terminator \n",
    "\n",
    "### Material\n",
    "\n",
    "|DNA      | Source  -80      |\n",
    "|---------|------------------|\n",
    "|pAG32    | box 3\tpos 45   |\n",
    "|pSU0     |                  |\n",
    "|pUG6     | box 3\tpos 55   |\n",
    "|YIplac128| box 1   pos 81   |"
   ]
  },
  {
   "cell_type": "code",
   "execution_count": 2,
   "metadata": {
    "execution": {
     "iopub.execute_input": "2021-10-31T13:25:07.247872Z",
     "iopub.status.busy": "2021-10-31T13:25:07.247428Z",
     "iopub.status.idle": "2021-10-31T13:25:07.724140Z",
     "shell.execute_reply": "2021-10-31T13:25:07.723518Z"
    }
   },
   "outputs": [],
   "source": [
    "from pydna.all import *"
   ]
  },
  {
   "cell_type": "markdown",
   "metadata": {},
   "source": [
    "### 1. URA3_2micron\n",
    "\n",
    "This fragment is PCR amplified from the pSU0 vector described by [Iizasa and Nagano 2006](https://www.ncbi.nlm.nih.gov/pubmed/16454044). This plasmid is available from Genbank under the accession number AB215109."
   ]
  },
  {
   "cell_type": "code",
   "execution_count": 3,
   "metadata": {
    "execution": {
     "iopub.execute_input": "2021-10-31T13:25:07.733752Z",
     "iopub.status.busy": "2021-10-31T13:25:07.733178Z",
     "iopub.status.idle": "2021-10-31T13:25:09.003150Z",
     "shell.execute_reply": "2021-10-31T13:25:09.002740Z"
    }
   },
   "outputs": [],
   "source": [
    "gb = Genbank(\"bjornjobb@gmail.com\")\n",
    "pSU0 = gb.nucleotide(\"AB215109.1\")"
   ]
  },
  {
   "cell_type": "code",
   "execution_count": 4,
   "metadata": {
    "execution": {
     "iopub.execute_input": "2021-10-31T13:25:09.006913Z",
     "iopub.status.busy": "2021-10-31T13:25:09.006448Z",
     "iopub.status.idle": "2021-10-31T13:25:09.009614Z",
     "shell.execute_reply": "2021-10-31T13:25:09.009247Z"
    }
   },
   "outputs": [],
   "source": [
    "URA3_2micron = pSU0[1041:3620]"
   ]
  },
  {
   "cell_type": "code",
   "execution_count": 5,
   "metadata": {
    "execution": {
     "iopub.execute_input": "2021-10-31T13:25:09.014525Z",
     "iopub.status.busy": "2021-10-31T13:25:09.013628Z",
     "iopub.status.idle": "2021-10-31T13:25:09.016857Z",
     "shell.execute_reply": "2021-10-31T13:25:09.017389Z"
    }
   },
   "outputs": [
    {
     "data": {
      "text/plain": [
       "Dseqrecord(-2579)"
      ]
     },
     "execution_count": 5,
     "metadata": {},
     "output_type": "execute_result"
    }
   ],
   "source": [
    "URA3_2micron"
   ]
  },
  {
   "cell_type": "markdown",
   "metadata": {},
   "source": [
    "### 2. HphMX4(5'part) and 7. HphMX4(3'part)\n",
    "\n",
    "The plasmid pAG32 contains the HphMX4 marker gene. It is available from [EUROSCARF](http://www.euroscarf.de/plasmid_details.php?accno=P30106). It was constructed by [Goldstein & McCusker](http://www.ncbi.nlm.nih.gov/pubmed/10514571).\n",
    "\n",
    "The sequence is not available from Genbank, but the EUROSCARF link above provides it. Unfortunately, the LOCUS line is malformed in this record (genbank format).\n",
    "\n",
    "For this reason we deposited a corrected copy of the sequence [here](https://gist.github.com/BjornFJohansson/c5424b7ebbf553c52053). The size of the plasmid is 4160 bp."
   ]
  },
  {
   "cell_type": "code",
   "execution_count": 6,
   "metadata": {
    "execution": {
     "iopub.execute_input": "2021-10-31T13:25:09.024521Z",
     "iopub.status.busy": "2021-10-31T13:25:09.021495Z",
     "iopub.status.idle": "2021-10-31T13:25:09.027316Z",
     "shell.execute_reply": "2021-10-31T13:25:09.026726Z"
    }
   },
   "outputs": [],
   "source": [
    "pAG32 = read(\"pAG32.gb\")"
   ]
  },
  {
   "cell_type": "code",
   "execution_count": 7,
   "metadata": {
    "execution": {
     "iopub.execute_input": "2021-10-31T13:25:09.033653Z",
     "iopub.status.busy": "2021-10-31T13:25:09.032565Z",
     "iopub.status.idle": "2021-10-31T13:25:09.036631Z",
     "shell.execute_reply": "2021-10-31T13:25:09.037267Z"
    }
   },
   "outputs": [
    {
     "data": {
      "text/html": [
       "<a href='pAG32.gb' target='_blank'>pAG32.gb</a><br>"
      ],
      "text/plain": [
       "File(pAG32)(o4160)"
      ]
     },
     "execution_count": 7,
     "metadata": {},
     "output_type": "execute_result"
    }
   ],
   "source": [
    "pAG32 "
   ]
  },
  {
   "cell_type": "code",
   "execution_count": 8,
   "metadata": {
    "execution": {
     "iopub.execute_input": "2021-10-31T13:25:09.044338Z",
     "iopub.status.busy": "2021-10-31T13:25:09.043707Z",
     "iopub.status.idle": "2021-10-31T13:25:09.046958Z",
     "shell.execute_reply": "2021-10-31T13:25:09.047622Z"
    }
   },
   "outputs": [
    {
     "data": {
      "text/plain": [
       "ttCV-qk-4UzU8BkVhaswwqdfGlg"
      ]
     },
     "execution_count": 8,
     "metadata": {},
     "output_type": "execute_result"
    }
   ],
   "source": [
    "pAG32.cseguid()"
   ]
  },
  {
   "cell_type": "code",
   "execution_count": 9,
   "metadata": {
    "execution": {
     "iopub.execute_input": "2021-10-31T13:25:09.056955Z",
     "iopub.status.busy": "2021-10-31T13:25:09.056275Z",
     "iopub.status.idle": "2021-10-31T13:25:09.059257Z",
     "shell.execute_reply": "2021-10-31T13:25:09.059774Z"
    }
   },
   "outputs": [
    {
     "data": {
      "text/markdown": [
       "| Ft# | Label or Note    | Dir | Sta  | End  |  Len | type         | orf? |\n",
       "|-----|------------------|-----|------|------|------|--------------|------|\n",
       "|   0 | L:TEF-PRO        | --> | 90   | 458  |  368 | misc_feature |  no  |\n",
       "|   1 | L:hygromycin B p | --> | 458  | 1487 | 1029 | CDS          | yes  |\n",
       "|   2 | L:TEF-TER        | --> | 1487 | 1727 |  240 | misc_feature |  no  |\n",
       "|   3 | L:AmpR           | <-- | 2832 | 3693 |  861 | CDS          | yes  |"
      ],
      "text/plain": [
       "+-----+------------------+-----+------+------+------+--------------+------+\n",
       "| Ft# | Label or Note    | Dir | Sta  | End  |  Len | type         | orf? |\n",
       "+-----+------------------+-----+------+------+------+--------------+------+\n",
       "|   0 | L:TEF-PRO        | --> | 90   | 458  |  368 | misc_feature |  no  |\n",
       "|   1 | L:hygromycin B p | --> | 458  | 1487 | 1029 | CDS          | yes  |\n",
       "|   2 | L:TEF-TER        | --> | 1487 | 1727 |  240 | misc_feature |  no  |\n",
       "|   3 | L:AmpR           | <-- | 2832 | 3693 |  861 | CDS          | yes  |\n",
       "+-----+------------------+-----+------+------+------+--------------+------+"
      ]
     },
     "execution_count": 9,
     "metadata": {},
     "output_type": "execute_result"
    }
   ],
   "source": [
    "pAG32.list_features()"
   ]
  },
  {
   "cell_type": "markdown",
   "metadata": {},
   "source": [
    "We can inspect the features in the table above to conclude that the HphMX4 cassete starts at 90 in feature 0 and ends at 1727 in feature 2. We pick out this slice ofthe sequence below to the variable \"hyg_cassette\"."
   ]
  },
  {
   "cell_type": "code",
   "execution_count": 10,
   "metadata": {
    "execution": {
     "iopub.execute_input": "2021-10-31T13:25:09.064650Z",
     "iopub.status.busy": "2021-10-31T13:25:09.063850Z",
     "iopub.status.idle": "2021-10-31T13:25:09.066566Z",
     "shell.execute_reply": "2021-10-31T13:25:09.066048Z"
    }
   },
   "outputs": [],
   "source": [
    "hyg_cassette = pAG32[90:1727]"
   ]
  },
  {
   "cell_type": "code",
   "execution_count": 11,
   "metadata": {
    "execution": {
     "iopub.execute_input": "2021-10-31T13:25:09.071672Z",
     "iopub.status.busy": "2021-10-31T13:25:09.070765Z",
     "iopub.status.idle": "2021-10-31T13:25:09.074529Z",
     "shell.execute_reply": "2021-10-31T13:25:09.073868Z"
    }
   },
   "outputs": [
    {
     "data": {
      "text/plain": [
       "Dseqrecord(-1637)"
      ]
     },
     "execution_count": 11,
     "metadata": {},
     "output_type": "execute_result"
    }
   ],
   "source": [
    "hyg_cassette"
   ]
  },
  {
   "cell_type": "code",
   "execution_count": 12,
   "metadata": {
    "execution": {
     "iopub.execute_input": "2021-10-31T13:25:09.082123Z",
     "iopub.status.busy": "2021-10-31T13:25:09.078889Z",
     "iopub.status.idle": "2021-10-31T13:25:09.086826Z",
     "shell.execute_reply": "2021-10-31T13:25:09.086336Z"
    }
   },
   "outputs": [
    {
     "data": {
      "text/html": [
       "<font face=monospace><a href='hyg_cassette.gb' target='_blank'>hyg_cassette.gb</a></font><br>"
      ]
     },
     "metadata": {},
     "output_type": "display_data"
    }
   ],
   "source": [
    "hyg_cassette.write(\"hyg_cassette.gb\")"
   ]
  },
  {
   "cell_type": "markdown",
   "metadata": {},
   "source": [
    "The HphMX4 cassette is 1637 bp. We will split the HphMX4 in two parts in such a way that there is an overlap or shared homology in the middle. The overlap was set to 200 bp to reflect the overlap length in the original del cassette."
   ]
  },
  {
   "cell_type": "code",
   "execution_count": 13,
   "metadata": {
    "execution": {
     "iopub.execute_input": "2021-10-31T13:25:09.091106Z",
     "iopub.status.busy": "2021-10-31T13:25:09.090531Z",
     "iopub.status.idle": "2021-10-31T13:25:09.093033Z",
     "shell.execute_reply": "2021-10-31T13:25:09.092554Z"
    }
   },
   "outputs": [],
   "source": [
    "middle = int(len(hyg_cassette)/2)\n",
    "overlap = 200"
   ]
  },
  {
   "cell_type": "markdown",
   "metadata": {},
   "source": [
    "We split the HphMX4 in two parts:"
   ]
  },
  {
   "cell_type": "code",
   "execution_count": 14,
   "metadata": {
    "execution": {
     "iopub.execute_input": "2021-10-31T13:25:09.097978Z",
     "iopub.status.busy": "2021-10-31T13:25:09.097300Z",
     "iopub.status.idle": "2021-10-31T13:25:09.100732Z",
     "shell.execute_reply": "2021-10-31T13:25:09.100022Z"
    }
   },
   "outputs": [],
   "source": [
    "hphMX4_5_part = hyg_cassette[:middle+overlap]\n",
    "hphMX4_3_part = hyg_cassette[(middle-overlap):]"
   ]
  },
  {
   "cell_type": "markdown",
   "metadata": {},
   "source": [
    "The last 400 bp of the first part are equal to the first 400 bp of the second part. "
   ]
  },
  {
   "cell_type": "code",
   "execution_count": 15,
   "metadata": {
    "execution": {
     "iopub.execute_input": "2021-10-31T13:25:09.106540Z",
     "iopub.status.busy": "2021-10-31T13:25:09.105784Z",
     "iopub.status.idle": "2021-10-31T13:25:09.109459Z",
     "shell.execute_reply": "2021-10-31T13:25:09.110106Z"
    }
   },
   "outputs": [
    {
     "data": {
      "text/plain": [
       "True"
      ]
     },
     "execution_count": 15,
     "metadata": {},
     "output_type": "execute_result"
    }
   ],
   "source": [
    "eq( hphMX4_5_part[-400:], hphMX4_3_part[:400] )"
   ]
  },
  {
   "cell_type": "markdown",
   "metadata": {},
   "source": [
    "The overlap sequence can be seen below."
   ]
  },
  {
   "cell_type": "code",
   "execution_count": 16,
   "metadata": {
    "execution": {
     "iopub.execute_input": "2021-10-31T13:25:09.116197Z",
     "iopub.status.busy": "2021-10-31T13:25:09.115382Z",
     "iopub.status.idle": "2021-10-31T13:25:09.118498Z",
     "shell.execute_reply": "2021-10-31T13:25:09.119041Z"
    }
   },
   "outputs": [
    {
     "name": "stdout",
     "output_type": "stream",
     "text": [
      "TCAGCGAGAGCCTGACCTATTGCATCTCCCGCCGTGCACAGGGTGTCACGTTGCAAGACCTGCCTGAAACCGAACTGCCCGCTGTTCTGCAGCCGGTCGCGGAGGCCATGGATGCGATCGCTGCGGCCGATCTTAGCCAGACGAGCGGGTTCGGCCCATTCGGACCGCAAGGAATCGGTCAATACACTACATGGCGTGATTTCATATGCGCGATTGCTGATCCCCATGTGTATCACTGGCAAACTGTGATGGACGACACCGTCAGTGCGTCCGTCGCGCAGGCTCTCGATGAGCTGATGCTTTGGGCCGAGGACTGCCCCGAAGTCCGGCACCTCGTGCACGCGGATTTCGGCTCCAACAATGTCCTGACGGACAATGGCCGCATAACAGCGGTCATTGA\n"
     ]
    }
   ],
   "source": [
    "print( str(hphMX4_5_part[-400:].seq) )"
   ]
  },
  {
   "cell_type": "markdown",
   "metadata": {},
   "source": [
    "### 3. KlTEF1p and 5. KlTEF1t\n",
    "\n",
    "The Kluyveromyces lactis TEF1 promoter and terminator will be used to express the kan gene. This promoter and terminator has not been proven to work in S. cerevisiae, so this has to be done after construction.\n",
    "\n",
    "K. lactis sequences can be found at the [Yeast Gene Order Browser](http://ygob.ucd.ie/)\n",
    "\n",
    "The Kl TEF1 promoter has the following [sequence](http://ygob.ucd.ie/cgi/browser/intergenic.pl?ver=Latest&gene=KLLA0B09020g&org=klac&nbr=KLLA0B08998g&dir=inverted)\n",
    "\n",
    "The Kl TEF1 promoter has the following [sequence](http://ygob.ucd.ie/cgi/browser/intergenic.pl?ver=Latest&gene=KLLA0B08998g&org=klac&nbr=KLLA0B08976g&dir=inverted)"
   ]
  },
  {
   "cell_type": "code",
   "execution_count": 17,
   "metadata": {
    "execution": {
     "iopub.execute_input": "2021-10-31T13:25:09.123533Z",
     "iopub.status.busy": "2021-10-31T13:25:09.122889Z",
     "iopub.status.idle": "2021-10-31T13:25:09.124554Z",
     "shell.execute_reply": "2021-10-31T13:25:09.124914Z"
    }
   },
   "outputs": [],
   "source": [
    "promoter_link =\"http://ygob.ucd.ie/cgi/browser/intergenic.pl?ver=Latest&gene=KLLA0B09020g&org=klac&nbr=KLLA0B08998g&dir=inverted\" "
   ]
  },
  {
   "cell_type": "code",
   "execution_count": 18,
   "metadata": {
    "execution": {
     "iopub.execute_input": "2021-10-31T13:25:09.128464Z",
     "iopub.status.busy": "2021-10-31T13:25:09.128018Z",
     "iopub.status.idle": "2021-10-31T13:25:09.539578Z",
     "shell.execute_reply": "2021-10-31T13:25:09.538893Z"
    }
   },
   "outputs": [],
   "source": [
    "html = download_text(promoter_link)"
   ]
  },
  {
   "cell_type": "markdown",
   "metadata": {},
   "source": [
    "The links above goes to html documents that contain the sequences. We use the [BeautifulSoup library](https://www.crummy.com/software/BeautifulSoup/) to extract the sequence."
   ]
  },
  {
   "cell_type": "code",
   "execution_count": 19,
   "metadata": {
    "execution": {
     "iopub.execute_input": "2021-10-31T13:25:09.545071Z",
     "iopub.status.busy": "2021-10-31T13:25:09.543916Z",
     "iopub.status.idle": "2021-10-31T13:25:09.633809Z",
     "shell.execute_reply": "2021-10-31T13:25:09.634495Z"
    }
   },
   "outputs": [],
   "source": [
    "from bs4 import BeautifulSoup"
   ]
  },
  {
   "cell_type": "code",
   "execution_count": 20,
   "metadata": {
    "execution": {
     "iopub.execute_input": "2021-10-31T13:25:09.643184Z",
     "iopub.status.busy": "2021-10-31T13:25:09.642076Z",
     "iopub.status.idle": "2021-10-31T13:25:09.650316Z",
     "shell.execute_reply": "2021-10-31T13:25:09.650882Z"
    }
   },
   "outputs": [],
   "source": [
    "KlTEF1p = read( ''.join( BeautifulSoup( html, \"lxml\").findAll( text = True ) ) )"
   ]
  },
  {
   "cell_type": "code",
   "execution_count": 21,
   "metadata": {
    "execution": {
     "iopub.execute_input": "2021-10-31T13:25:09.656709Z",
     "iopub.status.busy": "2021-10-31T13:25:09.656192Z",
     "iopub.status.idle": "2021-10-31T13:25:09.661189Z",
     "shell.execute_reply": "2021-10-31T13:25:09.660422Z"
    }
   },
   "outputs": [
    {
     "data": {
      "text/plain": [
       "Dseqrecord(-1421)"
      ]
     },
     "execution_count": 21,
     "metadata": {},
     "output_type": "execute_result"
    }
   ],
   "source": [
    "KlTEF1p"
   ]
  },
  {
   "cell_type": "code",
   "execution_count": 22,
   "metadata": {
    "execution": {
     "iopub.execute_input": "2021-10-31T13:25:09.667993Z",
     "iopub.status.busy": "2021-10-31T13:25:09.667076Z",
     "iopub.status.idle": "2021-10-31T13:25:09.670745Z",
     "shell.execute_reply": "2021-10-31T13:25:09.670260Z"
    }
   },
   "outputs": [],
   "source": [
    "KlTEF1p.name = \"KlTEF1p\"\n",
    "KlTEF1p.id = \"KlTEF1p\""
   ]
  },
  {
   "cell_type": "markdown",
   "metadata": {},
   "source": [
    "The K. lactis TEF1prom contains the intergenic sequence between the KlTEF1 gene and the upstream gene. About 400 bp should be sufficient for the promoter to give efficient expression."
   ]
  },
  {
   "cell_type": "code",
   "execution_count": 23,
   "metadata": {
    "execution": {
     "iopub.execute_input": "2021-10-31T13:25:09.674999Z",
     "iopub.status.busy": "2021-10-31T13:25:09.674542Z",
     "iopub.status.idle": "2021-10-31T13:25:09.676586Z",
     "shell.execute_reply": "2021-10-31T13:25:09.676120Z"
    }
   },
   "outputs": [],
   "source": [
    "KlTEF1p = KlTEF1p[-400:]"
   ]
  },
  {
   "cell_type": "code",
   "execution_count": 24,
   "metadata": {
    "execution": {
     "iopub.execute_input": "2021-10-31T13:25:09.683160Z",
     "iopub.status.busy": "2021-10-31T13:25:09.682168Z",
     "iopub.status.idle": "2021-10-31T13:25:09.687532Z",
     "shell.execute_reply": "2021-10-31T13:25:09.688494Z"
    }
   },
   "outputs": [
    {
     "name": "stdout",
     "output_type": "stream",
     "text": [
      "AACACTGGGTCAATCATAGCCTACACAGGTGAACAGAGTAGCGTTTATACAGGGTTTATACGGTGATTCCTACGGCAAAAATTTTTCATTTCTAAAAAAAAAAAGAAAAATTTTTCTTTCCAACGCTAGAAGGAAAAGAAAAATCTAATTAAATTGATTTGGTGATTTTCTGAGAGTTCCCTTTTTCATATATCGAATTTTGAATATAAAAGGAGATCGAAAAAATTTTTCTATTCAATCTGTTTTCTGGTTTTATTTGATAGTTTTTTTGTGTATTATTATTATGGATTAGTACTGGTTTATATGGGTTTTTCTGTATAACTTCTTTTTATTTTAGTTTGTTTAATCTTATTTTGAGTTACATTATAGTTCCCTAACTGCAAGAGAAGTAACATTAAAA\n"
     ]
    }
   ],
   "source": [
    "print(KlTEF1p.seq)"
   ]
  },
  {
   "cell_type": "markdown",
   "metadata": {},
   "source": [
    "We establish the terminator in the same manner."
   ]
  },
  {
   "cell_type": "code",
   "execution_count": 25,
   "metadata": {
    "execution": {
     "iopub.execute_input": "2021-10-31T13:25:09.692628Z",
     "iopub.status.busy": "2021-10-31T13:25:09.692179Z",
     "iopub.status.idle": "2021-10-31T13:25:09.694819Z",
     "shell.execute_reply": "2021-10-31T13:25:09.694243Z"
    }
   },
   "outputs": [],
   "source": [
    "terminator_link = \"http://ygob.ucd.ie/cgi/browser/intergenic.pl?ver=Latest&gene=KLLA0B08998g&org=klac&nbr=KLLA0B08976g&dir=inverted\""
   ]
  },
  {
   "cell_type": "code",
   "execution_count": 26,
   "metadata": {
    "execution": {
     "iopub.execute_input": "2021-10-31T13:25:09.704158Z",
     "iopub.status.busy": "2021-10-31T13:25:09.703511Z",
     "iopub.status.idle": "2021-10-31T13:25:09.915048Z",
     "shell.execute_reply": "2021-10-31T13:25:09.913805Z"
    }
   },
   "outputs": [],
   "source": [
    "html = download_text(terminator_link)"
   ]
  },
  {
   "cell_type": "code",
   "execution_count": 27,
   "metadata": {
    "execution": {
     "iopub.execute_input": "2021-10-31T13:25:09.921672Z",
     "iopub.status.busy": "2021-10-31T13:25:09.920606Z",
     "iopub.status.idle": "2021-10-31T13:25:09.925232Z",
     "shell.execute_reply": "2021-10-31T13:25:09.925923Z"
    }
   },
   "outputs": [],
   "source": [
    "KlTEF1t = read( ''.join( BeautifulSoup( html, \"lxml\").findAll( text = True ) ) )"
   ]
  },
  {
   "cell_type": "code",
   "execution_count": 28,
   "metadata": {
    "execution": {
     "iopub.execute_input": "2021-10-31T13:25:09.931784Z",
     "iopub.status.busy": "2021-10-31T13:25:09.930736Z",
     "iopub.status.idle": "2021-10-31T13:25:09.934279Z",
     "shell.execute_reply": "2021-10-31T13:25:09.934811Z"
    }
   },
   "outputs": [
    {
     "data": {
      "text/plain": [
       "Dseqrecord(-457)"
      ]
     },
     "execution_count": 28,
     "metadata": {},
     "output_type": "execute_result"
    }
   ],
   "source": [
    "KlTEF1t"
   ]
  },
  {
   "cell_type": "code",
   "execution_count": 29,
   "metadata": {
    "execution": {
     "iopub.execute_input": "2021-10-31T13:25:09.939410Z",
     "iopub.status.busy": "2021-10-31T13:25:09.938764Z",
     "iopub.status.idle": "2021-10-31T13:25:09.941756Z",
     "shell.execute_reply": "2021-10-31T13:25:09.941077Z"
    }
   },
   "outputs": [],
   "source": [
    "KlTEF1t.name = \"KlTEF1t\"\n",
    "KlTEF1t.id = \"KlTEF1t\""
   ]
  },
  {
   "cell_type": "markdown",
   "metadata": {},
   "source": [
    "Likewise, 400bp should be enough for the terminator"
   ]
  },
  {
   "cell_type": "code",
   "execution_count": 30,
   "metadata": {
    "execution": {
     "iopub.execute_input": "2021-10-31T13:25:09.946710Z",
     "iopub.status.busy": "2021-10-31T13:25:09.945883Z",
     "iopub.status.idle": "2021-10-31T13:25:09.949146Z",
     "shell.execute_reply": "2021-10-31T13:25:09.948423Z"
    }
   },
   "outputs": [],
   "source": [
    "KlTEF1t = KlTEF1t[:400]"
   ]
  },
  {
   "cell_type": "code",
   "execution_count": 31,
   "metadata": {
    "execution": {
     "iopub.execute_input": "2021-10-31T13:25:09.954455Z",
     "iopub.status.busy": "2021-10-31T13:25:09.953676Z",
     "iopub.status.idle": "2021-10-31T13:25:09.957324Z",
     "shell.execute_reply": "2021-10-31T13:25:09.956672Z"
    }
   },
   "outputs": [
    {
     "name": "stdout",
     "output_type": "stream",
     "text": [
      "GTTTAACTTGATACTACTAGATTTTTTCTCTTCATTTATAAAATTTTTGGTTATAATTGAAGCTTTAGAAGTATGAAAAAATCCTTTTTTTTCATTCTTTGCAACCAAAATAAGAAGCTTCTTTTATTCATTGAAATGATGAATATAAACCTAACAAAAGAAAAAGACTCGAATATCAAACATTAAAAAAAAATAAAAGAGGTTATCTGTTTTCCCATTTAGTTGGAGTTTGCATTTTCTAATAGATAGAACTCTCAATTAATGTGGATTTAGTTTCTCTGTTCGTTTTTTTTTGTTTTGTTCTCACTGTATTTACATTTCTATTTAGTATTTAGTTATTCATATAATCTTAACTTAACGTAACAACAACTTTCATTGTCAACAAATTTACTAATACTAA\n"
     ]
    }
   ],
   "source": [
    "print(KlTEF1t.seq)"
   ]
  },
  {
   "cell_type": "markdown",
   "metadata": {},
   "source": [
    "### 4.  kan\n",
    "\n",
    "The kan gene was amplififed from the pUG6 plasmid. It was constructed by [Güldener et al. 1996](http://nar.oxfordjournals.org/content/24/13/2519.full).\n",
    "\n",
    "The sequence is available from [Genbank](http://www.ncbi.nlm.nih.gov/nuccore/AF298793.1). The plasmid itself can be obtained from [EUROSCARF](http://www.euroscarf.de/plasmid_details.php?accno=P30114).\n",
    "\n",
    "We will download the sequence from Genbank."
   ]
  },
  {
   "cell_type": "code",
   "execution_count": 32,
   "metadata": {
    "execution": {
     "iopub.execute_input": "2021-10-31T13:25:09.962671Z",
     "iopub.status.busy": "2021-10-31T13:25:09.961918Z",
     "iopub.status.idle": "2021-10-31T13:25:10.966355Z",
     "shell.execute_reply": "2021-10-31T13:25:10.966708Z"
    }
   },
   "outputs": [],
   "source": [
    "pUG6 = gb.nucleotide(\"AF298793\")"
   ]
  },
  {
   "cell_type": "markdown",
   "metadata": {},
   "source": [
    "The size should be 4009bp."
   ]
  },
  {
   "cell_type": "code",
   "execution_count": 33,
   "metadata": {
    "execution": {
     "iopub.execute_input": "2021-10-31T13:25:10.970504Z",
     "iopub.status.busy": "2021-10-31T13:25:10.970031Z",
     "iopub.status.idle": "2021-10-31T13:25:10.972317Z",
     "shell.execute_reply": "2021-10-31T13:25:10.972675Z"
    }
   },
   "outputs": [
    {
     "data": {
      "text/plain": [
       "4009"
      ]
     },
     "execution_count": 33,
     "metadata": {},
     "output_type": "execute_result"
    }
   ],
   "source": [
    "len(pUG6)"
   ]
  },
  {
   "cell_type": "markdown",
   "metadata": {},
   "source": [
    "We inspect features to obtain the coding sequence of the kan gene."
   ]
  },
  {
   "cell_type": "code",
   "execution_count": 34,
   "metadata": {
    "execution": {
     "iopub.execute_input": "2021-10-31T13:25:10.986306Z",
     "iopub.status.busy": "2021-10-31T13:25:10.985594Z",
     "iopub.status.idle": "2021-10-31T13:25:10.988740Z",
     "shell.execute_reply": "2021-10-31T13:25:10.988223Z"
    }
   },
   "outputs": [
    {
     "data": {
      "text/markdown": [
       "| Ft# | Label or Note    | Dir | Sta  | End  |  Len | type         | orf? |\n",
       "|-----|------------------|-----|------|------|------|--------------|------|\n",
       "|   0 | N:derived from S | --> | 0    | 4009 | 4009 | source       |  no  |\n",
       "|   1 | N:loxP site      | --> | 52   | 86   |   34 | misc_feature |  no  |\n",
       "|   2 | N:from TEF       | --> | 86   | 484  |  398 | regulatory   |  no  |\n",
       "|   3 | nd               | --> | 484  | 1294 |  810 | gene         | yes  |\n",
       "|   4 | nd               | --> | 484  | 1294 |  810 | CDS          | yes  |\n",
       "|   5 | N:from TEF       | --> | 1294 | 1559 |  265 | regulatory   |  no  |\n",
       "|   6 | N:loxP site      | --> | 1559 | 1593 |   34 | misc_feature |  no  |\n",
       "|   7 | nd               | <-- | 2681 | 3542 |  861 | gene         | yes  |\n",
       "|   8 | nd               | <-- | 2681 | 3542 |  861 | CDS          | yes  |"
      ],
      "text/plain": [
       "+-----+------------------+-----+------+------+------+--------------+------+\n",
       "| Ft# | Label or Note    | Dir | Sta  | End  |  Len | type         | orf? |\n",
       "+-----+------------------+-----+------+------+------+--------------+------+\n",
       "|   0 | N:derived from S | --> | 0    | 4009 | 4009 | source       |  no  |\n",
       "|   1 | N:loxP site      | --> | 52   | 86   |   34 | misc_feature |  no  |\n",
       "|   2 | N:from TEF       | --> | 86   | 484  |  398 | regulatory   |  no  |\n",
       "|   3 | nd               | --> | 484  | 1294 |  810 | gene         | yes  |\n",
       "|   4 | nd               | --> | 484  | 1294 |  810 | CDS          | yes  |\n",
       "|   5 | N:from TEF       | --> | 1294 | 1559 |  265 | regulatory   |  no  |\n",
       "|   6 | N:loxP site      | --> | 1559 | 1593 |   34 | misc_feature |  no  |\n",
       "|   7 | nd               | <-- | 2681 | 3542 |  861 | gene         | yes  |\n",
       "|   8 | nd               | <-- | 2681 | 3542 |  861 | CDS          | yes  |\n",
       "+-----+------------------+-----+------+------+------+--------------+------+"
      ]
     },
     "execution_count": 34,
     "metadata": {},
     "output_type": "execute_result"
    }
   ],
   "source": [
    "pUG6.list_features()"
   ]
  },
  {
   "cell_type": "markdown",
   "metadata": {},
   "source": [
    "The feature number 4 is the coding sequence for the kan gene:"
   ]
  },
  {
   "cell_type": "code",
   "execution_count": 35,
   "metadata": {
    "execution": {
     "iopub.execute_input": "2021-10-31T13:25:10.993698Z",
     "iopub.status.busy": "2021-10-31T13:25:10.992964Z",
     "iopub.status.idle": "2021-10-31T13:25:10.996210Z",
     "shell.execute_reply": "2021-10-31T13:25:10.995363Z"
    }
   },
   "outputs": [],
   "source": [
    "kan = pUG6.extract_feature(4)"
   ]
  },
  {
   "cell_type": "markdown",
   "metadata": {},
   "source": [
    "### 6. YIplac128_smaI\n",
    "\n",
    "The final DNA fragment is the YIplac128 vector. This vector was constructed by [Gietz and Sugino](https://www.ncbi.nlm.nih.gov/pubmed/3073106). The sequence can be found in Genbank [here](https://www.ncbi.nlm.nih.gov/nuccore/X75463.1). The YIplac 128 will be linearized with [SmaI](http://rebase.neb.com/rebase/enz/SmaI.html) which leaves a blunt cut.\n",
    "\n",
    "The reason for including this fragment is twofold. We can in theory rescue the construct to E. coli since this plasmid has sequences that allow selection and replication in E. coli. It also serves to extend the region where a double stranded DNA break can be expected to result in recombinantion."
   ]
  },
  {
   "cell_type": "code",
   "execution_count": 36,
   "metadata": {
    "execution": {
     "iopub.execute_input": "2021-10-31T13:25:11.000997Z",
     "iopub.status.busy": "2021-10-31T13:25:11.000400Z",
     "iopub.status.idle": "2021-10-31T13:25:12.262706Z",
     "shell.execute_reply": "2021-10-31T13:25:12.262196Z"
    }
   },
   "outputs": [
    {
     "data": {
      "text/plain": [
       "Dseqrecord(-4302)"
      ]
     },
     "execution_count": 36,
     "metadata": {},
     "output_type": "execute_result"
    }
   ],
   "source": [
    "YIplac128 = gb.nucleotide(\"X75463\").looped() # The sequence in Genbank is wrongly marked as linear \n",
    "from Bio.Restriction import SmaI\n",
    "YIplac128_smaI = YIplac128.linearize(SmaI)\n",
    "YIplac128_smaI"
   ]
  },
  {
   "cell_type": "code",
   "execution_count": 37,
   "metadata": {
    "execution": {
     "iopub.execute_input": "2021-10-31T13:25:12.266156Z",
     "iopub.status.busy": "2021-10-31T13:25:12.265664Z",
     "iopub.status.idle": "2021-10-31T13:25:12.268309Z",
     "shell.execute_reply": "2021-10-31T13:25:12.269075Z"
    }
   },
   "outputs": [],
   "source": [
    "YIplac128_smaI.name = \"YIplac128\""
   ]
  },
  {
   "cell_type": "markdown",
   "metadata": {},
   "source": [
    "We have now established all seven necessary linear DNA fragments for the assembly."
   ]
  },
  {
   "cell_type": "code",
   "execution_count": 38,
   "metadata": {
    "execution": {
     "iopub.execute_input": "2021-10-31T13:25:12.274116Z",
     "iopub.status.busy": "2021-10-31T13:25:12.273418Z",
     "iopub.status.idle": "2021-10-31T13:25:12.276254Z",
     "shell.execute_reply": "2021-10-31T13:25:12.275612Z"
    }
   },
   "outputs": [],
   "source": [
    "from Bio.Restriction import XhoI, SpeI"
   ]
  },
  {
   "cell_type": "markdown",
   "metadata": {},
   "source": [
    "Two restricion sites, XhoI and SpeI are added to the assembly to facilitate analysis of the final construct. The assembly_fragment function designs the necessary primers for assembly. The YIplac128_smaI sequence is repeated since we want a circular assembly."
   ]
  },
  {
   "cell_type": "code",
   "execution_count": 39,
   "metadata": {
    "execution": {
     "iopub.execute_input": "2021-10-31T13:25:12.309146Z",
     "iopub.status.busy": "2021-10-31T13:25:12.308428Z",
     "iopub.status.idle": "2021-10-31T13:25:12.310740Z",
     "shell.execute_reply": "2021-10-31T13:25:12.310364Z"
    }
   },
   "outputs": [],
   "source": [
    "fragments =  assembly_fragments((   YIplac128_smaI,\n",
    "                                                       primer_design( hphMX4_3_part ),\n",
    "                                                       Dseqrecord( XhoI.site ),\n",
    "                                                       primer_design( URA3_2micron ),\n",
    "                                                       primer_design( hphMX4_5_part ),\n",
    "                                                       Dseqrecord( SpeI.site ),\n",
    "                                                       primer_design( KlTEF1p ), \n",
    "                                                       primer_design( kan ), \n",
    "                                                       primer_design( KlTEF1t ),\n",
    "                                    YIplac128_smaI ))"
   ]
  },
  {
   "cell_type": "code",
   "execution_count": 40,
   "metadata": {
    "execution": {
     "iopub.execute_input": "2021-10-31T13:25:12.314643Z",
     "iopub.status.busy": "2021-10-31T13:25:12.314178Z",
     "iopub.status.idle": "2021-10-31T13:25:12.316845Z",
     "shell.execute_reply": "2021-10-31T13:25:12.316427Z"
    }
   },
   "outputs": [
    {
     "data": {
      "text/plain": [
       "[Dseqrecord(-4302),\n",
       " Amplicon(1075),\n",
       " Amplicon(2618),\n",
       " Amplicon(1057),\n",
       " Amplicon(439),\n",
       " Amplicon(846),\n",
       " Amplicon(453),\n",
       " Dseqrecord(-4302)]"
      ]
     },
     "execution_count": 40,
     "metadata": {},
     "output_type": "execute_result"
    }
   ],
   "source": [
    "fragments"
   ]
  },
  {
   "cell_type": "markdown",
   "metadata": {},
   "source": [
    "We set the max primer size to 40 bp for the primers guiding the assembly of the internal fragments to keep cost down. We leave out the first and last fragment as this is vector sequence."
   ]
  },
  {
   "cell_type": "code",
   "execution_count": 41,
   "metadata": {
    "execution": {
     "iopub.execute_input": "2021-10-31T13:25:12.321944Z",
     "iopub.status.busy": "2021-10-31T13:25:12.321381Z",
     "iopub.status.idle": "2021-10-31T13:25:12.323500Z",
     "shell.execute_reply": "2021-10-31T13:25:12.324010Z"
    }
   },
   "outputs": [],
   "source": [
    "for i, prd in enumerate(fragments[2:-2]):\n",
    "    prd.forward_primer = prd.forward_primer[-40:]\n",
    "    prd.reverse_primer = prd.reverse_primer[-40:]"
   ]
  },
  {
   "cell_type": "markdown",
   "metadata": {},
   "source": [
    "The primers that guide recombination with the YIp128 vector are allowed to be longer (50 bp) as these carry the entire homology that allow recombination at those junktions."
   ]
  },
  {
   "cell_type": "code",
   "execution_count": 42,
   "metadata": {
    "execution": {
     "iopub.execute_input": "2021-10-31T13:25:12.328963Z",
     "iopub.status.busy": "2021-10-31T13:25:12.328402Z",
     "iopub.status.idle": "2021-10-31T13:25:12.330777Z",
     "shell.execute_reply": "2021-10-31T13:25:12.331343Z"
    }
   },
   "outputs": [],
   "source": [
    "for i, prd in enumerate( [fragments[2],fragments[-2]] ):\n",
    "    prd.forward_primer = prd.forward_primer[-50:]\n",
    "    prd.reverse_primer = prd.reverse_primer[-50:]"
   ]
  },
  {
   "cell_type": "markdown",
   "metadata": {},
   "source": [
    "Since we changed the primers, the pcr products should be resimulated. We can simply do this by looping of the pcr products using the pcr function with the old Amplicon object as argument. See the list comprehension in the next code cell. Amplicons are filtered from the fragments list by having a forward_primer attribute."
   ]
  },
  {
   "cell_type": "code",
   "execution_count": 43,
   "metadata": {
    "execution": {
     "iopub.execute_input": "2021-10-31T13:25:12.348079Z",
     "iopub.status.busy": "2021-10-31T13:25:12.347594Z",
     "iopub.status.idle": "2021-10-31T13:25:12.349466Z",
     "shell.execute_reply": "2021-10-31T13:25:12.349844Z"
    }
   },
   "outputs": [],
   "source": [
    "fragments = [pcr(f) if hasattr(f, \"forward_primer\") else f for f in fragments]"
   ]
  },
  {
   "cell_type": "markdown",
   "metadata": {},
   "source": [
    "We can now give proper names to the pcr products and primers. We do it like this since the primers were actually bought and named after the compilation of this document."
   ]
  },
  {
   "cell_type": "code",
   "execution_count": 44,
   "metadata": {
    "execution": {
     "iopub.execute_input": "2021-10-31T13:25:12.353509Z",
     "iopub.status.busy": "2021-10-31T13:25:12.352857Z",
     "iopub.status.idle": "2021-10-31T13:25:12.354995Z",
     "shell.execute_reply": "2021-10-31T13:25:12.355454Z"
    }
   },
   "outputs": [],
   "source": [
    "names = ''' Hph-term      dda1_2nd_f         dda2_2nd_r\n",
    "            URA3_2my      dda3_URA3_2my_f    dda4_URA3_2my_r\n",
    "            prom-Hph      dda5_1st_f         dda6_1st_r\n",
    "            KlTEF1prom    dda7_Kl_pr_f       dda8_Kl_pr_r\n",
    "            kan_orf       dda9_kan_f         dda10_kan_r\n",
    "            KlTEF1term    dda11_Kl_tr_f      dda12_Kl_tr_r '''"
   ]
  },
  {
   "cell_type": "code",
   "execution_count": 45,
   "metadata": {
    "execution": {
     "iopub.execute_input": "2021-10-31T13:25:12.359784Z",
     "iopub.status.busy": "2021-10-31T13:25:12.359228Z",
     "iopub.status.idle": "2021-10-31T13:25:12.361773Z",
     "shell.execute_reply": "2021-10-31T13:25:12.361279Z"
    }
   },
   "outputs": [],
   "source": [
    "for f,n in zip(fragments[1:-1], names.splitlines()):\n",
    "    f.name, f.forward_primer.id, f.reverse_primer.id,  = n.split()"
   ]
  },
  {
   "cell_type": "markdown",
   "metadata": {},
   "source": [
    "We use the pydna Assembly functionality to simulate the in-vivo homologous recombination."
   ]
  },
  {
   "cell_type": "code",
   "execution_count": 46,
   "metadata": {
    "execution": {
     "iopub.execute_input": "2021-10-31T13:25:12.440761Z",
     "iopub.status.busy": "2021-10-31T13:25:12.405285Z",
     "iopub.status.idle": "2021-10-31T13:25:13.486840Z",
     "shell.execute_reply": "2021-10-31T13:25:13.486350Z"
    }
   },
   "outputs": [],
   "source": [
    "asm = Assembly( fragments[1:], limit = 20)"
   ]
  },
  {
   "cell_type": "code",
   "execution_count": 47,
   "metadata": {
    "execution": {
     "iopub.execute_input": "2021-10-31T13:25:13.490547Z",
     "iopub.status.busy": "2021-10-31T13:25:13.490081Z",
     "iopub.status.idle": "2021-10-31T13:25:13.492518Z",
     "shell.execute_reply": "2021-10-31T13:25:13.492901Z"
    }
   },
   "outputs": [
    {
     "data": {
      "text/plain": [
       "Assembly\n",
       "fragments..: 1075bp 2612bp 1054bp 439bp 846bp 442bp 4302bp\n",
       "limit(bp)..: 20\n",
       "G.nodes....: 16\n",
       "algorithm..: common_sub_strings"
      ]
     },
     "execution_count": 47,
     "metadata": {},
     "output_type": "execute_result"
    }
   ],
   "source": [
    "asm"
   ]
  },
  {
   "cell_type": "code",
   "execution_count": 48,
   "metadata": {
    "execution": {
     "iopub.execute_input": "2021-10-31T13:25:13.498740Z",
     "iopub.status.busy": "2021-10-31T13:25:13.497936Z",
     "iopub.status.idle": "2021-10-31T13:25:13.677113Z",
     "shell.execute_reply": "2021-10-31T13:25:13.676055Z"
    }
   },
   "outputs": [
    {
     "data": {
      "text/plain": [
       " -|Hph-term|36\n",
       "|           \\/\n",
       "|           /\\\n",
       "|           36|URA3_2my|30\n",
       "|                       \\/\n",
       "|                       /\\\n",
       "|                       30|prom-Hph|33\n",
       "|                                   \\/\n",
       "|                                   /\\\n",
       "|                                   33|KlTEF1prom|36\n",
       "|                                                 \\/\n",
       "|                                                 /\\\n",
       "|                                                 36|kan_orf|36\n",
       "|                                                            \\/\n",
       "|                                                            /\\\n",
       "|                                                            36|KlTEF1term|24\n",
       "|                                                                          \\/\n",
       "|                                                                          /\\\n",
       "|                                                                          24|YIplac128|35\n",
       "|                                                                                       \\/\n",
       "|                                                                                       /\\\n",
       "|                                                                                       35-\n",
       "|                                                                                          |\n",
       " ------------------------------------------------------------------------------------------"
      ]
     },
     "execution_count": 48,
     "metadata": {},
     "output_type": "execute_result"
    }
   ],
   "source": [
    "candidate = asm.assemble_circular()[0]\n",
    "candidate.figure()"
   ]
  },
  {
   "cell_type": "code",
   "execution_count": 49,
   "metadata": {
    "execution": {
     "iopub.execute_input": "2021-10-31T13:25:13.682036Z",
     "iopub.status.busy": "2021-10-31T13:25:13.681383Z",
     "iopub.status.idle": "2021-10-31T13:25:13.684151Z",
     "shell.execute_reply": "2021-10-31T13:25:13.683584Z"
    }
   },
   "outputs": [],
   "source": [
    "pPS1 = candidate"
   ]
  },
  {
   "cell_type": "code",
   "execution_count": 50,
   "metadata": {
    "execution": {
     "iopub.execute_input": "2021-10-31T13:25:13.699698Z",
     "iopub.status.busy": "2021-10-31T13:25:13.699167Z",
     "iopub.status.idle": "2021-10-31T13:25:13.701885Z",
     "shell.execute_reply": "2021-10-31T13:25:13.701507Z"
    }
   },
   "outputs": [
    {
     "data": {
      "text/plain": [
       "vXelWQ46lP0x8856rBYXpzFaSTk"
      ]
     },
     "execution_count": 50,
     "metadata": {},
     "output_type": "execute_result"
    }
   ],
   "source": [
    "pPS1.cseguid()"
   ]
  },
  {
   "cell_type": "code",
   "execution_count": 51,
   "metadata": {
    "execution": {
     "iopub.execute_input": "2021-10-31T13:25:13.716399Z",
     "iopub.status.busy": "2021-10-31T13:25:13.715861Z",
     "iopub.status.idle": "2021-10-31T13:25:13.718466Z",
     "shell.execute_reply": "2021-10-31T13:25:13.717897Z"
    }
   },
   "outputs": [],
   "source": [
    "assert pPS1.cseguid() == \"vXelWQ46lP0x8856rBYXpzFaSTk\""
   ]
  },
  {
   "cell_type": "code",
   "execution_count": 52,
   "metadata": {
    "execution": {
     "iopub.execute_input": "2021-10-31T13:25:13.722762Z",
     "iopub.status.busy": "2021-10-31T13:25:13.722116Z",
     "iopub.status.idle": "2021-10-31T13:25:13.726414Z",
     "shell.execute_reply": "2021-10-31T13:25:13.725744Z"
    }
   },
   "outputs": [
    {
     "name": "stdout",
     "output_type": "stream",
     "text": [
      "dda1_2nd_f\tCTTGCATGCCTGCAGGTCGACTCTAGAGGATCCCCTCAGCGAGAGCCTG\n",
      "\n",
      "dda2_2nd_r\tAGCGGTATTCGCAATCTCGAGTCGACACTGGATGGC\n",
      "\n",
      "dda3_URA3_2my_f\tGCCATCCAGTGTCGACTCGAGATTGCGAATACCGCTT\n",
      "\n",
      "dda4_URA3_2my_r\tACCCGGCGGGGATAATAACTGATATAATTAAATTGAAGCT\n",
      "\n",
      "dda5_1st_f\tTAATTATATCAGTTATTATCCCCGCCGGGTC\n",
      "\n",
      "dda6_1st_r\tTGACCCAGTGTTACTAGTTCAATGACCGCTGTTATGCGGC\n",
      "\n",
      "dda7_Kl_pr_f\tAACAGCGGTCATTGAACTAGTAACACTGGGTCAATCATA\n",
      "\n",
      "dda8_Kl_pr_r\tAGTCTTTTCCTTACCCATTTTTAATGTTACTTCTCTTGCA\n",
      "\n",
      "dda9_kan_f\tAGAGAAGTAACATTAAAAATGGGTAAGGAAAAGACT\n",
      "\n",
      "dda10_kan_r\tAGTAGTATCAAGTTAAACTTAGAAAAACTCATCGAGCAT\n",
      "\n",
      "dda11_Kl_tr_f\tCTCGATGAGTTTTTCTAAGTTTAACTTGATACTACTAGATTTTT\n",
      "\n",
      "dda12_Kl_tr_r\tCCAGTGAATTCGAGCTCGGTACCCTTAGTATTAGTAAATTTGTTGACAAT\n",
      "\n"
     ]
    }
   ],
   "source": [
    "for prd in fragments[1:-1]:\n",
    "    print(prd.forward_primer.format(\"tab\"))\n",
    "    print(prd.reverse_primer.format(\"tab\"))"
   ]
  },
  {
   "cell_type": "code",
   "execution_count": 53,
   "metadata": {
    "execution": {
     "iopub.execute_input": "2021-10-31T13:25:13.731940Z",
     "iopub.status.busy": "2021-10-31T13:25:13.730874Z",
     "iopub.status.idle": "2021-10-31T13:25:13.733581Z",
     "shell.execute_reply": "2021-10-31T13:25:13.734361Z"
    }
   },
   "outputs": [],
   "source": [
    "pPS1.name = \"pPS1\"\n",
    "pPS1.description=\"\""
   ]
  },
  {
   "cell_type": "code",
   "execution_count": 54,
   "metadata": {
    "execution": {
     "iopub.execute_input": "2021-10-31T13:25:13.743431Z",
     "iopub.status.busy": "2021-10-31T13:25:13.742633Z",
     "iopub.status.idle": "2021-10-31T13:25:13.754745Z",
     "shell.execute_reply": "2021-10-31T13:25:13.754268Z"
    }
   },
   "outputs": [
    {
     "data": {
      "text/plain": [
       "cSEGUID_vXelWQ46lP0x8856rBYXpzFaSTk"
      ]
     },
     "execution_count": 54,
     "metadata": {},
     "output_type": "execute_result"
    }
   ],
   "source": [
    "pPS1.stamp()"
   ]
  },
  {
   "cell_type": "code",
   "execution_count": 55,
   "metadata": {
    "execution": {
     "iopub.execute_input": "2021-10-31T13:25:13.758060Z",
     "iopub.status.busy": "2021-10-31T13:25:13.757410Z",
     "iopub.status.idle": "2021-10-31T13:25:13.772908Z",
     "shell.execute_reply": "2021-10-31T13:25:13.772382Z"
    }
   },
   "outputs": [
    {
     "data": {
      "text/html": [
       "<font face=monospace><a href='pPS1.gb' target='_blank'>pPS1.gb</a></font><br>"
      ]
     },
     "metadata": {},
     "output_type": "display_data"
    }
   ],
   "source": [
    "pPS1.write(\"pPS1.gb\")"
   ]
  },
  {
   "cell_type": "markdown",
   "metadata": {},
   "source": [
    "## PCR conditions"
   ]
  },
  {
   "cell_type": "markdown",
   "metadata": {},
   "source": [
    "prd = fragments[1]\n",
    "print(prd.name)\n",
    "print(prd.template.name)\n",
    "print(prd.forward_primer.seq)\n",
    "print(prd.reverse_primer.seq)\n",
    "print(prd.program())"
   ]
  },
  {
   "cell_type": "code",
   "execution_count": 56,
   "metadata": {
    "execution": {
     "iopub.execute_input": "2021-10-31T13:25:13.782717Z",
     "iopub.status.busy": "2021-10-31T13:25:13.781643Z",
     "iopub.status.idle": "2021-10-31T13:25:13.787169Z",
     "shell.execute_reply": "2021-10-31T13:25:13.787557Z"
    }
   },
   "outputs": [
    {
     "name": "stdout",
     "output_type": "stream",
     "text": [
      "product name: Hph-term\n",
      "template: part_part_pAG32\n",
      "|95°C|95°C               |    |tmf:56.0\n",
      "|____|_____          72°C|72°C|tmr:57.7\n",
      "|3min|30s  \\ 59.0°C _____|____|45s/kb\n",
      "|    |      \\______/ 0:48|5min|GC 54%\n",
      "|    |       30s         |    |1075bp\n",
      "\n",
      "----------------------------------------------------------------------\n",
      "\n",
      "product name: URA3_2my\n",
      "template: part_AB215109\n",
      "|95°C|95°C               |    |tmf:55.1\n",
      "|____|_____          72°C|72°C|tmr:55.4\n",
      "|3min|30s  \\ 54.6°C _____|____|45s/kb\n",
      "|    |      \\______/ 1:57|5min|GC 39%\n",
      "|    |       30s         |    |2612bp\n",
      "\n",
      "----------------------------------------------------------------------\n",
      "\n",
      "product name: prom-Hph\n",
      "template: part_part_pAG32\n",
      "|95°C|95°C               |    |tmf:68.5\n",
      "|____|_____          72°C|72°C|tmr:68.6\n",
      "|3min|30s  \\ 62.6°C _____|____|45s/kb\n",
      "|    |      \\______/ 0:47|5min|GC 54%\n",
      "|    |       30s         |    |1054bp\n",
      "\n",
      "----------------------------------------------------------------------\n",
      "\n",
      "product name: KlTEF1prom\n",
      "template: part_KlTEF1p\n",
      "|95°C|95°C               |    |tmf:55.1\n",
      "|____|_____          72°C|72°C|tmr:54.7\n",
      "|3min|30s  \\ 50.6°C _____|____|45s/kb\n",
      "|    |      \\______/ 0:30|5min|GC 28%\n",
      "|    |       30s         |    |439bp\n",
      "\n",
      "----------------------------------------------------------------------\n",
      "\n",
      "product name: kan_orf\n",
      "template: feat_AF2987931\n",
      "|95°C|95°C               |    |tmf:55.5\n",
      "|____|_____          72°C|72°C|tmr:55.8\n",
      "|3min|30s  \\ 55.5°C _____|____|45s/kb\n",
      "|    |      \\______/ 0:38|5min|GC 42%\n",
      "|    |       30s         |    |846bp\n",
      "\n",
      "----------------------------------------------------------------------\n",
      "\n",
      "product name: KlTEF1term\n",
      "template: part_KlTEF1t\n",
      "|95°C|95°C               |    |tmf:55.0\n",
      "|____|_____          72°C|72°C|tmr:54.7\n",
      "|3min|30s  \\ 49.9°C _____|____|45s/kb\n",
      "|    |      \\______/ 0:30|5min|GC 26%\n",
      "|    |       30s         |    |442bp\n",
      "\n",
      "----------------------------------------------------------------------\n",
      "\n"
     ]
    }
   ],
   "source": [
    "for prd in fragments[1:-1]:\n",
    "    print(\"product name:\", prd.name)\n",
    "    print(\"template:\", prd.template.name) \n",
    "    print(prd.program())\n",
    "    print()\n",
    "    print(\"----------------------------------------------------------------------\")\n",
    "    print()"
   ]
  },
  {
   "cell_type": "code",
   "execution_count": null,
   "metadata": {},
   "outputs": [],
   "source": []
  }
 ],
 "metadata": {
  "kernelspec": {
   "display_name": "Python [conda env:bjorn38]",
   "language": "python",
   "name": "conda-env-bjorn38-py"
  },
  "language_info": {
   "codemirror_mode": {
    "name": "ipython",
    "version": 3
   },
   "file_extension": ".py",
   "mimetype": "text/x-python",
   "name": "python",
   "nbconvert_exporter": "python",
   "pygments_lexer": "ipython3",
   "version": "3.9.7"
  }
 },
 "nbformat": 4,
 "nbformat_minor": 4
}
