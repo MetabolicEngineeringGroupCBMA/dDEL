{
 "cells": [
  {
   "cell_type": "markdown",
   "metadata": {},
   "source": [
    "# Deletion of NUC1/YJL208C"
   ]
  },
  {
   "cell_type": "code",
   "execution_count": 1,
   "metadata": {
    "collapsed": false
   },
   "outputs": [],
   "source": [
    "from pydna.genbank import genbank"
   ]
  },
  {
   "cell_type": "code",
   "execution_count": 2,
   "metadata": {
    "collapsed": false
   },
   "outputs": [],
   "source": [
    "pFA6a_KanMX4 = genbank(\"AJ002680\")"
   ]
  },
  {
   "cell_type": "code",
   "execution_count": 3,
   "metadata": {
    "collapsed": false
   },
   "outputs": [
    {
     "data": {
      "text/html": [
       "<a href='https://www.ncbi.nlm.nih.gov/nuccore/AJ002680?from=&to=&strand=1' target='_blank'>AJ002680</a>"
      ],
      "text/plain": [
       "Gbank(AJ002680)(-3941)"
      ]
     },
     "execution_count": 3,
     "metadata": {},
     "output_type": "execute_result"
    }
   ],
   "source": [
    "pFA6a_KanMX4"
   ]
  },
  {
   "cell_type": "code",
   "execution_count": 4,
   "metadata": {
    "collapsed": false
   },
   "outputs": [],
   "source": [
    "from pydna.myprimers import p027, p026"
   ]
  },
  {
   "cell_type": "code",
   "execution_count": 5,
   "metadata": {
    "collapsed": true
   },
   "outputs": [],
   "source": [
    "from pydna.amplify import pcr"
   ]
  },
  {
   "cell_type": "code",
   "execution_count": 6,
   "metadata": {
    "collapsed": false
   },
   "outputs": [
    {
     "data": {
      "text/plain": [
       "(26_NUC1SPFWD 80-mer:5'-CTAACGCGGCGATCA..GGG-3',\n",
       " 27_NUC1SPREV 80-mer:5'-TCAAATAAATGTATT..TCG-3')"
      ]
     },
     "execution_count": 6,
     "metadata": {},
     "output_type": "execute_result"
    }
   ],
   "source": [
    "p026, p027"
   ]
  },
  {
   "cell_type": "code",
   "execution_count": 7,
   "metadata": {
    "collapsed": false
   },
   "outputs": [],
   "source": [
    "cas = pcr(p027,p026,pFA6a_KanMX4)"
   ]
  },
  {
   "cell_type": "code",
   "execution_count": 8,
   "metadata": {
    "collapsed": false
   },
   "outputs": [
    {
     "data": {
      "text/html": [
       "Amplicon(1618)"
      ],
      "text/plain": [
       "Amplicon(1618)"
      ]
     },
     "execution_count": 8,
     "metadata": {},
     "output_type": "execute_result"
    }
   ],
   "source": [
    "cas"
   ]
  },
  {
   "cell_type": "code",
   "execution_count": 9,
   "metadata": {
    "collapsed": true
   },
   "outputs": [],
   "source": [
    "from pygenome import sg"
   ]
  },
  {
   "cell_type": "code",
   "execution_count": 10,
   "metadata": {
    "collapsed": false
   },
   "outputs": [
    {
     "data": {
      "text/plain": [
       "YJL208C NUC1"
      ]
     },
     "execution_count": 10,
     "metadata": {},
     "output_type": "execute_result"
    }
   ],
   "source": [
    "nuc1 = sg.gene[\"NUC1\"]\n",
    "nuc1"
   ]
  },
  {
   "cell_type": "code",
   "execution_count": 11,
   "metadata": {
    "collapsed": true
   },
   "outputs": [],
   "source": [
    "from pydna.assembly import Assembly\n",
    "from pydna.dseqrecord import Dseqrecord"
   ]
  },
  {
   "cell_type": "code",
   "execution_count": 12,
   "metadata": {
    "collapsed": false
   },
   "outputs": [],
   "source": [
    "nuc1_locus = Dseqrecord( nuc1.locus() )"
   ]
  },
  {
   "cell_type": "code",
   "execution_count": 13,
   "metadata": {
    "collapsed": false
   },
   "outputs": [
    {
     "data": {
      "text/plain": [
       "Assembly:\n",
       "Sequences........................: [1618] [2990]\n",
       "Sequences with shared homologies.: [1618] [2990]\n",
       "Homology limit (bp)..............: 25\n",
       "Number of overlaps...............: 2\n",
       "Nodes in graph(incl. 5' & 3')....: 4\n",
       "Only terminal overlaps...........: No\n",
       "Circular products................: \n",
       "Linear products..................: [4434] [3543] [2509] [2099] [1065] [174]"
      ]
     },
     "execution_count": 13,
     "metadata": {},
     "output_type": "execute_result"
    }
   ],
   "source": [
    "asm = Assembly((cas, nuc1_locus), max_nodes=3)\n",
    "asm"
   ]
  },
  {
   "cell_type": "code",
   "execution_count": 14,
   "metadata": {
    "collapsed": false
   },
   "outputs": [],
   "source": [
    "deletion_locus = asm.linear_products[0].figure()"
   ]
  },
  {
   "cell_type": "code",
   "execution_count": 15,
   "metadata": {
    "collapsed": false
   },
   "outputs": [
    {
     "data": {
      "text/plain": [
       "BK006943|62\n",
       "         \\/\n",
       "         /\\\n",
       "         62|1618bp_PCR_prod|61\n",
       "                            \\/\n",
       "                            /\\\n",
       "                            61|BK006943"
      ]
     },
     "execution_count": 15,
     "metadata": {},
     "output_type": "execute_result"
    }
   ],
   "source": [
    "deletion_locus"
   ]
  },
  {
   "cell_type": "code",
   "execution_count": null,
   "metadata": {
    "collapsed": true
   },
   "outputs": [],
   "source": [
    "# JEN1 ?"
   ]
  },
  {
   "cell_type": "code",
   "execution_count": 16,
   "metadata": {
    "collapsed": true
   },
   "outputs": [],
   "source": [
    "from pydna.myprimers import p658, p659"
   ]
  },
  {
   "cell_type": "code",
   "execution_count": 17,
   "metadata": {
    "collapsed": false
   },
   "outputs": [
    {
     "data": {
      "text/plain": [
       "(658_Sc_jen1_rev 60-mer:5'-CGAACACGCCCTAGA..TCT-3',\n",
       " 659_Sc_jen1_fwd 60-mer:5'-AGAGATTAAATACTG..TCG-3')"
      ]
     },
     "execution_count": 17,
     "metadata": {},
     "output_type": "execute_result"
    }
   ],
   "source": [
    "p658,p659"
   ]
  },
  {
   "cell_type": "code",
   "execution_count": null,
   "metadata": {
    "collapsed": false
   },
   "outputs": [],
   "source": [
    "cas2 = pcr(p658,p659,pFA6a_KanMX4)"
   ]
  },
  {
   "cell_type": "code",
   "execution_count": 19,
   "metadata": {
    "collapsed": false
   },
   "outputs": [],
   "source": [
    "nuc1_locus = Dseqrecord( sg.gene[\"JEN1\"].locus() )"
   ]
  },
  {
   "cell_type": "code",
   "execution_count": 22,
   "metadata": {
    "collapsed": true
   },
   "outputs": [],
   "source": [
    "from pydna.myprimers import primer_list\n",
    "from pydna.amplify import Anneal"
   ]
  },
  {
   "cell_type": "code",
   "execution_count": 24,
   "metadata": {
    "collapsed": false
   },
   "outputs": [],
   "source": [
    "x=Anneal(primer_list, pFA6a_KanMX4)"
   ]
  },
  {
   "cell_type": "code",
   "execution_count": 25,
   "metadata": {
    "collapsed": false
   },
   "outputs": [
    {
     "data": {
      "text/plain": [
       "[383_up-PGI1 64-mer:5'-AGTCTTGCAAAATCG..CGC-3',\n",
       " 424_ScPDC6_loxP_fwd 64-mer:5'-TAAAAAACCCACGTA..cgc-3',\n",
       " 426_ScPDC1_loxP_fwd 64-mer:5'-ACTCATAACCTCACG..cgc-3',\n",
       " 591_ScPDC5_loxP_fd 64-mer:5'-ATCTCAAAGAGAACA..CGC-3',\n",
       " 190_MumMX4_MunI_fw 65-mer:5'-aatgtgcgcggaacc..GAC-3',\n",
       " 311_CORE_SNF2_rev 63-mer:5'-CGTATAAACGAATAA..GAC-3',\n",
       " 313_CORE_FAA4_rev 63-mer:5'-TATGAAGGGCAGGGG..GAC-3',\n",
       " 315_CORE_FAA1_rev 63-mer:5'-TAGTATGATGAGGCT..GAC-3',\n",
       " 335_MumMX4_KpnI_fw 68-mer:5'-gcttgagaaggtttt..GAC-3',\n",
       " 422_CORE_FAA1_I-Sce 81-mer:5'-TAGTATGATGAGGCT..GAC-3',\n",
       " 26_NUC1SPFWD 80-mer:5'-CTAACGCGGCGATCA..GGG-3',\n",
       " 64_5-70-mer_DFR1 70-mer:5'-GAGATGGCATCGCTG..CTG-3',\n",
       " 478_bleMX4f 54-mer:5'-aatttaaattataat..gtc-3',\n",
       " 531_pSU1_MX4f 47-mer:5'-taattctcatctttg..gtc-3',\n",
       " 82_MSW_fwd 18-mer:5'-TCCTTGACAGTCTTGACG-3',\n",
       " 474_MSW_fwd 18-mer:5'-TCCTTGACAGTCTTGACG-3',\n",
       " 150_MX4fwd 25-mer:5'-AAAATCTTGCTAGGA..CTC-3',\n",
       " 501_MX4blf 34-mer:5'-CCAAtcacatcacat..atg-3',\n",
       " 327_Kanfwd 21-mer:5'-GTCGGGCAATCAGGT..ACA-3',\n",
       " 472_Kanfwd2 29-mer:5'-gcgataatgtcgggc..aca-3',\n",
       " 255_kanC 22-mer:5'-TGATTTTGATGACGA..AAT-3',\n",
       " 705_pTDH3-tc3_K2: 22-mer:5'-GTTTCATTTGATGCT..GAG-3',\n",
       " 388_AgTEF1t_fwd 27-mer:5'-tcagtactgacaata..ttg-3',\n",
       " 522_AgMUD1tpF 27-mer:5'-tcagtactgacaata..ttg-3',\n",
       " 253_kanC3 22-mer:5'-CCTCGACATCATCTG..GAT-3',\n",
       " 51_TefTermFwd(A.gos 20-mer:5'-CAGATGCGAAGTTAAGTGCG-3',\n",
       " 393_kanGamma 24-mer:5'-GAAAACGAGCTCGAA..GAT-3',\n",
       " 459_Primer_fwd_2 29-mer:5'-GGTAAGACACGACTT..CAG-3',\n",
       " 574_marker_1 25-mer:5'-aaactcacgttaagg..gtc-3',\n",
       " 987_Amp.REV 52-mer:5'-AGAAAGTCTACACCT..AAA-3',\n",
       " 195_pMEC_MX4_rev 20-mer:5'-ataataccgcgccacatagc-3',\n",
       " 576_pBR322_2 25-mer:5'-gaaaaataaacaaat..ccg-3',\n",
       " 108_pUG6seq 19-mer:5'-CATACGATTTAGGTGACAC-3',\n",
       " 807_pYPK0_hygfwd2 71-mer:5'-tctgacgctcagtgg..CAC-3']"
      ]
     },
     "execution_count": 25,
     "metadata": {},
     "output_type": "execute_result"
    }
   ],
   "source": [
    "x.forward_primers"
   ]
  },
  {
   "cell_type": "code",
   "execution_count": 28,
   "metadata": {
    "collapsed": true
   },
   "outputs": [],
   "source": [
    "from pydna.editor import ape"
   ]
  },
  {
   "cell_type": "code",
   "execution_count": 30,
   "metadata": {
    "collapsed": false
   },
   "outputs": [],
   "source": [
    "ape(x.template)"
   ]
  },
  {
   "cell_type": "code",
   "execution_count": null,
   "metadata": {
    "collapsed": true
   },
   "outputs": [],
   "source": []
  }
 ],
 "metadata": {
  "anaconda-cloud": {},
  "kernelspec": {
   "display_name": "Python 3",
   "language": "python",
   "name": "python3"
  },
  "language_info": {
   "codemirror_mode": {
    "name": "ipython",
    "version": 3
   },
   "file_extension": ".py",
   "mimetype": "text/x-python",
   "name": "python",
   "nbconvert_exporter": "python",
   "pygments_lexer": "ipython3",
   "version": "3.6.0"
  }
 },
 "nbformat": 4,
 "nbformat_minor": 0
}
