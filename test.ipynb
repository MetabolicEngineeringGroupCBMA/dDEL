{
 "cells": [
  {
   "cell_type": "code",
   "execution_count": 1,
   "metadata": {
    "collapsed": true
   },
   "outputs": [],
   "source": [
    "try:\n",
    "    from pydna.readers    import read\n",
    "    from pydna.parsers    import parse_primers\n",
    "    from pydna.dseqrecord import Dseqrecord\n",
    "    from pydna.genbank    import Genbank\n",
    "    from pydna.amplify    import pcr\n",
    "    from pydna.assembly   import Assembly\n",
    "except ImportError:\n",
    "    import sys, os\n",
    "    sys.path.append(os.pardir)\n",
    "    from pydna.readers    import read\n",
    "    from pydna.parsers    import parse_primers\n",
    "    from pydna.dseqrecord import Dseqrecord\n",
    "    from pydna.genbank    import Genbank\n",
    "    from pydna.amplify    import pcr\n",
    "    from pydna.assembly   import Assembly"
   ]
  },
  {
   "cell_type": "code",
   "execution_count": 2,
   "metadata": {
    "collapsed": true
   },
   "outputs": [],
   "source": [
    "primers = parse_primers('''>ForwardPrimer\n",
    "gctactacacacgtactgactg\n",
    ">ReversePrimer\n",
    "tgtggttactgactctatcttg ''')"
   ]
  },
  {
   "cell_type": "code",
   "execution_count": 3,
   "metadata": {
    "collapsed": true
   },
   "outputs": [],
   "source": [
    "temp = Dseqrecord(\"gctactacacacgtactgactgcctccaagatagagtcagtaaccaca\")"
   ]
  },
  {
   "cell_type": "code",
   "execution_count": 4,
   "metadata": {
    "collapsed": true
   },
   "outputs": [],
   "source": [
    "prd = pcr(primers, temp)"
   ]
  },
  {
   "cell_type": "code",
   "execution_count": 5,
   "metadata": {},
   "outputs": [
    {
     "data": {
      "text/plain": [
       "pydna.amplicon.Amplicon"
      ]
     },
     "execution_count": 5,
     "metadata": {},
     "output_type": "execute_result"
    }
   ],
   "source": [
    "type(prd)"
   ]
  },
  {
   "cell_type": "code",
   "execution_count": 6,
   "metadata": {},
   "outputs": [
    {
     "data": {
      "text/html": [
       "Amplicon(48)"
      ],
      "text/plain": [
       "Amplicon(48)"
      ]
     },
     "execution_count": 6,
     "metadata": {},
     "output_type": "execute_result"
    }
   ],
   "source": [
    "prd"
   ]
  },
  {
   "cell_type": "code",
   "execution_count": 7,
   "metadata": {},
   "outputs": [
    {
     "data": {
      "text/plain": [
       "5gctactacacacgtactgactg...caagatagagtcagtaaccaca3\n",
       "                          |||||||||||||||||||||| tm 54.6 (dbd) 57.7\n",
       "                         3gttctatctcagtcattggtgt5\n",
       "5gctactacacacgtactgactg3\n",
       " |||||||||||||||||||||| tm 57.9 (dbd) 58.3\n",
       "3cgatgatgtgtgcatgactgac...gttctatctcagtcattggtgt5"
      ]
     },
     "execution_count": 7,
     "metadata": {},
     "output_type": "execute_result"
    }
   ],
   "source": [
    "prd.figure()"
   ]
  },
  {
   "cell_type": "code",
   "execution_count": 8,
   "metadata": {},
   "outputs": [
    {
     "data": {
      "text/plain": [
       "\n",
       "Taq (rate 30 nt/s) 35 cycles             |48bp\n",
       "95.0°C    |95.0°C                 |      |Tm formula: Biopython Tm_NN\n",
       "|_________|_____          72.0°C  |72.0°C|SaltC 50mM\n",
       "| 03min00s|30s  \\         ________|______|Primer1C 1.0µM\n",
       "|         |      \\ 47.3°C/ 0min 1s| 5min |Primer2C 1.0µM\n",
       "|         |       \\_____/         |      |GC 47%\n",
       "|         |         30s           |      |4-12°C"
      ]
     },
     "execution_count": 8,
     "metadata": {},
     "output_type": "execute_result"
    }
   ],
   "source": [
    "prd.program()"
   ]
  }
 ],
 "metadata": {
  "anaconda-cloud": {},
  "kernelspec": {
   "display_name": "Python 3",
   "language": "python",
   "name": "python3"
  },
  "language_info": {
   "codemirror_mode": {
    "name": "ipython",
    "version": 3
   },
   "file_extension": ".py",
   "mimetype": "text/x-python",
   "name": "python",
   "nbconvert_exporter": "python",
   "pygments_lexer": "ipython3",
   "version": "3.6.3"
  }
 },
 "nbformat": 4,
 "nbformat_minor": 1
}
