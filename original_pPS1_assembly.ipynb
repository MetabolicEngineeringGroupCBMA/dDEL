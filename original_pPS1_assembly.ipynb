{
 "cells": [
  {
   "cell_type": "markdown",
   "metadata": {},
   "source": [
    "## Plan for assembly of the Dominant Del Assay plasmid pPS1"
   ]
  },
  {
   "cell_type": "code",
   "execution_count": 49,
   "metadata": {},
   "outputs": [
    {
     "data": {
      "text/html": [
       "<img src=\"http://cancerres.aacrjournals.org/content/66/7/3480/F1.medium.gif\"/>"
      ],
      "text/plain": [
       "<IPython.core.display.Image object>"
      ]
     },
     "execution_count": 49,
     "metadata": {},
     "output_type": "execute_result"
    }
   ],
   "source": [
    "from IPython.display import Image\n",
    "Image(url='http://cancerres.aacrjournals.org/content/66/7/3480/F1.medium.gif')"
   ]
  },
  {
   "cell_type": "markdown",
   "metadata": {},
   "source": [
    "### The del assay\n",
    "\n",
    "The image above depicts the principle of the original del assay.\n",
    "\n",
    "http://cancerres.aacrjournals.org/content/66/7/3480.abstract?sid=9297eb2f-00bd-466f-89d8-b38af175d67f\n",
    "\n",
    "The RS112 yeast strain contains a plasmid carrying the LEU2 gene and an internal fragment of the yeast HIS3 gene integrated into the genome at the HIS3 locus. This resulted in two copies of the his3 gene, one with a terminal deletion at the 3'-end, and the other with a terminal deletion at the 5'-end. There are ~400 bp of homology between the two copies (striped region). B, DNA strand breakage leads to bidirectional degradation until homologous single-stranded regions are exposed. C, annealing of homologous regions. D, reversion to HIS+ phenotype and deletion of plasmid.\n",
    "\n",
    "### The pPS1 plasmid\n",
    "\n",
    "This cassette consists of two dominant markers HphMX4 and the kanamycin resistance gene from the E. coli transposon TN903 \"kan\".\n",
    "\n",
    "The HphMX4 marker is the Hygromycin B resistance gene from the plasmid [pAG32](http://www.ncbi.nlm.nih.gov/pubmed/6319235) under control of the Ashbya gossypii TEF1 promoter and terminator.\n",
    "\n",
    "The idea is to split the HphMX4 marker in two pieces so that there is a shared homology, like for the HIS3 gene of the del cassette. The kan gene will be controlled by the promoter and terminator from the Kluyveromyces lactis TEF1 homolog.\n",
    "\n",
    "The TEF1 promoter-kan-TEF1 terminator fragments are cloned inside the HphMX4 marker in such a way that there is a region of homology on each side by which the TEF1 promoter-kan-TEF1 terminator can be lost and the HphMX4 gene reconstituted. \n",
    "\n",
    "The a circular construct is made by in vivo gap-repair in one reaction as a recombination between seven linear DNA fragments.\n",
    "    \n",
    "    1   URA3_2micron\n",
    "    2               HphMX4(5'part)\n",
    "    3                             KlTEF1p\n",
    "    4                                    kan\n",
    "    5                                       KlTEF1t\n",
    "    6                                              YIplac128_smaI    \n",
    "    7                                                            HphMX4(3'part)\n",
    "    \n",
    "1. The URA3_2micron fragment contain a URA3 marker and the 2 micron sequence for plasmid replication\n",
    "2. The Ashbya gossypii TEF1 promoter with a little more than half the Hygromycin B resistance orf\n",
    "3. TEF1 promoter from Kluyveromyces lactis\n",
    "4. The kan resistance orf\n",
    "5. TEF1 terminator from Kluyveromyces lactis\n",
    "6. The YIplac128_smaI is a linearized vector containing E. coli replicative sequences and a LEU2 marker\n",
    "7. The second half the Hygromycin B resistance orf and The Ashbya gossypii TEF1 terminator \n",
    "\n",
    "### Material\n",
    "\n",
    "|DNA      | Source  -80      |\n",
    "|---------|------------------|\n",
    "|pAG32    | box 3\tpos 45   |\n",
    "|pSU0     |                  |\n",
    "|pUG6     | box 3\tpos 55   |\n",
    "|YIplac128| box 1   pos 81   |"
   ]
  },
  {
   "cell_type": "code",
   "execution_count": 50,
   "metadata": {},
   "outputs": [
    {
     "data": {
      "text/plain": [
       "'1.2.0'"
      ]
     },
     "execution_count": 50,
     "metadata": {},
     "output_type": "execute_result"
    }
   ],
   "source": [
    "# This notebook require pydna version 1.2.0 or earlier\n",
    "import pydna\n",
    "pydna.__version__"
   ]
  },
  {
   "cell_type": "markdown",
   "metadata": {},
   "source": [
    "### 1. URA3_2micron\n",
    "\n",
    "This fragment is PCR amplified from the [pSU0 vector](https://www.ncbi.nlm.nih.gov/pubmed/16454044)."
   ]
  },
  {
   "cell_type": "code",
   "execution_count": 51,
   "metadata": {
    "collapsed": true
   },
   "outputs": [],
   "source": [
    "gb = pydna.Genbank(\"bjornjobb@gmail.com\")\n",
    "pSU0 = gb.nucleotide(\"AB215109.1\")"
   ]
  },
  {
   "cell_type": "code",
   "execution_count": 52,
   "metadata": {
    "collapsed": true
   },
   "outputs": [],
   "source": [
    "URA3_2micron = pSU0[1041:3620]"
   ]
  },
  {
   "cell_type": "code",
   "execution_count": 53,
   "metadata": {},
   "outputs": [
    {
     "data": {
      "text/plain": [
       "Dseqrecord(-2579)"
      ]
     },
     "execution_count": 53,
     "metadata": {},
     "output_type": "execute_result"
    }
   ],
   "source": [
    "URA3_2micron"
   ]
  },
  {
   "cell_type": "markdown",
   "metadata": {},
   "source": [
    "### 2. HphMX4(5'part) and 7. HphMX4(3'part)\n",
    "\n",
    "The plasmid pAG32 contains the HphMX4 marker gene. It is available from [EUROSCARF](http://www.euroscarf.de/plasmid_details.php?accno=P30106). It was constructed by [Goldstein & McCusker](http://www.ncbi.nlm.nih.gov/pubmed/10514571).\n",
    "\n",
    "The sequence is not available from Genbank, but the EUROSCARF website provides it. Unfortunately, the LOCUS line is malformed in this record (genbank format). \n",
    "\n",
    "For this reason we made our own copy of the sequence [here](https://gist.github.com/BjornFJohansson/c5424b7ebbf553c52053). The size of the plasmid is 4160 bp."
   ]
  },
  {
   "cell_type": "code",
   "execution_count": 54,
   "metadata": {
    "collapsed": true
   },
   "outputs": [],
   "source": [
    "text  = pydna.download_text(\"https://gist.githubusercontent.com/BjornFJohansson/c5424b7ebbf553c52053/raw/64318ead495bc7ade8bb598ab192e76a3569a724/pAG32.gb\")\n",
    "pAG32 = pydna.read(text)"
   ]
  },
  {
   "cell_type": "code",
   "execution_count": 55,
   "metadata": {},
   "outputs": [
    {
     "data": {
      "text/plain": [
       "Dseqrecord(o4160)"
      ]
     },
     "execution_count": 55,
     "metadata": {},
     "output_type": "execute_result"
    }
   ],
   "source": [
    "pAG32"
   ]
  },
  {
   "cell_type": "code",
   "execution_count": 56,
   "metadata": {},
   "outputs": [
    {
     "data": {
      "text/plain": [
       "+----------+-----------+-------+------+--------+--------------+--------------+------+\n",
       "| Feature# | Direction | Start | End  | Length | id           | type         | orf? |\n",
       "+----------+-----------+-------+------+--------+--------------+--------------+------+\n",
       "| 0        |    -->    |   90  | 458  |    368 | <unknown id> | misc_feature |  no  |\n",
       "| 1        |    -->    |  458  | 1487 |   1029 | <unknown id> | CDS          | yes  |\n",
       "| 2        |    -->    |  1487 | 1727 |    240 | <unknown id> | misc_feature |  no  |\n",
       "| 3        |    <--    |  2832 | 3693 |    861 | <unknown id> | CDS          | yes  |\n",
       "+----------+-----------+-------+------+--------+--------------+--------------+------+"
      ]
     },
     "execution_count": 56,
     "metadata": {},
     "output_type": "execute_result"
    }
   ],
   "source": [
    "pAG32.list_features()"
   ]
  },
  {
   "cell_type": "markdown",
   "metadata": {},
   "source": [
    "We can inspect the features in the table above to conclude that the HphMX4 cassete starts at 90 in feature 0 and ends at 1727 in feature 2."
   ]
  },
  {
   "cell_type": "code",
   "execution_count": 57,
   "metadata": {
    "collapsed": true
   },
   "outputs": [],
   "source": [
    "hyg_cassette = pAG32[90:1727]"
   ]
  },
  {
   "cell_type": "code",
   "execution_count": 58,
   "metadata": {},
   "outputs": [
    {
     "data": {
      "text/plain": [
       "Dseqrecord(-1637)"
      ]
     },
     "execution_count": 58,
     "metadata": {},
     "output_type": "execute_result"
    }
   ],
   "source": [
    "hyg_cassette"
   ]
  },
  {
   "cell_type": "markdown",
   "metadata": {},
   "source": [
    "The HphMX4 cassette is 1637 bp. We will split the HphMX4 in two parts in such a way that there is an overlap or shared homology in the middle. The overlap was set to 200 bp to reflect the overlap length in the original del cassette."
   ]
  },
  {
   "cell_type": "code",
   "execution_count": 59,
   "metadata": {
    "collapsed": true
   },
   "outputs": [],
   "source": [
    "middle = int(len(hyg_cassette)/2)\n",
    "overlap = 200"
   ]
  },
  {
   "cell_type": "markdown",
   "metadata": {},
   "source": [
    "We split the HphMX4 in two parts:"
   ]
  },
  {
   "cell_type": "code",
   "execution_count": 60,
   "metadata": {
    "collapsed": true
   },
   "outputs": [],
   "source": [
    "hphMX4_5_part = hyg_cassette[:middle+overlap]\n",
    "hphMX4_3_part = hyg_cassette[(middle-overlap):]"
   ]
  },
  {
   "cell_type": "markdown",
   "metadata": {},
   "source": [
    "The last 400 bp of the first part are equal to the first 400 bp of the second part. "
   ]
  },
  {
   "cell_type": "code",
   "execution_count": 61,
   "metadata": {},
   "outputs": [
    {
     "data": {
      "text/plain": [
       "True"
      ]
     },
     "execution_count": 61,
     "metadata": {},
     "output_type": "execute_result"
    }
   ],
   "source": [
    "pydna.eq( hphMX4_5_part[-400:], hphMX4_3_part[:400] )"
   ]
  },
  {
   "cell_type": "markdown",
   "metadata": {},
   "source": [
    "The overlap sequence can be seen below."
   ]
  },
  {
   "cell_type": "code",
   "execution_count": 62,
   "metadata": {},
   "outputs": [
    {
     "name": "stdout",
     "output_type": "stream",
     "text": [
      "TCAGCGAGAGCCTGACCTATTGCATCTCCCGCCGTGCACAGGGTGTCACGTTGCAAGACCTGCCTGAAACCGAACTGCCCGCTGTTCTGCAGCCGGTCGCGGAGGCCATGGATGCGATCGCTGCGGCCGATCTTAGCCAGACGAGCGGGTTCGGCCCATTCGGACCGCAAGGAATCGGTCAATACACTACATGGCGTGATTTCATATGCGCGATTGCTGATCCCCATGTGTATCACTGGCAAACTGTGATGGACGACACCGTCAGTGCGTCCGTCGCGCAGGCTCTCGATGAGCTGATGCTTTGGGCCGAGGACTGCCCCGAAGTCCGGCACCTCGTGCACGCGGATTTCGGCTCCAACAATGTCCTGACGGACAATGGCCGCATAACAGCGGTCATTGA\n"
     ]
    }
   ],
   "source": [
    "print( str(hphMX4_5_part[-400:].seq) )"
   ]
  },
  {
   "cell_type": "markdown",
   "metadata": {},
   "source": [
    "### 3. KlTEF1p and 5. KlTEF1t\n",
    "\n",
    "Now we need to define the K. lactis TEF1 promoter and terminator to use for the kan gene.\n",
    "\n",
    "K. lactis sequences can be found at the [Yeast Gene Order Browser](http://ygob.ucd.ie/)\n",
    "\n",
    "The Kl TEF1 promoter has the following [sequence](http://ygob.ucd.ie/cgi/browser/intergenic.pl?ver=Latest&gene=KLLA0B09020g&org=klac&nbr=KLLA0B08998g&dir=inverted)\n",
    "\n",
    "The Kl TEF1 promoter has the following [sequence](http://ygob.ucd.ie/cgi/browser/intergenic.pl?ver=Latest&gene=KLLA0B08998g&org=klac&nbr=KLLA0B08976g&dir=inverted)"
   ]
  },
  {
   "cell_type": "code",
   "execution_count": 63,
   "metadata": {
    "collapsed": true
   },
   "outputs": [],
   "source": [
    "promoter_link =\"http://ygob.ucd.ie/cgi/browser/intergenic.pl?ver=Latest&gene=KLLA0B09020g&org=klac&nbr=KLLA0B08998g&dir=inverted\" "
   ]
  },
  {
   "cell_type": "code",
   "execution_count": 64,
   "metadata": {
    "collapsed": true
   },
   "outputs": [],
   "source": [
    "html = pydna.download_text(promoter_link)"
   ]
  },
  {
   "cell_type": "markdown",
   "metadata": {},
   "source": [
    "The links above goes to html documents that contain the sequences. We use the [BeautifulSoup library](https://www.crummy.com/software/BeautifulSoup/) to extract the sequence."
   ]
  },
  {
   "cell_type": "code",
   "execution_count": 65,
   "metadata": {
    "collapsed": true
   },
   "outputs": [],
   "source": [
    "from bs4 import BeautifulSoup"
   ]
  },
  {
   "cell_type": "code",
   "execution_count": 66,
   "metadata": {
    "collapsed": true
   },
   "outputs": [],
   "source": [
    "KlTEF1p = pydna.read( ''.join( BeautifulSoup( html, \"lxml\").findAll( text = True ) ) )"
   ]
  },
  {
   "cell_type": "code",
   "execution_count": 67,
   "metadata": {},
   "outputs": [
    {
     "data": {
      "text/plain": [
       "Dseqrecord(-1421)"
      ]
     },
     "execution_count": 67,
     "metadata": {},
     "output_type": "execute_result"
    }
   ],
   "source": [
    "KlTEF1p"
   ]
  },
  {
   "cell_type": "markdown",
   "metadata": {},
   "source": [
    "The K. lactis TEF1prom contains the intergenic sequence between the KlTEF1 gene and the upstream gene. Probably about 400 is sufficient for the promoter to give efficient expression."
   ]
  },
  {
   "cell_type": "code",
   "execution_count": 68,
   "metadata": {
    "collapsed": true
   },
   "outputs": [],
   "source": [
    "KlTEF1p = KlTEF1p[-400:]"
   ]
  },
  {
   "cell_type": "markdown",
   "metadata": {},
   "source": [
    "We establish the terminator in the same manner"
   ]
  },
  {
   "cell_type": "code",
   "execution_count": 69,
   "metadata": {
    "collapsed": true
   },
   "outputs": [],
   "source": [
    "terminator_link = \"http://ygob.ucd.ie/cgi/browser/intergenic.pl?ver=Latest&gene=KLLA0B08998g&org=klac&nbr=KLLA0B08976g&dir=inverted\""
   ]
  },
  {
   "cell_type": "code",
   "execution_count": 70,
   "metadata": {
    "collapsed": true
   },
   "outputs": [],
   "source": [
    "html = pydna.download_text(terminator_link)"
   ]
  },
  {
   "cell_type": "code",
   "execution_count": 71,
   "metadata": {
    "collapsed": true
   },
   "outputs": [],
   "source": [
    "KlTEF1t = pydna.read( ''.join( BeautifulSoup( html, \"lxml\").findAll( text = True ) ) )"
   ]
  },
  {
   "cell_type": "code",
   "execution_count": 72,
   "metadata": {},
   "outputs": [
    {
     "data": {
      "text/plain": [
       "Dseqrecord(-457)"
      ]
     },
     "execution_count": 72,
     "metadata": {},
     "output_type": "execute_result"
    }
   ],
   "source": [
    "KlTEF1t"
   ]
  },
  {
   "cell_type": "markdown",
   "metadata": {},
   "source": [
    "Likewise, 400bp is more than enough for the terminator"
   ]
  },
  {
   "cell_type": "code",
   "execution_count": 73,
   "metadata": {
    "collapsed": true
   },
   "outputs": [],
   "source": [
    "KlTEF1t = KlTEF1t[:400]"
   ]
  },
  {
   "cell_type": "markdown",
   "metadata": {},
   "source": [
    "### 4.  kan\n",
    "\n",
    "The kan gene was amplififed from the pUG6 plasmid. It was constructed by [Güldener et al.](http://nar.oxfordjournals.org/content/24/13/2519.full).\n",
    "\n",
    "The sequence is available from [Genbank](http://www.ncbi.nlm.nih.gov/nuccore/AF298793.1). The plasmid itself can be obtained from [EUROSCARF](http://www.euroscarf.de/plasmid_details.php?accno=P30114).\n",
    "\n",
    "We will download the sequence from Genbank."
   ]
  },
  {
   "cell_type": "code",
   "execution_count": 74,
   "metadata": {
    "collapsed": true
   },
   "outputs": [],
   "source": [
    "pUG6 = gb.nucleotide(\"AF298793\")"
   ]
  },
  {
   "cell_type": "markdown",
   "metadata": {},
   "source": [
    "The size should be 4009bp."
   ]
  },
  {
   "cell_type": "code",
   "execution_count": 75,
   "metadata": {},
   "outputs": [
    {
     "data": {
      "text/plain": [
       "4009"
      ]
     },
     "execution_count": 75,
     "metadata": {},
     "output_type": "execute_result"
    }
   ],
   "source": [
    "len(pUG6)"
   ]
  },
  {
   "cell_type": "code",
   "execution_count": 76,
   "metadata": {},
   "outputs": [
    {
     "data": {
      "text/html": [
       "<a href='https://www.ncbi.nlm.nih.gov/nuccore/AF298793?from=&to=&strand=1' target='_blank'>AF298793</a>"
      ],
      "text/plain": [
       "Gbank(AF298793)(o4009)"
      ]
     },
     "execution_count": 76,
     "metadata": {},
     "output_type": "execute_result"
    }
   ],
   "source": [
    "pUG6"
   ]
  },
  {
   "cell_type": "markdown",
   "metadata": {},
   "source": [
    "We can inspect features to obtain the coding sequence of the kan gene."
   ]
  },
  {
   "cell_type": "code",
   "execution_count": 77,
   "metadata": {},
   "outputs": [
    {
     "data": {
      "text/plain": [
       "+----------+-----------+-------+------+--------+--------------+--------------+------+\n",
       "| Feature# | Direction | Start | End  | Length | id           | type         | orf? |\n",
       "+----------+-----------+-------+------+--------+--------------+--------------+------+\n",
       "| 0        |    -->    |   0   | 4009 |   4009 | <unknown id> | source       |  no  |\n",
       "| 1        |    -->    |   52  |  86  |     34 | <unknown id> | misc_feature |  no  |\n",
       "| 2        |    -->    |   86  | 484  |    398 | <unknown id> | regulatory   |  no  |\n",
       "| 3        |    -->    |  484  | 1294 |    810 | <unknown id> | gene         | yes  |\n",
       "| 4        |    -->    |  484  | 1294 |    810 | <unknown id> | CDS          | yes  |\n",
       "| 5        |    -->    |  1294 | 1559 |    265 | <unknown id> | regulatory   |  no  |\n",
       "| 6        |    -->    |  1559 | 1593 |     34 | <unknown id> | misc_feature |  no  |\n",
       "| 7        |    <--    |  2681 | 3542 |    861 | <unknown id> | gene         | yes  |\n",
       "| 8        |    <--    |  2681 | 3542 |    861 | <unknown id> | CDS          | yes  |\n",
       "+----------+-----------+-------+------+--------+--------------+--------------+------+"
      ]
     },
     "execution_count": 77,
     "metadata": {},
     "output_type": "execute_result"
    }
   ],
   "source": [
    "pUG6.list_features()"
   ]
  },
  {
   "cell_type": "markdown",
   "metadata": {},
   "source": [
    "The feature number 4 is the coding sequence for the kan gene:"
   ]
  },
  {
   "cell_type": "code",
   "execution_count": 78,
   "metadata": {
    "collapsed": true
   },
   "outputs": [],
   "source": [
    "kan = pUG6.extract_feature(4)"
   ]
  },
  {
   "cell_type": "markdown",
   "metadata": {},
   "source": [
    "Now we have defined five DNA fragments between 0.4 and 1.1 kb"
   ]
  },
  {
   "cell_type": "markdown",
   "metadata": {},
   "source": [
    "### 6. YIplac128_smaI\n",
    "\n",
    "The final DNA fragment is the YIplac128 vector. This vector was constructed by [Gietz and Sugino](https://www.ncbi.nlm.nih.gov/pubmed/3073106). The sequence can be found in Genbank [here](https://www.ncbi.nlm.nih.gov/nuccore/X75463.1). The YIplac 128 will be linearized with [SmaI](http://rebase.neb.com/rebase/enz/SmaI.html) which leaves a blunt cut.\n",
    "\n",
    "The reason for including this fragment is twofold. We can in theory rescue the construct to E. coli since this plasmid has sequences that allow selection and replication in E. coli. It also serves to extend the region where a double stranded DNA break can be expected to result in recombinantion."
   ]
  },
  {
   "cell_type": "code",
   "execution_count": 79,
   "metadata": {},
   "outputs": [
    {
     "data": {
      "text/plain": [
       "Dseqrecord(-4302)"
      ]
     },
     "execution_count": 79,
     "metadata": {},
     "output_type": "execute_result"
    }
   ],
   "source": [
    "YIplac128 = gb.nucleotide(\"X75463\").looped() # The sequence in Genbank is wrongly marked as linear \n",
    "from Bio.Restriction import SmaI\n",
    "YIplac128_smaI = YIplac128.linearize(SmaI)\n",
    "YIplac128_smaI"
   ]
  },
  {
   "cell_type": "markdown",
   "metadata": {},
   "source": [
    "We have now established all seven necessary linear DNA fragments for the assembly."
   ]
  },
  {
   "cell_type": "code",
   "execution_count": 80,
   "metadata": {
    "collapsed": true
   },
   "outputs": [],
   "source": [
    "from Bio.Restriction import XhoI, SpeI"
   ]
  },
  {
   "cell_type": "markdown",
   "metadata": {},
   "source": [
    "# There is a bug below! The SpeI site was added to the end of the \"hphMX4_5_part\" and not to the beginning!"
   ]
  },
  {
   "cell_type": "code",
   "execution_count": 81,
   "metadata": {},
   "outputs": [
    {
     "name": "stderr",
     "output_type": "stream",
     "text": [
      "/home/bjorn/anaconda3/envs/ddel/lib/python3.6/site-packages/pydna/design.py:477: _PydnaDeprecationWarning: This function has been deprecated.consider using the primer_designfunction instead\n",
      "  \"function instead\", _PydnaDeprecationWarning)\n",
      "/home/bjorn/anaconda3/envs/ddel/lib/python3.6/site-packages/pydna/design.py:56: _PydnaDeprecationWarning: This function has been deprecated.consider using the primer_designfunction instead\n",
      "  \"function instead\", _PydnaDeprecationWarning)\n",
      "/home/bjorn/anaconda3/envs/ddel/lib/python3.6/site-packages/pydna/design.py:443: _PydnaDeprecationWarning: This function has been deprecated.consider using the primer_designfunction instead\n",
      "  \"function instead\", _PydnaDeprecationWarning)\n"
     ]
    }
   ],
   "source": [
    "((p1,  p2),\n",
    " (p3,  p4), \n",
    " (p5,  p6), \n",
    " (p7,  p8), \n",
    " (p9,  p10),\n",
    " (p11, p12))= pydna.assembly_primers(( hphMX4_3_part,\n",
    "                                       pydna.Dseqrecord( XhoI.site ),\n",
    "                                       URA3_2micron,\n",
    "                                       pydna.Dseqrecord( SpeI.site ),\n",
    "                                       hphMX4_5_part,                                      \n",
    "                                       KlTEF1p, \n",
    "                                       kan, \n",
    "                                       KlTEF1t),                                       \n",
    "                                       vector=YIplac128_smaI, target_tm=50)"
   ]
  },
  {
   "cell_type": "code",
   "execution_count": 82,
   "metadata": {
    "collapsed": true
   },
   "outputs": [],
   "source": [
    "p1.id=  \"dda1_2nd_f\"\n",
    "p2.id=  \"dda2_2nd_r\"\n",
    "\n",
    "p3.id=  \"dda3_URA3_2my_f\"\n",
    "p4.id=  \"dda4_URA3_2my_r\"\n",
    "\n",
    "p5.id=  \"dda5_1st_f\"\n",
    "p6.id=  \"dda6_1st_r\"\n",
    "\n",
    "p7.id=  \"dda7_Kl_pr_f\"\n",
    "p8.id=  \"dda8_Kl_pr_r\"\n",
    "\n",
    "p9.id=  \"dda9_kan_f\"\n",
    "p10.id= \"dda10_kan_r\"\n",
    "\n",
    "p11.id= \"dda11_Kl_tr_f\"\n",
    "p12.id= \"dda12_Kl_tr_r\""
   ]
  },
  {
   "cell_type": "code",
   "execution_count": 83,
   "metadata": {
    "collapsed": true
   },
   "outputs": [],
   "source": [
    "(p2, p3, p4, p5, p6, p7, p8, p9, p10, p11) = [p[-40:] for p in (p2, p3, p4, p5, p6, p7, p8, p9, p10, p11)]    \n",
    "p1=p1[-50:]; p12=p12[-50:]"
   ]
  },
  {
   "cell_type": "code",
   "execution_count": 87,
   "metadata": {},
   "outputs": [],
   "source": [
    "hphMX4_3_part_prd  = pydna.pcr(p1, p2,  pAG32)\n",
    "URA3_2micron_prd   = pydna.pcr(p3, p4,  pSU0)\n",
    "hphMX4_5_part_prd  = pydna.pcr(p5, p6,  pAG32)\n",
    "KlTEF1p_prd        = pydna.pcr(p7, p8,  KlTEF1p)\n",
    "kan_prd            = pydna.pcr(p9, p10, pUG6)\n",
    "KlTEF1t_prd        = pydna.pcr(p11,p12, KlTEF1t)"
   ]
  },
  {
   "cell_type": "code",
   "execution_count": 88,
   "metadata": {},
   "outputs": [],
   "source": [
    "prods = (   URA3_2micron_prd,\n",
    "            hphMX4_5_part_prd,\n",
    "            KlTEF1p_prd,\n",
    "            kan_prd,\n",
    "            KlTEF1t_prd,\n",
    "            hphMX4_3_part_prd )\n",
    "\n",
    "names = (\"URA3_2my\",\n",
    "         \"prom-Hph\",\n",
    "         \"KlTEF1prom\",\n",
    "         \"kan_orf\",\n",
    "         \"KlTEF1term\",\n",
    "         \"Hph-term\")\n",
    "\n",
    "for f,n in zip(prods, names):\n",
    "    f.name = n"
   ]
  },
  {
   "cell_type": "code",
   "execution_count": 90,
   "metadata": {},
   "outputs": [],
   "source": [
    "asm = pydna.Assembly(( URA3_2micron_prd,\n",
    "                       hphMX4_5_part_prd,\n",
    "                       KlTEF1p_prd,\n",
    "                       kan_prd,\n",
    "                       KlTEF1t_prd,\n",
    "                       YIplac128_smaI,\n",
    "                       hphMX4_3_part_prd), limit = 26)"
   ]
  },
  {
   "cell_type": "code",
   "execution_count": 91,
   "metadata": {},
   "outputs": [
    {
     "data": {
      "text/plain": [
       "Assembly:\n",
       "Sequences........................: [2617] [1053] [439] [846] [442] [4302] [1074]\n",
       "Sequences with shared homologies.: [2617] [1053] [1074] [439] [846] [442] [4302]\n",
       "Homology limit (bp)..............: 26\n",
       "Number of overlaps...............: 8\n",
       "Nodes in graph(incl. 5' & 3')....: 10\n",
       "Only terminal overlaps...........: No\n",
       "Circular products................: [10540] [6318] [4222]\n",
       "Linear products..................: [10792] [10620] [10576] [10576] [10575] [10574] [10574] [10572] [10566] [10169] [10158] [9980] [9764] [9564] [9554] [9536] [9357] [9348] [9151] [8941] [8339] [7994] [7923] [7392] [7371] [7164] [6973] [6954] [6900] [6839] [6760] [6757] [6570] [6492] [6354] [6352] [6352] [6350] [6344] [6298] [5947] [5936] [5933] [5890] [5758] [5682] [5542] [5530] [5342] [5296] [5275] [5260] [5135] [5126] [5080] [4852] [4719] [4718] [4673] [4258] [4257] [4042] [3655] [3635] [2678] [2270] [2076] [1676] [1668] [1657] [1460] [1254] [1249] [858] [451] [36] [36] [35] [34] [34] [32] [26]"
      ]
     },
     "execution_count": 91,
     "metadata": {},
     "output_type": "execute_result"
    }
   ],
   "source": [
    "asm"
   ]
  },
  {
   "cell_type": "code",
   "execution_count": 92,
   "metadata": {},
   "outputs": [
    {
     "data": {
      "text/plain": [
       " -|URA3_2my|35\n",
       "|           \\/\n",
       "|           /\\\n",
       "|           35|prom-Hph|32\n",
       "|                       \\/\n",
       "|                       /\\\n",
       "|                       32|KlTEF1prom|36\n",
       "|                                     \\/\n",
       "|                                     /\\\n",
       "|                                     36|kan_orf|34\n",
       "|                                                \\/\n",
       "|                                                /\\\n",
       "|                                                34|KlTEF1term|26\n",
       "|                                                              \\/\n",
       "|                                                              /\\\n",
       "|                                                              26|X75463|34\n",
       "|                                                                        \\/\n",
       "|                                                                        /\\\n",
       "|                                                                        34|Hph-term|36\n",
       "|                                                                                    \\/\n",
       "|                                                                                    /\\\n",
       "|                                                                                    36-\n",
       "|                                                                                       |\n",
       " ---------------------------------------------------------------------------------------"
      ]
     },
     "execution_count": 92,
     "metadata": {},
     "output_type": "execute_result"
    }
   ],
   "source": [
    "candidate = asm.circular_products[0]\n",
    "candidate.figure()"
   ]
  },
  {
   "cell_type": "code",
   "execution_count": 93,
   "metadata": {
    "collapsed": true
   },
   "outputs": [],
   "source": [
    "pPS1 = candidate"
   ]
  },
  {
   "cell_type": "code",
   "execution_count": 94,
   "metadata": {},
   "outputs": [
    {
     "data": {
      "text/plain": [
       "vXelWQ46lP0x8856rBYXpzFaSTk"
      ]
     },
     "execution_count": 94,
     "metadata": {},
     "output_type": "execute_result"
    }
   ],
   "source": [
    "pPS1.cseguid()"
   ]
  },
  {
   "cell_type": "code",
   "execution_count": 95,
   "metadata": {},
   "outputs": [
    {
     "data": {
      "text/plain": [
       "[50, 37, 37, 40, 34, 40, 37, 37, 34, 34, 40, 50]"
      ]
     },
     "execution_count": 95,
     "metadata": {},
     "output_type": "execute_result"
    }
   ],
   "source": [
    "primers = (p1, p2, p3, p4, p5, p6, p7, p8, p9, p10, p11, p12)\n",
    "[len(p) for p in primers]"
   ]
  },
  {
   "cell_type": "code",
   "execution_count": 96,
   "metadata": {},
   "outputs": [
    {
     "name": "stdout",
     "output_type": "stream",
     "text": [
      "dda1_2nd_f\tTTGCATGCCTGCAGGTCGACTCTAGAGGATCCCCTCAGCGAGAGCCTGAC\n",
      "\n",
      "dda2_2nd_r\tAGCGGTATTCGCAATCTCGAGTCGACACTGGATGGCG\n",
      "\n",
      "dda3_URA3_2my_f\tGCCATCCAGTGTCGACTCGAGATTGCGAATACCGCTT\n",
      "\n",
      "dda4_URA3_2my_r\tGGGTGACCCGGCGGGGATAATAACTGATATAATTAAATTG\n",
      "\n",
      "dda5_1st_f\tTAATTATATCAGTTATTATCCCCGCCGGGTCACC\n",
      "\n",
      "dda6_1st_r\tGACCCAGTGTTACTAGTTCAATGACCGCTGTTATGCGGCC\n",
      "\n",
      "dda7_Kl_pr_f\tAACAGCGGTCATTGAACTAGTAACACTGGGTCAATCA\n",
      "\n",
      "dda8_Kl_pr_r\tAGTCTTTTCCTTACCCATTTTTAATGTTACTTCTCTT\n",
      "\n",
      "dda9_kan_f\tAGAGAAGTAACATTAAAAATGGGTAAGGAAAAGA\n",
      "\n",
      "dda10_kan_r\tAGTAGTATCAAGTTAAACTTAGAAAAACTCATCG\n",
      "\n",
      "dda11_Kl_tr_f\tCGATGAGTTTTTCTAAGTTTAACTTGATACTACTAGATTT\n",
      "\n",
      "dda12_Kl_tr_r\tGGCCAGTGAATTCGAGCTCGGTACCCTTAGTATTAGTAAATTTGTTGACA\n",
      "\n"
     ]
    }
   ],
   "source": [
    "for p in primers:\n",
    "    print(p.format(\"tab\"))"
   ]
  },
  {
   "cell_type": "code",
   "execution_count": 97,
   "metadata": {
    "collapsed": true
   },
   "outputs": [],
   "source": [
    "pPS1.name = \"pPS1\"\n",
    "pPS1.description=\"\""
   ]
  },
  {
   "cell_type": "code",
   "execution_count": 98,
   "metadata": {},
   "outputs": [
    {
     "data": {
      "text/plain": [
       "cSEGUID_vXelWQ46lP0x8856rBYXpzFaSTk"
      ]
     },
     "execution_count": 98,
     "metadata": {},
     "output_type": "execute_result"
    }
   ],
   "source": [
    "pPS1.stamp()"
   ]
  },
  {
   "cell_type": "code",
   "execution_count": 100,
   "metadata": {},
   "outputs": [
    {
     "data": {
      "text/html": [
       "<font face=monospace><a href='pPS1.gb' target='_blank'>pPS1.gb</a></font><br>"
      ]
     },
     "metadata": {},
     "output_type": "display_data"
    }
   ],
   "source": [
    "pPS1.write(\"pPS1.gb\")"
   ]
  },
  {
   "cell_type": "markdown",
   "metadata": {},
   "source": [
    "## PCR conditions"
   ]
  },
  {
   "cell_type": "code",
   "execution_count": 101,
   "metadata": {},
   "outputs": [
    {
     "name": "stdout",
     "output_type": "stream",
     "text": [
      "product name: URA3_2my\n",
      "template: AB215109\n",
      "\n",
      "Taq (rate 30 nt/s) 35 cycles             |2617bp\n",
      "95.0°C    |95.0°C                 |      |Tm formula: Biopython Tm_NN\n",
      "|_________|_____          72.0°C  |72.0°C|SaltC 50mM\n",
      "| 03min00s|30s  \\         ________|______|Primer1C 1.0µM\n",
      "|         |      \\ 51.1°C/ 1min19s| 5min |Primer2C 1.0µM\n",
      "|         |       \\_____/         |      |GC 39%\n",
      "|         |         30s           |      |4-12°C\n",
      "----------------------------------------------------------\n",
      "product name: prom-Hph\n",
      "template: pAG32\n",
      "\n",
      "Taq (rate 30 nt/s) 35 cycles             |1053bp\n",
      "95.0°C    |95.0°C                 |      |Tm formula: Biopython Tm_NN\n",
      "|_________|_____          72.0°C  |72.0°C|SaltC 50mM\n",
      "| 03min00s|30s  \\         ________|______|Primer1C 1.0µM\n",
      "|         |      \\ 61.7°C/ 0min32s| 5min |Primer2C 1.0µM\n",
      "|         |       \\_____/         |      |GC 54%\n",
      "|         |         30s           |      |4-12°C\n",
      "----------------------------------------------------------\n",
      "product name: KlTEF1prom\n",
      "template: Intergenic-KLLA0\n",
      "\n",
      "Taq (rate 30 nt/s) 35 cycles             |439bp\n",
      "95.0°C    |95.0°C                 |      |Tm formula: Biopython Tm_NN\n",
      "|_________|_____          72.0°C  |72.0°C|SaltC 50mM\n",
      "| 03min00s|30s  \\         ________|______|Primer1C 1.0µM\n",
      "|         |      \\ 47.6°C/ 0min13s| 5min |Primer2C 1.0µM\n",
      "|         |       \\_____/         |      |GC 28%\n",
      "|         |         30s           |      |4-12°C\n",
      "----------------------------------------------------------\n",
      "product name: kan_orf\n",
      "template: AF298793\n",
      "\n",
      "Taq (rate 30 nt/s) 35 cycles             |846bp\n",
      "95.0°C    |95.0°C                 |      |Tm formula: Biopython Tm_NN\n",
      "|_________|_____          72.0°C  |72.0°C|SaltC 50mM\n",
      "| 03min00s|30s  \\         ________|______|Primer1C 1.0µM\n",
      "|         |      \\ 51.9°C/ 0min25s| 5min |Primer2C 1.0µM\n",
      "|         |       \\_____/         |      |GC 42%\n",
      "|         |         30s           |      |4-12°C\n",
      "----------------------------------------------------------\n",
      "product name: KlTEF1term\n",
      "template: Intergenic-KLLA0\n",
      "\n",
      "Taq (rate 30 nt/s) 35 cycles             |442bp\n",
      "95.0°C    |95.0°C                 |      |Tm formula: Biopython Tm_NN\n",
      "|_________|_____          72.0°C  |72.0°C|SaltC 50mM\n",
      "| 03min00s|30s  \\         ________|______|Primer1C 1.0µM\n",
      "|         |      \\ 48.4°C/ 0min13s| 5min |Primer2C 1.0µM\n",
      "|         |       \\_____/         |      |GC 26%\n",
      "|         |         30s           |      |4-12°C\n",
      "----------------------------------------------------------\n",
      "product name: Hph-term\n",
      "template: pAG32\n",
      "\n",
      "Taq (rate 30 nt/s) 35 cycles             |1074bp\n",
      "95.0°C    |95.0°C                 |      |Tm formula: Biopython Tm_NN\n",
      "|_________|_____          72.0°C  |72.0°C|SaltC 50mM\n",
      "| 03min00s|30s  \\         ________|______|Primer1C 1.0µM\n",
      "|         |      \\ 59.3°C/ 0min32s| 5min |Primer2C 1.0µM\n",
      "|         |       \\_____/         |      |GC 54%\n",
      "|         |         30s           |      |4-12°C\n",
      "----------------------------------------------------------\n"
     ]
    }
   ],
   "source": [
    "for prd in prods:\n",
    "    print(\"product name:\", prd.name)\n",
    "    print(\"template:\", prd.template.name)\n",
    "    print(prd.program())\n",
    "    print(\"----------------------------------------------------------\")"
   ]
  }
 ],
 "metadata": {
  "kernelspec": {
   "display_name": "Python 3",
   "language": "python",
   "name": "python3"
  },
  "language_info": {
   "codemirror_mode": {
    "name": "ipython",
    "version": 3
   },
   "file_extension": ".py",
   "mimetype": "text/x-python",
   "name": "python",
   "nbconvert_exporter": "python",
   "pygments_lexer": "ipython3",
   "version": "3.6.0"
  }
 },
 "nbformat": 4,
 "nbformat_minor": 1
}
