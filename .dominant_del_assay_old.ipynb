{
 "cells": [
  {
   "cell_type": "markdown",
   "metadata": {},
   "source": [
    "## Plan for Dominant Del Assay plasmid pPS1"
   ]
  },
  {
   "cell_type": "code",
   "execution_count": 1,
   "metadata": {},
   "outputs": [
    {
     "data": {
      "text/html": [
       "<img src=\"http://cancerres.aacrjournals.org/content/66/7/3480/F1.medium.gif\"/>"
      ],
      "text/plain": [
       "<IPython.core.display.Image object>"
      ]
     },
     "execution_count": 1,
     "metadata": {},
     "output_type": "execute_result"
    }
   ],
   "source": [
    "from IPython.display import Image\n",
    "Image(url='http://cancerres.aacrjournals.org/content/66/7/3480/F1.medium.gif')"
   ]
  },
  {
   "cell_type": "markdown",
   "metadata": {},
   "source": [
    "### The del assay\n",
    "\n",
    "The image above depicts the principle of the original del assay.\n",
    "\n",
    "http://cancerres.aacrjournals.org/content/66/7/3480.abstract?sid=9297eb2f-00bd-466f-89d8-b38af175d67f\n",
    "\n",
    "The RS112 yeast strain contains a plasmid carrying the LEU2 gene and an internal fragment of the yeast HIS3 gene integrated into the genome at the HIS3 locus. This resulted in two copies of the his3 gene, one with a terminal deletion at the 3'-end, and the other with a terminal deletion at the 5'-end. There are ~400 bp of homology between the two copies (striped region). B, DNA strand breakage leads to bidirectional degradation until homologous single-stranded regions are exposed. C, annealing of homologous regions. D, reversion to HIS+ phenotype and deletion of plasmid.\n",
    "\n",
    "### the pPS1 plasmid\n",
    "\n",
    "This cassette consists of two dominant markers HphMX4 and the kanamycin resistance gene from the E. coli transposon TN903 \"kan\".\n",
    "\n",
    "The HphMX4 marker is the Hygromycin B resistance gene from an E. coli [plasmid](http://www.ncbi.nlm.nih.gov/pubmed/6319235) under control of the Ashbya gossypii TEF1 promoter and terminator.\n",
    "\n",
    "The idea is to split the HphMX4 marker in two pieces so that there is a shared homology, like the HIS3 gene of the del assay. The kan gene will be controlled by the promoter and terminator from the Kluyveromyces lactis TEF1 homolog. \n",
    "\n",
    "The TEF1 promoter-kan-TEF1 terminator fragments are cloned inside the HphMX4 marker in such a way that there is a region of homology on each side by which the TEF1 promoter-kan-TEF1 terminator can be lost and the HphMX4 gene reconstituted. \n",
    "\n",
    "The whole construct is made by gap repair in one reaction.\n",
    "\n",
    "\n",
    "###material\n",
    "\n",
    "|DNA      | Source  -80      |\n",
    "|---------|------------------|\n",
    "|pAG32    | box 3\tpos 45   |\n",
    "|pMEC1030 | Filipa #114      |\n",
    "|pUG6     | box 3\tpos 55   |\n",
    "|YIplac128| box 1   pos 81   |\n",
    "\n",
    "\n",
    "K. lactis is on plate"
   ]
  },
  {
   "cell_type": "code",
   "execution_count": 2,
   "metadata": {
    "collapsed": true
   },
   "outputs": [],
   "source": [
    "import pydna"
   ]
  },
  {
   "cell_type": "code",
   "execution_count": 3,
   "metadata": {},
   "outputs": [],
   "source": [
    "web = pydna.web()"
   ]
  },
  {
   "cell_type": "markdown",
   "metadata": {},
   "source": [
    "The plasmid pAG32 contains the HphMX4 marker gene. It is available from [EUROSCARF](http://www.euroscarf.de/plasmid_details.php?accno=P30106). It was constructed by [Goldstein & McCusker](http://www.ncbi.nlm.nih.gov/pubmed/10514571).\n",
    "\n",
    "The sequence is not available from Genbank, but the EUROSCARF website provides it. Unfortunately, the LOCUS line is malformed in this record (genbank format). For this reason I made my own copy of the sequence [here](https://gist.github.com/BjornFJohansson/c5424b7ebbf553c52053). The size of the plasmid is 4160 bp."
   ]
  },
  {
   "cell_type": "code",
   "execution_count": 4,
   "metadata": {},
   "outputs": [],
   "source": [
    "text  = web.download(\"https://gist.githubusercontent.com/BjornFJohansson/c5424b7ebbf553c52053/raw/64318ead495bc7ade8bb598ab192e76a3569a724/pAG32.gb\")\n",
    "pAG32 = pydna.read(text)"
   ]
  },
  {
   "cell_type": "code",
   "execution_count": 5,
   "metadata": {},
   "outputs": [
    {
     "data": {
      "text/plain": [
       "Dseqrecord(o4160)"
      ]
     },
     "execution_count": 5,
     "metadata": {},
     "output_type": "execute_result"
    }
   ],
   "source": [
    "pAG32"
   ]
  },
  {
   "cell_type": "code",
   "execution_count": 6,
   "metadata": {},
   "outputs": [
    {
     "data": {
      "text/plain": [
       "+----------+-----------+-------+------+--------+--------------+--------------+------+\n",
       "| Feature# | Direction | Start | End  | Length | id           | type         | orf? |\n",
       "+----------+-----------+-------+------+--------+--------------+--------------+------+\n",
       "| 0        |    -->    |   90  | 458  |    368 | <unknown id> | misc_feature |  no  |\n",
       "| 1        |    -->    |  458  | 1487 |   1029 | <unknown id> | CDS          | yes  |\n",
       "| 2        |    -->    |  1487 | 1727 |    240 | <unknown id> | misc_feature |  no  |\n",
       "| 3        |    <--    |  2832 | 3693 |    861 | <unknown id> | CDS          | yes  |\n",
       "+----------+-----------+-------+------+--------+--------------+--------------+------+"
      ]
     },
     "execution_count": 6,
     "metadata": {},
     "output_type": "execute_result"
    }
   ],
   "source": [
    "pAG32.list_features()"
   ]
  },
  {
   "cell_type": "markdown",
   "metadata": {},
   "source": [
    "We can inspect the features to see that the HphMX4 cassete starts at 90 and ends at 1727"
   ]
  },
  {
   "cell_type": "code",
   "execution_count": 7,
   "metadata": {
    "collapsed": true
   },
   "outputs": [],
   "source": [
    "hyg_cassette = pAG32[90:1727]"
   ]
  },
  {
   "cell_type": "markdown",
   "metadata": {},
   "source": [
    "This makes the HphMX4 cassette 1637 bp long."
   ]
  },
  {
   "cell_type": "code",
   "execution_count": 8,
   "metadata": {},
   "outputs": [
    {
     "data": {
      "text/plain": [
       "Dseqrecord(-1637)"
      ]
     },
     "execution_count": 8,
     "metadata": {},
     "output_type": "execute_result"
    }
   ],
   "source": [
    "hyg_cassette"
   ]
  },
  {
   "cell_type": "code",
   "execution_count": 9,
   "metadata": {},
   "outputs": [],
   "source": [
    "middle = len(hyg_cassette)/2\n",
    "overlap = 200"
   ]
  },
  {
   "cell_type": "markdown",
   "metadata": {},
   "source": [
    "We split the HphMX4 in two parts:"
   ]
  },
  {
   "cell_type": "code",
   "execution_count": 10,
   "metadata": {
    "collapsed": true
   },
   "outputs": [],
   "source": [
    "first_part = hyg_cassette[:middle+overlap]\n",
    "second_part = hyg_cassette[(middle-overlap):]"
   ]
  },
  {
   "cell_type": "code",
   "execution_count": 11,
   "metadata": {},
   "outputs": [
    {
     "data": {
      "text/plain": [
       "True"
      ]
     },
     "execution_count": 11,
     "metadata": {},
     "output_type": "execute_result"
    }
   ],
   "source": [
    "pydna.eq( first_part[-400:], second_part[:400] )"
   ]
  },
  {
   "cell_type": "code",
   "execution_count": 12,
   "metadata": {},
   "outputs": [
    {
     "data": {
      "text/plain": [
       "'TCAGCGAGAGCCTGACCTATTGCATCTCCCGCCGTGCACAGGGTGTCACGTTGCAAGACCTGCCTGAAACCGAACTGCCCGCTGTTCTGCAGCCGGTCGCGGAGGCCATGGATGCGATCGCTGCGGCCGATCTTAGCCAGACGAGCGGGTTCGGCCCATTCGGACCGCAAGGAATCGGTCAATACACTACATGGCGTGATTTCATATGCGCGATTGCTGATCCCCATGTGTATCACTGGCAAACTGTGATGGACGACACCGTCAGTGCGTCCGTCGCGCAGGCTCTCGATGAGCTGATGCTTTGGGCCGAGGACTGCCCCGAAGTCCGGCACCTCGTGCACGCGGATTTCGGCTCCAACAATGTCCTGACGGACAATGGCCGCATAACAGCGGTCATTGA'"
      ]
     },
     "execution_count": 12,
     "metadata": {},
     "output_type": "execute_result"
    }
   ],
   "source": [
    "str(first_part[-400:].seq)"
   ]
  },
  {
   "cell_type": "markdown",
   "metadata": {},
   "source": [
    "Now we need to define the promoter and terminator to use for the kan gene.\n",
    "\n",
    "K. lactis sequences are from the [Yeast Gene Order Browser](http://ygob.ucd.ie/)\n",
    "\n",
    "\n",
    "The Kl TEF1 promoter has the following [sequence](http://ygob.ucd.ie/cgi/browser/intergenic.pl?ver=Latest&gene=KLLA0B09020g&org=klac&nbr=KLLA0B08998g&dir=inverted)\n",
    "\n",
    "The Kl TEF1 promoter has the following [sequence](http://ygob.ucd.ie/cgi/browser/intergenic.pl?ver=Latest&gene=KLLA0B08998g&org=klac&nbr=KLLA0B08976g&dir=inverted)"
   ]
  },
  {
   "cell_type": "code",
   "execution_count": 13,
   "metadata": {
    "collapsed": true
   },
   "outputs": [],
   "source": [
    "promoter_link =\"http://ygob.ucd.ie/cgi/browser/intergenic.pl?ver=Latest&gene=KLLA0B09020g&org=klac&nbr=KLLA0B08998g&dir=inverted\" "
   ]
  },
  {
   "cell_type": "code",
   "execution_count": 14,
   "metadata": {
    "collapsed": true
   },
   "outputs": [],
   "source": [
    "terminator_link = \"http://ygob.ucd.ie/cgi/browser/intergenic.pl?ver=Latest&gene=KLLA0B08998g&org=klac&nbr=KLLA0B08976g&dir=inverted\""
   ]
  },
  {
   "cell_type": "code",
   "execution_count": 15,
   "metadata": {},
   "outputs": [],
   "source": [
    "from bs4 import BeautifulSoup"
   ]
  },
  {
   "cell_type": "code",
   "execution_count": 16,
   "metadata": {},
   "outputs": [],
   "source": [
    "html = web.download(promoter_link)"
   ]
  },
  {
   "cell_type": "code",
   "execution_count": 18,
   "metadata": {},
   "outputs": [],
   "source": [
    "TEF1prom = pydna.read( ''.join( BeautifulSoup( html ).findAll( text = True ) ) )"
   ]
  },
  {
   "cell_type": "code",
   "execution_count": 19,
   "metadata": {},
   "outputs": [
    {
     "data": {
      "text/plain": [
       "Dseqrecord(-1421)"
      ]
     },
     "execution_count": 19,
     "metadata": {},
     "output_type": "execute_result"
    }
   ],
   "source": [
    "TEF1prom"
   ]
  },
  {
   "cell_type": "markdown",
   "metadata": {},
   "source": [
    "About 400bp is sufficient for the promoter"
   ]
  },
  {
   "cell_type": "code",
   "execution_count": 20,
   "metadata": {
    "collapsed": true
   },
   "outputs": [],
   "source": [
    "TEF1prom = TEF1prom[-400:]"
   ]
  },
  {
   "cell_type": "markdown",
   "metadata": {},
   "source": [
    "We establish the terminator in the same manner"
   ]
  },
  {
   "cell_type": "code",
   "execution_count": 22,
   "metadata": {},
   "outputs": [],
   "source": [
    "html = web.download(terminator_link)\n",
    "TEF1term = pydna.read( ''.join( BeautifulSoup( html ).findAll( text = True ) ) )"
   ]
  },
  {
   "cell_type": "code",
   "execution_count": 23,
   "metadata": {},
   "outputs": [
    {
     "data": {
      "text/plain": [
       "Dseqrecord(-457)"
      ]
     },
     "execution_count": 23,
     "metadata": {},
     "output_type": "execute_result"
    }
   ],
   "source": [
    "TEF1term"
   ]
  },
  {
   "cell_type": "markdown",
   "metadata": {},
   "source": [
    "Likewise, 400bp is more than enough for the terminator"
   ]
  },
  {
   "cell_type": "code",
   "execution_count": 24,
   "metadata": {
    "collapsed": true
   },
   "outputs": [],
   "source": [
    "TEF1term = TEF1term[:400]"
   ]
  },
  {
   "cell_type": "markdown",
   "metadata": {},
   "source": [
    "The kan gene can be found in the pUG6 plasmid. It was constructed by [Güldener et al.](http://nar.oxfordjournals.org/content/24/13/2519.full).\n",
    "The sequence is available from [Genbank](http://www.ncbi.nlm.nih.gov/nuccore/AF298793.1). The plasmid itself can be obtained from [EUROSCARF](http://www.euroscarf.de/plasmid_details.php?accno=P30114).\n",
    "\n",
    "We will download the sequence from Genbank:"
   ]
  },
  {
   "cell_type": "code",
   "execution_count": 25,
   "metadata": {},
   "outputs": [],
   "source": [
    "gb = pydna.Genbank(\"bjornjobb@gmail.com\")"
   ]
  },
  {
   "cell_type": "code",
   "execution_count": 26,
   "metadata": {
    "collapsed": true
   },
   "outputs": [],
   "source": [
    "pUG6 = gb.nucleotide(\"AF298793\")"
   ]
  },
  {
   "cell_type": "markdown",
   "metadata": {},
   "source": [
    "The size is 4009bp"
   ]
  },
  {
   "cell_type": "code",
   "execution_count": 27,
   "metadata": {},
   "outputs": [
    {
     "data": {
      "text/plain": [
       "Dseqrecord(o4009)"
      ]
     },
     "execution_count": 27,
     "metadata": {},
     "output_type": "execute_result"
    }
   ],
   "source": [
    "pUG6"
   ]
  },
  {
   "cell_type": "markdown",
   "metadata": {},
   "source": [
    "We can inspect features to obtain the coding sequence:"
   ]
  },
  {
   "cell_type": "code",
   "execution_count": 28,
   "metadata": {},
   "outputs": [
    {
     "data": {
      "text/plain": [
       "+----------+-----------+-------+------+--------+--------------+--------------+------+\n",
       "| Feature# | Direction | Start | End  | Length | id           | type         | orf? |\n",
       "+----------+-----------+-------+------+--------+--------------+--------------+------+\n",
       "| 0        |    -->    |   0   | 4009 |   4009 | <unknown id> | source       |  no  |\n",
       "| 1        |    -->    |   52  |  86  |     34 | <unknown id> | misc_feature |  no  |\n",
       "| 2        |    -->    |   86  | 484  |    398 | <unknown id> | regulatory   |  no  |\n",
       "| 3        |    -->    |  484  | 1294 |    810 | <unknown id> | gene         | yes  |\n",
       "| 4        |    -->    |  484  | 1294 |    810 | <unknown id> | CDS          | yes  |\n",
       "| 5        |    -->    |  1294 | 1559 |    265 | <unknown id> | regulatory   |  no  |\n",
       "| 6        |    -->    |  1559 | 1593 |     34 | <unknown id> | misc_feature |  no  |\n",
       "| 7        |    <--    |  2681 | 3542 |    861 | <unknown id> | gene         | yes  |\n",
       "| 8        |    <--    |  2681 | 3542 |    861 | <unknown id> | CDS          | yes  |\n",
       "+----------+-----------+-------+------+--------+--------------+--------------+------+"
      ]
     },
     "execution_count": 28,
     "metadata": {},
     "output_type": "execute_result"
    }
   ],
   "source": [
    "pUG6.list_features()"
   ]
  },
  {
   "cell_type": "markdown",
   "metadata": {},
   "source": [
    "The feature number 4 is the coding sequence for the kan gene:"
   ]
  },
  {
   "cell_type": "code",
   "execution_count": 29,
   "metadata": {
    "collapsed": true
   },
   "outputs": [],
   "source": [
    "kan_orf = pUG6.extract_feature(4)"
   ]
  },
  {
   "cell_type": "markdown",
   "metadata": {},
   "source": [
    "Now we have defined five DNA fragments between 0.4 and 1.1 kb"
   ]
  },
  {
   "cell_type": "code",
   "execution_count": 56,
   "metadata": {},
   "outputs": [],
   "source": [
    "pMEC1030 = pydna.read(\"pMEC1030.gb\")"
   ]
  },
  {
   "cell_type": "markdown",
   "metadata": {},
   "source": [
    "##We could not prep the pMEC1030, so we use pSU0 instead. The name is still pMEC1030 in the code below."
   ]
  },
  {
   "cell_type": "code",
   "execution_count": 31,
   "metadata": {
    "collapsed": true
   },
   "outputs": [],
   "source": [
    "pSU0 = gb.nucleotide(\"AB215109.1\")"
   ]
  },
  {
   "cell_type": "code",
   "execution_count": 32,
   "metadata": {
    "collapsed": true
   },
   "outputs": [],
   "source": [
    "pMEC1030 = pSU0"
   ]
  },
  {
   "cell_type": "code",
   "execution_count": 57,
   "metadata": {},
   "outputs": [],
   "source": [
    "URA3_2micron = pMEC1030[1041:3620]"
   ]
  },
  {
   "cell_type": "code",
   "execution_count": 58,
   "metadata": {},
   "outputs": [],
   "source": [
    "frags = (URA3_2micron,\n",
    "         first_part,\n",
    "         TEF1prom,\n",
    "         kan_orf,\n",
    "         TEF1term,\n",
    "         second_part)"
   ]
  },
  {
   "cell_type": "code",
   "execution_count": 59,
   "metadata": {},
   "outputs": [
    {
     "data": {
      "text/plain": [
       "(Dseqrecord(-2579),\n",
       " Dseqrecord(-1018),\n",
       " Dseqrecord(-400),\n",
       " Dseqrecord(-810),\n",
       " Dseqrecord(-400),\n",
       " Dseqrecord(-1019))"
      ]
     },
     "execution_count": 59,
     "metadata": {},
     "output_type": "execute_result"
    }
   ],
   "source": [
    "frags"
   ]
  },
  {
   "cell_type": "markdown",
   "metadata": {},
   "source": [
    "We will also need a vector backbone for the construction. We will use YIplac128."
   ]
  },
  {
   "cell_type": "code",
   "execution_count": 60,
   "metadata": {},
   "outputs": [],
   "source": [
    "YIplac128 = gb.nucleotide(\"X75463\").looped()\n",
    "from Bio.Restriction import SmaI\n",
    "YIplac128_smaI = YIplac128.linearize(SmaI)"
   ]
  },
  {
   "cell_type": "code",
   "execution_count": 61,
   "metadata": {
    "collapsed": true
   },
   "outputs": [],
   "source": [
    "from Bio.Restriction import XhoI, SpeI"
   ]
  },
  {
   "cell_type": "code",
   "execution_count": 62,
   "metadata": {},
   "outputs": [],
   "source": [
    "((p1,  p2), \n",
    " (p3,  p4), \n",
    " (p5,  p6), \n",
    " (p7,  p8), \n",
    " (p9,  p10),\n",
    " (p11, p12))= pydna.assembly_primers((second_part,\n",
    "                                      pydna.Dseqrecord( XhoI.site ),\n",
    "                                      URA3_2micron,\n",
    "                                      pydna.Dseqrecord( SpeI.site ),\n",
    "                                      first_part, \n",
    "                                      TEF1prom, \n",
    "                                      kan_orf, \n",
    "                                      TEF1term),                                       \n",
    "                                      vector=YIplac128_smaI, target_tm=50)"
   ]
  },
  {
   "cell_type": "code",
   "execution_count": 63,
   "metadata": {},
   "outputs": [],
   "source": [
    "p1.id=  \"dda1_2nd_f\"\n",
    "p2.id=  \"dda2_2nd_r\"\n",
    "p3.id=  \"dda3_URA3_2my_f\"\n",
    "p4.id=  \"dda4_URA3_2my_r\"\n",
    "p5.id=  \"dda5_1st_f\"\n",
    "p6.id=  \"dda6_1st_r\"\n",
    "p7.id=  \"dda7_Kl_pr_f\"\n",
    "p8.id=  \"dda8_Kl_pr_r\"\n",
    "p9.id=  \"dda9_kan_f\"\n",
    "p10.id= \"dda10_kan_r\"\n",
    "p11.id= \"dda11_Kl_tr_f\"\n",
    "p12.id= \"dda12_Kl_tr_r\""
   ]
  },
  {
   "cell_type": "code",
   "execution_count": 64,
   "metadata": {},
   "outputs": [],
   "source": [
    "(p2, p3, p4, p5, p6, p7, p8, p9, p10, p11) = [p[-40:] for p in (p2, p3, p4, p5, p6, p7, p8, p9, p10, p11)]    "
   ]
  },
  {
   "cell_type": "code",
   "execution_count": 65,
   "metadata": {
    "collapsed": true
   },
   "outputs": [],
   "source": [
    "p1=p1[-50:]\n",
    "p12=p12[-50:]"
   ]
  },
  {
   "cell_type": "code",
   "execution_count": 68,
   "metadata": {},
   "outputs": [],
   "source": [
    "second_part_prd = pydna.pcr(p1,p2, pAG32)\n",
    "URA3_2micron_prd = pydna.pcr(p3,p4, pMEC1030)\n",
    "first_part_prd = pydna.pcr(p5,p6, pAG32)\n",
    "prom_prd = pydna.pcr(p7, p8, TEF1prom)\n",
    "kan_prd = pydna.pcr(p9, p10, pUG6)\n",
    "term_prd = pydna.pcr(p11, p12, TEF1term)"
   ]
  },
  {
   "cell_type": "code",
   "execution_count": 67,
   "metadata": {
    "collapsed": true
   },
   "outputs": [],
   "source": [
    "ape URA3_2micron_prd"
   ]
  },
  {
   "cell_type": "code",
   "execution_count": 69,
   "metadata": {},
   "outputs": [],
   "source": [
    "prods = (URA3_2micron_prd,\n",
    "         first_part_prd,\n",
    "         prom_prd,\n",
    "         kan_prd,\n",
    "         term_prd,\n",
    "         second_part_prd)"
   ]
  },
  {
   "cell_type": "code",
   "execution_count": 70,
   "metadata": {
    "collapsed": true
   },
   "outputs": [],
   "source": [
    "names = (\"URA3_2my\",\n",
    "         \"prom-Hph\",\n",
    "         \"KlTEF1prom\",\n",
    "         \"kan_orf\",\n",
    "         \"KlTEF1term\",\n",
    "         \"Hph-term\")"
   ]
  },
  {
   "cell_type": "code",
   "execution_count": 71,
   "metadata": {},
   "outputs": [],
   "source": [
    "for f,n in zip(prods, names):\n",
    "    f.name = n"
   ]
  },
  {
   "cell_type": "code",
   "execution_count": 72,
   "metadata": {
    "collapsed": true
   },
   "outputs": [],
   "source": [
    "#import os\n",
    "#os.environ[\"pydna_cache\"] = \"refresh\""
   ]
  },
  {
   "cell_type": "code",
   "execution_count": 73,
   "metadata": {},
   "outputs": [],
   "source": [
    "asm = pydna.Assembly(( YIplac128_smaI,\n",
    "                       URA3_2micron_prd,\n",
    "                       first_part_prd,\n",
    "                       prom_prd,\n",
    "                       kan_prd,\n",
    "                       term_prd,\n",
    "                       second_part_prd), limit = 30)"
   ]
  },
  {
   "cell_type": "code",
   "execution_count": 74,
   "metadata": {},
   "outputs": [
    {
     "data": {
      "text/plain": [
       "Assembly:\n",
       "Sequences........................: [4302] [2617] [1057] [439] [846] [451] [1074]\n",
       "Sequences with shared homologies.: [4302] [451] [1074] [2617] [1057] [439] [846]\n",
       "Homology limit (bp)..............: 30\n",
       "Number of overlaps...............: 8\n",
       "Nodes in graph(incl. 5' & 3')....: 10\n",
       "Only terminal overlaps...........: No\n",
       "Circular products................: [10540] [6318] [4222]\n",
       "Linear products..................: [10792] [10620] [10576] [10576] [10576] [10575] [10575] [10574] [10574] [10173] [10158] [9981] [9765] [9564] [9554] [9536] [9362] [9348] [9151] [8945] [8340] [7994] [7923] [7392] [7375] [7164] [6973] [6954] [6908] [6839] [6769] [6757] [6570] [6492] [6354] [6354] [6353] [6352] [6352] [6306] [5951] [5936] [5933] [5890] [5759] [5682] [5543] [5530] [5342] [5296] [5279] [5268] [5140] [5126] [5080] [4852] [4723] [4719] [4677] [4258] [4257] [4042] [3655] [3639] [2686] [2270] [2084] [1676] [1668] [1665] [1460] [1262] [1249] [858] [455] [36] [36] [36] [35] [35] [34] [34]"
      ]
     },
     "execution_count": 74,
     "metadata": {},
     "output_type": "execute_result"
    }
   ],
   "source": [
    "asm"
   ]
  },
  {
   "cell_type": "code",
   "execution_count": 98,
   "metadata": {},
   "outputs": [
    {
     "data": {
      "text/plain": [
       " -|X75463|34\n",
       "|         \\/\n",
       "|         /\\\n",
       "|         34|Hph-term|400\n",
       "|                     \\/\n",
       "|                     /\\\n",
       "|                     400|prom-Hph|36\n",
       "|                                  \\/\n",
       "|                                  /\\\n",
       "|                                  36|KlTEF1prom|36\n",
       "|                                                \\/\n",
       "|                                                /\\\n",
       "|                                                36|kan_orf|35\n",
       "|                                                           \\/\n",
       "|                                                           /\\\n",
       "|                                                           35|KlTEF1term|34\n",
       "|                                                                         \\/\n",
       "|                                                                         /\\\n",
       "|                                                                         34-\n",
       "|                                                                            |\n",
       " ----------------------------------------------------------------------------"
      ]
     },
     "execution_count": 98,
     "metadata": {},
     "output_type": "execute_result"
    }
   ],
   "source": [
    "candidate = asm.circular_products[1]\n",
    "candidate.figure()"
   ]
  },
  {
   "cell_type": "code",
   "execution_count": 77,
   "metadata": {
    "collapsed": true
   },
   "outputs": [],
   "source": [
    "pPS1 = candidate"
   ]
  },
  {
   "cell_type": "code",
   "execution_count": 86,
   "metadata": {},
   "outputs": [
    {
     "data": {
      "text/plain": [
       "vXelWQ46lP0x8856rBYXpzFaSTk"
      ]
     },
     "execution_count": 86,
     "metadata": {},
     "output_type": "execute_result"
    }
   ],
   "source": [
    "pPS1.cseguid()"
   ]
  },
  {
   "cell_type": "code",
   "execution_count": 87,
   "metadata": {},
   "outputs": [
    {
     "data": {
      "text/plain": [
       "[50, 37, 37, 40, 34, 37, 37, 37, 34, 34, 40, 50]"
      ]
     },
     "execution_count": 87,
     "metadata": {},
     "output_type": "execute_result"
    }
   ],
   "source": [
    "primers = (p1, p2, p3, p4, p5, p6, p7, p8, p9, p10, p11, p12)\n",
    "[len(p) for p in primers]"
   ]
  },
  {
   "cell_type": "code",
   "execution_count": 88,
   "metadata": {},
   "outputs": [
    {
     "name": "stdout",
     "output_type": "stream",
     "text": [
      "dda1_2nd_f\tTTGCATGCCTGCAGGTCGACTCTAGAGGATCCCCTCAGCGAGAGCCTGAC\n",
      "\n",
      "dda2_2nd_r\tAGCGGTATTCGCAATCTCGAGTCGACACTGGATGGCG\n",
      "\n",
      "dda3_URA3_2my_f\tGCCATCCAGTGTCGACTCGAGATTGCGAATACCGCTT\n",
      "\n",
      "dda4_URA3_2my_r\tGGGTGACCCGGCGGGGATAATAACTGATATAATTAAATTG\n",
      "\n",
      "dda5_1st_f\tTAATTATATCAGTTATTATCCCCGCCGGGTCACC\n",
      "\n",
      "dda6_1st_r\tGATTGACCCAGTGTTACTAGTTCAATGACCGCTGTTA\n",
      "\n",
      "dda7_Kl_pr_f\tAACAGCGGTCATTGAACTAGTAACACTGGGTCAATCA\n",
      "\n",
      "dda8_Kl_pr_r\tAGTCTTTTCCTTACCCATTTTTAATGTTACTTCTCTT\n",
      "\n",
      "dda9_kan_f\tAGAGAAGTAACATTAAAAATGGGTAAGGAAAAGA\n",
      "\n",
      "dda10_kan_r\tAGTAGTATCAAGTTAAACTTAGAAAAACTCATCG\n",
      "\n",
      "dda11_Kl_tr_f\tTCGATGAGTTTTTCTAAGTTTAACTTGATACTACTAGATT\n",
      "\n",
      "dda12_Kl_tr_r\tAAAACGACGGCCAGTGAATTCGAGCTCGGTACCCTTAGTATTAGTAAATT\n",
      "\n"
     ]
    }
   ],
   "source": [
    "for p in primers:\n",
    "    print p.format(\"tab\")"
   ]
  },
  {
   "cell_type": "markdown",
   "metadata": {},
   "source": [
    "##PCR conditions"
   ]
  },
  {
   "cell_type": "code",
   "execution_count": 89,
   "metadata": {},
   "outputs": [
    {
     "name": "stdout",
     "output_type": "stream",
     "text": [
      "product name: URA3_2my\n",
      "template: pMEC1030\n",
      "\n",
      "Taq (rate 30 nt/s) 35 cycles             |2617bp\n",
      "95.0°C    |95.0°C                 |      |SantaLucia 1998\n",
      "|_________|_____          72.0°C  |72.0°C|SaltC 50mM\n",
      "| 03min00s|30s  \\         ________|______|\n",
      "|         |      \\ 50.0°C/ 1min18s| 5min |\n",
      "|         |       \\_____/         |      |\n",
      "|         |         30s           |      |4-12°C\n",
      "----------------------------------------------------------\n",
      "product name: prom-Hph\n",
      "template: pAG32\n",
      "\n",
      "Taq (rate 30 nt/s) 35 cycles             |1057bp\n",
      "95.0°C    |95.0°C                 |      |SantaLucia 1998\n",
      "|_________|_____          72.0°C  |72.0°C|SaltC 50mM\n",
      "| 03min00s|30s  \\         ________|______|\n",
      "|         |      \\ 56.0°C/ 0min31s| 5min |\n",
      "|         |       \\_____/         |      |\n",
      "|         |         30s           |      |4-12°C\n",
      "----------------------------------------------------------\n",
      "product name: KlTEF1prom\n",
      "template: Intergenic-KLLA0\n",
      "\n",
      "Taq (rate 30 nt/s) 35 cycles             |439bp\n",
      "95.0°C    |95.0°C                 |      |SantaLucia 1998\n",
      "|_________|_____          72.0°C  |72.0°C|SaltC 50mM\n",
      "| 03min00s|30s  \\         ________|______|\n",
      "|         |      \\ 47.0°C/ 0min13s| 5min |\n",
      "|         |       \\_____/         |      |\n",
      "|         |         30s           |      |4-12°C\n",
      "----------------------------------------------------------\n",
      "product name: kan_orf\n",
      "template: AF298793\n",
      "\n",
      "Taq (rate 30 nt/s) 35 cycles             |846bp\n",
      "95.0°C    |95.0°C                 |      |SantaLucia 1998\n",
      "|_________|_____          72.0°C  |72.0°C|SaltC 50mM\n",
      "| 03min00s|30s  \\         ________|______|\n",
      "|         |      \\ 51.0°C/ 0min25s| 5min |\n",
      "|         |       \\_____/         |      |\n",
      "|         |         30s           |      |4-12°C\n",
      "----------------------------------------------------------\n",
      "product name: KlTEF1term\n",
      "template: Intergenic-KLLA0\n",
      "\n",
      "Taq (rate 30 nt/s) 35 cycles             |451bp\n",
      "95.0°C    |95.0°C                 |      |SantaLucia 1998\n",
      "|_________|_____          72.0°C  |72.0°C|SaltC 50mM\n",
      "| 03min00s|30s  \\         ________|______|\n",
      "|         |      \\ 43.0°C/ 0min13s| 5min |\n",
      "|         |       \\_____/         |      |\n",
      "|         |         30s           |      |4-12°C\n",
      "----------------------------------------------------------\n",
      "product name: Hph-term\n",
      "template: pAG32\n",
      "\n",
      "Taq (rate 30 nt/s) 35 cycles             |1074bp\n",
      "95.0°C    |95.0°C                 |      |SantaLucia 1998\n",
      "|_________|_____          72.0°C  |72.0°C|SaltC 50mM\n",
      "| 03min00s|30s  \\         ________|______|\n",
      "|         |      \\ 58.0°C/ 0min32s| 5min |\n",
      "|         |       \\_____/         |      |\n",
      "|         |         30s           |      |4-12°C\n",
      "----------------------------------------------------------\n"
     ]
    }
   ],
   "source": [
    "for prd in prods:\n",
    "    print \"product name:\", prd.name\n",
    "    print \"template:\", prd.template.name\n",
    "    print prd.program()\n",
    "    print \"----------------------------------------------------------\""
   ]
  },
  {
   "cell_type": "code",
   "execution_count": 90,
   "metadata": {},
   "outputs": [
    {
     "data": {
      "text/plain": [
       "vXelWQ46lP0x8856rBYXpzFaSTk"
      ]
     },
     "execution_count": 90,
     "metadata": {},
     "output_type": "execute_result"
    }
   ],
   "source": [
    "pPS1.cseguid()"
   ]
  },
  {
   "cell_type": "code",
   "execution_count": 91,
   "metadata": {
    "collapsed": true
   },
   "outputs": [],
   "source": [
    "pPS1.name = \"pPS1\"\n",
    "pPS1.description=\"\""
   ]
  },
  {
   "cell_type": "code",
   "execution_count": 92,
   "metadata": {},
   "outputs": [
    {
     "data": {
      "text/plain": [
       "cSEGUID_vXelWQ46lP0x8856rBYXpzFaSTk_2015-06-01T10:42:12.839945"
      ]
     },
     "execution_count": 92,
     "metadata": {},
     "output_type": "execute_result"
    }
   ],
   "source": [
    "pPS1.stamp()"
   ]
  },
  {
   "cell_type": "code",
   "execution_count": 93,
   "metadata": {
    "collapsed": true
   },
   "outputs": [],
   "source": [
    "pPS1.write(\"pPS1.gb\")"
   ]
  },
  {
   "cell_type": "markdown",
   "metadata": {},
   "source": [
    "#[DOWNLOAD](pPS1.gb)"
   ]
  },
  {
   "cell_type": "code",
   "execution_count": 94,
   "metadata": {
    "collapsed": true
   },
   "outputs": [],
   "source": [
    "r = pydna.read(\"pPS1.gb\")"
   ]
  },
  {
   "cell_type": "code",
   "execution_count": 95,
   "metadata": {},
   "outputs": [
    {
     "data": {
      "text/plain": [
       "cSEGUID_vXelWQ46lP0x8856rBYXpzFaSTk"
      ]
     },
     "execution_count": 95,
     "metadata": {},
     "output_type": "execute_result"
    }
   ],
   "source": [
    "r.verify_stamp()"
   ]
  },
  {
   "cell_type": "markdown",
   "metadata": {},
   "source": [
    "# Use"
   ]
  },
  {
   "cell_type": "code",
   "execution_count": 99,
   "metadata": {},
   "outputs": [],
   "source": [
    "large, small = pPS1.cut(SpeI, XhoI)"
   ]
  },
  {
   "cell_type": "code",
   "execution_count": 100,
   "metadata": {
    "collapsed": true
   },
   "outputs": [],
   "source": [
    "ape large"
   ]
  },
  {
   "cell_type": "code",
   "execution_count": null,
   "metadata": {
    "collapsed": true
   },
   "outputs": [],
   "source": []
  }
 ],
 "metadata": {
  "kernelspec": {
   "display_name": "Python 3",
   "language": "python",
   "name": "python3"
  },
  "language_info": {
   "codemirror_mode": {
    "name": "ipython",
    "version": 3
   },
   "file_extension": ".py",
   "mimetype": "text/x-python",
   "name": "python",
   "nbconvert_exporter": "python",
   "pygments_lexer": "ipython3",
   "version": "3.6.3"
  }
 },
 "nbformat": 4,
 "nbformat_minor": 1
}
